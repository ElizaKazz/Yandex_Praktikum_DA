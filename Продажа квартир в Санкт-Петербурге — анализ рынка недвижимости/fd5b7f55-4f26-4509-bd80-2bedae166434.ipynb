{
 "cells": [
  {
   "cell_type": "markdown",
   "metadata": {},
   "source": [
    "# Исследование объявлений о продаже квартир\n",
    "\n",
    "В распоряжении данные сервиса Недвижимость — архив объявлений о продаже квартир в Санкт-Петербурге и соседних населённых пунктов за несколько лет. Нужно определить рыночную стоимость объектов недвижимости.   \n",
    "\n",
    "**Задача**: установить параметры. Это позволит построить автоматизированную систему: она отследит аномалии и мошенническую деятельность. \n",
    "\n",
    "По каждой квартире на продажу доступны два вида данных. Первые вписаны пользователем, вторые — получены автоматически на основе картографических данных. Например, расстояние до центра, аэропорта, ближайшего парка и водоёма. \n",
    "\n",
    "**Цель исследования**: Определить какие факторы больше всего влияют на общую (полную) стоимость объекта.\n",
    "\n",
    "Для этого будет оценена связь цены и параметров ниже:\n",
    "- общая площадь;\n",
    "- жилая площадь;\n",
    "- площадь кухни;\n",
    "- количество комнат;\n",
    "- тип этажа квартиры («первый», «последний», «другой»);\n",
    "- расстояние до центра города;\n",
    "- день, месяц и год публикации объявления.\n",
    "\n",
    "Исследование пройдёт в 4 этапа:\n",
    "\n",
    "Обзор данных.  \n",
    "Предобработка данных.  \n",
    "Добавление дополнительных расчетов.  \n",
    "Решение задачи исследования\n"
   ]
  },
  {
   "cell_type": "markdown",
   "metadata": {},
   "source": [
    "### Откроем файл с данными и изучим общую информацию. "
   ]
  },
  {
   "cell_type": "code",
   "execution_count": 1,
   "metadata": {},
   "outputs": [
    {
     "name": "stdout",
     "output_type": "stream",
     "text": [
      "<class 'pandas.core.frame.DataFrame'>\n",
      "RangeIndex: 23699 entries, 0 to 23698\n",
      "Data columns (total 22 columns):\n",
      " #   Column                Non-Null Count  Dtype  \n",
      "---  ------                --------------  -----  \n",
      " 0   total_images          23699 non-null  int64  \n",
      " 1   last_price            23699 non-null  float64\n",
      " 2   total_area            23699 non-null  float64\n",
      " 3   first_day_exposition  23699 non-null  object \n",
      " 4   rooms                 23699 non-null  int64  \n",
      " 5   ceiling_height        14504 non-null  float64\n",
      " 6   floors_total          23613 non-null  float64\n",
      " 7   living_area           21796 non-null  float64\n",
      " 8   floor                 23699 non-null  int64  \n",
      " 9   is_apartment          2775 non-null   object \n",
      " 10  studio                23699 non-null  bool   \n",
      " 11  open_plan             23699 non-null  bool   \n",
      " 12  kitchen_area          21421 non-null  float64\n",
      " 13  balcony               12180 non-null  float64\n",
      " 14  locality_name         23650 non-null  object \n",
      " 15  airports_nearest      18157 non-null  float64\n",
      " 16  cityCenters_nearest   18180 non-null  float64\n",
      " 17  parks_around3000      18181 non-null  float64\n",
      " 18  parks_nearest         8079 non-null   float64\n",
      " 19  ponds_around3000      18181 non-null  float64\n",
      " 20  ponds_nearest         9110 non-null   float64\n",
      " 21  days_exposition       20518 non-null  float64\n",
      "dtypes: bool(2), float64(14), int64(3), object(3)\n",
      "memory usage: 3.7+ MB\n"
     ]
    }
   ],
   "source": [
    "import pandas as pd\n",
    "import numpy as np\n",
    "import matplotlib.pyplot as plt\n",
    "data = pd.read_csv('/datasets/real_estate_data.csv',sep='\\t')\n",
    "data.info()"
   ]
  },
  {
   "cell_type": "code",
   "execution_count": 2,
   "metadata": {},
   "outputs": [
    {
     "data": {
      "text/html": [
       "<div>\n",
       "<style scoped>\n",
       "    .dataframe tbody tr th:only-of-type {\n",
       "        vertical-align: middle;\n",
       "    }\n",
       "\n",
       "    .dataframe tbody tr th {\n",
       "        vertical-align: top;\n",
       "    }\n",
       "\n",
       "    .dataframe thead th {\n",
       "        text-align: right;\n",
       "    }\n",
       "</style>\n",
       "<table border=\"1\" class=\"dataframe\">\n",
       "  <thead>\n",
       "    <tr style=\"text-align: right;\">\n",
       "      <th></th>\n",
       "      <th>total_images</th>\n",
       "      <th>last_price</th>\n",
       "      <th>total_area</th>\n",
       "      <th>first_day_exposition</th>\n",
       "      <th>rooms</th>\n",
       "      <th>ceiling_height</th>\n",
       "      <th>floors_total</th>\n",
       "      <th>living_area</th>\n",
       "      <th>floor</th>\n",
       "      <th>is_apartment</th>\n",
       "      <th>...</th>\n",
       "      <th>kitchen_area</th>\n",
       "      <th>balcony</th>\n",
       "      <th>locality_name</th>\n",
       "      <th>airports_nearest</th>\n",
       "      <th>cityCenters_nearest</th>\n",
       "      <th>parks_around3000</th>\n",
       "      <th>parks_nearest</th>\n",
       "      <th>ponds_around3000</th>\n",
       "      <th>ponds_nearest</th>\n",
       "      <th>days_exposition</th>\n",
       "    </tr>\n",
       "  </thead>\n",
       "  <tbody>\n",
       "    <tr>\n",
       "      <th>0</th>\n",
       "      <td>20</td>\n",
       "      <td>13000000.0</td>\n",
       "      <td>108.00</td>\n",
       "      <td>2019-03-07T00:00:00</td>\n",
       "      <td>3</td>\n",
       "      <td>2.70</td>\n",
       "      <td>16.0</td>\n",
       "      <td>51.00</td>\n",
       "      <td>8</td>\n",
       "      <td>NaN</td>\n",
       "      <td>...</td>\n",
       "      <td>25.00</td>\n",
       "      <td>NaN</td>\n",
       "      <td>Санкт-Петербург</td>\n",
       "      <td>18863.0</td>\n",
       "      <td>16028.0</td>\n",
       "      <td>1.0</td>\n",
       "      <td>482.0</td>\n",
       "      <td>2.0</td>\n",
       "      <td>755.0</td>\n",
       "      <td>NaN</td>\n",
       "    </tr>\n",
       "    <tr>\n",
       "      <th>1</th>\n",
       "      <td>7</td>\n",
       "      <td>3350000.0</td>\n",
       "      <td>40.40</td>\n",
       "      <td>2018-12-04T00:00:00</td>\n",
       "      <td>1</td>\n",
       "      <td>NaN</td>\n",
       "      <td>11.0</td>\n",
       "      <td>18.60</td>\n",
       "      <td>1</td>\n",
       "      <td>NaN</td>\n",
       "      <td>...</td>\n",
       "      <td>11.00</td>\n",
       "      <td>2.0</td>\n",
       "      <td>посёлок Шушары</td>\n",
       "      <td>12817.0</td>\n",
       "      <td>18603.0</td>\n",
       "      <td>0.0</td>\n",
       "      <td>NaN</td>\n",
       "      <td>0.0</td>\n",
       "      <td>NaN</td>\n",
       "      <td>81.0</td>\n",
       "    </tr>\n",
       "    <tr>\n",
       "      <th>2</th>\n",
       "      <td>10</td>\n",
       "      <td>5196000.0</td>\n",
       "      <td>56.00</td>\n",
       "      <td>2015-08-20T00:00:00</td>\n",
       "      <td>2</td>\n",
       "      <td>NaN</td>\n",
       "      <td>5.0</td>\n",
       "      <td>34.30</td>\n",
       "      <td>4</td>\n",
       "      <td>NaN</td>\n",
       "      <td>...</td>\n",
       "      <td>8.30</td>\n",
       "      <td>0.0</td>\n",
       "      <td>Санкт-Петербург</td>\n",
       "      <td>21741.0</td>\n",
       "      <td>13933.0</td>\n",
       "      <td>1.0</td>\n",
       "      <td>90.0</td>\n",
       "      <td>2.0</td>\n",
       "      <td>574.0</td>\n",
       "      <td>558.0</td>\n",
       "    </tr>\n",
       "    <tr>\n",
       "      <th>3</th>\n",
       "      <td>0</td>\n",
       "      <td>64900000.0</td>\n",
       "      <td>159.00</td>\n",
       "      <td>2015-07-24T00:00:00</td>\n",
       "      <td>3</td>\n",
       "      <td>NaN</td>\n",
       "      <td>14.0</td>\n",
       "      <td>NaN</td>\n",
       "      <td>9</td>\n",
       "      <td>NaN</td>\n",
       "      <td>...</td>\n",
       "      <td>NaN</td>\n",
       "      <td>0.0</td>\n",
       "      <td>Санкт-Петербург</td>\n",
       "      <td>28098.0</td>\n",
       "      <td>6800.0</td>\n",
       "      <td>2.0</td>\n",
       "      <td>84.0</td>\n",
       "      <td>3.0</td>\n",
       "      <td>234.0</td>\n",
       "      <td>424.0</td>\n",
       "    </tr>\n",
       "    <tr>\n",
       "      <th>4</th>\n",
       "      <td>2</td>\n",
       "      <td>10000000.0</td>\n",
       "      <td>100.00</td>\n",
       "      <td>2018-06-19T00:00:00</td>\n",
       "      <td>2</td>\n",
       "      <td>3.03</td>\n",
       "      <td>14.0</td>\n",
       "      <td>32.00</td>\n",
       "      <td>13</td>\n",
       "      <td>NaN</td>\n",
       "      <td>...</td>\n",
       "      <td>41.00</td>\n",
       "      <td>NaN</td>\n",
       "      <td>Санкт-Петербург</td>\n",
       "      <td>31856.0</td>\n",
       "      <td>8098.0</td>\n",
       "      <td>2.0</td>\n",
       "      <td>112.0</td>\n",
       "      <td>1.0</td>\n",
       "      <td>48.0</td>\n",
       "      <td>121.0</td>\n",
       "    </tr>\n",
       "    <tr>\n",
       "      <th>5</th>\n",
       "      <td>10</td>\n",
       "      <td>2890000.0</td>\n",
       "      <td>30.40</td>\n",
       "      <td>2018-09-10T00:00:00</td>\n",
       "      <td>1</td>\n",
       "      <td>NaN</td>\n",
       "      <td>12.0</td>\n",
       "      <td>14.40</td>\n",
       "      <td>5</td>\n",
       "      <td>NaN</td>\n",
       "      <td>...</td>\n",
       "      <td>9.10</td>\n",
       "      <td>NaN</td>\n",
       "      <td>городской посёлок Янино-1</td>\n",
       "      <td>NaN</td>\n",
       "      <td>NaN</td>\n",
       "      <td>NaN</td>\n",
       "      <td>NaN</td>\n",
       "      <td>NaN</td>\n",
       "      <td>NaN</td>\n",
       "      <td>55.0</td>\n",
       "    </tr>\n",
       "    <tr>\n",
       "      <th>6</th>\n",
       "      <td>6</td>\n",
       "      <td>3700000.0</td>\n",
       "      <td>37.30</td>\n",
       "      <td>2017-11-02T00:00:00</td>\n",
       "      <td>1</td>\n",
       "      <td>NaN</td>\n",
       "      <td>26.0</td>\n",
       "      <td>10.60</td>\n",
       "      <td>6</td>\n",
       "      <td>NaN</td>\n",
       "      <td>...</td>\n",
       "      <td>14.40</td>\n",
       "      <td>1.0</td>\n",
       "      <td>посёлок Парголово</td>\n",
       "      <td>52996.0</td>\n",
       "      <td>19143.0</td>\n",
       "      <td>0.0</td>\n",
       "      <td>NaN</td>\n",
       "      <td>0.0</td>\n",
       "      <td>NaN</td>\n",
       "      <td>155.0</td>\n",
       "    </tr>\n",
       "    <tr>\n",
       "      <th>7</th>\n",
       "      <td>5</td>\n",
       "      <td>7915000.0</td>\n",
       "      <td>71.60</td>\n",
       "      <td>2019-04-18T00:00:00</td>\n",
       "      <td>2</td>\n",
       "      <td>NaN</td>\n",
       "      <td>24.0</td>\n",
       "      <td>NaN</td>\n",
       "      <td>22</td>\n",
       "      <td>NaN</td>\n",
       "      <td>...</td>\n",
       "      <td>18.90</td>\n",
       "      <td>2.0</td>\n",
       "      <td>Санкт-Петербург</td>\n",
       "      <td>23982.0</td>\n",
       "      <td>11634.0</td>\n",
       "      <td>0.0</td>\n",
       "      <td>NaN</td>\n",
       "      <td>0.0</td>\n",
       "      <td>NaN</td>\n",
       "      <td>NaN</td>\n",
       "    </tr>\n",
       "    <tr>\n",
       "      <th>8</th>\n",
       "      <td>20</td>\n",
       "      <td>2900000.0</td>\n",
       "      <td>33.16</td>\n",
       "      <td>2018-05-23T00:00:00</td>\n",
       "      <td>1</td>\n",
       "      <td>NaN</td>\n",
       "      <td>27.0</td>\n",
       "      <td>15.43</td>\n",
       "      <td>26</td>\n",
       "      <td>NaN</td>\n",
       "      <td>...</td>\n",
       "      <td>8.81</td>\n",
       "      <td>NaN</td>\n",
       "      <td>посёлок Мурино</td>\n",
       "      <td>NaN</td>\n",
       "      <td>NaN</td>\n",
       "      <td>NaN</td>\n",
       "      <td>NaN</td>\n",
       "      <td>NaN</td>\n",
       "      <td>NaN</td>\n",
       "      <td>189.0</td>\n",
       "    </tr>\n",
       "    <tr>\n",
       "      <th>9</th>\n",
       "      <td>18</td>\n",
       "      <td>5400000.0</td>\n",
       "      <td>61.00</td>\n",
       "      <td>2017-02-26T00:00:00</td>\n",
       "      <td>3</td>\n",
       "      <td>2.50</td>\n",
       "      <td>9.0</td>\n",
       "      <td>43.60</td>\n",
       "      <td>7</td>\n",
       "      <td>NaN</td>\n",
       "      <td>...</td>\n",
       "      <td>6.50</td>\n",
       "      <td>2.0</td>\n",
       "      <td>Санкт-Петербург</td>\n",
       "      <td>50898.0</td>\n",
       "      <td>15008.0</td>\n",
       "      <td>0.0</td>\n",
       "      <td>NaN</td>\n",
       "      <td>0.0</td>\n",
       "      <td>NaN</td>\n",
       "      <td>289.0</td>\n",
       "    </tr>\n",
       "  </tbody>\n",
       "</table>\n",
       "<p>10 rows × 22 columns</p>\n",
       "</div>"
      ],
      "text/plain": [
       "   total_images  last_price  total_area first_day_exposition  rooms  \\\n",
       "0            20  13000000.0      108.00  2019-03-07T00:00:00      3   \n",
       "1             7   3350000.0       40.40  2018-12-04T00:00:00      1   \n",
       "2            10   5196000.0       56.00  2015-08-20T00:00:00      2   \n",
       "3             0  64900000.0      159.00  2015-07-24T00:00:00      3   \n",
       "4             2  10000000.0      100.00  2018-06-19T00:00:00      2   \n",
       "5            10   2890000.0       30.40  2018-09-10T00:00:00      1   \n",
       "6             6   3700000.0       37.30  2017-11-02T00:00:00      1   \n",
       "7             5   7915000.0       71.60  2019-04-18T00:00:00      2   \n",
       "8            20   2900000.0       33.16  2018-05-23T00:00:00      1   \n",
       "9            18   5400000.0       61.00  2017-02-26T00:00:00      3   \n",
       "\n",
       "   ceiling_height  floors_total  living_area  floor is_apartment  ...  \\\n",
       "0            2.70          16.0        51.00      8          NaN  ...   \n",
       "1             NaN          11.0        18.60      1          NaN  ...   \n",
       "2             NaN           5.0        34.30      4          NaN  ...   \n",
       "3             NaN          14.0          NaN      9          NaN  ...   \n",
       "4            3.03          14.0        32.00     13          NaN  ...   \n",
       "5             NaN          12.0        14.40      5          NaN  ...   \n",
       "6             NaN          26.0        10.60      6          NaN  ...   \n",
       "7             NaN          24.0          NaN     22          NaN  ...   \n",
       "8             NaN          27.0        15.43     26          NaN  ...   \n",
       "9            2.50           9.0        43.60      7          NaN  ...   \n",
       "\n",
       "   kitchen_area  balcony              locality_name  airports_nearest  \\\n",
       "0         25.00      NaN            Санкт-Петербург           18863.0   \n",
       "1         11.00      2.0             посёлок Шушары           12817.0   \n",
       "2          8.30      0.0            Санкт-Петербург           21741.0   \n",
       "3           NaN      0.0            Санкт-Петербург           28098.0   \n",
       "4         41.00      NaN            Санкт-Петербург           31856.0   \n",
       "5          9.10      NaN  городской посёлок Янино-1               NaN   \n",
       "6         14.40      1.0          посёлок Парголово           52996.0   \n",
       "7         18.90      2.0            Санкт-Петербург           23982.0   \n",
       "8          8.81      NaN             посёлок Мурино               NaN   \n",
       "9          6.50      2.0            Санкт-Петербург           50898.0   \n",
       "\n",
       "  cityCenters_nearest  parks_around3000  parks_nearest  ponds_around3000  \\\n",
       "0             16028.0               1.0          482.0               2.0   \n",
       "1             18603.0               0.0            NaN               0.0   \n",
       "2             13933.0               1.0           90.0               2.0   \n",
       "3              6800.0               2.0           84.0               3.0   \n",
       "4              8098.0               2.0          112.0               1.0   \n",
       "5                 NaN               NaN            NaN               NaN   \n",
       "6             19143.0               0.0            NaN               0.0   \n",
       "7             11634.0               0.0            NaN               0.0   \n",
       "8                 NaN               NaN            NaN               NaN   \n",
       "9             15008.0               0.0            NaN               0.0   \n",
       "\n",
       "   ponds_nearest  days_exposition  \n",
       "0          755.0              NaN  \n",
       "1            NaN             81.0  \n",
       "2          574.0            558.0  \n",
       "3          234.0            424.0  \n",
       "4           48.0            121.0  \n",
       "5            NaN             55.0  \n",
       "6            NaN            155.0  \n",
       "7            NaN              NaN  \n",
       "8            NaN            189.0  \n",
       "9            NaN            289.0  \n",
       "\n",
       "[10 rows x 22 columns]"
      ]
     },
     "execution_count": 2,
     "metadata": {},
     "output_type": "execute_result"
    }
   ],
   "source": [
    "data.head(10)"
   ]
  },
  {
   "cell_type": "code",
   "execution_count": 3,
   "metadata": {
    "scrolled": true
   },
   "outputs": [
    {
     "data": {
      "image/png": "[encoded data removed]",
      "text/plain": [
       "<Figure size 1080x1440 with 20 Axes>"
      ]
     },
     "metadata": {
      "needs_background": "light"
     },
     "output_type": "display_data"
    }
   ],
   "source": [
    "data.hist(figsize=(15, 20));"
   ]
  },
  {
   "cell_type": "markdown",
   "metadata": {},
   "source": [
    "### Предобработка данных"
   ]
  },
  {
   "cell_type": "code",
   "execution_count": 4,
   "metadata": {
    "scrolled": true
   },
   "outputs": [
    {
     "data": {
      "text/plain": [
       "total_images                0\n",
       "last_price                  0\n",
       "total_area                  0\n",
       "first_day_exposition        0\n",
       "rooms                       0\n",
       "ceiling_height           9195\n",
       "floors_total               86\n",
       "living_area              1903\n",
       "floor                       0\n",
       "is_apartment            20924\n",
       "studio                      0\n",
       "open_plan                   0\n",
       "kitchen_area             2278\n",
       "balcony                 11519\n",
       "locality_name              49\n",
       "airports_nearest         5542\n",
       "cityCenters_nearest      5519\n",
       "parks_around3000         5518\n",
       "parks_nearest           15620\n",
       "ponds_around3000         5518\n",
       "ponds_nearest           14589\n",
       "days_exposition          3181\n",
       "dtype: int64"
      ]
     },
     "execution_count": 4,
     "metadata": {},
     "output_type": "execute_result"
    }
   ],
   "source": [
    "#Определим в каких столбцах есть пропуски.\n",
    "data.isna().sum()"
   ]
  },
  {
   "cell_type": "code",
   "execution_count": 5,
   "metadata": {},
   "outputs": [
    {
     "data": {
      "text/html": [
       "<style  type=\"text/css\" >\n",
       "#T_3c1df_row0_col0,#T_3c1df_row1_col0,#T_3c1df_row2_col0,#T_3c1df_row3_col0,#T_3c1df_row4_col0,#T_3c1df_row6_col0,#T_3c1df_row8_col0,#T_3c1df_row10_col0,#T_3c1df_row11_col0,#T_3c1df_row14_col0{\n",
       "            background-color:  #3b4cc0;\n",
       "            color:  #f1f1f1;\n",
       "        }#T_3c1df_row5_col0{\n",
       "            background-color:  #cdd9ec;\n",
       "            color:  #000000;\n",
       "        }#T_3c1df_row7_col0{\n",
       "            background-color:  #5673e0;\n",
       "            color:  #000000;\n",
       "        }#T_3c1df_row9_col0{\n",
       "            background-color:  #b40426;\n",
       "            color:  #f1f1f1;\n",
       "        }#T_3c1df_row12_col0{\n",
       "            background-color:  #5e7de7;\n",
       "            color:  #000000;\n",
       "        }#T_3c1df_row13_col0{\n",
       "            background-color:  #ead4c8;\n",
       "            color:  #000000;\n",
       "        }#T_3c1df_row15_col0,#T_3c1df_row16_col0,#T_3c1df_row17_col0,#T_3c1df_row19_col0{\n",
       "            background-color:  #90b2fe;\n",
       "            color:  #000000;\n",
       "        }#T_3c1df_row18_col0{\n",
       "            background-color:  #f4987a;\n",
       "            color:  #000000;\n",
       "        }#T_3c1df_row20_col0{\n",
       "            background-color:  #f7aa8c;\n",
       "            color:  #000000;\n",
       "        }#T_3c1df_row21_col0{\n",
       "            background-color:  #688aef;\n",
       "            color:  #000000;\n",
       "        }</style><table id=\"T_3c1df_\" ><thead>    <tr>        <th class=\"blank level0\" ></th>        <th class=\"col_heading level0 col0\" >0</th>    </tr></thead><tbody>\n",
       "                <tr>\n",
       "                        <th id=\"T_3c1df_level0_row0\" class=\"row_heading level0 row0\" >total_images</th>\n",
       "                        <td id=\"T_3c1df_row0_col0\" class=\"data row0 col0\" >0.000000</td>\n",
       "            </tr>\n",
       "            <tr>\n",
       "                        <th id=\"T_3c1df_level0_row1\" class=\"row_heading level0 row1\" >last_price</th>\n",
       "                        <td id=\"T_3c1df_row1_col0\" class=\"data row1 col0\" >0.000000</td>\n",
       "            </tr>\n",
       "            <tr>\n",
       "                        <th id=\"T_3c1df_level0_row2\" class=\"row_heading level0 row2\" >total_area</th>\n",
       "                        <td id=\"T_3c1df_row2_col0\" class=\"data row2 col0\" >0.000000</td>\n",
       "            </tr>\n",
       "            <tr>\n",
       "                        <th id=\"T_3c1df_level0_row3\" class=\"row_heading level0 row3\" >first_day_exposition</th>\n",
       "                        <td id=\"T_3c1df_row3_col0\" class=\"data row3 col0\" >0.000000</td>\n",
       "            </tr>\n",
       "            <tr>\n",
       "                        <th id=\"T_3c1df_level0_row4\" class=\"row_heading level0 row4\" >rooms</th>\n",
       "                        <td id=\"T_3c1df_row4_col0\" class=\"data row4 col0\" >0.000000</td>\n",
       "            </tr>\n",
       "            <tr>\n",
       "                        <th id=\"T_3c1df_level0_row5\" class=\"row_heading level0 row5\" >ceiling_height</th>\n",
       "                        <td id=\"T_3c1df_row5_col0\" class=\"data row5 col0\" >39.000000</td>\n",
       "            </tr>\n",
       "            <tr>\n",
       "                        <th id=\"T_3c1df_level0_row6\" class=\"row_heading level0 row6\" >floors_total</th>\n",
       "                        <td id=\"T_3c1df_row6_col0\" class=\"data row6 col0\" >0.000000</td>\n",
       "            </tr>\n",
       "            <tr>\n",
       "                        <th id=\"T_3c1df_level0_row7\" class=\"row_heading level0 row7\" >living_area</th>\n",
       "                        <td id=\"T_3c1df_row7_col0\" class=\"data row7 col0\" >8.000000</td>\n",
       "            </tr>\n",
       "            <tr>\n",
       "                        <th id=\"T_3c1df_level0_row8\" class=\"row_heading level0 row8\" >floor</th>\n",
       "                        <td id=\"T_3c1df_row8_col0\" class=\"data row8 col0\" >0.000000</td>\n",
       "            </tr>\n",
       "            <tr>\n",
       "                        <th id=\"T_3c1df_level0_row9\" class=\"row_heading level0 row9\" >is_apartment</th>\n",
       "                        <td id=\"T_3c1df_row9_col0\" class=\"data row9 col0\" >88.000000</td>\n",
       "            </tr>\n",
       "            <tr>\n",
       "                        <th id=\"T_3c1df_level0_row10\" class=\"row_heading level0 row10\" >studio</th>\n",
       "                        <td id=\"T_3c1df_row10_col0\" class=\"data row10 col0\" >0.000000</td>\n",
       "            </tr>\n",
       "            <tr>\n",
       "                        <th id=\"T_3c1df_level0_row11\" class=\"row_heading level0 row11\" >open_plan</th>\n",
       "                        <td id=\"T_3c1df_row11_col0\" class=\"data row11 col0\" >0.000000</td>\n",
       "            </tr>\n",
       "            <tr>\n",
       "                        <th id=\"T_3c1df_level0_row12\" class=\"row_heading level0 row12\" >kitchen_area</th>\n",
       "                        <td id=\"T_3c1df_row12_col0\" class=\"data row12 col0\" >10.000000</td>\n",
       "            </tr>\n",
       "            <tr>\n",
       "                        <th id=\"T_3c1df_level0_row13\" class=\"row_heading level0 row13\" >balcony</th>\n",
       "                        <td id=\"T_3c1df_row13_col0\" class=\"data row13 col0\" >49.000000</td>\n",
       "            </tr>\n",
       "            <tr>\n",
       "                        <th id=\"T_3c1df_level0_row14\" class=\"row_heading level0 row14\" >locality_name</th>\n",
       "                        <td id=\"T_3c1df_row14_col0\" class=\"data row14 col0\" >0.000000</td>\n",
       "            </tr>\n",
       "            <tr>\n",
       "                        <th id=\"T_3c1df_level0_row15\" class=\"row_heading level0 row15\" >airports_nearest</th>\n",
       "                        <td id=\"T_3c1df_row15_col0\" class=\"data row15 col0\" >23.000000</td>\n",
       "            </tr>\n",
       "            <tr>\n",
       "                        <th id=\"T_3c1df_level0_row16\" class=\"row_heading level0 row16\" >cityCenters_nearest</th>\n",
       "                        <td id=\"T_3c1df_row16_col0\" class=\"data row16 col0\" >23.000000</td>\n",
       "            </tr>\n",
       "            <tr>\n",
       "                        <th id=\"T_3c1df_level0_row17\" class=\"row_heading level0 row17\" >parks_around3000</th>\n",
       "                        <td id=\"T_3c1df_row17_col0\" class=\"data row17 col0\" >23.000000</td>\n",
       "            </tr>\n",
       "            <tr>\n",
       "                        <th id=\"T_3c1df_level0_row18\" class=\"row_heading level0 row18\" >parks_nearest</th>\n",
       "                        <td id=\"T_3c1df_row18_col0\" class=\"data row18 col0\" >66.000000</td>\n",
       "            </tr>\n",
       "            <tr>\n",
       "                        <th id=\"T_3c1df_level0_row19\" class=\"row_heading level0 row19\" >ponds_around3000</th>\n",
       "                        <td id=\"T_3c1df_row19_col0\" class=\"data row19 col0\" >23.000000</td>\n",
       "            </tr>\n",
       "            <tr>\n",
       "                        <th id=\"T_3c1df_level0_row20\" class=\"row_heading level0 row20\" >ponds_nearest</th>\n",
       "                        <td id=\"T_3c1df_row20_col0\" class=\"data row20 col0\" >62.000000</td>\n",
       "            </tr>\n",
       "            <tr>\n",
       "                        <th id=\"T_3c1df_level0_row21\" class=\"row_heading level0 row21\" >days_exposition</th>\n",
       "                        <td id=\"T_3c1df_row21_col0\" class=\"data row21 col0\" >13.000000</td>\n",
       "            </tr>\n",
       "    </tbody></table>"
      ],
      "text/plain": [
       "<pandas.io.formats.style.Styler at 0x7f1b5c8ef550>"
      ]
     },
     "execution_count": 5,
     "metadata": {},
     "output_type": "execute_result"
    }
   ],
   "source": [
    "pd.DataFrame(round(data.isna().mean()*100,)).style.background_gradient('coolwarm')"
   ]
  },
  {
   "cell_type": "code",
   "execution_count": 6,
   "metadata": {},
   "outputs": [],
   "source": [
    "#Заполним пропущенные значения там, где это возможно. \n",
    "#Найдем столбцы, в которых нужно изменить тип данных.\n",
    "#Преобразуем тип данных в выбранных столбцах.\n",
    "\n",
    "data['balcony'] = data['balcony'].fillna(0).astype('int')\n",
    "data['parks_around3000'] = data['parks_around3000'].fillna(0).astype('int')\n",
    "data['ponds_around3000'] = data['ponds_around3000'].fillna(0).astype('int')\n",
    "data['is_apartment'] = data['is_apartment'].fillna(value = False)"
   ]
  },
  {
   "cell_type": "code",
   "execution_count": 7,
   "metadata": {
    "scrolled": true
   },
   "outputs": [
    {
     "data": {
      "text/plain": [
       "total_images                0\n",
       "last_price                  0\n",
       "total_area                  0\n",
       "first_day_exposition        0\n",
       "rooms                       0\n",
       "ceiling_height           9195\n",
       "floors_total               86\n",
       "living_area              1903\n",
       "floor                       0\n",
       "is_apartment                0\n",
       "studio                      0\n",
       "open_plan                   0\n",
       "kitchen_area             2278\n",
       "balcony                     0\n",
       "locality_name              49\n",
       "airports_nearest         5542\n",
       "cityCenters_nearest      5519\n",
       "parks_around3000            0\n",
       "parks_nearest           15620\n",
       "ponds_around3000            0\n",
       "ponds_nearest           14589\n",
       "days_exposition          3181\n",
       "dtype: int64"
      ]
     },
     "execution_count": 7,
     "metadata": {},
     "output_type": "execute_result"
    }
   ],
   "source": [
    "#проверим замену пропусков\n",
    "data.isna().sum()"
   ]
  },
  {
   "cell_type": "markdown",
   "metadata": {},
   "source": [
    "В данных есть пропущенные значения в столбцах. \n",
    "Пропуски могут быть следствием отсутствия данной характеристики для квартиры - в этом случае их можно заменить на нули. Например, пропуски в столбцах \"Балкон\" означают отсутсвие балконов в квартире.\n",
    "Число пропусков в столбцах \"число парков в радиусе 3 км\" и \"число водоёмов в радиусе 3 км\" идентично т.к. чаще всего эти области совмещены, пропуски могут свидетельствовать об отсутсвии данных характеристик для квартиры - значения также можно заменить на нули.\n",
    "Заменим тип данных на целочисленный в столбцах выше.\n",
    "Пропуски в столбце \"апартаменты\" также могут свидетельствовать об отсутствии данной характеристики для квартиры, тип данных приведен к булевому типу для дальнейшей обработки."
   ]
  },
  {
   "cell_type": "code",
   "execution_count": 8,
   "metadata": {},
   "outputs": [],
   "source": [
    "#Заменим строчный тип данных на datetime в столбце с датой первой публикации 2015-07-24T00:00:00\n",
    "data['first_day_exposition'] = pd.to_datetime(data['first_day_exposition'], format = '%Y-%m-%dT%H:%M:%S')"
   ]
  },
  {
   "cell_type": "code",
   "execution_count": 9,
   "metadata": {},
   "outputs": [],
   "source": [
    "#сразу заполним пропуски в столбце медианным значением\n",
    "data = data.sort_values(by = 'first_day_exposition', ascending = True)\n",
    "data['first_day_exposition'] = data['first_day_exposition'].fillna(data['first_day_exposition'].median())"
   ]
  },
  {
   "cell_type": "code",
   "execution_count": 10,
   "metadata": {},
   "outputs": [],
   "source": [
    "data['last_price'] = data['last_price'].astype('int')"
   ]
  },
  {
   "cell_type": "code",
   "execution_count": 11,
   "metadata": {},
   "outputs": [
    {
     "name": "stdout",
     "output_type": "stream",
     "text": [
      "<class 'pandas.core.frame.DataFrame'>\n",
      "Int64Index: 23699 entries, 10132 to 15072\n",
      "Data columns (total 22 columns):\n",
      " #   Column                Non-Null Count  Dtype         \n",
      "---  ------                --------------  -----         \n",
      " 0   total_images          23699 non-null  int64         \n",
      " 1   last_price            23699 non-null  int64         \n",
      " 2   total_area            23699 non-null  float64       \n",
      " 3   first_day_exposition  23699 non-null  datetime64[ns]\n",
      " 4   rooms                 23699 non-null  int64         \n",
      " 5   ceiling_height        14504 non-null  float64       \n",
      " 6   floors_total          23613 non-null  float64       \n",
      " 7   living_area           21796 non-null  float64       \n",
      " 8   floor                 23699 non-null  int64         \n",
      " 9   is_apartment          23699 non-null  bool          \n",
      " 10  studio                23699 non-null  bool          \n",
      " 11  open_plan             23699 non-null  bool          \n",
      " 12  kitchen_area          21421 non-null  float64       \n",
      " 13  balcony               23699 non-null  int64         \n",
      " 14  locality_name         23650 non-null  object        \n",
      " 15  airports_nearest      18157 non-null  float64       \n",
      " 16  cityCenters_nearest   18180 non-null  float64       \n",
      " 17  parks_around3000      23699 non-null  int64         \n",
      " 18  parks_nearest         8079 non-null   float64       \n",
      " 19  ponds_around3000      23699 non-null  int64         \n",
      " 20  ponds_nearest         9110 non-null   float64       \n",
      " 21  days_exposition       20518 non-null  float64       \n",
      "dtypes: bool(3), datetime64[ns](1), float64(10), int64(7), object(1)\n",
      "memory usage: 3.7+ MB\n"
     ]
    }
   ],
   "source": [
    "#Проверим где еще требуется замена типа данных.\n",
    "data.info()"
   ]
  },
  {
   "cell_type": "markdown",
   "metadata": {},
   "source": [
    "Типы данных после замены готовы для дальнейшего анализа."
   ]
  },
  {
   "cell_type": "code",
   "execution_count": 12,
   "metadata": {},
   "outputs": [
    {
     "data": {
      "text/plain": [
       "array(['Санкт-Петербург', 'деревня Кудрово', 'Подпорожье', 'Коммунар',\n",
       "       'поселок Красная Долина', 'Всеволожск', nan, 'посёлок Молодёжное',\n",
       "       'Пушкин', 'Петергоф', 'Ломоносов',\n",
       "       'городской поселок Большая Ижора',\n",
       "       'поселок городского типа Вырица', 'Колпино', 'Шлиссельбург',\n",
       "       'Сертолово', 'деревня Новое Девяткино', 'деревня Ваганово',\n",
       "       'Светогорск', 'деревня Калитино', 'деревня Кипень',\n",
       "       'посёлок Мурино', 'посёлок Парголово', 'Сестрорецк', 'Выборг',\n",
       "       'Тосно', 'Лодейное Поле', 'поселок городского типа Рахья',\n",
       "       'деревня Старая', 'поселок Бугры',\n",
       "       'посёлок городского типа Лебяжье', 'Кингисепп', 'Гатчина',\n",
       "       'Павловск', 'Красное Село', 'поселок Севастьяново', 'Каменногорск',\n",
       "       'поселок Мурино', 'Отрадное', 'посёлок Тельмана',\n",
       "       'поселок Романовка', 'поселок городского типа Дубровка', 'Сланцы',\n",
       "       'поселок Углово', 'Кронштадт', 'деревня Вартемяги',\n",
       "       'деревня Нурма', 'Волхов', 'посёлок Шушары', 'Приозерск',\n",
       "       'деревня Извара', 'посёлок Лисий Нос', 'Никольское',\n",
       "       'поселок городского типа Дружная Горка', 'деревня Малое Карлино',\n",
       "       'посёлок Сапёрный', 'Кировск', 'деревня Юкки', 'деревня Зимитицы',\n",
       "       'посёлок Металлострой', 'посёлок городского типа Мга',\n",
       "       'поселок Кобралово', 'поселок Цвылёво', 'деревня Колтуши',\n",
       "       'поселок Коробицыно', 'поселок городского типа Кузьмоловский',\n",
       "       'поселок городского типа Назия', 'деревня Фалилеево',\n",
       "       'посёлок Стеклянный', 'посёлок Щеглово', 'Зеленогорск',\n",
       "       'городской посёлок Янино-1', 'деревня Фёдоровское', 'Сясьстрой',\n",
       "       'поселок Гарболово', 'Кудрово', 'поселок Запорожское', 'Кириши',\n",
       "       'поселок Суходолье', 'поселок Аннино',\n",
       "       'поселок городского типа Токсово', 'поселок Барышево',\n",
       "       'посёлок Репино', 'поселок Молодцово', 'Новая Ладога',\n",
       "       'посёлок Стрельна', 'поселок городского типа Синявино',\n",
       "       'поселок Жилпосёлок', 'поселок Стеклянный', 'деревня Горбунки',\n",
       "       'Сосновый Бор', 'поселок Войсковицы', 'поселок Новый Свет',\n",
       "       'поселок городского типа Рябово', 'Волосово',\n",
       "       'деревня Малое Верево', 'поселок Мельниково', 'поселок Рябово',\n",
       "       'деревня Парицы', 'поселок городского типа Большая Ижора',\n",
       "       'поселок Тельмана', 'Любань', 'городской поселок Янино-1',\n",
       "       'поселок станции Вещево', 'поселок городского типа Лебяжье',\n",
       "       'поселок городского типа Никольский',\n",
       "       'поселок городского типа Рощино', 'поселок Гаврилово',\n",
       "       'деревня Старосиверская', 'поселок Сельцо', 'деревня Оржицы',\n",
       "       'село Русско-Высоцкое', 'поселок Новый Учхоз',\n",
       "       'поселок городского типа имени Свердлова', 'посёлок Пудость',\n",
       "       'посёлок городского типа Павлово',\n",
       "       'посёлок городского типа Сиверский', 'деревня Лесколово',\n",
       "       'поселок Усть-Луга', 'Высоцк', 'деревня Гарболово',\n",
       "       'поселок Петровское', 'Бокситогорск', 'деревня Белогорка',\n",
       "       'деревня Лаголово', 'поселок Тёсово-4', 'посёлок станции Свирь',\n",
       "       'деревня Терпилицы', 'посёлок городского типа Кузнечное',\n",
       "       'Ивангород', 'Приморск', 'Тихвин', 'деревня Сяськелево',\n",
       "       'посёлок городского типа имени Морозова',\n",
       "       'поселок городского типа Красный Бор', 'деревня Мистолово',\n",
       "       'поселок Глажево', 'деревня Пеники',\n",
       "       'поселок городского типа Форносово',\n",
       "       'посёлок городского типа Ульяновка', 'деревня Бегуницы',\n",
       "       'село Павлово', 'городской посёлок Назия', 'деревня Гостилицы',\n",
       "       'Луга', 'посёлок городского типа Тайцы', 'деревня Большие Колпаны',\n",
       "       'деревня Заневка', 'поселок Семрино', 'посёлок Бугры', 'Пикалёво',\n",
       "       'садовое товарищество Приладожский', 'посёлок Песочный',\n",
       "       'посёлок Александровская', 'посёлок Понтонный',\n",
       "       'посёлок Усть-Ижора', 'садовое товарищество Садко',\n",
       "       'поселок Кингисеппский', 'деревня Рабитицы', 'деревня Кальтино',\n",
       "       'деревня Кузьмолово', 'деревня Пудомяги', 'поселок Любань',\n",
       "       'посёлок Возрождение', 'поселок городского типа Приладожский',\n",
       "       'деревня Иссад', 'деревня Малые Колпаны', 'поселок Первомайское',\n",
       "       'посёлок Плодовое', 'деревня Низино', 'поселок Перово',\n",
       "       'поселок Ушаки', 'поселок городского типа Советский',\n",
       "       'поселок городского типа Лесогорский', 'поселок Лисий Нос',\n",
       "       'поселок Селезнёво', 'поселок Елизаветино', 'село Копорье',\n",
       "       'поселок Глебычево', 'посёлок Пригородный', 'посёлок Торфяное',\n",
       "       'городской посёлок Мга', 'посёлок Аннино', 'деревня Агалатово',\n",
       "       'поселок Дружноселье', 'деревня Келози', 'село Старая Ладога',\n",
       "       'посёлок Усть-Луга', 'поселок Возрождение',\n",
       "       'поселок станции Приветнинское', 'посёлок Сапёрное',\n",
       "       'деревня Большая Вруда', 'поселок Громово', 'посёлок Войскорово',\n",
       "       'поселок Зимитицы', 'садовое товарищество Рахья', 'село Путилово',\n",
       "       'деревня Хапо-Ое', 'деревня Куттузи',\n",
       "       'посёлок городского типа Важины', 'посёлок городского типа Рябово',\n",
       "       'посёлок Новый Свет', 'посёлок городского типа Токсово',\n",
       "       'деревня Лампово', 'посёлок Суйда',\n",
       "       'коттеджный поселок Кивеннапа Север', 'деревня Разметелево',\n",
       "       'посёлок городского типа Вознесенье', 'поселок Сумино',\n",
       "       'деревня Борисова Грива', 'посёлок Терволово',\n",
       "       'посёлок Алексеевка', 'поселок Ильичёво', 'поселок Заводской',\n",
       "       'деревня Рапполово', 'городской посёлок Будогощь',\n",
       "       'городской посёлок Новоселье', 'деревня Большая Пустомержа',\n",
       "       'деревня Яльгелево', 'поселок Мичуринское', 'деревня Батово',\n",
       "       'городской посёлок Павлово', 'поселок Жилгородок',\n",
       "       'поселок Терволово', 'поселок Житково', 'деревня Куровицы',\n",
       "       'село Паша', 'поселок Кобринское', 'деревня Камышовка',\n",
       "       'посёлок Сосново', 'деревня Пельгора', 'поселок Гончарово',\n",
       "       'городской посёлок Фёдоровское',\n",
       "       'посёлок городского типа Кузьмоловский', 'деревня Большое Рейзино',\n",
       "       'поселок Совхозный', 'деревня Лопухинка', 'деревня Пикколово',\n",
       "       'посёлок Мичуринское', 'поселок Калитино',\n",
       "       'поселок Старая Малукса', 'деревня Разбегаево', 'деревня Мины',\n",
       "       'деревня Торосово', 'посёлок городского типа Рощино',\n",
       "       'поселок Пушное', 'деревня Ненимяки', 'поселок Победа',\n",
       "       'поселок Цвелодубово', 'посёлок Кикерино',\n",
       "       'поселок Пансионат Зелёный Бор', 'деревня Реброво',\n",
       "       'деревня Выскатка', 'коттеджный поселок Счастье',\n",
       "       'поселок Починок', 'поселок городского типа Ефимовский',\n",
       "       'деревня Нижние Осельки', 'поселок Котельский', 'деревня Лаврики',\n",
       "       'поселок Пчевжа', 'деревня Тарасово', 'деревня Старополье',\n",
       "       'городской посёлок Виллози', 'деревня Торошковичи',\n",
       "       'село Рождествено', 'поселок Поляны', 'деревня Каськово',\n",
       "       'посёлок городского типа Вырица', 'посёлок Гаврилово',\n",
       "       'деревня Шпаньково', 'поселок Серебрянский', 'посёлок Ильичёво',\n",
       "       'посёлок Петровское', 'деревня Щеглово', 'поселок станции Корнево',\n",
       "       'деревня Ям-Тесово', 'городской посёлок Свирьстрой',\n",
       "       'посёлок Ропша', 'деревня Бор', 'деревня Глинка',\n",
       "       'посёлок Ленинское', 'деревня Заклинье', 'деревня Аро',\n",
       "       'посёлок Белоостров', 'посёлок городского типа Форносово',\n",
       "       'деревня Суоранда', 'деревня Тихковицы', 'посёлок Высокоключевой',\n",
       "       'деревня Хязельки', 'посёлок Жилгородок', 'деревня Тойворово',\n",
       "       'посёлок городского типа имени Свердлова', 'поселок Оредеж',\n",
       "       'посёлок Форт Красная Горка', 'деревня Нижняя',\n",
       "       'посёлок Новогорелово', 'посёлок Петро-Славянка', 'посёлок Поляны',\n",
       "       'поселок Коммунары', 'городской посёлок Рощино', 'деревня Русско',\n",
       "       'поселок Красносельское', 'поселок Торковичи', 'поселок Каложицы',\n",
       "       'поселок Володарское', 'деревня Старые Бегуницы',\n",
       "       'деревня Кисельня', 'деревня Мануйлово', 'поселок станции Лужайка',\n",
       "       'посёлок Мельниково', 'коттеджный посёлок Лесное',\n",
       "       'деревня Вахнова Кара', 'посёлок Кобралово',\n",
       "       'посёлок городского типа Красный Бор', 'деревня Трубников Бор',\n",
       "       'посёлок Коробицыно', 'село Никольское', 'посёлок Плоское',\n",
       "       'поселок Гладкое', 'посёлок Старая Малукса', 'поселок Лукаши',\n",
       "       'поселок Ромашки', 'поселок городского типа Кондратьево',\n",
       "       'деревня Старая Пустошь', 'Мурино', 'посёлок Дзержинского',\n",
       "       'деревня Лупполово', 'посёлок Пансионат Зелёный Бор',\n",
       "       'поселок Лесное', 'деревня Пижма',\n",
       "       'посёлок Платформа 69-й километр', 'городской посёлок Советский',\n",
       "       'посёлок станции Громово', 'деревня Большой Сабск',\n",
       "       'деревня Пустынка', 'деревня Сижно', 'деревня Малая Романовка',\n",
       "       'деревня Снегирёвка', 'посёлок Левашово', 'село Шум',\n",
       "       'посёлок при железнодорожной станции Вещево', 'поселок Кирпичное',\n",
       "       'поселок Рабитицы', 'посёлок Перово', 'деревня Ялгино',\n",
       "       'деревня Коркино',\n",
       "       'садоводческое некоммерческое товарищество Лесная Поляна',\n",
       "       'деревня Меньково', 'деревня Старое Хинколово', 'поселок Почап',\n",
       "       'деревня Котлы', 'посёлок Победа', 'посёлок Мыза-Ивановка',\n",
       "       'садовое товарищество Новая Ропша', 'деревня Новолисино',\n",
       "       'поселок Семиозерье',\n",
       "       'посёлок при железнодорожной станции Приветнинское',\n",
       "       'деревня Пчева', 'посёлок Шугозеро',\n",
       "       'городской посёлок Лесогорский', 'деревня Раздолье',\n",
       "       'деревня Кривко', 'деревня Чудской Бор', 'посёлок Сумино',\n",
       "       'деревня Курковицы'], dtype=object)"
      ]
     },
     "execution_count": 12,
     "metadata": {},
     "output_type": "execute_result"
    }
   ],
   "source": [
    "#Изучите уникальные значения в столбце с названиями и устраните неявные дубликаты. \n",
    "data['locality_name'].unique()"
   ]
  },
  {
   "cell_type": "code",
   "execution_count": 13,
   "metadata": {},
   "outputs": [],
   "source": [
    "#уберем неявные дубликаты и проверим кол-во после замены\n",
    "data['locality_name'] = data['locality_name'].str.replace('ё','е')\n",
    "data['locality_name'] = data['locality_name'].replace('поселок Рябово', 'поселок городского типа Рябово')\n",
    "data['locality_name'] = data['locality_name'].replace('поселок Мурино', 'Мурино')"
   ]
  },
  {
   "cell_type": "code",
   "execution_count": 14,
   "metadata": {},
   "outputs": [],
   "source": [
    "#пропуски географии невозможно заполнить, дополним строки\n",
    "data ['locality_name'] = data ['locality_name'].fillna('не указан')"
   ]
  },
  {
   "cell_type": "markdown",
   "metadata": {},
   "source": [
    "Для исключения задвоений меняем букву \"ё\" на \"е\" в названиях локаций.\n",
    "Локации с одинаковым названием, но относящиеся к разным типам поселений не могут быть объединены, например горор Кингисе́пп и поселок Кингисе́ппский, часть имеет ошибки в типах поселений: поселок Мурино заменен на город, поселок Рябово  - на поселок городского типа."
   ]
  },
  {
   "cell_type": "code",
   "execution_count": 15,
   "metadata": {},
   "outputs": [
    {
     "data": {
      "text/plain": [
       "array([  2.7 ,    nan,   3.12,   2.64,   3.  ,   2.73,   2.8 ,   2.77,\n",
       "         2.55,   3.1 ,   2.75,   2.5 ,   3.3 ,   2.85,   3.4 ,   2.6 ,\n",
       "         2.52,   2.62,   3.5 ,   3.2 ,   4.4 ,   2.53,   3.02,   2.95,\n",
       "         2.9 ,   3.6 ,   2.87,   2.82,   5.6 ,   3.25,   3.55,   3.05,\n",
       "         3.46,   3.9 ,   3.8 ,   3.69,   2.83,   3.45,   4.  ,   3.08,\n",
       "         2.66,   3.15,   2.84,   2.63,   2.65,   2.58,   2.54,   2.81,\n",
       "         2.76,   2.78,   2.57,   3.17,   2.51,   3.84,   3.75,   2.96,\n",
       "         5.2 ,   8.  ,   2.67,   3.23,   3.7 ,   2.92,   2.79,   3.11,\n",
       "         3.85,   2.71,   3.37,   2.72,   2.74,   3.54,   2.56,   3.27,\n",
       "         2.88,   3.32,   4.1 ,   2.68,  25.  ,   3.16,   3.36,   2.48,\n",
       "         4.45,   3.35,   3.78,   2.3 ,   3.13,   3.04,   3.28,   4.8 ,\n",
       "         3.38,   3.22,   3.58,   2.59,   2.46,   3.57,   2.89,   3.66,\n",
       "         3.01,   2.4 ,   2.97,   3.52,   2.25,   4.2 ,   3.44,   2.45,\n",
       "         3.26,   3.34,   3.18,   3.65,   3.67,   3.48,   2.93,   3.06,\n",
       "         3.95,   3.29,   3.24,   4.5 ,   3.33,   2.61,   3.39,   3.43,\n",
       "         3.98,   2.  ,   4.9 ,   3.56,  27.5 ,   3.07,   3.49,   3.93,\n",
       "         2.86,   2.91,   4.65,   3.31,   6.  ,   3.09,   4.7 ,  27.  ,\n",
       "         5.8 ,   4.25,   3.03,  26.  ,   1.2 ,   2.47,   3.21,   3.53,\n",
       "         2.2 ,   3.47,  10.3 ,   3.14,   3.86,   1.75,   3.42,   5.5 ,\n",
       "         4.14,   2.94,   3.51,   4.19,   4.37,   2.34,   5.  ,   3.63,\n",
       "        22.6 ,   3.87,   2.49,   3.59,   5.3 ,  14.  ,   2.69,   3.82,\n",
       "         3.62,   2.98, 100.  ,   8.3 ,   2.99,   4.3 ,   4.06,  24.  ,\n",
       "         3.88,   1.  ,   4.15,  32.  ,   3.76,  20.  ,   3.83,   3.68])"
      ]
     },
     "execution_count": 15,
     "metadata": {},
     "output_type": "execute_result"
    }
   ],
   "source": [
    "#Найдите и устраните редкие и выбивающиеся значения. \n",
    "data['ceiling_height'].unique()"
   ]
  },
  {
   "cell_type": "code",
   "execution_count": 16,
   "metadata": {},
   "outputs": [],
   "source": [
    "#заменим значения схожие с ошибкой внесения данных\n",
    "data['ceiling_height'] = data['ceiling_height'].replace('25.  ', '2.50')\n",
    "data['ceiling_height'] = data['ceiling_height'].replace('32.  ', '3.20')\n",
    "data['ceiling_height'] = data['ceiling_height'].replace('27.  ', '2.70')\n",
    "data['ceiling_height'] = data['ceiling_height'].replace('24.  ', '2.40')\n",
    "data['ceiling_height'] = data['ceiling_height'].replace('26.  ', '2.60')\n",
    "data['ceiling_height'] = data['ceiling_height'].replace('20.  ', '2.00')\n",
    "data['ceiling_height'] = data['ceiling_height'].replace('27.5 ', '2.75')"
   ]
  },
  {
   "cell_type": "code",
   "execution_count": 17,
   "metadata": {},
   "outputs": [
    {
     "data": {
      "text/plain": [
       "0.6339630446773304"
      ]
     },
     "execution_count": 17,
     "metadata": {},
     "output_type": "execute_result"
    }
   ],
   "source": [
    "#посчитаем долю пропусков\n",
    "data['ceiling_height'].isna().sum() / data['ceiling_height'].count()"
   ]
  },
  {
   "cell_type": "markdown",
   "metadata": {},
   "source": [
    "Пропуски при внесении высоты потолка составляют 63% данных и могут существенно исказить результат анализа в случае их удаления. Заполним пропуски медианным значением"
   ]
  },
  {
   "cell_type": "code",
   "execution_count": 18,
   "metadata": {},
   "outputs": [
    {
     "data": {
      "text/plain": [
       "9195"
      ]
     },
     "execution_count": 18,
     "metadata": {},
     "output_type": "execute_result"
    }
   ],
   "source": [
    "data['ceiling_height'].isna().sum()"
   ]
  },
  {
   "cell_type": "code",
   "execution_count": 19,
   "metadata": {},
   "outputs": [],
   "source": [
    "#заполним пропуски медианным значением\n",
    "data = data.sort_values(by = 'ceiling_height', ascending = True)\n",
    "data['ceiling_height'] = data['ceiling_height'].fillna(data['ceiling_height'].median())"
   ]
  },
  {
   "cell_type": "code",
   "execution_count": 20,
   "metadata": {},
   "outputs": [],
   "source": [
    "#for locality_name in data['locality_name'].unique():\n",
    "    #median = data.loc[data['locality_name'] == locality_name, 'ceiling_height'].median()\n",
    "    #data.loc[(data['ceiling_height'].isna()) & (data['locality_name'] == locality_name), 'ceiling_height'] = median\n",
    "    \n",
    "#data.loc[data['ceiling_height'].isna(), 'ceiling_height'] = data['ceiling_height'].median()\n",
    "\n"
   ]
  },
  {
   "cell_type": "code",
   "execution_count": 21,
   "metadata": {},
   "outputs": [
    {
     "data": {
      "text/plain": [
       "<function matplotlib.pyplot.show(close=None, block=None)>"
      ]
     },
     "execution_count": 21,
     "metadata": {},
     "output_type": "execute_result"
    },
    {
     "data": {
      "image/png": "[encoded data removed]",
      "text/plain": [
       "<Figure size 720x720 with 1 Axes>"
      ]
     },
     "metadata": {
      "needs_background": "light"
     },
     "output_type": "display_data"
    }
   ],
   "source": [
    "axes = data.boxplot(column = 'ceiling_height',figsize=(10,10), whis=[5,95], return_type='axes')\n",
    "axes.set_ylim(0,6)\n",
    "plt.show"
   ]
  },
  {
   "cell_type": "code",
   "execution_count": 22,
   "metadata": {},
   "outputs": [],
   "source": [
    "#значения не поддающиеся корректировке, такие выбросы высоты потолка ниже 2 м и выше 4 м и пропуски, перезапишем\n",
    "data = data.sort_values(by = 'ceiling_height', ascending = True)\n",
    "data.loc[(data['ceiling_height'] < 2) | (data['ceiling_height'] > 4), 'ceiling_height']\\\n",
    "= data['ceiling_height'].median()"
   ]
  },
  {
   "cell_type": "code",
   "execution_count": 23,
   "metadata": {},
   "outputs": [
    {
     "data": {
      "text/plain": [
       "count    23699.000000\n",
       "mean         2.693220\n",
       "std          0.204351\n",
       "min          2.000000\n",
       "25%          2.600000\n",
       "50%          2.650000\n",
       "75%          2.700000\n",
       "max          4.000000\n",
       "Name: ceiling_height, dtype: float64"
      ]
     },
     "execution_count": 23,
     "metadata": {},
     "output_type": "execute_result"
    }
   ],
   "source": [
    "data['ceiling_height'].describe()"
   ]
  },
  {
   "cell_type": "markdown",
   "metadata": {},
   "source": [
    "После обработки данных, минимальные и максимальные значения высоты потолка приблизились к реальным. "
   ]
  },
  {
   "cell_type": "markdown",
   "metadata": {},
   "source": [
    "В столбце с жилой площадью есть пропуски, а также выбросы, которые могут быть ошибками - например жилая площадь 2 м кв и большие помещения более 400 м кв.\n",
    "Для начала заполним пропуски медианым значением, затем обработаем выбросы.  \n",
    "Есть высокая корреляция кол-ва комнат и жилой площади. Заполним пропуски в столбце с жилой площадью медианным значением в соответствии с кол-вом комнат.  \n",
    "Также есть корреляция жилой и общей площади, заполним пропуски аналогичным образом."
   ]
  },
  {
   "cell_type": "code",
   "execution_count": 24,
   "metadata": {},
   "outputs": [
    {
     "data": {
      "text/plain": [
       "0.8459774567888746"
      ]
     },
     "execution_count": 24,
     "metadata": {},
     "output_type": "execute_result"
    }
   ],
   "source": [
    "data['living_area'].corr(data['rooms'])"
   ]
  },
  {
   "cell_type": "code",
   "execution_count": 25,
   "metadata": {},
   "outputs": [
    {
     "data": {
      "text/plain": [
       "0.9395373338721491"
      ]
     },
     "execution_count": 25,
     "metadata": {},
     "output_type": "execute_result"
    }
   ],
   "source": [
    "data['living_area'].corr(data['total_area'])"
   ]
  },
  {
   "cell_type": "code",
   "execution_count": 26,
   "metadata": {},
   "outputs": [
    {
     "data": {
      "text/plain": [
       "0.6091211711198314"
      ]
     },
     "execution_count": 26,
     "metadata": {},
     "output_type": "execute_result"
    }
   ],
   "source": [
    "data['kitchen_area'].corr(data['total_area'])"
   ]
  },
  {
   "cell_type": "code",
   "execution_count": 27,
   "metadata": {},
   "outputs": [],
   "source": [
    "median_living_area = data.groupby('rooms')['living_area'].median()\n",
    "for value in median_living_area.index:\n",
    "    data.loc[(data['rooms'] == value) & (data['living_area'].isna()),'living_area'] = median_living_area[value]"
   ]
  },
  {
   "cell_type": "code",
   "execution_count": 28,
   "metadata": {},
   "outputs": [],
   "source": [
    "median_total_area = data.groupby('living_area')['total_area'].median()\n",
    "for value in median_total_area.index:\n",
    "    data.loc[(data['living_area'] == value) & (data['total_area'].isna()),'total_area'] = median_total_area[value]"
   ]
  },
  {
   "cell_type": "code",
   "execution_count": 29,
   "metadata": {},
   "outputs": [],
   "source": [
    "median_kitchen_area = data.groupby('total_area')['kitchen_area'].median()\n",
    "for value in median_kitchen_area.index:\n",
    "    data.loc[(data['total_area'] == value) & (data['kitchen_area'].isna()),'kitchen_area'] = median_kitchen_area[value]"
   ]
  },
  {
   "cell_type": "code",
   "execution_count": 30,
   "metadata": {},
   "outputs": [
    {
     "data": {
      "text/plain": [
       "count    23699.000000\n",
       "mean        34.321982\n",
       "std         21.700627\n",
       "min          2.000000\n",
       "25%         18.400000\n",
       "50%         30.300000\n",
       "75%         42.700000\n",
       "max        409.700000\n",
       "Name: living_area, dtype: float64"
      ]
     },
     "execution_count": 30,
     "metadata": {},
     "output_type": "execute_result"
    }
   ],
   "source": [
    "data['living_area'].describe()"
   ]
  },
  {
   "cell_type": "code",
   "execution_count": 31,
   "metadata": {},
   "outputs": [
    {
     "data": {
      "text/plain": [
       "count    23699.000000\n",
       "mean        60.348651\n",
       "std         35.654083\n",
       "min         12.000000\n",
       "25%         40.000000\n",
       "50%         52.000000\n",
       "75%         69.900000\n",
       "max        900.000000\n",
       "Name: total_area, dtype: float64"
      ]
     },
     "execution_count": 31,
     "metadata": {},
     "output_type": "execute_result"
    }
   ],
   "source": [
    "data['total_area'].describe()"
   ]
  },
  {
   "cell_type": "code",
   "execution_count": 32,
   "metadata": {},
   "outputs": [
    {
     "data": {
      "text/plain": [
       "count    23494.000000\n",
       "mean        10.457529\n",
       "std          5.782501\n",
       "min          1.300000\n",
       "25%          7.000000\n",
       "50%          9.000000\n",
       "75%         11.810000\n",
       "max        112.000000\n",
       "Name: kitchen_area, dtype: float64"
      ]
     },
     "execution_count": 32,
     "metadata": {},
     "output_type": "execute_result"
    }
   ],
   "source": [
    "data['kitchen_area'].describe()"
   ]
  },
  {
   "cell_type": "markdown",
   "metadata": {},
   "source": [
    "Согласно учетным нормам, минимальный размер площади жилого помещения на человека в Санкт-Петербурге - 9 м кв, удалим выбросы ниже этой границы.\n",
    "Верхние значения ограничим, в соответсвии с \"хвостами\" границей отклонений."
   ]
  },
  {
   "cell_type": "code",
   "execution_count": 33,
   "metadata": {},
   "outputs": [],
   "source": [
    "data = data.loc[(data['living_area'] >= 9)&(data['living_area'] <= 125)]\n",
    "data = data.loc[data['total_area'] <= 200]\n",
    "data = data.loc[data['kitchen_area'] <= 40]"
   ]
  },
  {
   "cell_type": "markdown",
   "metadata": {},
   "source": [
    "Пропуски в столбце этажей дома заполним в соответсвии с этажом квартиры т.к. корреляция достаточно высокая"
   ]
  },
  {
   "cell_type": "code",
   "execution_count": 34,
   "metadata": {},
   "outputs": [
    {
     "data": {
      "text/plain": [
       "0.6769000676250776"
      ]
     },
     "execution_count": 34,
     "metadata": {},
     "output_type": "execute_result"
    }
   ],
   "source": [
    "data['floors_total'].corr(data['floor'])"
   ]
  },
  {
   "cell_type": "code",
   "execution_count": 35,
   "metadata": {},
   "outputs": [],
   "source": [
    "median_floor = data.groupby('floor')['floors_total'].median()\n",
    "for value in median_floor.index:\n",
    "    data.loc[(data['floor'] == value) & (data['floors_total'].isna()),'floors_total'] = median_floor[value]"
   ]
  },
  {
   "cell_type": "code",
   "execution_count": 36,
   "metadata": {},
   "outputs": [],
   "source": [
    "data['floors_total'] = data['floors_total'].astype('int')"
   ]
  },
  {
   "cell_type": "markdown",
   "metadata": {},
   "source": [
    "Пропуски в столбцах удаленности от аэропорта, центра города, парков и водоемой, заполним медианным значением, группируя объекты по геолокации."
   ]
  },
  {
   "cell_type": "code",
   "execution_count": 37,
   "metadata": {},
   "outputs": [],
   "source": [
    "median_airports_geo = data.groupby('locality_name')['airports_nearest'].median()\n",
    "for value in median_airports_geo.index:\n",
    "    data.loc[(data['locality_name'] == value) & (data['airports_nearest'].isna()),'airports_nearest'] = median_airports_geo[value]"
   ]
  },
  {
   "cell_type": "code",
   "execution_count": 38,
   "metadata": {},
   "outputs": [],
   "source": [
    "median_cityCenters_geo = data.groupby('locality_name')['cityCenters_nearest'].median()\n",
    "for value in median_cityCenters_geo.index:\n",
    "    data.loc[(data['locality_name'] == value) & (data['cityCenters_nearest'].isna()),'cityCenters_nearest'] = median_cityCenters_geo[value]"
   ]
  },
  {
   "cell_type": "code",
   "execution_count": 39,
   "metadata": {},
   "outputs": [],
   "source": [
    "median_parks_geo = data.groupby('locality_name')['parks_nearest'].median()\n",
    "for value in median_parks_geo.index:\n",
    "    data.loc[(data['locality_name'] == value) & (data['parks_nearest'].isna()),'parks_nearest'] = median_parks_geo[value]"
   ]
  },
  {
   "cell_type": "code",
   "execution_count": 40,
   "metadata": {},
   "outputs": [],
   "source": [
    "median_ponds_geo = data.groupby('locality_name')['ponds_nearest'].median()\n",
    "for value in median_ponds_geo.index:\n",
    "    data.loc[(data['locality_name'] == value) & (data['ponds_nearest'].isna()),'ponds_nearest'] = median_ponds_geo[value]"
   ]
  },
  {
   "cell_type": "code",
   "execution_count": 41,
   "metadata": {
    "scrolled": true
   },
   "outputs": [
    {
     "name": "stdout",
     "output_type": "stream",
     "text": [
      "<class 'pandas.core.frame.DataFrame'>\n",
      "Int64Index: 23136 entries, 22590 to 22869\n",
      "Data columns (total 22 columns):\n",
      " #   Column                Non-Null Count  Dtype         \n",
      "---  ------                --------------  -----         \n",
      " 0   total_images          23136 non-null  int64         \n",
      " 1   last_price            23136 non-null  int64         \n",
      " 2   total_area            23136 non-null  float64       \n",
      " 3   first_day_exposition  23136 non-null  datetime64[ns]\n",
      " 4   rooms                 23136 non-null  int64         \n",
      " 5   ceiling_height        23136 non-null  float64       \n",
      " 6   floors_total          23136 non-null  int64         \n",
      " 7   living_area           23136 non-null  float64       \n",
      " 8   floor                 23136 non-null  int64         \n",
      " 9   is_apartment          23136 non-null  bool          \n",
      " 10  studio                23136 non-null  bool          \n",
      " 11  open_plan             23136 non-null  bool          \n",
      " 12  kitchen_area          23136 non-null  float64       \n",
      " 13  balcony               23136 non-null  int64         \n",
      " 14  locality_name         23136 non-null  object        \n",
      " 15  airports_nearest      18327 non-null  float64       \n",
      " 16  cityCenters_nearest   18327 non-null  float64       \n",
      " 17  parks_around3000      23136 non-null  int64         \n",
      " 18  parks_nearest         17222 non-null  float64       \n",
      " 19  ponds_around3000      23136 non-null  int64         \n",
      " 20  ponds_nearest         18243 non-null  float64       \n",
      " 21  days_exposition       20057 non-null  float64       \n",
      "dtypes: bool(3), datetime64[ns](1), float64(9), int64(8), object(1)\n",
      "memory usage: 3.6+ MB\n"
     ]
    }
   ],
   "source": [
    "#проверим замену пропусков\n",
    "data.info()"
   ]
  },
  {
   "cell_type": "code",
   "execution_count": 42,
   "metadata": {
    "scrolled": true
   },
   "outputs": [
    {
     "data": {
      "text/plain": [
       "total_images               0\n",
       "last_price                 0\n",
       "total_area                 0\n",
       "first_day_exposition       0\n",
       "rooms                      0\n",
       "ceiling_height             0\n",
       "floors_total               0\n",
       "living_area                0\n",
       "floor                      0\n",
       "is_apartment               0\n",
       "studio                     0\n",
       "open_plan                  0\n",
       "kitchen_area               0\n",
       "balcony                    0\n",
       "locality_name              0\n",
       "airports_nearest        4809\n",
       "cityCenters_nearest     4809\n",
       "parks_around3000           0\n",
       "parks_nearest           5914\n",
       "ponds_around3000           0\n",
       "ponds_nearest           4893\n",
       "days_exposition         3079\n",
       "dtype: int64"
      ]
     },
     "execution_count": 42,
     "metadata": {},
     "output_type": "execute_result"
    }
   ],
   "source": [
    "data.isna().sum()"
   ]
  },
  {
   "cell_type": "markdown",
   "metadata": {},
   "source": [
    "<div class=\"alert alert-block alert-danger\">✍\n",
    "    \n",
    "\n",
    "__Комментарий от ревьюера №1__\n",
    "\n",
    "Отсутствует проверка на дубликаты. Поправишь, пожалуйста?\n",
    "</div>"
   ]
  },
  {
   "cell_type": "markdown",
   "metadata": {},
   "source": [
    "<div style=\"background: #B0E0E6; padding: 5px; border: 1px solid SteelBlue; border-radius: 5px;\">\n",
    "    <font color='4682B4'><u><b>Комментарии студента:</b></u></font>\n",
    "    <br />\n",
    "    <font color='4682B4'>Да, спасибо, ниже добавила проверку</font>\n",
    "</div>"
   ]
  },
  {
   "cell_type": "code",
   "execution_count": 43,
   "metadata": {},
   "outputs": [
    {
     "data": {
      "text/plain": [
       "0"
      ]
     },
     "metadata": {},
     "output_type": "display_data"
    }
   ],
   "source": [
    "display(data.duplicated().sum())"
   ]
  },
  {
   "cell_type": "markdown",
   "metadata": {},
   "source": [
    "Дубликаты в данных отсутствуют, можем переходить к следующему этапу анализа."
   ]
  },
  {
   "cell_type": "markdown",
   "metadata": {},
   "source": [
    "<div class=\"alert alert-block alert-success\">✔️\n",
    "    \n",
    "\n",
    "__Комментарий от ревьюера №2__\n",
    "\n",
    "Проверка на дубликаты - основа предобработки данных\n",
    "</div>"
   ]
  },
  {
   "cell_type": "markdown",
   "metadata": {},
   "source": [
    "### Посчитайте и добавьте в таблицу новые столбцы"
   ]
  },
  {
   "cell_type": "code",
   "execution_count": 44,
   "metadata": {},
   "outputs": [],
   "source": [
    "#добавим цену одного квадратного метра\n",
    "data['price_1sqr_m'] = data['last_price'] / data['total_area']\n",
    "data['price_1sqr_m'] = data['price_1sqr_m'].astype('int')"
   ]
  },
  {
   "cell_type": "code",
   "execution_count": 45,
   "metadata": {},
   "outputs": [],
   "source": [
    "#добавим день недели публикации объявления (0 — понедельник, 1 — вторник и так далее)\n",
    "data['day_of_exposition'] = data['first_day_exposition'].dt.dayofweek"
   ]
  },
  {
   "cell_type": "code",
   "execution_count": 46,
   "metadata": {},
   "outputs": [],
   "source": [
    "#месяц публикации объявления\n",
    "data['month_of_exposition'] = data['first_day_exposition'].dt.month"
   ]
  },
  {
   "cell_type": "code",
   "execution_count": 47,
   "metadata": {},
   "outputs": [],
   "source": [
    "#год публикации объявления\n",
    "data['year_of_exposition'] = data['first_day_exposition'].dt.year"
   ]
  },
  {
   "cell_type": "markdown",
   "metadata": {},
   "source": [
    "<div class=\"alert alert-block alert-warning\">📝\n",
    "    \n",
    "\n",
    "__Комментарий от ревьюера №1__\n",
    "\n",
    "Совет: обычно в датафреймах содержатся данные за несколько лет. Важно выбрать корректный метод для вычленения месяца, иначе месяца разных годов могут стать одним месяцем. Обрати внимание на метод astype('datetime64[M]'). Для его использования не нужно обращаться к pd.DatetimeIndex. \n",
    "</div>"
   ]
  },
  {
   "cell_type": "markdown",
   "metadata": {},
   "source": [
    "<div style=\"background: #B0E0E6; padding: 5px; border: 1px solid SteelBlue; border-radius: 5px;\">\n",
    "    <font color='4682B4'><u><b>Комментарии студента:</b></u></font>\n",
    "    <br />\n",
    "    <font color='4682B4'>Не совсем поняла комментарий: у нас ведь добавляются столбцы отдельно год и месяц, то есть в комбинации можно будет понять к какому году что относится, а по месяцам в целом посмотреть сезональность. Или имеется ввиду, что данные схлопнутся и неудобно будет смотреть изменение сезональности по годам, то есть месяц добавить в формате, например,\"2019_01\", \"2019_02\", чтобы при построении графика они шли отдельно? Если второй вариант, можешь, пожалуйста, подсказать, где посмотреть про метод, не нашла понятных примеров.</font>\n",
    "</div>"
   ]
  },
  {
   "cell_type": "markdown",
   "metadata": {},
   "source": [
    "<div class=\"alert alert-block alert-success\">✔️\n",
    "    \n",
    "\n",
    "__Комментарий от ревьюера №2__\n",
    "\n",
    " Код выглядит так:\n",
    "    \n",
    "        df['first_day_exposition'].dt.date #приводим к временному формату\n",
    "        df['first_day_exposition'].astype('datetime64[M]') \n",
    "    \n",
    "Если года разные, то в новой колонке месяца у тебя отобразится первый день месяца ('2019-05-01')\n",
    "</div>"
   ]
  },
  {
   "cell_type": "code",
   "execution_count": 48,
   "metadata": {},
   "outputs": [],
   "source": [
    "#тип этажа квартиры (значения — «первый», «последний», «другой»)\n",
    "def floor_type(fl):\n",
    "    if fl['floor'] == 1:\n",
    "        return 'первый'\n",
    "    if fl ['floor'] == fl['floors_total']:\n",
    "        return 'последний'\n",
    "    return 'другой'\n",
    "data['type_of_floor'] = data[['floor', 'floors_total']].apply(floor_type, axis = 1)\n",
    "data['type_of_floor'] = data['type_of_floor']"
   ]
  },
  {
   "cell_type": "code",
   "execution_count": 49,
   "metadata": {},
   "outputs": [],
   "source": [
    "#расстояние до центра города в километрах (в км и округлено до целых значений)\n",
    "data['cityCenters_km'] = data['cityCenters_nearest'] / 1000\n",
    "data['cityCenters_km'] = data['cityCenters_km'].round()"
   ]
  },
  {
   "cell_type": "code",
   "execution_count": 50,
   "metadata": {
    "scrolled": true
   },
   "outputs": [
    {
     "data": {
      "text/html": [
       "<div>\n",
       "<style scoped>\n",
       "    .dataframe tbody tr th:only-of-type {\n",
       "        vertical-align: middle;\n",
       "    }\n",
       "\n",
       "    .dataframe tbody tr th {\n",
       "        vertical-align: top;\n",
       "    }\n",
       "\n",
       "    .dataframe thead th {\n",
       "        text-align: right;\n",
       "    }\n",
       "</style>\n",
       "<table border=\"1\" class=\"dataframe\">\n",
       "  <thead>\n",
       "    <tr style=\"text-align: right;\">\n",
       "      <th></th>\n",
       "      <th>total_images</th>\n",
       "      <th>last_price</th>\n",
       "      <th>total_area</th>\n",
       "      <th>first_day_exposition</th>\n",
       "      <th>rooms</th>\n",
       "      <th>ceiling_height</th>\n",
       "      <th>floors_total</th>\n",
       "      <th>living_area</th>\n",
       "      <th>floor</th>\n",
       "      <th>is_apartment</th>\n",
       "      <th>...</th>\n",
       "      <th>parks_nearest</th>\n",
       "      <th>ponds_around3000</th>\n",
       "      <th>ponds_nearest</th>\n",
       "      <th>days_exposition</th>\n",
       "      <th>price_1sqr_m</th>\n",
       "      <th>day_of_exposition</th>\n",
       "      <th>month_of_exposition</th>\n",
       "      <th>year_of_exposition</th>\n",
       "      <th>type_of_floor</th>\n",
       "      <th>cityCenters_km</th>\n",
       "    </tr>\n",
       "  </thead>\n",
       "  <tbody>\n",
       "    <tr>\n",
       "      <th>22590</th>\n",
       "      <td>16</td>\n",
       "      <td>6000000</td>\n",
       "      <td>55.00</td>\n",
       "      <td>2018-10-31</td>\n",
       "      <td>2</td>\n",
       "      <td>2.65</td>\n",
       "      <td>12</td>\n",
       "      <td>32.4</td>\n",
       "      <td>7</td>\n",
       "      <td>False</td>\n",
       "      <td>...</td>\n",
       "      <td>293.0</td>\n",
       "      <td>2</td>\n",
       "      <td>289.0</td>\n",
       "      <td>13.0</td>\n",
       "      <td>109090</td>\n",
       "      <td>2</td>\n",
       "      <td>10</td>\n",
       "      <td>2018</td>\n",
       "      <td>другой</td>\n",
       "      <td>14.0</td>\n",
       "    </tr>\n",
       "    <tr>\n",
       "      <th>5712</th>\n",
       "      <td>5</td>\n",
       "      <td>1500000</td>\n",
       "      <td>42.80</td>\n",
       "      <td>2017-08-14</td>\n",
       "      <td>2</td>\n",
       "      <td>2.65</td>\n",
       "      <td>2</td>\n",
       "      <td>27.5</td>\n",
       "      <td>1</td>\n",
       "      <td>False</td>\n",
       "      <td>...</td>\n",
       "      <td>NaN</td>\n",
       "      <td>0</td>\n",
       "      <td>NaN</td>\n",
       "      <td>248.0</td>\n",
       "      <td>35046</td>\n",
       "      <td>0</td>\n",
       "      <td>8</td>\n",
       "      <td>2017</td>\n",
       "      <td>первый</td>\n",
       "      <td>NaN</td>\n",
       "    </tr>\n",
       "    <tr>\n",
       "      <th>16934</th>\n",
       "      <td>5</td>\n",
       "      <td>4100000</td>\n",
       "      <td>40.00</td>\n",
       "      <td>2017-10-17</td>\n",
       "      <td>1</td>\n",
       "      <td>2.65</td>\n",
       "      <td>37</td>\n",
       "      <td>17.4</td>\n",
       "      <td>5</td>\n",
       "      <td>False</td>\n",
       "      <td>...</td>\n",
       "      <td>463.0</td>\n",
       "      <td>3</td>\n",
       "      <td>80.0</td>\n",
       "      <td>71.0</td>\n",
       "      <td>102500</td>\n",
       "      <td>1</td>\n",
       "      <td>10</td>\n",
       "      <td>2017</td>\n",
       "      <td>другой</td>\n",
       "      <td>20.0</td>\n",
       "    </tr>\n",
       "    <tr>\n",
       "      <th>16884</th>\n",
       "      <td>0</td>\n",
       "      <td>1500000</td>\n",
       "      <td>33.00</td>\n",
       "      <td>2018-10-03</td>\n",
       "      <td>1</td>\n",
       "      <td>2.00</td>\n",
       "      <td>5</td>\n",
       "      <td>20.0</td>\n",
       "      <td>5</td>\n",
       "      <td>False</td>\n",
       "      <td>...</td>\n",
       "      <td>NaN</td>\n",
       "      <td>0</td>\n",
       "      <td>NaN</td>\n",
       "      <td>6.0</td>\n",
       "      <td>45454</td>\n",
       "      <td>2</td>\n",
       "      <td>10</td>\n",
       "      <td>2018</td>\n",
       "      <td>последний</td>\n",
       "      <td>NaN</td>\n",
       "    </tr>\n",
       "    <tr>\n",
       "      <th>4212</th>\n",
       "      <td>1</td>\n",
       "      <td>2120000</td>\n",
       "      <td>35.43</td>\n",
       "      <td>2017-12-18</td>\n",
       "      <td>1</td>\n",
       "      <td>2.00</td>\n",
       "      <td>18</td>\n",
       "      <td>16.6</td>\n",
       "      <td>9</td>\n",
       "      <td>False</td>\n",
       "      <td>...</td>\n",
       "      <td>NaN</td>\n",
       "      <td>0</td>\n",
       "      <td>NaN</td>\n",
       "      <td>36.0</td>\n",
       "      <td>59836</td>\n",
       "      <td>0</td>\n",
       "      <td>12</td>\n",
       "      <td>2017</td>\n",
       "      <td>другой</td>\n",
       "      <td>NaN</td>\n",
       "    </tr>\n",
       "    <tr>\n",
       "      <th>11352</th>\n",
       "      <td>4</td>\n",
       "      <td>3300000</td>\n",
       "      <td>36.00</td>\n",
       "      <td>2017-06-18</td>\n",
       "      <td>1</td>\n",
       "      <td>2.00</td>\n",
       "      <td>17</td>\n",
       "      <td>15.2</td>\n",
       "      <td>12</td>\n",
       "      <td>False</td>\n",
       "      <td>...</td>\n",
       "      <td>NaN</td>\n",
       "      <td>0</td>\n",
       "      <td>NaN</td>\n",
       "      <td>53.0</td>\n",
       "      <td>91666</td>\n",
       "      <td>6</td>\n",
       "      <td>6</td>\n",
       "      <td>2017</td>\n",
       "      <td>другой</td>\n",
       "      <td>27.0</td>\n",
       "    </tr>\n",
       "    <tr>\n",
       "      <th>19329</th>\n",
       "      <td>5</td>\n",
       "      <td>1700000</td>\n",
       "      <td>40.00</td>\n",
       "      <td>2018-07-15</td>\n",
       "      <td>2</td>\n",
       "      <td>2.00</td>\n",
       "      <td>9</td>\n",
       "      <td>30.5</td>\n",
       "      <td>8</td>\n",
       "      <td>False</td>\n",
       "      <td>...</td>\n",
       "      <td>NaN</td>\n",
       "      <td>0</td>\n",
       "      <td>NaN</td>\n",
       "      <td>45.0</td>\n",
       "      <td>42500</td>\n",
       "      <td>6</td>\n",
       "      <td>7</td>\n",
       "      <td>2018</td>\n",
       "      <td>другой</td>\n",
       "      <td>NaN</td>\n",
       "    </tr>\n",
       "    <tr>\n",
       "      <th>20520</th>\n",
       "      <td>9</td>\n",
       "      <td>3600000</td>\n",
       "      <td>38.00</td>\n",
       "      <td>2018-07-05</td>\n",
       "      <td>1</td>\n",
       "      <td>2.00</td>\n",
       "      <td>12</td>\n",
       "      <td>15.0</td>\n",
       "      <td>9</td>\n",
       "      <td>False</td>\n",
       "      <td>...</td>\n",
       "      <td>NaN</td>\n",
       "      <td>0</td>\n",
       "      <td>NaN</td>\n",
       "      <td>62.0</td>\n",
       "      <td>94736</td>\n",
       "      <td>3</td>\n",
       "      <td>7</td>\n",
       "      <td>2018</td>\n",
       "      <td>другой</td>\n",
       "      <td>NaN</td>\n",
       "    </tr>\n",
       "    <tr>\n",
       "      <th>2572</th>\n",
       "      <td>4</td>\n",
       "      <td>2400000</td>\n",
       "      <td>62.00</td>\n",
       "      <td>2018-12-27</td>\n",
       "      <td>3</td>\n",
       "      <td>2.00</td>\n",
       "      <td>5</td>\n",
       "      <td>40.0</td>\n",
       "      <td>4</td>\n",
       "      <td>False</td>\n",
       "      <td>...</td>\n",
       "      <td>NaN</td>\n",
       "      <td>0</td>\n",
       "      <td>NaN</td>\n",
       "      <td>NaN</td>\n",
       "      <td>38709</td>\n",
       "      <td>3</td>\n",
       "      <td>12</td>\n",
       "      <td>2018</td>\n",
       "      <td>другой</td>\n",
       "      <td>NaN</td>\n",
       "    </tr>\n",
       "    <tr>\n",
       "      <th>22960</th>\n",
       "      <td>17</td>\n",
       "      <td>2300000</td>\n",
       "      <td>53.60</td>\n",
       "      <td>2018-10-18</td>\n",
       "      <td>2</td>\n",
       "      <td>2.00</td>\n",
       "      <td>2</td>\n",
       "      <td>19.0</td>\n",
       "      <td>1</td>\n",
       "      <td>False</td>\n",
       "      <td>...</td>\n",
       "      <td>NaN</td>\n",
       "      <td>0</td>\n",
       "      <td>NaN</td>\n",
       "      <td>NaN</td>\n",
       "      <td>42910</td>\n",
       "      <td>3</td>\n",
       "      <td>10</td>\n",
       "      <td>2018</td>\n",
       "      <td>первый</td>\n",
       "      <td>NaN</td>\n",
       "    </tr>\n",
       "  </tbody>\n",
       "</table>\n",
       "<p>10 rows × 28 columns</p>\n",
       "</div>"
      ],
      "text/plain": [
       "       total_images  last_price  total_area first_day_exposition  rooms  \\\n",
       "22590            16     6000000       55.00           2018-10-31      2   \n",
       "5712              5     1500000       42.80           2017-08-14      2   \n",
       "16934             5     4100000       40.00           2017-10-17      1   \n",
       "16884             0     1500000       33.00           2018-10-03      1   \n",
       "4212              1     2120000       35.43           2017-12-18      1   \n",
       "11352             4     3300000       36.00           2017-06-18      1   \n",
       "19329             5     1700000       40.00           2018-07-15      2   \n",
       "20520             9     3600000       38.00           2018-07-05      1   \n",
       "2572              4     2400000       62.00           2018-12-27      3   \n",
       "22960            17     2300000       53.60           2018-10-18      2   \n",
       "\n",
       "       ceiling_height  floors_total  living_area  floor  is_apartment  ...  \\\n",
       "22590            2.65            12         32.4      7         False  ...   \n",
       "5712             2.65             2         27.5      1         False  ...   \n",
       "16934            2.65            37         17.4      5         False  ...   \n",
       "16884            2.00             5         20.0      5         False  ...   \n",
       "4212             2.00            18         16.6      9         False  ...   \n",
       "11352            2.00            17         15.2     12         False  ...   \n",
       "19329            2.00             9         30.5      8         False  ...   \n",
       "20520            2.00            12         15.0      9         False  ...   \n",
       "2572             2.00             5         40.0      4         False  ...   \n",
       "22960            2.00             2         19.0      1         False  ...   \n",
       "\n",
       "       parks_nearest  ponds_around3000  ponds_nearest  days_exposition  \\\n",
       "22590          293.0                 2          289.0             13.0   \n",
       "5712             NaN                 0            NaN            248.0   \n",
       "16934          463.0                 3           80.0             71.0   \n",
       "16884            NaN                 0            NaN              6.0   \n",
       "4212             NaN                 0            NaN             36.0   \n",
       "11352            NaN                 0            NaN             53.0   \n",
       "19329            NaN                 0            NaN             45.0   \n",
       "20520            NaN                 0            NaN             62.0   \n",
       "2572             NaN                 0            NaN              NaN   \n",
       "22960            NaN                 0            NaN              NaN   \n",
       "\n",
       "      price_1sqr_m  day_of_exposition  month_of_exposition  \\\n",
       "22590       109090                  2                   10   \n",
       "5712         35046                  0                    8   \n",
       "16934       102500                  1                   10   \n",
       "16884        45454                  2                   10   \n",
       "4212         59836                  0                   12   \n",
       "11352        91666                  6                    6   \n",
       "19329        42500                  6                    7   \n",
       "20520        94736                  3                    7   \n",
       "2572         38709                  3                   12   \n",
       "22960        42910                  3                   10   \n",
       "\n",
       "       year_of_exposition  type_of_floor  cityCenters_km  \n",
       "22590                2018         другой            14.0  \n",
       "5712                 2017         первый             NaN  \n",
       "16934                2017         другой            20.0  \n",
       "16884                2018      последний             NaN  \n",
       "4212                 2017         другой             NaN  \n",
       "11352                2017         другой            27.0  \n",
       "19329                2018         другой             NaN  \n",
       "20520                2018         другой             NaN  \n",
       "2572                 2018         другой             NaN  \n",
       "22960                2018         первый             NaN  \n",
       "\n",
       "[10 rows x 28 columns]"
      ]
     },
     "execution_count": 50,
     "metadata": {},
     "output_type": "execute_result"
    }
   ],
   "source": [
    "#проверка добавленных столбцов\n",
    "data.head(10)"
   ]
  },
  {
   "cell_type": "markdown",
   "metadata": {},
   "source": [
    "### Проведем исследовательский анализ данных"
   ]
  },
  {
   "cell_type": "code",
   "execution_count": 51,
   "metadata": {
    "scrolled": true
   },
   "outputs": [
    {
     "data": {
      "image/png": "[encoded data removed]",
      "text/plain": [
       "<Figure size 1080x1440 with 25 Axes>"
      ]
     },
     "metadata": {
      "needs_background": "light"
     },
     "output_type": "display_data"
    }
   ],
   "source": [
    "data.hist(figsize=(15, 20));"
   ]
  },
  {
   "cell_type": "markdown",
   "metadata": {},
   "source": [
    "Предварительный анализ полученных данных:\n",
    "\n",
    "**количество комнат**: преимущественно в продаже находились 1-2х комнатные квартиры, но при этом также выделяется сегмент 4х комнатных квартир;  \n",
    "**высота потолков**: средняя высота потолков не превышает 3х метров  \n",
    "**этаж квартиры**: больше предложений было квартир с 1-го по 5ый этаж, так как достаточно большой объем жилого фонда занимают именно 5-ти этажные дома, но также встречаются квартиры с более высоких этажей - вплотьт до 30, их кол-во плавно снижается по мере увеличения этажа;  \n",
    "**общее количество этажей в доме**: большой объем жилого фонда занимают именно 5-ти и 10-ти этажные дома;  \n",
    "**расстояние до ближайшего парка в метрах**: средняя удаленность до парка 500 м;  \n",
    "**день и месяц публикации объявления**: Большая часть публикаций объявлений приходится на будние дни. Декабрь и Январь - сезонные пики по кол-ву объявлений, с мая по август наблюдается более низкий сезон, тем не менее объем объявлений все равно сохраняется."
   ]
  },
  {
   "cell_type": "markdown",
   "metadata": {},
   "source": [
    "Рассмотрим подробнее следующие параметры: \n",
    "- last_price\n",
    "- price_1sqr_m\n",
    "- total_area\n",
    "- living_area\n",
    "- kitchen_area\n",
    "- first_day_exposition\n",
    "- airports_nearest\n",
    "- cityCenters_nearest"
   ]
  },
  {
   "cell_type": "code",
   "execution_count": 52,
   "metadata": {},
   "outputs": [
    {
     "data": {
      "image/png": "[encoded data removed]",
      "text/plain": [
       "<Figure size 1080x432 with 1 Axes>"
      ]
     },
     "metadata": {
      "needs_background": "light"
     },
     "output_type": "display_data"
    }
   ],
   "source": [
    "data['last_price'].hist(bins = 100, figsize=(15, 6));"
   ]
  },
  {
   "cell_type": "code",
   "execution_count": 53,
   "metadata": {},
   "outputs": [
    {
     "data": {
      "text/plain": [
       "count    2.313600e+04\n",
       "mean     5.916562e+06\n",
       "std      5.823602e+06\n",
       "min      4.300000e+05\n",
       "25%      3.400000e+06\n",
       "50%      4.600000e+06\n",
       "75%      6.650000e+06\n",
       "max      3.300000e+08\n",
       "Name: last_price, dtype: float64"
      ]
     },
     "execution_count": 53,
     "metadata": {},
     "output_type": "execute_result"
    }
   ],
   "source": [
    "data['last_price'].describe()"
   ]
  },
  {
   "cell_type": "markdown",
   "metadata": {},
   "source": [
    "**цена объекта**: средняя стоимость квартир 5,9 млн руб"
   ]
  },
  {
   "cell_type": "code",
   "execution_count": 54,
   "metadata": {
    "scrolled": true
   },
   "outputs": [
    {
     "data": {
      "image/png": "[encoded data removed]",
      "text/plain": [
       "<Figure size 1080x360 with 1 Axes>"
      ]
     },
     "metadata": {
      "needs_background": "light"
     },
     "output_type": "display_data"
    }
   ],
   "source": [
    "data['price_1sqr_m'].hist(bins = 100, figsize=(15, 5));"
   ]
  },
  {
   "cell_type": "code",
   "execution_count": 55,
   "metadata": {},
   "outputs": [
    {
     "data": {
      "text/plain": [
       "count    2.313600e+04\n",
       "mean     9.783244e+04\n",
       "std      4.421200e+04\n",
       "min      7.962000e+03\n",
       "25%      7.618800e+04\n",
       "50%      9.466500e+04\n",
       "75%      1.135530e+05\n",
       "max      1.736842e+06\n",
       "Name: price_1sqr_m, dtype: float64"
      ]
     },
     "execution_count": 55,
     "metadata": {},
     "output_type": "execute_result"
    }
   ],
   "source": [
    "data['price_1sqr_m'].describe()"
   ]
  },
  {
   "cell_type": "markdown",
   "metadata": {},
   "source": [
    "**цена за 1 кв м**: Средняя стоимость 97 000 руб"
   ]
  },
  {
   "cell_type": "code",
   "execution_count": 56,
   "metadata": {
    "scrolled": false
   },
   "outputs": [
    {
     "data": {
      "image/png": "[encoded data removed]",
      "text/plain": [
       "<Figure size 720x360 with 1 Axes>"
      ]
     },
     "metadata": {
      "needs_background": "light"
     },
     "output_type": "display_data"
    }
   ],
   "source": [
    "data['total_area'].hist(figsize=(10, 5));"
   ]
  },
  {
   "cell_type": "markdown",
   "metadata": {},
   "source": [
    "**общая площадь**: средняя площадь продаваемых квартир 40-60 м кв., преимущественно в продаже находились квартиры площадью до 90 м кв;"
   ]
  },
  {
   "cell_type": "code",
   "execution_count": 57,
   "metadata": {
    "scrolled": true
   },
   "outputs": [
    {
     "data": {
      "image/png": "[encoded data removed]",
      "text/plain": [
       "<Figure size 720x360 with 1 Axes>"
      ]
     },
     "metadata": {
      "needs_background": "light"
     },
     "output_type": "display_data"
    }
   ],
   "source": [
    "data['living_area'].hist(figsize=(10, 5));"
   ]
  },
  {
   "cell_type": "markdown",
   "metadata": {},
   "source": [
    "**жилая площадь**: средняя жилая площадь 25 м кв., преимущественно в продаже находились квартиры с жилой площадью до 55 м кв;"
   ]
  },
  {
   "cell_type": "code",
   "execution_count": 58,
   "metadata": {
    "scrolled": true
   },
   "outputs": [
    {
     "data": {
      "image/png": "[encoded data removed]",
      "text/plain": [
       "<Figure size 720x360 with 1 Axes>"
      ]
     },
     "metadata": {
      "needs_background": "light"
     },
     "output_type": "display_data"
    }
   ],
   "source": [
    "data['kitchen_area'].hist(figsize=(10, 5));"
   ]
  },
  {
   "cell_type": "markdown",
   "metadata": {},
   "source": [
    "**площадь кухни**: средняя площадь кухни 8-13 м кв., преимущественно в продаже находились квартиры с жилой площадью до 17 м кв;"
   ]
  },
  {
   "cell_type": "code",
   "execution_count": 59,
   "metadata": {
    "scrolled": true
   },
   "outputs": [
    {
     "data": {
      "image/png": "[encoded data removed]",
      "text/plain": [
       "<Figure size 1080x432 with 1 Axes>"
      ]
     },
     "metadata": {
      "needs_background": "light"
     },
     "output_type": "display_data"
    }
   ],
   "source": [
    "data['first_day_exposition'].hist(figsize=(15, 6));"
   ]
  },
  {
   "cell_type": "markdown",
   "metadata": {},
   "source": [
    "**дата публикации**: объем предложений на рынке увеличился в 2 раза от года к году."
   ]
  },
  {
   "cell_type": "code",
   "execution_count": 60,
   "metadata": {
    "scrolled": true
   },
   "outputs": [
    {
     "data": {
      "image/png": "[encoded data removed]",
      "text/plain": [
       "<Figure size 720x360 with 1 Axes>"
      ]
     },
     "metadata": {
      "needs_background": "light"
     },
     "output_type": "display_data"
    }
   ],
   "source": [
    "data['airports_nearest'].hist(figsize=(10, 5));"
   ]
  },
  {
   "cell_type": "markdown",
   "metadata": {},
   "source": [
    "**расстояние до ближайшего аэропорта в метрах**: средняя удаленность квартир 25-30 тыс м"
   ]
  },
  {
   "cell_type": "code",
   "execution_count": 61,
   "metadata": {},
   "outputs": [
    {
     "data": {
      "image/png": "[encoded data removed]",
      "text/plain": [
       "<Figure size 720x360 with 1 Axes>"
      ]
     },
     "metadata": {
      "needs_background": "light"
     },
     "output_type": "display_data"
    }
   ],
   "source": [
    "data['cityCenters_nearest'].hist(figsize=(10, 5));"
   ]
  },
  {
   "cell_type": "markdown",
   "metadata": {},
   "source": [
    "**расстояние до центра города в метрах**: средняя удаленность квартир 10-20 тыс м;"
   ]
  },
  {
   "cell_type": "code",
   "execution_count": 62,
   "metadata": {},
   "outputs": [
    {
     "data": {
      "text/plain": [
       "<AxesSubplot:>"
      ]
     },
     "execution_count": 62,
     "metadata": {},
     "output_type": "execute_result"
    },
    {
     "data": {
      "image/png": "[encoded data removed]",
      "text/plain": [
       "<Figure size 432x288 with 1 Axes>"
      ]
     },
     "metadata": {
      "needs_background": "light"
     },
     "output_type": "display_data"
    }
   ],
   "source": [
    "type_of_floor_count = data['type_of_floor'].value_counts()\n",
    "type_of_floor_count.plot.bar(x = 'type_of_floor', y = type_of_floor_count)"
   ]
  },
  {
   "cell_type": "markdown",
   "metadata": {},
   "source": [
    "**тип этажа квартиры («первый», «последний», «другой»)**: кол-во предложений по первым и последним этажам в 8 раз меньше, чем других этажей;"
   ]
  },
  {
   "cell_type": "markdown",
   "metadata": {},
   "source": [
    "**Предварительный анализ полученных данных**:  \n",
    "- общая площадь: средняя площадь продаваемых квартир 40-60 м кв., преимущественно в продаже находились квартиры площадью до 90 м кв;\n",
    "- жилая площадь: средняя жилая площадь 25 м кв., преимущественно в продаже находились квартиры с жилой площадью до 55 м кв;\n",
    "- площадь кухни: средняя площадь кухни 8-13 м кв., преимущественно в продаже находились квартиры с жилой площадью до 17 м кв;\n",
    "- цена объекта: средняя стоимость квартир 5,9 млн руб\n",
    "- количество комнат: преимущественно в продаже находились 1-2х комнатные квартиры, но при этом также выделяется сегмент 4х комнатных квартир;\n",
    "- высота потолков: средняя высота потолков не превышает 3х метров\n",
    "- этаж квартиры: больше предложений было квартир с 1-го по 5ый этаж, так как достаточно большой объем жилого фонда занимают именно 5-ти этажные дома, но также встречаются квартиры с более высоких этажей - вплотьт до 30, их кол-во плавно снижается по мере увеличения этажа;\n",
    "- тип этажа квартиры («первый», «последний», «другой»): кол-во предложений по первым и последним этажам в 8 раз меньше, чем других этажей;\n",
    "- общее количество этажей в доме: большой объем жилого фонда занимают именно 5-ти и 10-ти этажные дома;\n",
    "- расстояние до центра города в метрах: средняя удаленность квартир 10-20 тыс м;\n",
    "- расстояние до ближайшего аэропорта в метрах: средняя удаленность квартир 25-30 тыс м;\n",
    "- расстояние до ближайшего парка в метрах: средняя удаленность до парка 500 м;\n",
    "- день и месяц публикации объявления: Большая часть публикаций объявлений приходится на будние дни. Декабрь и Январь - сезонные пики по кол-ву объявлений, с мая по август наблюдается более низкий сезон, тем не менее объем объявлений все равно сохраняется."
   ]
  },
  {
   "cell_type": "code",
   "execution_count": 64,
   "metadata": {},
   "outputs": [
    {
     "data": {
      "text/plain": [
       "95.0"
      ]
     },
     "execution_count": 64,
     "metadata": {},
     "output_type": "execute_result"
    }
   ],
   "source": [
    "data['days_exposition'].sort_values().median()"
   ]
  },
  {
   "cell_type": "code",
   "execution_count": 65,
   "metadata": {},
   "outputs": [
    {
     "data": {
      "text/plain": [
       "179.82295457944858"
      ]
     },
     "execution_count": 65,
     "metadata": {},
     "output_type": "execute_result"
    }
   ],
   "source": [
    "data['days_exposition'].mean()"
   ]
  },
  {
   "cell_type": "markdown",
   "metadata": {},
   "source": [
    "Средняя скорость продажи квартиры составляет полгода - большая часть квартир продается в течении этого периода.  \n",
    "\n",
    "Относительно быстрой можно считать продажу квартиры за период до 50 дней.\n",
    "При этом есть квартиры, которые подолгу не находят покупателя - объявления остаются активны до 4х лет."
   ]
  },
  {
   "cell_type": "code",
   "execution_count": 66,
   "metadata": {},
   "outputs": [
    {
     "data": {
      "image/png": "[encoded data removed]",
      "text/plain": [
       "<Figure size 432x288 with 1 Axes>"
      ]
     },
     "metadata": {
      "needs_background": "light"
     },
     "output_type": "display_data"
    }
   ],
   "source": [
    "data.pivot_table(index='total_area', values='last_price', aggfunc='median').\\\n",
    "plot(style='o-', title='Зависимость цены от общей площади');"
   ]
  },
  {
   "cell_type": "code",
   "execution_count": 67,
   "metadata": {},
   "outputs": [
    {
     "data": {
      "text/plain": [
       "0.6556729607825406"
      ]
     },
     "execution_count": 67,
     "metadata": {},
     "output_type": "execute_result"
    }
   ],
   "source": [
    "data['total_area'].corr(data['last_price'])"
   ]
  },
  {
   "cell_type": "markdown",
   "metadata": {},
   "source": [
    "Общая площадь до определенного метража имеет прямое влияние на рост стоимости объекта: до метража 150 м кв. Однако, по мере роста площади, стоимость становится нестабильной, вероятно, влияние дополнительных факторов."
   ]
  },
  {
   "cell_type": "code",
   "execution_count": 68,
   "metadata": {},
   "outputs": [
    {
     "data": {
      "image/png": "[encoded data removed]",
      "text/plain": [
       "<Figure size 432x288 with 1 Axes>"
      ]
     },
     "metadata": {
      "needs_background": "light"
     },
     "output_type": "display_data"
    }
   ],
   "source": [
    "data.pivot_table(index='living_area', values='last_price', aggfunc='median').\\\n",
    "plot(style='o-', title='Зависимость цены от жилой площади');"
   ]
  },
  {
   "cell_type": "code",
   "execution_count": 69,
   "metadata": {},
   "outputs": [
    {
     "data": {
      "text/plain": [
       "0.5363845868934528"
      ]
     },
     "execution_count": 69,
     "metadata": {},
     "output_type": "execute_result"
    }
   ],
   "source": [
    "data['living_area'].corr(data['last_price'])"
   ]
  },
  {
   "cell_type": "markdown",
   "metadata": {},
   "source": [
    "Жилая площадь до 70 м кв влияет на рост стоимости объекта. Однако, по мере роста площади, стоимость становится нестабильной так как на ее формирование накладываются дополнительные факторы."
   ]
  },
  {
   "cell_type": "code",
   "execution_count": 70,
   "metadata": {},
   "outputs": [
    {
     "data": {
      "image/png": "[encoded data removed]",
      "text/plain": [
       "<Figure size 432x288 with 1 Axes>"
      ]
     },
     "metadata": {
      "needs_background": "light"
     },
     "output_type": "display_data"
    }
   ],
   "source": [
    "data.pivot_table(index='kitchen_area', values='last_price', aggfunc='median').\\\n",
    "plot(style='o-', title='Зависимость цены от площади кухни');"
   ]
  },
  {
   "cell_type": "code",
   "execution_count": 71,
   "metadata": {},
   "outputs": [
    {
     "data": {
      "text/plain": [
       "0.4921394513962507"
      ]
     },
     "execution_count": 71,
     "metadata": {},
     "output_type": "execute_result"
    }
   ],
   "source": [
    "data['kitchen_area'].corr(data['last_price'])"
   ]
  },
  {
   "cell_type": "markdown",
   "metadata": {},
   "source": [
    "Площадь кухни имеет более низкую корреляцию на рост стоимости, вероятней влияние общей и жилой площадей."
   ]
  },
  {
   "cell_type": "code",
   "execution_count": 72,
   "metadata": {},
   "outputs": [
    {
     "data": {
      "image/png": "[encoded data removed]",
      "text/plain": [
       "<Figure size 432x288 with 1 Axes>"
      ]
     },
     "metadata": {
      "needs_background": "light"
     },
     "output_type": "display_data"
    }
   ],
   "source": [
    "data.pivot_table(index='rooms', values='last_price', aggfunc='median').\\\n",
    "plot(style='o-', title='Зависимость цены от количества комнат');"
   ]
  },
  {
   "cell_type": "code",
   "execution_count": 73,
   "metadata": {},
   "outputs": [
    {
     "data": {
      "text/plain": [
       "0.37987980891204254"
      ]
     },
     "execution_count": 73,
     "metadata": {},
     "output_type": "execute_result"
    }
   ],
   "source": [
    "data['rooms'].corr(data['last_price'])"
   ]
  },
  {
   "cell_type": "markdown",
   "metadata": {},
   "source": [
    "Количество комнат также напрямую влияет на рост стоимости, причем, начиная с 4х комнатных квартир каждая комната добавляет почти 50% к стоимости объекта."
   ]
  },
  {
   "cell_type": "code",
   "execution_count": 75,
   "metadata": {
    "scrolled": true
   },
   "outputs": [
    {
     "data": {
      "image/png": "[encoded data removed]",
      "text/plain": [
       "<Figure size 432x288 with 1 Axes>"
      ]
     },
     "metadata": {
      "needs_background": "light"
     },
     "output_type": "display_data"
    }
   ],
   "source": [
    "data.pivot_table(index='type_of_floor', values='last_price', aggfunc='median').\\\n",
    "plot(style='o-', title='Зависимость цены от этажа');"
   ]
  },
  {
   "cell_type": "markdown",
   "metadata": {},
   "source": [
    "Этаж, на котором расположена квартира (первый, последний, другой) существенно влияет на стоимость: первый этаж наиболее низкий по стоимости."
   ]
  },
  {
   "cell_type": "code",
   "execution_count": 76,
   "metadata": {},
   "outputs": [
    {
     "data": {
      "image/png": "[encoded data removed]",
      "text/plain": [
       "<Figure size 432x288 with 1 Axes>"
      ]
     },
     "metadata": {
      "needs_background": "light"
     },
     "output_type": "display_data"
    }
   ],
   "source": [
    "data.pivot_table(index='day_of_exposition', values='last_price', aggfunc='median').\\\n",
    "plot(style='o-', title='Зависимость цены от дня размещения');"
   ]
  },
  {
   "cell_type": "markdown",
   "metadata": {},
   "source": [
    "В начале недели публикуются объявления с наиболее высокой стоимостью, ближе к концу недели ниже."
   ]
  },
  {
   "cell_type": "code",
   "execution_count": 77,
   "metadata": {},
   "outputs": [
    {
     "data": {
      "image/png": "[encoded data removed]",
      "text/plain": [
       "<Figure size 432x288 with 1 Axes>"
      ]
     },
     "metadata": {
      "needs_background": "light"
     },
     "output_type": "display_data"
    }
   ],
   "source": [
    "data.pivot_table(index='month_of_exposition', values='last_price', aggfunc='median').\\\n",
    "plot(style='o-', title='Зависимость цены от месяца размещения');"
   ]
  },
  {
   "cell_type": "code",
   "execution_count": 78,
   "metadata": {
    "scrolled": true
   },
   "outputs": [
    {
     "data": {
      "image/png": "[encoded data removed]",
      "text/plain": [
       "<Figure size 432x288 with 1 Axes>"
      ]
     },
     "metadata": {
      "needs_background": "light"
     },
     "output_type": "display_data"
    }
   ],
   "source": [
    "data.pivot_table(index='year_of_exposition', values='last_price', aggfunc='median').\\\n",
    "plot(style='o-', title='Динамика полной стоимости от года размещения');"
   ]
  },
  {
   "cell_type": "code",
   "execution_count": 79,
   "metadata": {},
   "outputs": [
    {
     "data": {
      "image/png": "[encoded data removed]",
      "text/plain": [
       "<Figure size 432x288 with 1 Axes>"
      ]
     },
     "metadata": {
      "needs_background": "light"
     },
     "output_type": "display_data"
    }
   ],
   "source": [
    "data.pivot_table(index='year_of_exposition', values='price_1sqr_m', aggfunc='median').\\\n",
    "plot(style='o-', title='Динамика стоимости 1 кв м');"
   ]
  },
  {
   "cell_type": "code",
   "execution_count": 80,
   "metadata": {},
   "outputs": [
    {
     "data": {
      "image/png": "[encoded data removed]",
      "text/plain": [
       "<Figure size 432x288 with 1 Axes>"
      ]
     },
     "metadata": {
      "needs_background": "light"
     },
     "output_type": "display_data"
    }
   ],
   "source": [
    "data.pivot_table(index='year_of_exposition', values='total_area', aggfunc='median').\\\n",
    "plot(style='o-', title='Динамика изменения площади');"
   ]
  },
  {
   "cell_type": "markdown",
   "metadata": {},
   "source": [
    "С 2014 по 2017 г наблюдалось снижение общей стоимости недвижимости, но с 2018г цены начали расти. \n",
    "\n",
    "При этом заметен рост цена за 1 кв м. с 2018г при сокращающейся общей площади квартир на рынке."
   ]
  },
  {
   "cell_type": "markdown",
   "metadata": {},
   "source": [
    "Итого в результате анализа влияния различных факторов на стоимость объекта, можно прийти к следующим выводам:\n",
    "\n",
    "- Площадь до определенного метража имеет прямое влияние на рост стоимости объекта (общая площадь до метража 150 м кв, жилая площадь до 70 м кв, площадь кухни до 13 м кв). Однако, по мере роста площади, стоимость становится нестабильной так как на ее формирование накладываются дополнительные факторы. \n",
    "\n",
    "- Количество комнат также напрямую влияет на рост стоимости, причем, начиная с 4х комнатных квартир каждая комната добавляет почти 50% к стоимости объекта.\n",
    "\n",
    "- этаж, на котором расположена квартира (первый, последний, другой) существенно влияет на стоимость: первый этаж наиболее низкий по стоимости.\n",
    "\n",
    "- дата размещения: день недели, месяц, год. В начале недели публикуются объявления с наиболее высокой стоимостью, ближе к концу недели ниже, но данная зависимость неоднозначна. В течении года наблюдается сезональность: летом цены на жилье падают. Также годы публикаци объявлений влияют на стоимость в соответствии с положением на рынке недвижимости и экономики в целом: с 2019г намечается динамика на рост, при этом площадь квартир от года к году сокращается."
   ]
  },
  {
   "cell_type": "code",
   "execution_count": 81,
   "metadata": {
    "scrolled": true
   },
   "outputs": [
    {
     "data": {
      "text/plain": [
       "Санкт-Петербург      15262\n",
       "Мурино                 552\n",
       "поселок Шушары         439\n",
       "Всеволожск             396\n",
       "Пушкин                 358\n",
       "Колпино                336\n",
       "поселок Парголово      326\n",
       "Гатчина                307\n",
       "деревня Кудрово        287\n",
       "Выборг                 237\n",
       "Name: locality_name, dtype: int64"
      ]
     },
     "execution_count": 81,
     "metadata": {},
     "output_type": "execute_result"
    }
   ],
   "source": [
    "top_geo = data['locality_name'].value_counts().head(10)\n",
    "top_geo.head(10)"
   ]
  },
  {
   "cell_type": "code",
   "execution_count": 82,
   "metadata": {},
   "outputs": [
    {
     "data": {
      "text/plain": [
       "locality_name\n",
       "поселок Репино             1.253333e+07\n",
       "поселок Александровская    8.725000e+06\n",
       "Санкт-Петербург            7.158664e+06\n",
       "не указан                  6.528980e+06\n",
       "Сестрорецк                 6.290028e+06\n",
       "Зеленогорск                6.288338e+06\n",
       "Пушкин                     5.983148e+06\n",
       "Павловск                   4.929711e+06\n",
       "деревня Заневка            4.781500e+06\n",
       "деревня Мистолово          4.770114e+06\n",
       "деревня Глинка             4.750000e+06\n",
       "Name: last_price, dtype: float64"
      ]
     },
     "metadata": {},
     "output_type": "display_data"
    }
   ],
   "source": [
    "top_geo = data.groupby('locality_name')['last_price'].mean()\n",
    "top_geo = top_geo.sort_values(ascending=False).head(11)\n",
    "display (top_geo)"
   ]
  },
  {
   "cell_type": "code",
   "execution_count": 83,
   "metadata": {},
   "outputs": [
    {
     "data": {
      "image/png": "[encoded data removed]",
      "text/plain": [
       "<Figure size 1080x216 with 1 Axes>"
      ]
     },
     "metadata": {
      "needs_background": "light"
     },
     "output_type": "display_data"
    }
   ],
   "source": [
    "top_geo.plot(kind = 'bar', figsize = (15,3), title = 'Средняя стоимость по Топ-10 локаций',\\\n",
    "             xlabel='Населенные пункты', ylabel='Средняя стоимость', rot=45);\n"
   ]
  },
  {
   "cell_type": "markdown",
   "metadata": {},
   "source": [
    "Наиболее высокая средняя стоимость за 1 кв м в 3х населенный пунктах: Поселк Репино, Зеленогорск, Санкт-Петербург. Самая низкая стоимость в деревне Кудрово."
   ]
  },
  {
   "cell_type": "code",
   "execution_count": 84,
   "metadata": {},
   "outputs": [
    {
     "data": {
      "image/png": "[encoded data removed]",
      "text/plain": [
       "<Figure size 1080x216 with 1 Axes>"
      ]
     },
     "metadata": {
      "needs_background": "light"
     },
     "output_type": "display_data"
    }
   ],
   "source": [
    "spb_data = data.query('locality_name == \"Санкт-Петербург\"')\n",
    "spb_data = spb_data.pivot_table(index='cityCenters_km', values='price_1sqr_m', aggfunc='mean')\n",
    "\n",
    "spb_data.plot(kind = 'bar', figsize = (15,3), title = 'Зависимость стоимости обьекта от расстояния до центра города',\\\n",
    "              xlabel='Расстояние до центра, км', ylabel='Средняя стоимость за 1 кв м в зависимости от удаленности от центра');\n"
   ]
  },
  {
   "cell_type": "code",
   "execution_count": 85,
   "metadata": {},
   "outputs": [
    {
     "data": {
      "text/html": [
       "<div>\n",
       "<style scoped>\n",
       "    .dataframe tbody tr th:only-of-type {\n",
       "        vertical-align: middle;\n",
       "    }\n",
       "\n",
       "    .dataframe tbody tr th {\n",
       "        vertical-align: top;\n",
       "    }\n",
       "\n",
       "    .dataframe thead th {\n",
       "        text-align: right;\n",
       "    }\n",
       "</style>\n",
       "<table border=\"1\" class=\"dataframe\">\n",
       "  <thead>\n",
       "    <tr style=\"text-align: right;\">\n",
       "      <th></th>\n",
       "      <th>price_1sqr_m</th>\n",
       "    </tr>\n",
       "    <tr>\n",
       "      <th>cityCenters_km</th>\n",
       "      <th></th>\n",
       "    </tr>\n",
       "  </thead>\n",
       "  <tbody>\n",
       "    <tr>\n",
       "      <th>0.0</th>\n",
       "      <td>208887.095238</td>\n",
       "    </tr>\n",
       "    <tr>\n",
       "      <th>1.0</th>\n",
       "      <td>162784.708333</td>\n",
       "    </tr>\n",
       "    <tr>\n",
       "      <th>2.0</th>\n",
       "      <td>150599.427007</td>\n",
       "    </tr>\n",
       "    <tr>\n",
       "      <th>3.0</th>\n",
       "      <td>120823.401813</td>\n",
       "    </tr>\n",
       "    <tr>\n",
       "      <th>4.0</th>\n",
       "      <td>127468.077280</td>\n",
       "    </tr>\n",
       "    <tr>\n",
       "      <th>5.0</th>\n",
       "      <td>136330.586288</td>\n",
       "    </tr>\n",
       "    <tr>\n",
       "      <th>6.0</th>\n",
       "      <td>142758.129433</td>\n",
       "    </tr>\n",
       "    <tr>\n",
       "      <th>7.0</th>\n",
       "      <td>151392.772727</td>\n",
       "    </tr>\n",
       "    <tr>\n",
       "      <th>8.0</th>\n",
       "      <td>124197.041451</td>\n",
       "    </tr>\n",
       "    <tr>\n",
       "      <th>9.0</th>\n",
       "      <td>113030.928082</td>\n",
       "    </tr>\n",
       "    <tr>\n",
       "      <th>10.0</th>\n",
       "      <td>112911.870056</td>\n",
       "    </tr>\n",
       "    <tr>\n",
       "      <th>11.0</th>\n",
       "      <td>108328.527491</td>\n",
       "    </tr>\n",
       "    <tr>\n",
       "      <th>12.0</th>\n",
       "      <td>108789.821168</td>\n",
       "    </tr>\n",
       "    <tr>\n",
       "      <th>13.0</th>\n",
       "      <td>108046.861997</td>\n",
       "    </tr>\n",
       "    <tr>\n",
       "      <th>14.0</th>\n",
       "      <td>103982.360474</td>\n",
       "    </tr>\n",
       "    <tr>\n",
       "      <th>15.0</th>\n",
       "      <td>103848.609598</td>\n",
       "    </tr>\n",
       "    <tr>\n",
       "      <th>16.0</th>\n",
       "      <td>100367.181021</td>\n",
       "    </tr>\n",
       "    <tr>\n",
       "      <th>17.0</th>\n",
       "      <td>96424.954076</td>\n",
       "    </tr>\n",
       "    <tr>\n",
       "      <th>18.0</th>\n",
       "      <td>96609.202335</td>\n",
       "    </tr>\n",
       "    <tr>\n",
       "      <th>19.0</th>\n",
       "      <td>98537.877419</td>\n",
       "    </tr>\n",
       "    <tr>\n",
       "      <th>20.0</th>\n",
       "      <td>102293.375000</td>\n",
       "    </tr>\n",
       "    <tr>\n",
       "      <th>21.0</th>\n",
       "      <td>94469.136752</td>\n",
       "    </tr>\n",
       "    <tr>\n",
       "      <th>22.0</th>\n",
       "      <td>91329.965347</td>\n",
       "    </tr>\n",
       "    <tr>\n",
       "      <th>23.0</th>\n",
       "      <td>91387.963415</td>\n",
       "    </tr>\n",
       "    <tr>\n",
       "      <th>24.0</th>\n",
       "      <td>85403.916667</td>\n",
       "    </tr>\n",
       "    <tr>\n",
       "      <th>25.0</th>\n",
       "      <td>91476.280000</td>\n",
       "    </tr>\n",
       "    <tr>\n",
       "      <th>26.0</th>\n",
       "      <td>86639.864865</td>\n",
       "    </tr>\n",
       "    <tr>\n",
       "      <th>27.0</th>\n",
       "      <td>132115.000000</td>\n",
       "    </tr>\n",
       "    <tr>\n",
       "      <th>28.0</th>\n",
       "      <td>81161.571429</td>\n",
       "    </tr>\n",
       "    <tr>\n",
       "      <th>29.0</th>\n",
       "      <td>72952.666667</td>\n",
       "    </tr>\n",
       "  </tbody>\n",
       "</table>\n",
       "</div>"
      ],
      "text/plain": [
       "                 price_1sqr_m\n",
       "cityCenters_km               \n",
       "0.0             208887.095238\n",
       "1.0             162784.708333\n",
       "2.0             150599.427007\n",
       "3.0             120823.401813\n",
       "4.0             127468.077280\n",
       "5.0             136330.586288\n",
       "6.0             142758.129433\n",
       "7.0             151392.772727\n",
       "8.0             124197.041451\n",
       "9.0             113030.928082\n",
       "10.0            112911.870056\n",
       "11.0            108328.527491\n",
       "12.0            108789.821168\n",
       "13.0            108046.861997\n",
       "14.0            103982.360474\n",
       "15.0            103848.609598\n",
       "16.0            100367.181021\n",
       "17.0             96424.954076\n",
       "18.0             96609.202335\n",
       "19.0             98537.877419\n",
       "20.0            102293.375000\n",
       "21.0             94469.136752\n",
       "22.0             91329.965347\n",
       "23.0             91387.963415\n",
       "24.0             85403.916667\n",
       "25.0             91476.280000\n",
       "26.0             86639.864865\n",
       "27.0            132115.000000\n",
       "28.0             81161.571429\n",
       "29.0             72952.666667"
      ]
     },
     "metadata": {},
     "output_type": "display_data"
    }
   ],
   "source": [
    "display(spb_data)"
   ]
  },
  {
   "cell_type": "markdown",
   "metadata": {},
   "source": [
    "Для квартир в Санкт-Петербурге также можно выделить зависимость стоимости 1 кв м жилья от удаленности от центра города: \n",
    "квартиры ближе к центру имеют более высокую стоимость за 1 кв м. "
   ]
  },
  {
   "cell_type": "markdown",
   "metadata": {},
   "source": [
    "### Общий вывод"
   ]
  },
  {
   "cell_type": "markdown",
   "metadata": {},
   "source": [
    "Была проведена предобработка данных по всем параметрам базы данных с целью исключить дубликаты, пропуски и прочие ошибки:\n",
    "\n",
    "\n",
    "\n",
    "Анализ данных выявил несколько факторов, влияющих на формирование стоимости объектов жилья:\n",
    "- площадь помещения\n",
    "- период публикации объявления\n",
    "- кол-во комнат\n",
    "- тип этажа квартиры\n",
    "    \n",
    "*Площадь помещения*:\n",
    "\n",
    "\n",
    "    Площадь до определенного метража имеет прямое влияние на рост стоимости объекта (общая площадь до метража 150 м кв, жилая площадь до 70 м кв, площадь кухни до 13 м кв). Однако, по мере роста площади, стоимость становится нестабильной так как на ее формирование накладываются дополнительные факторы.\n",
    "\n",
    "*Период публикации объявления*:\n",
    "\n",
    "\n",
    "    Декабрь и Январь - сезонные пики по кол-ву объявлений, с мая по август наблюдается более низкий сезон - цены на жилья     снижаются.\n",
    "    В начале недели публикуются объявления с наиболее высокой стоимостью. \n",
    "    Также годы публикаци объявлений влияют на стоимость в соответствии с положением на рынке недвижимости и экономики в целом: с 2019г намечается динамика на рост, при этом площадь квартир от года к году сокращается.\n",
    "        \n",
    "*Кол-во комнат*:\n",
    "\n",
    "\n",
    "    Количество комнат также напрямую влияет на рост стоимости, причем, начиная с 4х комнатных квартир каждая комната добавляет почти 50% к стоимости объекта.\n",
    "\n",
    "*Тип этажа квартиры*:\n",
    "\n",
    "\n",
    "    Этаж, на котором расположена квартира (первый, последний, другой) существенно влияет на стоимость: первый этаж наиболее низкий по стоимости.\n",
    "\n",
    "   \n",
    "Для квартир в Санкт-Петербурге также можно выделить зависимость стоимости 1 кв м жилья от удаленности от центра города: \n",
    "квартиры ближе к центру имеют более высокую стоимость за 1 кв м. \n"
   ]
  }
 ],
 "metadata": {
  "ExecuteTimeLog": [
   {
    "duration": 9,
    "start_time": "2022-07-20T08:14:54.080Z"
   },
   {
    "duration": 831,
    "start_time": "2022-07-20T08:15:12.703Z"
   },
   {
    "duration": 33,
    "start_time": "2022-07-20T08:16:13.457Z"
   },
   {
    "duration": 23,
    "start_time": "2022-07-20T08:16:50.286Z"
   },
   {
    "duration": 906,
    "start_time": "2022-07-20T08:18:14.689Z"
   },
   {
    "duration": 112,
    "start_time": "2022-07-20T08:23:54.880Z"
   },
   {
    "duration": 34,
    "start_time": "2022-07-20T08:24:09.190Z"
   },
   {
    "duration": 39,
    "start_time": "2022-07-20T08:24:22.170Z"
   },
   {
    "duration": 1959,
    "start_time": "2022-07-20T08:24:26.633Z"
   },
   {
    "duration": 12,
    "start_time": "2022-07-20T08:30:43.286Z"
   },
   {
    "duration": 13,
    "start_time": "2022-07-20T08:46:55.332Z"
   },
   {
    "duration": 14,
    "start_time": "2022-07-20T08:47:00.733Z"
   },
   {
    "duration": 28,
    "start_time": "2022-07-20T08:48:09.063Z"
   },
   {
    "duration": 10,
    "start_time": "2022-07-20T08:50:05.512Z"
   },
   {
    "duration": 11,
    "start_time": "2022-07-20T08:50:10.490Z"
   },
   {
    "duration": 112,
    "start_time": "2022-07-20T08:52:02.336Z"
   },
   {
    "duration": 39,
    "start_time": "2022-07-20T08:52:02.451Z"
   },
   {
    "duration": 2154,
    "start_time": "2022-07-20T08:52:02.491Z"
   },
   {
    "duration": 21,
    "start_time": "2022-07-20T08:52:04.647Z"
   },
   {
    "duration": 15,
    "start_time": "2022-07-20T08:52:04.675Z"
   },
   {
    "duration": 19,
    "start_time": "2022-07-20T08:52:14.056Z"
   },
   {
    "duration": 16,
    "start_time": "2022-07-20T08:52:18.136Z"
   },
   {
    "duration": 22,
    "start_time": "2022-07-20T08:52:21.170Z"
   },
   {
    "duration": 10,
    "start_time": "2022-07-20T08:54:04.783Z"
   },
   {
    "duration": 12,
    "start_time": "2022-07-20T08:54:08.176Z"
   },
   {
    "duration": 9,
    "start_time": "2022-07-20T08:54:17.098Z"
   },
   {
    "duration": 10,
    "start_time": "2022-07-20T08:54:21.691Z"
   },
   {
    "duration": 8,
    "start_time": "2022-07-20T08:56:52.192Z"
   },
   {
    "duration": 10,
    "start_time": "2022-07-20T08:56:56.703Z"
   },
   {
    "duration": 131,
    "start_time": "2022-07-20T08:57:09.626Z"
   },
   {
    "duration": 31,
    "start_time": "2022-07-20T08:57:09.784Z"
   },
   {
    "duration": 2105,
    "start_time": "2022-07-20T08:57:09.823Z"
   },
   {
    "duration": 10,
    "start_time": "2022-07-20T08:57:11.930Z"
   },
   {
    "duration": 27,
    "start_time": "2022-07-20T08:57:11.942Z"
   },
   {
    "duration": 17,
    "start_time": "2022-07-20T09:07:50.717Z"
   },
   {
    "duration": 6,
    "start_time": "2022-07-20T09:10:54.978Z"
   },
   {
    "duration": 108,
    "start_time": "2022-07-20T09:11:30.229Z"
   },
   {
    "duration": 51,
    "start_time": "2022-07-20T09:11:30.338Z"
   },
   {
    "duration": 2123,
    "start_time": "2022-07-20T09:11:30.392Z"
   },
   {
    "duration": 17,
    "start_time": "2022-07-20T09:11:32.518Z"
   },
   {
    "duration": 42,
    "start_time": "2022-07-20T09:11:32.538Z"
   },
   {
    "duration": 11,
    "start_time": "2022-07-20T09:11:32.584Z"
   },
   {
    "duration": 37,
    "start_time": "2022-07-20T09:11:32.601Z"
   },
   {
    "duration": 15,
    "start_time": "2022-07-20T09:12:43.153Z"
   },
   {
    "duration": 7,
    "start_time": "2022-07-20T11:43:28.552Z"
   },
   {
    "duration": 85,
    "start_time": "2022-07-20T13:44:06.058Z"
   },
   {
    "duration": 11,
    "start_time": "2022-07-20T13:44:14.935Z"
   },
   {
    "duration": 7,
    "start_time": "2022-07-20T13:44:22.338Z"
   },
   {
    "duration": 9,
    "start_time": "2022-07-20T13:45:22.411Z"
   },
   {
    "duration": 16,
    "start_time": "2022-07-20T13:45:34.064Z"
   },
   {
    "duration": 8,
    "start_time": "2022-07-20T13:51:11.184Z"
   },
   {
    "duration": 20,
    "start_time": "2022-07-20T13:51:33.304Z"
   },
   {
    "duration": 9,
    "start_time": "2022-07-20T13:51:52.817Z"
   },
   {
    "duration": 19,
    "start_time": "2022-07-20T13:55:23.082Z"
   },
   {
    "duration": 5,
    "start_time": "2022-07-20T14:01:18.586Z"
   },
   {
    "duration": 25,
    "start_time": "2022-07-20T16:14:50.263Z"
   },
   {
    "duration": 7,
    "start_time": "2022-07-20T16:16:00.416Z"
   },
   {
    "duration": 21,
    "start_time": "2022-07-20T16:16:12.594Z"
   },
   {
    "duration": 110,
    "start_time": "2022-07-20T16:16:51.153Z"
   },
   {
    "duration": 43,
    "start_time": "2022-07-20T16:16:51.266Z"
   },
   {
    "duration": 2207,
    "start_time": "2022-07-20T16:16:51.311Z"
   },
   {
    "duration": 14,
    "start_time": "2022-07-20T16:16:53.521Z"
   },
   {
    "duration": 26,
    "start_time": "2022-07-20T16:16:53.538Z"
   },
   {
    "duration": 29,
    "start_time": "2022-07-20T16:16:53.567Z"
   },
   {
    "duration": 14,
    "start_time": "2022-07-20T16:16:53.598Z"
   },
   {
    "duration": 6,
    "start_time": "2022-07-20T16:16:53.613Z"
   },
   {
    "duration": 7,
    "start_time": "2022-07-20T16:16:53.621Z"
   },
   {
    "duration": 33,
    "start_time": "2022-07-20T16:27:50.492Z"
   },
   {
    "duration": 50,
    "start_time": "2022-07-20T16:33:29.951Z"
   },
   {
    "duration": 10,
    "start_time": "2022-07-20T16:33:53.990Z"
   },
   {
    "duration": 5,
    "start_time": "2022-07-20T16:46:30.245Z"
   },
   {
    "duration": 45,
    "start_time": "2022-07-21T10:59:16.140Z"
   },
   {
    "duration": 1170,
    "start_time": "2022-07-21T10:59:28.396Z"
   },
   {
    "duration": 47,
    "start_time": "2022-07-21T10:59:29.568Z"
   },
   {
    "duration": 2323,
    "start_time": "2022-07-21T10:59:29.617Z"
   },
   {
    "duration": 8,
    "start_time": "2022-07-21T10:59:31.943Z"
   },
   {
    "duration": 20,
    "start_time": "2022-07-21T10:59:31.952Z"
   },
   {
    "duration": 11,
    "start_time": "2022-07-21T10:59:31.974Z"
   },
   {
    "duration": 25,
    "start_time": "2022-07-21T10:59:31.986Z"
   },
   {
    "duration": 8,
    "start_time": "2022-07-21T10:59:32.013Z"
   },
   {
    "duration": 14,
    "start_time": "2022-07-21T10:59:32.022Z"
   },
   {
    "duration": 53,
    "start_time": "2022-07-21T10:59:32.038Z"
   },
   {
    "duration": 50,
    "start_time": "2022-07-21T10:59:32.093Z"
   },
   {
    "duration": 71,
    "start_time": "2022-07-21T10:59:32.144Z"
   },
   {
    "duration": 7,
    "start_time": "2022-07-21T11:00:27.196Z"
   },
   {
    "duration": 12,
    "start_time": "2022-07-21T11:00:33.077Z"
   },
   {
    "duration": 5,
    "start_time": "2022-07-21T11:01:11.882Z"
   },
   {
    "duration": 4,
    "start_time": "2022-07-21T11:07:38.636Z"
   },
   {
    "duration": 106,
    "start_time": "2022-07-21T11:08:10.918Z"
   },
   {
    "duration": 30,
    "start_time": "2022-07-21T11:08:11.026Z"
   },
   {
    "duration": 1919,
    "start_time": "2022-07-21T11:08:11.058Z"
   },
   {
    "duration": 10,
    "start_time": "2022-07-21T11:08:12.980Z"
   },
   {
    "duration": 11,
    "start_time": "2022-07-21T11:08:13.012Z"
   },
   {
    "duration": 21,
    "start_time": "2022-07-21T11:08:13.025Z"
   },
   {
    "duration": 13,
    "start_time": "2022-07-21T11:08:13.048Z"
   },
   {
    "duration": 6,
    "start_time": "2022-07-21T11:08:13.063Z"
   },
   {
    "duration": 6,
    "start_time": "2022-07-21T11:08:13.071Z"
   },
   {
    "duration": 37,
    "start_time": "2022-07-21T11:08:13.080Z"
   },
   {
    "duration": 7,
    "start_time": "2022-07-21T11:08:13.119Z"
   },
   {
    "duration": 4,
    "start_time": "2022-07-21T11:08:20.830Z"
   },
   {
    "duration": 4,
    "start_time": "2022-07-21T11:10:31.454Z"
   },
   {
    "duration": 5,
    "start_time": "2022-07-21T11:12:09.515Z"
   },
   {
    "duration": 6,
    "start_time": "2022-07-21T11:12:19.295Z"
   },
   {
    "duration": 4,
    "start_time": "2022-07-21T11:14:30.508Z"
   },
   {
    "duration": 4,
    "start_time": "2022-07-21T11:16:11.161Z"
   },
   {
    "duration": 11,
    "start_time": "2022-07-21T11:19:25.867Z"
   },
   {
    "duration": 90,
    "start_time": "2022-07-21T11:19:49.725Z"
   },
   {
    "duration": 29,
    "start_time": "2022-07-21T11:19:49.816Z"
   },
   {
    "duration": 1915,
    "start_time": "2022-07-21T11:19:49.846Z"
   },
   {
    "duration": 9,
    "start_time": "2022-07-21T11:19:51.762Z"
   },
   {
    "duration": 27,
    "start_time": "2022-07-21T11:19:51.773Z"
   },
   {
    "duration": 8,
    "start_time": "2022-07-21T11:19:51.802Z"
   },
   {
    "duration": 16,
    "start_time": "2022-07-21T11:19:51.812Z"
   },
   {
    "duration": 10,
    "start_time": "2022-07-21T11:19:51.829Z"
   },
   {
    "duration": 7,
    "start_time": "2022-07-21T11:19:51.841Z"
   },
   {
    "duration": 17,
    "start_time": "2022-07-21T11:19:51.850Z"
   },
   {
    "duration": 32,
    "start_time": "2022-07-21T11:19:51.869Z"
   },
   {
    "duration": 5,
    "start_time": "2022-07-21T11:19:51.903Z"
   },
   {
    "duration": 10,
    "start_time": "2022-07-21T11:19:51.910Z"
   },
   {
    "duration": 14,
    "start_time": "2022-07-21T11:19:51.922Z"
   },
   {
    "duration": 10,
    "start_time": "2022-07-21T11:19:51.938Z"
   },
   {
    "duration": 6,
    "start_time": "2022-07-21T12:13:33.254Z"
   },
   {
    "duration": 9,
    "start_time": "2022-07-21T12:16:28.597Z"
   },
   {
    "duration": 71,
    "start_time": "2022-07-21T12:35:17.687Z"
   },
   {
    "duration": 116,
    "start_time": "2022-07-21T12:38:30.790Z"
   },
   {
    "duration": 51,
    "start_time": "2022-07-21T12:38:55.372Z"
   },
   {
    "duration": 0,
    "start_time": "2022-07-21T12:38:55.425Z"
   },
   {
    "duration": 0,
    "start_time": "2022-07-21T12:38:55.427Z"
   },
   {
    "duration": 0,
    "start_time": "2022-07-21T12:38:55.428Z"
   },
   {
    "duration": 0,
    "start_time": "2022-07-21T12:38:55.430Z"
   },
   {
    "duration": 0,
    "start_time": "2022-07-21T12:38:55.431Z"
   },
   {
    "duration": 0,
    "start_time": "2022-07-21T12:38:55.432Z"
   },
   {
    "duration": 0,
    "start_time": "2022-07-21T12:38:55.434Z"
   },
   {
    "duration": 0,
    "start_time": "2022-07-21T12:38:55.435Z"
   },
   {
    "duration": 0,
    "start_time": "2022-07-21T12:38:55.436Z"
   },
   {
    "duration": 0,
    "start_time": "2022-07-21T12:38:55.438Z"
   },
   {
    "duration": 0,
    "start_time": "2022-07-21T12:38:55.442Z"
   },
   {
    "duration": 0,
    "start_time": "2022-07-21T12:38:55.443Z"
   },
   {
    "duration": 15,
    "start_time": "2022-07-21T12:38:55.488Z"
   },
   {
    "duration": 13,
    "start_time": "2022-07-21T12:38:55.506Z"
   },
   {
    "duration": 9,
    "start_time": "2022-07-21T12:38:55.521Z"
   },
   {
    "duration": 120,
    "start_time": "2022-07-21T12:52:00.357Z"
   },
   {
    "duration": 8,
    "start_time": "2022-07-21T12:52:17.423Z"
   },
   {
    "duration": 40,
    "start_time": "2022-07-21T12:52:17.446Z"
   },
   {
    "duration": 1925,
    "start_time": "2022-07-21T12:52:17.488Z"
   },
   {
    "duration": 8,
    "start_time": "2022-07-21T12:52:19.415Z"
   },
   {
    "duration": 11,
    "start_time": "2022-07-21T12:52:19.425Z"
   },
   {
    "duration": 19,
    "start_time": "2022-07-21T12:52:19.437Z"
   },
   {
    "duration": 41,
    "start_time": "2022-07-21T12:52:19.458Z"
   },
   {
    "duration": 30,
    "start_time": "2022-07-21T12:52:19.501Z"
   },
   {
    "duration": 14,
    "start_time": "2022-07-21T12:52:19.533Z"
   },
   {
    "duration": 22,
    "start_time": "2022-07-21T12:52:19.549Z"
   },
   {
    "duration": 33,
    "start_time": "2022-07-21T12:52:19.574Z"
   },
   {
    "duration": 18,
    "start_time": "2022-07-21T12:52:19.608Z"
   },
   {
    "duration": 15,
    "start_time": "2022-07-21T12:52:19.628Z"
   },
   {
    "duration": 16,
    "start_time": "2022-07-21T12:52:19.645Z"
   },
   {
    "duration": 12,
    "start_time": "2022-07-21T12:52:19.663Z"
   },
   {
    "duration": 18,
    "start_time": "2022-07-21T12:52:19.677Z"
   },
   {
    "duration": 125,
    "start_time": "2022-07-21T12:53:17.984Z"
   },
   {
    "duration": 8,
    "start_time": "2022-07-21T12:53:27.202Z"
   },
   {
    "duration": 94,
    "start_time": "2022-07-21T12:57:27.895Z"
   },
   {
    "duration": 127,
    "start_time": "2022-07-21T12:57:34.905Z"
   },
   {
    "duration": 8,
    "start_time": "2022-07-21T12:58:48.520Z"
   },
   {
    "duration": 16,
    "start_time": "2022-07-21T12:59:40.389Z"
   },
   {
    "duration": 11,
    "start_time": "2022-07-21T13:00:06.589Z"
   },
   {
    "duration": 10,
    "start_time": "2022-07-21T13:00:33.198Z"
   },
   {
    "duration": 11,
    "start_time": "2022-07-21T13:01:25.557Z"
   },
   {
    "duration": 136,
    "start_time": "2022-07-21T13:10:19.437Z"
   },
   {
    "duration": 131,
    "start_time": "2022-07-21T13:10:57.401Z"
   },
   {
    "duration": 10,
    "start_time": "2022-07-21T13:17:53.098Z"
   },
   {
    "duration": 110,
    "start_time": "2022-07-21T13:18:19.424Z"
   },
   {
    "duration": 37,
    "start_time": "2022-07-21T13:18:19.537Z"
   },
   {
    "duration": 1894,
    "start_time": "2022-07-21T13:18:19.576Z"
   },
   {
    "duration": 14,
    "start_time": "2022-07-21T13:18:21.473Z"
   },
   {
    "duration": 15,
    "start_time": "2022-07-21T13:18:21.504Z"
   },
   {
    "duration": 28,
    "start_time": "2022-07-21T13:18:21.521Z"
   },
   {
    "duration": 18,
    "start_time": "2022-07-21T13:18:21.551Z"
   },
   {
    "duration": 6,
    "start_time": "2022-07-21T13:18:21.571Z"
   },
   {
    "duration": 12,
    "start_time": "2022-07-21T13:18:21.579Z"
   },
   {
    "duration": 16,
    "start_time": "2022-07-21T13:18:21.602Z"
   },
   {
    "duration": 7,
    "start_time": "2022-07-21T13:18:21.620Z"
   },
   {
    "duration": 6,
    "start_time": "2022-07-21T13:18:21.629Z"
   },
   {
    "duration": 13,
    "start_time": "2022-07-21T13:18:21.636Z"
   },
   {
    "duration": 17,
    "start_time": "2022-07-21T13:18:21.651Z"
   },
   {
    "duration": 38,
    "start_time": "2022-07-21T13:18:21.671Z"
   },
   {
    "duration": 9,
    "start_time": "2022-07-21T13:18:21.712Z"
   },
   {
    "duration": 9,
    "start_time": "2022-07-21T13:18:21.722Z"
   },
   {
    "duration": 11,
    "start_time": "2022-07-21T13:18:21.732Z"
   },
   {
    "duration": 10,
    "start_time": "2022-07-21T13:20:52.949Z"
   },
   {
    "duration": 37,
    "start_time": "2022-07-21T13:25:17.237Z"
   },
   {
    "duration": 74,
    "start_time": "2022-07-21T13:27:24.950Z"
   },
   {
    "duration": 268,
    "start_time": "2022-07-21T13:27:28.118Z"
   },
   {
    "duration": 9,
    "start_time": "2022-07-21T13:28:46.428Z"
   },
   {
    "duration": 13,
    "start_time": "2022-07-21T13:29:30.937Z"
   },
   {
    "duration": 88,
    "start_time": "2022-07-21T13:33:05.948Z"
   },
   {
    "duration": 118,
    "start_time": "2022-07-21T13:33:55.098Z"
   },
   {
    "duration": 39,
    "start_time": "2022-07-21T13:33:55.220Z"
   },
   {
    "duration": 1891,
    "start_time": "2022-07-21T13:33:55.261Z"
   },
   {
    "duration": 11,
    "start_time": "2022-07-21T13:33:57.154Z"
   },
   {
    "duration": 11,
    "start_time": "2022-07-21T13:33:57.167Z"
   },
   {
    "duration": 32,
    "start_time": "2022-07-21T13:33:57.180Z"
   },
   {
    "duration": 25,
    "start_time": "2022-07-21T13:33:57.213Z"
   },
   {
    "duration": 13,
    "start_time": "2022-07-21T13:33:57.240Z"
   },
   {
    "duration": 11,
    "start_time": "2022-07-21T13:33:57.254Z"
   },
   {
    "duration": 18,
    "start_time": "2022-07-21T13:33:57.268Z"
   },
   {
    "duration": 6,
    "start_time": "2022-07-21T13:33:57.287Z"
   },
   {
    "duration": 11,
    "start_time": "2022-07-21T13:33:57.295Z"
   },
   {
    "duration": 12,
    "start_time": "2022-07-21T13:33:57.307Z"
   },
   {
    "duration": 11,
    "start_time": "2022-07-21T13:33:57.320Z"
   },
   {
    "duration": 8,
    "start_time": "2022-07-21T13:33:57.333Z"
   },
   {
    "duration": 9,
    "start_time": "2022-07-21T13:33:57.342Z"
   },
   {
    "duration": 8,
    "start_time": "2022-07-21T13:33:57.352Z"
   },
   {
    "duration": 43,
    "start_time": "2022-07-21T13:33:57.362Z"
   },
   {
    "duration": 114,
    "start_time": "2022-07-21T13:33:57.407Z"
   },
   {
    "duration": 104,
    "start_time": "2022-07-21T13:35:34.470Z"
   },
   {
    "duration": 43,
    "start_time": "2022-07-21T13:35:34.577Z"
   },
   {
    "duration": 2077,
    "start_time": "2022-07-21T13:35:34.622Z"
   },
   {
    "duration": 9,
    "start_time": "2022-07-21T13:35:36.701Z"
   },
   {
    "duration": 11,
    "start_time": "2022-07-21T13:35:36.711Z"
   },
   {
    "duration": 10,
    "start_time": "2022-07-21T13:35:36.724Z"
   },
   {
    "duration": 21,
    "start_time": "2022-07-21T13:35:36.736Z"
   },
   {
    "duration": 6,
    "start_time": "2022-07-21T13:35:36.759Z"
   },
   {
    "duration": 36,
    "start_time": "2022-07-21T13:35:36.766Z"
   },
   {
    "duration": 16,
    "start_time": "2022-07-21T13:35:36.804Z"
   },
   {
    "duration": 12,
    "start_time": "2022-07-21T13:35:36.821Z"
   },
   {
    "duration": 10,
    "start_time": "2022-07-21T13:35:36.835Z"
   },
   {
    "duration": 7,
    "start_time": "2022-07-21T13:35:36.847Z"
   },
   {
    "duration": 12,
    "start_time": "2022-07-21T13:35:36.855Z"
   },
   {
    "duration": 33,
    "start_time": "2022-07-21T13:35:36.868Z"
   },
   {
    "duration": 9,
    "start_time": "2022-07-21T13:35:36.903Z"
   },
   {
    "duration": 8,
    "start_time": "2022-07-21T13:35:36.914Z"
   },
   {
    "duration": 9,
    "start_time": "2022-07-21T13:35:36.924Z"
   },
   {
    "duration": 306,
    "start_time": "2022-07-21T13:35:36.935Z"
   },
   {
    "duration": 103,
    "start_time": "2022-07-21T13:38:33.540Z"
   },
   {
    "duration": 5,
    "start_time": "2022-07-21T13:39:34.166Z"
   },
   {
    "duration": 60,
    "start_time": "2022-07-21T13:40:27.399Z"
   },
   {
    "duration": 5,
    "start_time": "2022-07-21T13:40:31.568Z"
   },
   {
    "duration": 89,
    "start_time": "2022-07-21T13:40:46.172Z"
   },
   {
    "duration": 5,
    "start_time": "2022-07-21T13:40:49.738Z"
   },
   {
    "duration": 14,
    "start_time": "2022-07-21T13:40:56.706Z"
   },
   {
    "duration": 5,
    "start_time": "2022-07-21T13:41:20.756Z"
   },
   {
    "duration": 83,
    "start_time": "2022-07-21T13:41:33.786Z"
   },
   {
    "duration": 4,
    "start_time": "2022-07-21T13:41:36.565Z"
   },
   {
    "duration": 15,
    "start_time": "2022-07-21T13:41:39.824Z"
   },
   {
    "duration": 4,
    "start_time": "2022-07-21T13:42:01.938Z"
   },
   {
    "duration": 71,
    "start_time": "2022-07-21T13:42:20.097Z"
   },
   {
    "duration": 156,
    "start_time": "2022-07-21T13:42:43.354Z"
   },
   {
    "duration": 135,
    "start_time": "2022-07-21T13:43:03.697Z"
   },
   {
    "duration": 136,
    "start_time": "2022-07-21T13:51:35.010Z"
   },
   {
    "duration": 106,
    "start_time": "2022-07-21T13:53:03.445Z"
   },
   {
    "duration": 28,
    "start_time": "2022-07-21T13:53:03.553Z"
   },
   {
    "duration": 2037,
    "start_time": "2022-07-21T13:53:03.583Z"
   },
   {
    "duration": 10,
    "start_time": "2022-07-21T13:53:05.623Z"
   },
   {
    "duration": 21,
    "start_time": "2022-07-21T13:53:05.634Z"
   },
   {
    "duration": 47,
    "start_time": "2022-07-21T13:53:05.657Z"
   },
   {
    "duration": 19,
    "start_time": "2022-07-21T13:53:05.706Z"
   },
   {
    "duration": 7,
    "start_time": "2022-07-21T13:53:05.727Z"
   },
   {
    "duration": 16,
    "start_time": "2022-07-21T13:53:05.735Z"
   },
   {
    "duration": 31,
    "start_time": "2022-07-21T13:53:05.753Z"
   },
   {
    "duration": 9,
    "start_time": "2022-07-21T13:53:05.786Z"
   },
   {
    "duration": 10,
    "start_time": "2022-07-21T13:53:05.801Z"
   },
   {
    "duration": 33,
    "start_time": "2022-07-21T13:53:05.813Z"
   },
   {
    "duration": 19,
    "start_time": "2022-07-21T13:53:05.847Z"
   },
   {
    "duration": 23,
    "start_time": "2022-07-21T13:53:05.868Z"
   },
   {
    "duration": 17,
    "start_time": "2022-07-21T13:53:05.893Z"
   },
   {
    "duration": 19,
    "start_time": "2022-07-21T13:53:05.912Z"
   },
   {
    "duration": 32,
    "start_time": "2022-07-21T13:53:05.933Z"
   },
   {
    "duration": 139,
    "start_time": "2022-07-21T13:53:05.967Z"
   },
   {
    "duration": 135,
    "start_time": "2022-07-21T13:53:13.207Z"
   },
   {
    "duration": 161,
    "start_time": "2022-07-21T13:53:24.335Z"
   },
   {
    "duration": 152,
    "start_time": "2022-07-21T13:53:39.709Z"
   },
   {
    "duration": 21,
    "start_time": "2022-07-21T13:54:14.790Z"
   },
   {
    "duration": 129,
    "start_time": "2022-07-21T13:55:13.544Z"
   },
   {
    "duration": 136,
    "start_time": "2022-07-21T13:55:16.605Z"
   },
   {
    "duration": 13,
    "start_time": "2022-07-21T13:55:20.888Z"
   },
   {
    "duration": 141,
    "start_time": "2022-07-21T13:55:42.828Z"
   },
   {
    "duration": 403,
    "start_time": "2022-07-21T13:55:54.918Z"
   },
   {
    "duration": 71,
    "start_time": "2022-07-21T13:56:15.337Z"
   },
   {
    "duration": 141,
    "start_time": "2022-07-21T13:56:21.147Z"
   },
   {
    "duration": 112,
    "start_time": "2022-07-21T13:57:48.108Z"
   },
   {
    "duration": 30,
    "start_time": "2022-07-21T13:57:48.222Z"
   },
   {
    "duration": 1854,
    "start_time": "2022-07-21T13:57:48.253Z"
   },
   {
    "duration": 11,
    "start_time": "2022-07-21T13:57:50.109Z"
   },
   {
    "duration": 14,
    "start_time": "2022-07-21T13:57:50.122Z"
   },
   {
    "duration": 15,
    "start_time": "2022-07-21T13:57:50.137Z"
   },
   {
    "duration": 17,
    "start_time": "2022-07-21T13:57:50.154Z"
   },
   {
    "duration": 27,
    "start_time": "2022-07-21T13:57:50.173Z"
   },
   {
    "duration": 5,
    "start_time": "2022-07-21T13:57:50.202Z"
   },
   {
    "duration": 23,
    "start_time": "2022-07-21T13:57:50.208Z"
   },
   {
    "duration": 5,
    "start_time": "2022-07-21T13:57:50.233Z"
   },
   {
    "duration": 10,
    "start_time": "2022-07-21T13:57:50.239Z"
   },
   {
    "duration": 6,
    "start_time": "2022-07-21T13:57:50.251Z"
   },
   {
    "duration": 14,
    "start_time": "2022-07-21T13:57:50.259Z"
   },
   {
    "duration": 27,
    "start_time": "2022-07-21T13:57:50.274Z"
   },
   {
    "duration": 109,
    "start_time": "2022-07-21T13:57:50.303Z"
   },
   {
    "duration": 9,
    "start_time": "2022-07-21T13:57:50.413Z"
   },
   {
    "duration": 37,
    "start_time": "2022-07-21T13:57:50.423Z"
   },
   {
    "duration": 20,
    "start_time": "2022-07-21T13:57:50.461Z"
   },
   {
    "duration": 156,
    "start_time": "2022-07-21T13:57:50.482Z"
   },
   {
    "duration": 15,
    "start_time": "2022-07-21T14:24:35.093Z"
   },
   {
    "duration": 8,
    "start_time": "2022-07-21T14:24:37.067Z"
   },
   {
    "duration": 10,
    "start_time": "2022-07-21T14:25:55.487Z"
   },
   {
    "duration": 9,
    "start_time": "2022-07-21T14:26:06.883Z"
   },
   {
    "duration": 10,
    "start_time": "2022-07-21T14:26:46.847Z"
   },
   {
    "duration": 10,
    "start_time": "2022-07-21T14:26:52.813Z"
   },
   {
    "duration": 32,
    "start_time": "2022-07-21T14:28:02.037Z"
   },
   {
    "duration": 33,
    "start_time": "2022-07-21T14:28:23.718Z"
   },
   {
    "duration": 9,
    "start_time": "2022-07-21T14:28:33.831Z"
   },
   {
    "duration": 32,
    "start_time": "2022-07-21T15:10:52.825Z"
   },
   {
    "duration": 8,
    "start_time": "2022-07-21T15:10:56.215Z"
   },
   {
    "duration": 9,
    "start_time": "2022-07-21T15:11:15.014Z"
   },
   {
    "duration": 9,
    "start_time": "2022-07-21T15:11:18.414Z"
   },
   {
    "duration": 179,
    "start_time": "2022-07-21T15:11:28.572Z"
   },
   {
    "duration": 43,
    "start_time": "2022-07-21T15:11:28.753Z"
   },
   {
    "duration": 1834,
    "start_time": "2022-07-21T15:11:28.798Z"
   },
   {
    "duration": 9,
    "start_time": "2022-07-21T15:11:30.634Z"
   },
   {
    "duration": 41,
    "start_time": "2022-07-21T15:11:30.645Z"
   },
   {
    "duration": 106,
    "start_time": "2022-07-21T15:11:30.688Z"
   },
   {
    "duration": 35,
    "start_time": "2022-07-21T15:11:30.796Z"
   },
   {
    "duration": 12,
    "start_time": "2022-07-21T15:11:30.833Z"
   },
   {
    "duration": 28,
    "start_time": "2022-07-21T15:11:30.847Z"
   },
   {
    "duration": 58,
    "start_time": "2022-07-21T15:11:30.877Z"
   },
   {
    "duration": 16,
    "start_time": "2022-07-21T15:11:30.936Z"
   },
   {
    "duration": 39,
    "start_time": "2022-07-21T15:11:30.954Z"
   },
   {
    "duration": 31,
    "start_time": "2022-07-21T15:11:30.994Z"
   },
   {
    "duration": 41,
    "start_time": "2022-07-21T15:11:31.027Z"
   },
   {
    "duration": 36,
    "start_time": "2022-07-21T15:11:31.070Z"
   },
   {
    "duration": 97,
    "start_time": "2022-07-21T15:12:22.480Z"
   },
   {
    "duration": 35,
    "start_time": "2022-07-21T15:12:22.579Z"
   },
   {
    "duration": 2143,
    "start_time": "2022-07-21T15:12:22.616Z"
   },
   {
    "duration": 9,
    "start_time": "2022-07-21T15:12:24.761Z"
   },
   {
    "duration": 16,
    "start_time": "2022-07-21T15:12:24.771Z"
   },
   {
    "duration": 16,
    "start_time": "2022-07-21T15:12:24.789Z"
   },
   {
    "duration": 14,
    "start_time": "2022-07-21T15:12:24.806Z"
   },
   {
    "duration": 6,
    "start_time": "2022-07-21T15:12:24.821Z"
   },
   {
    "duration": 7,
    "start_time": "2022-07-21T15:12:24.829Z"
   },
   {
    "duration": 28,
    "start_time": "2022-07-21T15:12:24.838Z"
   },
   {
    "duration": 7,
    "start_time": "2022-07-21T15:12:24.868Z"
   },
   {
    "duration": 28,
    "start_time": "2022-07-21T15:12:24.876Z"
   },
   {
    "duration": 12,
    "start_time": "2022-07-21T15:12:24.905Z"
   },
   {
    "duration": 28,
    "start_time": "2022-07-21T15:12:24.918Z"
   },
   {
    "duration": 11,
    "start_time": "2022-07-21T15:12:24.948Z"
   },
   {
    "duration": 21,
    "start_time": "2022-07-21T15:12:24.960Z"
   },
   {
    "duration": 44,
    "start_time": "2022-07-21T15:12:24.983Z"
   },
   {
    "duration": 9,
    "start_time": "2022-07-21T15:12:25.028Z"
   },
   {
    "duration": 10,
    "start_time": "2022-07-21T15:12:25.039Z"
   },
   {
    "duration": 15,
    "start_time": "2022-07-21T15:12:25.051Z"
   },
   {
    "duration": 210,
    "start_time": "2022-07-21T15:12:25.068Z"
   },
   {
    "duration": 94,
    "start_time": "2022-07-21T15:16:01.740Z"
   },
   {
    "duration": 29,
    "start_time": "2022-07-21T15:16:01.836Z"
   },
   {
    "duration": 1782,
    "start_time": "2022-07-21T15:16:01.866Z"
   },
   {
    "duration": 9,
    "start_time": "2022-07-21T15:16:03.651Z"
   },
   {
    "duration": 27,
    "start_time": "2022-07-21T15:16:03.661Z"
   },
   {
    "duration": 12,
    "start_time": "2022-07-21T15:16:03.689Z"
   },
   {
    "duration": 20,
    "start_time": "2022-07-21T15:16:03.703Z"
   },
   {
    "duration": 5,
    "start_time": "2022-07-21T15:16:03.725Z"
   },
   {
    "duration": 21,
    "start_time": "2022-07-21T15:16:03.732Z"
   },
   {
    "duration": 26,
    "start_time": "2022-07-21T15:16:03.755Z"
   },
   {
    "duration": 6,
    "start_time": "2022-07-21T15:16:03.782Z"
   },
   {
    "duration": 19,
    "start_time": "2022-07-21T15:16:03.789Z"
   },
   {
    "duration": 18,
    "start_time": "2022-07-21T15:16:03.810Z"
   },
   {
    "duration": 43,
    "start_time": "2022-07-21T15:16:03.829Z"
   },
   {
    "duration": 10,
    "start_time": "2022-07-21T15:16:03.873Z"
   },
   {
    "duration": 24,
    "start_time": "2022-07-21T15:16:03.884Z"
   },
   {
    "duration": 67,
    "start_time": "2022-07-21T15:16:03.910Z"
   },
   {
    "duration": 173,
    "start_time": "2022-07-21T15:17:25.515Z"
   },
   {
    "duration": 47,
    "start_time": "2022-07-21T15:17:46.891Z"
   },
   {
    "duration": 8,
    "start_time": "2022-07-21T15:17:50.164Z"
   },
   {
    "duration": 5,
    "start_time": "2022-07-21T15:25:30.172Z"
   },
   {
    "duration": 91,
    "start_time": "2022-07-21T15:25:54.776Z"
   },
   {
    "duration": 38,
    "start_time": "2022-07-21T15:25:54.869Z"
   },
   {
    "duration": 2139,
    "start_time": "2022-07-21T15:25:54.908Z"
   },
   {
    "duration": 9,
    "start_time": "2022-07-21T15:25:57.049Z"
   },
   {
    "duration": 14,
    "start_time": "2022-07-21T15:25:57.059Z"
   },
   {
    "duration": 8,
    "start_time": "2022-07-21T15:25:57.074Z"
   },
   {
    "duration": 14,
    "start_time": "2022-07-21T15:25:57.101Z"
   },
   {
    "duration": 7,
    "start_time": "2022-07-21T15:25:57.117Z"
   },
   {
    "duration": 14,
    "start_time": "2022-07-21T15:25:57.125Z"
   },
   {
    "duration": 19,
    "start_time": "2022-07-21T15:25:57.142Z"
   },
   {
    "duration": 6,
    "start_time": "2022-07-21T15:25:57.162Z"
   },
   {
    "duration": 32,
    "start_time": "2022-07-21T15:25:57.169Z"
   },
   {
    "duration": 5,
    "start_time": "2022-07-21T15:25:57.202Z"
   },
   {
    "duration": 14,
    "start_time": "2022-07-21T15:25:57.209Z"
   },
   {
    "duration": 8,
    "start_time": "2022-07-21T15:25:57.224Z"
   },
   {
    "duration": 8,
    "start_time": "2022-07-21T15:25:57.234Z"
   },
   {
    "duration": 3,
    "start_time": "2022-07-21T15:25:57.244Z"
   },
   {
    "duration": 67,
    "start_time": "2022-07-21T15:25:57.249Z"
   },
   {
    "duration": 75,
    "start_time": "2022-07-21T15:48:30.701Z"
   },
   {
    "duration": 106,
    "start_time": "2022-07-21T15:55:24.067Z"
   },
   {
    "duration": 37,
    "start_time": "2022-07-21T15:55:24.175Z"
   },
   {
    "duration": 1948,
    "start_time": "2022-07-21T15:55:24.214Z"
   },
   {
    "duration": 12,
    "start_time": "2022-07-21T15:55:26.164Z"
   },
   {
    "duration": 25,
    "start_time": "2022-07-21T15:55:26.177Z"
   },
   {
    "duration": 9,
    "start_time": "2022-07-21T15:55:26.203Z"
   },
   {
    "duration": 64,
    "start_time": "2022-07-21T16:01:08.107Z"
   },
   {
    "duration": 8,
    "start_time": "2022-07-21T16:03:31.388Z"
   },
   {
    "duration": 14,
    "start_time": "2022-07-21T16:06:39.335Z"
   },
   {
    "duration": 29,
    "start_time": "2022-07-21T16:18:19.048Z"
   },
   {
    "duration": 98,
    "start_time": "2022-07-21T16:18:26.730Z"
   },
   {
    "duration": 30,
    "start_time": "2022-07-21T16:18:26.830Z"
   },
   {
    "duration": 1801,
    "start_time": "2022-07-21T16:18:26.862Z"
   },
   {
    "duration": 9,
    "start_time": "2022-07-21T16:18:28.666Z"
   },
   {
    "duration": 28,
    "start_time": "2022-07-21T16:18:28.677Z"
   },
   {
    "duration": 10,
    "start_time": "2022-07-21T16:18:28.706Z"
   },
   {
    "duration": 9,
    "start_time": "2022-07-21T16:18:28.718Z"
   },
   {
    "duration": 16,
    "start_time": "2022-07-21T16:18:28.729Z"
   },
   {
    "duration": 7,
    "start_time": "2022-07-21T16:18:28.747Z"
   },
   {
    "duration": 6,
    "start_time": "2022-07-21T16:18:28.757Z"
   },
   {
    "duration": 51,
    "start_time": "2022-07-21T16:18:28.764Z"
   },
   {
    "duration": 7,
    "start_time": "2022-07-21T16:18:28.817Z"
   },
   {
    "duration": 7,
    "start_time": "2022-07-21T16:18:28.825Z"
   },
   {
    "duration": 8,
    "start_time": "2022-07-21T16:18:28.834Z"
   },
   {
    "duration": 11,
    "start_time": "2022-07-21T16:18:28.843Z"
   },
   {
    "duration": 9,
    "start_time": "2022-07-21T16:18:28.856Z"
   },
   {
    "duration": 38,
    "start_time": "2022-07-21T16:18:28.867Z"
   },
   {
    "duration": 5,
    "start_time": "2022-07-21T16:18:28.906Z"
   },
   {
    "duration": 104,
    "start_time": "2022-07-21T16:18:28.912Z"
   },
   {
    "duration": 8,
    "start_time": "2022-07-21T16:18:29.018Z"
   },
   {
    "duration": 10,
    "start_time": "2022-07-21T16:18:29.027Z"
   },
   {
    "duration": 8,
    "start_time": "2022-07-21T16:18:29.038Z"
   },
   {
    "duration": 175,
    "start_time": "2022-07-21T16:18:29.048Z"
   },
   {
    "duration": 12,
    "start_time": "2022-07-21T16:18:29.225Z"
   },
   {
    "duration": 3,
    "start_time": "2022-07-21T16:18:29.239Z"
   },
   {
    "duration": 25,
    "start_time": "2022-07-21T16:18:29.243Z"
   },
   {
    "duration": 0,
    "start_time": "2022-07-21T16:18:29.270Z"
   },
   {
    "duration": 0,
    "start_time": "2022-07-21T16:18:29.271Z"
   },
   {
    "duration": 0,
    "start_time": "2022-07-21T16:18:29.272Z"
   },
   {
    "duration": 51,
    "start_time": "2022-07-21T16:20:50.422Z"
   },
   {
    "duration": 5,
    "start_time": "2022-07-21T16:20:58.186Z"
   },
   {
    "duration": 30,
    "start_time": "2022-07-21T16:21:06.770Z"
   },
   {
    "duration": 95,
    "start_time": "2022-07-21T16:22:27.992Z"
   },
   {
    "duration": 29,
    "start_time": "2022-07-21T16:22:28.089Z"
   },
   {
    "duration": 2211,
    "start_time": "2022-07-21T16:22:28.120Z"
   },
   {
    "duration": 9,
    "start_time": "2022-07-21T16:22:30.332Z"
   },
   {
    "duration": 32,
    "start_time": "2022-07-21T16:22:30.343Z"
   },
   {
    "duration": 19,
    "start_time": "2022-07-21T16:22:30.376Z"
   },
   {
    "duration": 7,
    "start_time": "2022-07-21T16:22:30.396Z"
   },
   {
    "duration": 37,
    "start_time": "2022-07-21T16:22:30.405Z"
   },
   {
    "duration": 17,
    "start_time": "2022-07-21T16:22:30.444Z"
   },
   {
    "duration": 20,
    "start_time": "2022-07-21T16:22:30.463Z"
   },
   {
    "duration": 33,
    "start_time": "2022-07-21T16:22:30.484Z"
   },
   {
    "duration": 17,
    "start_time": "2022-07-21T16:22:30.519Z"
   },
   {
    "duration": 9,
    "start_time": "2022-07-21T16:22:30.538Z"
   },
   {
    "duration": 13,
    "start_time": "2022-07-21T16:22:30.551Z"
   },
   {
    "duration": 21,
    "start_time": "2022-07-21T16:22:30.565Z"
   },
   {
    "duration": 25,
    "start_time": "2022-07-21T16:22:30.588Z"
   },
   {
    "duration": 27,
    "start_time": "2022-07-21T16:22:30.615Z"
   },
   {
    "duration": 21,
    "start_time": "2022-07-21T16:22:30.643Z"
   },
   {
    "duration": 96,
    "start_time": "2022-07-21T16:22:30.666Z"
   },
   {
    "duration": 11,
    "start_time": "2022-07-21T16:22:30.764Z"
   },
   {
    "duration": 33,
    "start_time": "2022-07-21T16:22:30.777Z"
   },
   {
    "duration": 26,
    "start_time": "2022-07-21T16:22:30.812Z"
   },
   {
    "duration": 182,
    "start_time": "2022-07-21T16:22:30.840Z"
   },
   {
    "duration": 13,
    "start_time": "2022-07-21T16:22:31.024Z"
   },
   {
    "duration": 69,
    "start_time": "2022-07-21T16:22:31.038Z"
   },
   {
    "duration": 28,
    "start_time": "2022-07-21T16:22:31.109Z"
   },
   {
    "duration": 9,
    "start_time": "2022-07-21T16:22:31.139Z"
   },
   {
    "duration": 8,
    "start_time": "2022-07-21T16:22:31.150Z"
   },
   {
    "duration": 257,
    "start_time": "2022-07-21T16:22:31.159Z"
   },
   {
    "duration": 1112,
    "start_time": "2022-07-21T16:25:27.446Z"
   },
   {
    "duration": 23,
    "start_time": "2022-07-21T16:26:05.289Z"
   },
   {
    "duration": 15,
    "start_time": "2022-07-21T16:26:53.578Z"
   },
   {
    "duration": 615,
    "start_time": "2022-07-21T16:29:00.699Z"
   },
   {
    "duration": 594,
    "start_time": "2022-07-21T16:29:35.556Z"
   },
   {
    "duration": 15,
    "start_time": "2022-07-21T16:30:42.203Z"
   },
   {
    "duration": 238,
    "start_time": "2022-07-21T16:32:18.419Z"
   },
   {
    "duration": 26,
    "start_time": "2022-07-21T16:32:31.619Z"
   },
   {
    "duration": 111,
    "start_time": "2022-07-21T16:37:33.144Z"
   },
   {
    "duration": 45,
    "start_time": "2022-07-21T16:37:33.258Z"
   },
   {
    "duration": 1829,
    "start_time": "2022-07-21T16:37:33.304Z"
   },
   {
    "duration": 9,
    "start_time": "2022-07-21T16:37:35.135Z"
   },
   {
    "duration": 20,
    "start_time": "2022-07-21T16:37:35.146Z"
   },
   {
    "duration": 18,
    "start_time": "2022-07-21T16:37:35.168Z"
   },
   {
    "duration": 20,
    "start_time": "2022-07-21T16:37:35.188Z"
   },
   {
    "duration": 29,
    "start_time": "2022-07-21T16:37:35.211Z"
   },
   {
    "duration": 8,
    "start_time": "2022-07-21T16:37:35.242Z"
   },
   {
    "duration": 10,
    "start_time": "2022-07-21T16:37:35.251Z"
   },
   {
    "duration": 23,
    "start_time": "2022-07-21T16:37:35.263Z"
   },
   {
    "duration": 6,
    "start_time": "2022-07-21T16:37:35.302Z"
   },
   {
    "duration": 9,
    "start_time": "2022-07-21T16:37:35.310Z"
   },
   {
    "duration": 25,
    "start_time": "2022-07-21T16:37:35.323Z"
   },
   {
    "duration": 18,
    "start_time": "2022-07-21T16:37:35.350Z"
   },
   {
    "duration": 27,
    "start_time": "2022-07-21T16:37:35.371Z"
   },
   {
    "duration": 16,
    "start_time": "2022-07-21T16:37:35.400Z"
   },
   {
    "duration": 7,
    "start_time": "2022-07-21T16:37:35.418Z"
   },
   {
    "duration": 99,
    "start_time": "2022-07-21T16:37:35.426Z"
   },
   {
    "duration": 8,
    "start_time": "2022-07-21T16:37:35.527Z"
   },
   {
    "duration": 17,
    "start_time": "2022-07-21T16:37:35.536Z"
   },
   {
    "duration": 21,
    "start_time": "2022-07-21T16:37:35.555Z"
   },
   {
    "duration": 153,
    "start_time": "2022-07-21T16:37:35.578Z"
   },
   {
    "duration": 13,
    "start_time": "2022-07-21T16:37:35.733Z"
   },
   {
    "duration": 11,
    "start_time": "2022-07-21T16:37:35.747Z"
   },
   {
    "duration": 0,
    "start_time": "2022-07-21T16:37:35.760Z"
   },
   {
    "duration": 0,
    "start_time": "2022-07-21T16:37:35.761Z"
   },
   {
    "duration": 0,
    "start_time": "2022-07-21T16:37:35.762Z"
   },
   {
    "duration": 0,
    "start_time": "2022-07-21T16:37:35.763Z"
   },
   {
    "duration": 83,
    "start_time": "2022-07-21T16:38:13.226Z"
   },
   {
    "duration": 28,
    "start_time": "2022-07-21T16:38:19.894Z"
   },
   {
    "duration": 14,
    "start_time": "2022-07-21T16:40:46.837Z"
   },
   {
    "duration": 105,
    "start_time": "2022-07-21T16:44:15.924Z"
   },
   {
    "duration": 29,
    "start_time": "2022-07-21T16:44:16.031Z"
   },
   {
    "duration": 1866,
    "start_time": "2022-07-21T16:44:16.062Z"
   },
   {
    "duration": 9,
    "start_time": "2022-07-21T16:44:17.929Z"
   },
   {
    "duration": 11,
    "start_time": "2022-07-21T16:44:17.940Z"
   },
   {
    "duration": 9,
    "start_time": "2022-07-21T16:44:17.952Z"
   },
   {
    "duration": 7,
    "start_time": "2022-07-21T16:44:17.962Z"
   },
   {
    "duration": 42,
    "start_time": "2022-07-21T16:44:17.971Z"
   },
   {
    "duration": 5,
    "start_time": "2022-07-21T16:44:18.015Z"
   },
   {
    "duration": 9,
    "start_time": "2022-07-21T16:44:18.022Z"
   },
   {
    "duration": 18,
    "start_time": "2022-07-21T16:44:18.032Z"
   },
   {
    "duration": 6,
    "start_time": "2022-07-21T16:44:18.051Z"
   },
   {
    "duration": 7,
    "start_time": "2022-07-21T16:44:18.058Z"
   },
   {
    "duration": 34,
    "start_time": "2022-07-21T16:44:18.068Z"
   },
   {
    "duration": 12,
    "start_time": "2022-07-21T16:44:18.103Z"
   },
   {
    "duration": 8,
    "start_time": "2022-07-21T16:44:18.116Z"
   },
   {
    "duration": 8,
    "start_time": "2022-07-21T16:44:18.126Z"
   },
   {
    "duration": 16,
    "start_time": "2022-07-21T16:44:18.136Z"
   },
   {
    "duration": 534,
    "start_time": "2022-07-21T16:44:18.153Z"
   },
   {
    "duration": 18,
    "start_time": "2022-07-21T16:44:18.688Z"
   },
   {
    "duration": 11,
    "start_time": "2022-07-21T16:44:18.708Z"
   },
   {
    "duration": 11,
    "start_time": "2022-07-21T16:44:18.721Z"
   },
   {
    "duration": 174,
    "start_time": "2022-07-21T16:44:18.734Z"
   },
   {
    "duration": 13,
    "start_time": "2022-07-21T16:44:18.910Z"
   },
   {
    "duration": 5,
    "start_time": "2022-07-21T16:44:18.925Z"
   },
   {
    "duration": 14,
    "start_time": "2022-07-21T16:44:18.932Z"
   },
   {
    "duration": 12,
    "start_time": "2022-07-21T16:44:18.948Z"
   },
   {
    "duration": 6,
    "start_time": "2022-07-21T16:44:18.962Z"
   },
   {
    "duration": 261,
    "start_time": "2022-07-21T16:44:18.969Z"
   },
   {
    "duration": 93,
    "start_time": "2022-07-21T17:58:43.035Z"
   },
   {
    "duration": 34,
    "start_time": "2022-07-21T17:58:43.130Z"
   },
   {
    "duration": 1890,
    "start_time": "2022-07-21T17:58:43.165Z"
   },
   {
    "duration": 9,
    "start_time": "2022-07-21T17:58:45.058Z"
   },
   {
    "duration": 17,
    "start_time": "2022-07-21T17:58:45.068Z"
   },
   {
    "duration": 18,
    "start_time": "2022-07-21T17:58:45.087Z"
   },
   {
    "duration": 17,
    "start_time": "2022-07-21T17:58:45.107Z"
   },
   {
    "duration": 21,
    "start_time": "2022-07-21T17:58:45.126Z"
   },
   {
    "duration": 17,
    "start_time": "2022-07-21T17:58:45.149Z"
   },
   {
    "duration": 34,
    "start_time": "2022-07-21T17:58:45.169Z"
   },
   {
    "duration": 26,
    "start_time": "2022-07-21T17:58:45.205Z"
   },
   {
    "duration": 9,
    "start_time": "2022-07-21T17:58:45.233Z"
   },
   {
    "duration": 8,
    "start_time": "2022-07-21T17:58:45.244Z"
   },
   {
    "duration": 10,
    "start_time": "2022-07-21T17:58:45.254Z"
   },
   {
    "duration": 18,
    "start_time": "2022-07-21T17:58:45.266Z"
   },
   {
    "duration": 19,
    "start_time": "2022-07-21T17:58:45.286Z"
   },
   {
    "duration": 21,
    "start_time": "2022-07-21T17:58:45.307Z"
   },
   {
    "duration": 20,
    "start_time": "2022-07-21T17:58:45.330Z"
   },
   {
    "duration": 114,
    "start_time": "2022-07-21T17:58:45.352Z"
   },
   {
    "duration": 10,
    "start_time": "2022-07-21T17:58:45.468Z"
   },
   {
    "duration": 21,
    "start_time": "2022-07-21T17:58:45.480Z"
   },
   {
    "duration": 9,
    "start_time": "2022-07-21T17:58:45.503Z"
   },
   {
    "duration": 159,
    "start_time": "2022-07-21T17:58:45.514Z"
   },
   {
    "duration": 12,
    "start_time": "2022-07-21T17:58:45.675Z"
   },
   {
    "duration": 8,
    "start_time": "2022-07-21T17:58:45.700Z"
   },
   {
    "duration": 11,
    "start_time": "2022-07-21T17:58:45.709Z"
   },
   {
    "duration": 16,
    "start_time": "2022-07-21T17:58:45.721Z"
   },
   {
    "duration": 5,
    "start_time": "2022-07-21T17:58:45.740Z"
   },
   {
    "duration": 265,
    "start_time": "2022-07-21T17:58:45.747Z"
   },
   {
    "duration": 12,
    "start_time": "2022-07-21T17:58:46.014Z"
   },
   {
    "duration": 75,
    "start_time": "2022-07-22T19:22:27.580Z"
   },
   {
    "duration": 40,
    "start_time": "2022-07-22T19:22:33.421Z"
   },
   {
    "duration": 7,
    "start_time": "2022-07-22T19:22:47.304Z"
   },
   {
    "duration": 919,
    "start_time": "2022-07-22T19:22:52.587Z"
   },
   {
    "duration": 37,
    "start_time": "2022-07-22T19:22:53.508Z"
   },
   {
    "duration": 1977,
    "start_time": "2022-07-22T19:22:53.546Z"
   },
   {
    "duration": 9,
    "start_time": "2022-07-22T19:22:55.525Z"
   },
   {
    "duration": 13,
    "start_time": "2022-07-22T19:22:55.536Z"
   },
   {
    "duration": 9,
    "start_time": "2022-07-22T19:22:55.551Z"
   },
   {
    "duration": 8,
    "start_time": "2022-07-22T19:22:55.561Z"
   },
   {
    "duration": 15,
    "start_time": "2022-07-22T19:22:55.571Z"
   },
   {
    "duration": 45,
    "start_time": "2022-07-22T19:28:49.454Z"
   },
   {
    "duration": 8,
    "start_time": "2022-07-22T19:29:42.458Z"
   },
   {
    "duration": 12,
    "start_time": "2022-07-22T19:30:36.984Z"
   },
   {
    "duration": 105,
    "start_time": "2022-07-22T19:31:18.540Z"
   },
   {
    "duration": 28,
    "start_time": "2022-07-22T19:31:18.648Z"
   },
   {
    "duration": 1905,
    "start_time": "2022-07-22T19:31:18.678Z"
   },
   {
    "duration": 9,
    "start_time": "2022-07-22T19:31:20.586Z"
   },
   {
    "duration": 24,
    "start_time": "2022-07-22T19:31:20.597Z"
   },
   {
    "duration": 9,
    "start_time": "2022-07-22T19:31:20.623Z"
   },
   {
    "duration": 23,
    "start_time": "2022-07-22T19:31:20.634Z"
   },
   {
    "duration": 13,
    "start_time": "2022-07-22T19:31:20.659Z"
   },
   {
    "duration": 6,
    "start_time": "2022-07-22T19:32:55.914Z"
   },
   {
    "duration": 7,
    "start_time": "2022-07-22T19:38:26.720Z"
   },
   {
    "duration": 9,
    "start_time": "2022-07-22T19:38:29.886Z"
   },
   {
    "duration": 97,
    "start_time": "2022-07-22T19:38:45.723Z"
   },
   {
    "duration": 8,
    "start_time": "2022-07-22T19:43:59.787Z"
   },
   {
    "duration": 87,
    "start_time": "2022-07-22T19:44:13.649Z"
   },
   {
    "duration": 28,
    "start_time": "2022-07-22T19:44:13.738Z"
   },
   {
    "duration": 1957,
    "start_time": "2022-07-22T19:44:13.768Z"
   },
   {
    "duration": 9,
    "start_time": "2022-07-22T19:44:15.727Z"
   },
   {
    "duration": 23,
    "start_time": "2022-07-22T19:44:15.738Z"
   },
   {
    "duration": 8,
    "start_time": "2022-07-22T19:44:15.762Z"
   },
   {
    "duration": 7,
    "start_time": "2022-07-22T19:44:15.771Z"
   },
   {
    "duration": 16,
    "start_time": "2022-07-22T19:44:15.779Z"
   },
   {
    "duration": 6,
    "start_time": "2022-07-22T19:44:15.797Z"
   },
   {
    "duration": 6,
    "start_time": "2022-07-22T19:44:15.804Z"
   },
   {
    "duration": 47,
    "start_time": "2022-07-22T19:44:15.812Z"
   },
   {
    "duration": 6,
    "start_time": "2022-07-22T19:44:15.860Z"
   },
   {
    "duration": 5,
    "start_time": "2022-07-22T19:44:15.868Z"
   },
   {
    "duration": 4,
    "start_time": "2022-07-22T19:44:15.876Z"
   },
   {
    "duration": 12,
    "start_time": "2022-07-22T19:44:15.882Z"
   },
   {
    "duration": 8,
    "start_time": "2022-07-22T19:44:15.895Z"
   },
   {
    "duration": 131,
    "start_time": "2022-07-22T19:44:15.904Z"
   },
   {
    "duration": 109,
    "start_time": "2022-07-22T19:44:16.037Z"
   },
   {
    "duration": 232,
    "start_time": "2022-07-22T19:44:16.148Z"
   },
   {
    "duration": 8,
    "start_time": "2022-07-22T19:44:16.381Z"
   },
   {
    "duration": 8,
    "start_time": "2022-07-22T19:44:16.391Z"
   },
   {
    "duration": 8,
    "start_time": "2022-07-22T19:44:16.400Z"
   },
   {
    "duration": 180,
    "start_time": "2022-07-22T19:44:16.409Z"
   },
   {
    "duration": 13,
    "start_time": "2022-07-22T19:44:16.590Z"
   },
   {
    "duration": 11,
    "start_time": "2022-07-22T19:44:42.754Z"
   },
   {
    "duration": 93,
    "start_time": "2022-07-22T19:45:08.218Z"
   },
   {
    "duration": 10,
    "start_time": "2022-07-22T19:45:11.557Z"
   },
   {
    "duration": 94,
    "start_time": "2022-07-22T19:46:31.200Z"
   },
   {
    "duration": 32,
    "start_time": "2022-07-22T19:46:31.296Z"
   },
   {
    "duration": 1984,
    "start_time": "2022-07-22T19:46:31.330Z"
   },
   {
    "duration": 10,
    "start_time": "2022-07-22T19:46:33.317Z"
   },
   {
    "duration": 26,
    "start_time": "2022-07-22T19:46:33.329Z"
   },
   {
    "duration": 8,
    "start_time": "2022-07-22T19:46:33.357Z"
   },
   {
    "duration": 10,
    "start_time": "2022-07-22T19:46:33.367Z"
   },
   {
    "duration": 16,
    "start_time": "2022-07-22T19:46:33.379Z"
   },
   {
    "duration": 6,
    "start_time": "2022-07-22T19:46:33.396Z"
   },
   {
    "duration": 6,
    "start_time": "2022-07-22T19:46:33.404Z"
   },
   {
    "duration": 48,
    "start_time": "2022-07-22T19:46:33.411Z"
   },
   {
    "duration": 6,
    "start_time": "2022-07-22T19:46:33.460Z"
   },
   {
    "duration": 10,
    "start_time": "2022-07-22T19:46:33.467Z"
   },
   {
    "duration": 7,
    "start_time": "2022-07-22T19:46:33.479Z"
   },
   {
    "duration": 15,
    "start_time": "2022-07-22T19:46:33.488Z"
   },
   {
    "duration": 10,
    "start_time": "2022-07-22T19:46:33.504Z"
   },
   {
    "duration": 114,
    "start_time": "2022-07-22T19:46:33.516Z"
   },
   {
    "duration": 86,
    "start_time": "2022-07-22T19:46:33.632Z"
   },
   {
    "duration": 94,
    "start_time": "2022-07-22T19:46:33.720Z"
   },
   {
    "duration": 8,
    "start_time": "2022-07-22T19:46:33.816Z"
   },
   {
    "duration": 8,
    "start_time": "2022-07-22T19:46:33.826Z"
   },
   {
    "duration": 101,
    "start_time": "2022-07-22T19:47:10.109Z"
   },
   {
    "duration": 42,
    "start_time": "2022-07-22T19:47:10.212Z"
   },
   {
    "duration": 2033,
    "start_time": "2022-07-22T19:47:10.256Z"
   },
   {
    "duration": 10,
    "start_time": "2022-07-22T19:47:12.292Z"
   },
   {
    "duration": 12,
    "start_time": "2022-07-22T19:47:12.304Z"
   },
   {
    "duration": 37,
    "start_time": "2022-07-22T19:47:12.318Z"
   },
   {
    "duration": 8,
    "start_time": "2022-07-22T19:47:12.357Z"
   },
   {
    "duration": 16,
    "start_time": "2022-07-22T19:47:12.367Z"
   },
   {
    "duration": 6,
    "start_time": "2022-07-22T19:47:12.384Z"
   },
   {
    "duration": 6,
    "start_time": "2022-07-22T19:47:12.393Z"
   },
   {
    "duration": 17,
    "start_time": "2022-07-22T19:47:12.401Z"
   },
   {
    "duration": 7,
    "start_time": "2022-07-22T19:47:12.452Z"
   },
   {
    "duration": 9,
    "start_time": "2022-07-22T19:47:12.460Z"
   },
   {
    "duration": 5,
    "start_time": "2022-07-22T19:47:12.471Z"
   },
   {
    "duration": 11,
    "start_time": "2022-07-22T19:47:12.478Z"
   },
   {
    "duration": 9,
    "start_time": "2022-07-22T19:47:12.491Z"
   },
   {
    "duration": 112,
    "start_time": "2022-07-22T19:47:12.502Z"
   },
   {
    "duration": 246,
    "start_time": "2022-07-22T19:47:12.616Z"
   },
   {
    "duration": 94,
    "start_time": "2022-07-22T19:47:12.865Z"
   },
   {
    "duration": 12,
    "start_time": "2022-07-22T19:47:12.960Z"
   },
   {
    "duration": 14,
    "start_time": "2022-07-22T19:47:12.974Z"
   },
   {
    "duration": 6,
    "start_time": "2022-07-22T19:48:39.495Z"
   },
   {
    "duration": 105,
    "start_time": "2022-07-22T19:49:55.768Z"
   },
   {
    "duration": 31,
    "start_time": "2022-07-22T19:49:55.876Z"
   },
   {
    "duration": 2148,
    "start_time": "2022-07-22T19:49:55.908Z"
   },
   {
    "duration": 10,
    "start_time": "2022-07-22T19:49:58.059Z"
   },
   {
    "duration": 11,
    "start_time": "2022-07-22T19:49:58.071Z"
   },
   {
    "duration": 9,
    "start_time": "2022-07-22T19:49:58.084Z"
   },
   {
    "duration": 8,
    "start_time": "2022-07-22T19:49:58.095Z"
   },
   {
    "duration": 53,
    "start_time": "2022-07-22T19:49:58.105Z"
   },
   {
    "duration": 8,
    "start_time": "2022-07-22T19:49:58.160Z"
   },
   {
    "duration": 10,
    "start_time": "2022-07-22T19:49:58.171Z"
   },
   {
    "duration": 17,
    "start_time": "2022-07-22T19:49:58.183Z"
   },
   {
    "duration": 6,
    "start_time": "2022-07-22T19:49:58.202Z"
   },
   {
    "duration": 45,
    "start_time": "2022-07-22T19:49:58.210Z"
   },
   {
    "duration": 8,
    "start_time": "2022-07-22T19:49:58.258Z"
   },
   {
    "duration": 16,
    "start_time": "2022-07-22T19:49:58.267Z"
   },
   {
    "duration": 12,
    "start_time": "2022-07-22T19:49:58.284Z"
   },
   {
    "duration": 6,
    "start_time": "2022-07-22T19:49:58.298Z"
   },
   {
    "duration": 18,
    "start_time": "2022-07-22T19:49:58.306Z"
   },
   {
    "duration": 15,
    "start_time": "2022-07-22T19:49:58.352Z"
   },
   {
    "duration": 14,
    "start_time": "2022-07-22T19:49:58.369Z"
   },
   {
    "duration": 9,
    "start_time": "2022-07-22T19:50:27.667Z"
   },
   {
    "duration": 9,
    "start_time": "2022-07-22T19:50:30.940Z"
   },
   {
    "duration": 9,
    "start_time": "2022-07-22T19:50:37.283Z"
   },
   {
    "duration": 159,
    "start_time": "2022-07-22T19:50:50.779Z"
   },
   {
    "duration": 22,
    "start_time": "2022-07-22T20:02:51.878Z"
   },
   {
    "duration": 8,
    "start_time": "2022-07-22T20:03:03.209Z"
   },
   {
    "duration": 9,
    "start_time": "2022-07-22T20:03:13.335Z"
   },
   {
    "duration": 8,
    "start_time": "2022-07-22T20:03:54.228Z"
   },
   {
    "duration": 188,
    "start_time": "2022-07-22T20:05:58.708Z"
   },
   {
    "duration": 9,
    "start_time": "2022-07-22T20:06:09.865Z"
   },
   {
    "duration": 9,
    "start_time": "2022-07-22T20:06:30.034Z"
   },
   {
    "duration": 6,
    "start_time": "2022-07-22T20:08:14.397Z"
   },
   {
    "duration": 1431,
    "start_time": "2022-07-22T20:08:49.334Z"
   },
   {
    "duration": 7,
    "start_time": "2022-07-22T20:09:05.459Z"
   },
   {
    "duration": 6,
    "start_time": "2022-07-22T20:09:31.020Z"
   },
   {
    "duration": 6,
    "start_time": "2022-07-22T20:15:16.823Z"
   },
   {
    "duration": 6,
    "start_time": "2022-07-22T20:15:37.439Z"
   },
   {
    "duration": 7,
    "start_time": "2022-07-22T20:15:59.576Z"
   },
   {
    "duration": 5,
    "start_time": "2022-07-22T20:16:27.446Z"
   },
   {
    "duration": 5,
    "start_time": "2022-07-22T20:16:56.470Z"
   },
   {
    "duration": 6,
    "start_time": "2022-07-22T20:17:20.169Z"
   },
   {
    "duration": 5,
    "start_time": "2022-07-22T20:17:34.751Z"
   },
   {
    "duration": 9,
    "start_time": "2022-07-22T20:31:41.824Z"
   },
   {
    "duration": 15,
    "start_time": "2022-07-22T20:31:45.559Z"
   },
   {
    "duration": 174,
    "start_time": "2022-07-22T20:35:45.647Z"
   },
   {
    "duration": 19,
    "start_time": "2022-07-22T20:37:07.951Z"
   },
   {
    "duration": 14,
    "start_time": "2022-07-22T20:37:11.877Z"
   },
   {
    "duration": 170,
    "start_time": "2022-07-22T20:38:41.761Z"
   },
   {
    "duration": 12,
    "start_time": "2022-07-22T20:44:14.780Z"
   },
   {
    "duration": 13,
    "start_time": "2022-07-22T20:44:19.585Z"
   },
   {
    "duration": 5,
    "start_time": "2022-07-22T20:49:52.511Z"
   },
   {
    "duration": 10,
    "start_time": "2022-07-22T20:53:14.990Z"
   },
   {
    "duration": 37,
    "start_time": "2022-07-22T20:53:26.949Z"
   },
   {
    "duration": 9,
    "start_time": "2022-07-22T20:53:34.832Z"
   },
   {
    "duration": 77,
    "start_time": "2022-07-22T21:02:44.553Z"
   },
   {
    "duration": 763,
    "start_time": "2022-07-22T21:02:53.756Z"
   },
   {
    "duration": 20,
    "start_time": "2022-07-22T21:08:40.420Z"
   },
   {
    "duration": 1007,
    "start_time": "2022-07-22T21:09:58.876Z"
   },
   {
    "duration": 957,
    "start_time": "2022-07-22T21:11:25.577Z"
   },
   {
    "duration": 1013,
    "start_time": "2022-07-22T21:12:07.692Z"
   },
   {
    "duration": 1086,
    "start_time": "2022-07-22T21:15:17.868Z"
   },
   {
    "duration": 930,
    "start_time": "2022-07-22T21:16:04.444Z"
   },
   {
    "duration": 904,
    "start_time": "2022-07-22T21:17:56.956Z"
   },
   {
    "duration": 901,
    "start_time": "2022-07-22T21:20:50.576Z"
   },
   {
    "duration": 1056,
    "start_time": "2022-07-22T21:21:08.032Z"
   },
   {
    "duration": 101,
    "start_time": "2022-07-22T21:21:33.741Z"
   },
   {
    "duration": 34,
    "start_time": "2022-07-22T21:21:33.844Z"
   },
   {
    "duration": 2103,
    "start_time": "2022-07-22T21:21:33.880Z"
   },
   {
    "duration": 16,
    "start_time": "2022-07-22T21:21:35.985Z"
   },
   {
    "duration": 20,
    "start_time": "2022-07-22T21:21:36.007Z"
   },
   {
    "duration": 30,
    "start_time": "2022-07-22T21:21:36.030Z"
   },
   {
    "duration": 12,
    "start_time": "2022-07-22T21:21:36.062Z"
   },
   {
    "duration": 29,
    "start_time": "2022-07-22T21:21:36.077Z"
   },
   {
    "duration": 17,
    "start_time": "2022-07-22T21:21:36.108Z"
   },
   {
    "duration": 36,
    "start_time": "2022-07-22T21:21:36.129Z"
   },
   {
    "duration": 13,
    "start_time": "2022-07-22T21:21:36.167Z"
   },
   {
    "duration": 11,
    "start_time": "2022-07-22T21:21:36.183Z"
   },
   {
    "duration": 17,
    "start_time": "2022-07-22T21:21:36.196Z"
   },
   {
    "duration": 45,
    "start_time": "2022-07-22T21:21:36.215Z"
   },
   {
    "duration": 22,
    "start_time": "2022-07-22T21:21:36.263Z"
   },
   {
    "duration": 17,
    "start_time": "2022-07-22T21:21:36.287Z"
   },
   {
    "duration": 6,
    "start_time": "2022-07-22T21:21:36.305Z"
   },
   {
    "duration": 16,
    "start_time": "2022-07-22T21:21:36.312Z"
   },
   {
    "duration": 14,
    "start_time": "2022-07-22T21:21:36.330Z"
   },
   {
    "duration": 12,
    "start_time": "2022-07-22T21:21:36.346Z"
   },
   {
    "duration": 29,
    "start_time": "2022-07-22T21:21:36.361Z"
   },
   {
    "duration": 1573,
    "start_time": "2022-07-22T21:21:36.392Z"
   },
   {
    "duration": 2013,
    "start_time": "2022-07-22T21:21:37.966Z"
   },
   {
    "duration": 9,
    "start_time": "2022-07-22T21:21:39.981Z"
   },
   {
    "duration": 11,
    "start_time": "2022-07-22T21:21:39.992Z"
   },
   {
    "duration": 11,
    "start_time": "2022-07-22T21:21:40.004Z"
   },
   {
    "duration": 42,
    "start_time": "2022-07-22T21:21:40.017Z"
   },
   {
    "duration": 5,
    "start_time": "2022-07-22T21:21:40.063Z"
   },
   {
    "duration": 40,
    "start_time": "2022-07-22T21:21:40.070Z"
   },
   {
    "duration": 654,
    "start_time": "2022-07-22T21:21:40.112Z"
   },
   {
    "duration": 636,
    "start_time": "2022-07-22T21:21:40.768Z"
   },
   {
    "duration": 11,
    "start_time": "2022-07-22T21:21:41.405Z"
   },
   {
    "duration": 0,
    "start_time": "2022-07-22T21:21:41.418Z"
   },
   {
    "duration": 0,
    "start_time": "2022-07-22T21:21:41.419Z"
   },
   {
    "duration": 142,
    "start_time": "2022-07-22T21:23:00.390Z"
   },
   {
    "duration": 44,
    "start_time": "2022-07-22T21:23:00.535Z"
   },
   {
    "duration": 2246,
    "start_time": "2022-07-22T21:23:00.582Z"
   },
   {
    "duration": 30,
    "start_time": "2022-07-22T21:23:02.831Z"
   },
   {
    "duration": 11,
    "start_time": "2022-07-22T21:23:02.863Z"
   },
   {
    "duration": 12,
    "start_time": "2022-07-22T21:23:02.876Z"
   },
   {
    "duration": 14,
    "start_time": "2022-07-22T21:23:02.890Z"
   },
   {
    "duration": 53,
    "start_time": "2022-07-22T21:23:02.907Z"
   },
   {
    "duration": 9,
    "start_time": "2022-07-22T21:23:02.962Z"
   },
   {
    "duration": 25,
    "start_time": "2022-07-22T21:23:02.975Z"
   },
   {
    "duration": 13,
    "start_time": "2022-07-22T21:23:03.002Z"
   },
   {
    "duration": 37,
    "start_time": "2022-07-22T21:23:03.017Z"
   },
   {
    "duration": 9,
    "start_time": "2022-07-22T21:23:03.056Z"
   },
   {
    "duration": 9,
    "start_time": "2022-07-22T21:23:03.067Z"
   },
   {
    "duration": 15,
    "start_time": "2022-07-22T21:23:03.078Z"
   },
   {
    "duration": 12,
    "start_time": "2022-07-22T21:23:03.095Z"
   },
   {
    "duration": 6,
    "start_time": "2022-07-22T21:23:03.109Z"
   },
   {
    "duration": 13,
    "start_time": "2022-07-22T21:23:03.153Z"
   },
   {
    "duration": 6,
    "start_time": "2022-07-22T21:23:03.168Z"
   },
   {
    "duration": 8,
    "start_time": "2022-07-22T21:23:03.175Z"
   },
   {
    "duration": 24,
    "start_time": "2022-07-22T21:23:03.185Z"
   },
   {
    "duration": 1557,
    "start_time": "2022-07-22T21:23:03.211Z"
   },
   {
    "duration": 2033,
    "start_time": "2022-07-22T21:23:04.770Z"
   },
   {
    "duration": 11,
    "start_time": "2022-07-22T21:23:06.805Z"
   },
   {
    "duration": 13,
    "start_time": "2022-07-22T21:23:06.818Z"
   },
   {
    "duration": 28,
    "start_time": "2022-07-22T21:23:06.833Z"
   },
   {
    "duration": 12,
    "start_time": "2022-07-22T21:23:06.863Z"
   },
   {
    "duration": 7,
    "start_time": "2022-07-22T21:23:06.879Z"
   },
   {
    "duration": 83,
    "start_time": "2022-07-22T21:23:06.887Z"
   },
   {
    "duration": 645,
    "start_time": "2022-07-22T21:23:06.973Z"
   },
   {
    "duration": 712,
    "start_time": "2022-07-22T21:23:07.620Z"
   },
   {
    "duration": 746,
    "start_time": "2022-07-22T21:23:08.334Z"
   },
   {
    "duration": 652,
    "start_time": "2022-07-22T21:23:09.082Z"
   },
   {
    "duration": 23,
    "start_time": "2022-07-22T21:23:09.736Z"
   },
   {
    "duration": 10,
    "start_time": "2022-07-22T21:23:53.422Z"
   },
   {
    "duration": 10,
    "start_time": "2022-07-22T21:24:06.597Z"
   },
   {
    "duration": 9,
    "start_time": "2022-07-22T21:25:08.813Z"
   },
   {
    "duration": 98,
    "start_time": "2022-07-22T21:34:38.158Z"
   },
   {
    "duration": 32,
    "start_time": "2022-07-22T21:34:38.257Z"
   },
   {
    "duration": 1781,
    "start_time": "2022-07-22T21:34:38.291Z"
   },
   {
    "duration": 9,
    "start_time": "2022-07-22T21:34:40.074Z"
   },
   {
    "duration": 11,
    "start_time": "2022-07-22T21:34:40.085Z"
   },
   {
    "duration": 8,
    "start_time": "2022-07-22T21:34:40.098Z"
   },
   {
    "duration": 7,
    "start_time": "2022-07-22T21:34:40.108Z"
   },
   {
    "duration": 44,
    "start_time": "2022-07-22T21:34:40.117Z"
   },
   {
    "duration": 6,
    "start_time": "2022-07-22T21:34:40.163Z"
   },
   {
    "duration": 13,
    "start_time": "2022-07-22T21:34:40.171Z"
   },
   {
    "duration": 8,
    "start_time": "2022-07-22T21:34:40.186Z"
   },
   {
    "duration": 7,
    "start_time": "2022-07-22T21:34:40.196Z"
   },
   {
    "duration": 0,
    "start_time": "2022-07-22T21:34:40.205Z"
   },
   {
    "duration": 0,
    "start_time": "2022-07-22T21:34:40.206Z"
   },
   {
    "duration": 0,
    "start_time": "2022-07-22T21:34:40.207Z"
   },
   {
    "duration": 0,
    "start_time": "2022-07-22T21:34:40.208Z"
   },
   {
    "duration": 0,
    "start_time": "2022-07-22T21:34:40.209Z"
   },
   {
    "duration": 0,
    "start_time": "2022-07-22T21:34:40.210Z"
   },
   {
    "duration": 0,
    "start_time": "2022-07-22T21:34:40.211Z"
   },
   {
    "duration": 0,
    "start_time": "2022-07-22T21:34:40.211Z"
   },
   {
    "duration": 0,
    "start_time": "2022-07-22T21:34:40.212Z"
   },
   {
    "duration": 0,
    "start_time": "2022-07-22T21:34:40.213Z"
   },
   {
    "duration": 0,
    "start_time": "2022-07-22T21:34:40.254Z"
   },
   {
    "duration": 0,
    "start_time": "2022-07-22T21:34:40.256Z"
   },
   {
    "duration": 0,
    "start_time": "2022-07-22T21:34:40.257Z"
   },
   {
    "duration": 0,
    "start_time": "2022-07-22T21:34:40.258Z"
   },
   {
    "duration": 0,
    "start_time": "2022-07-22T21:34:40.259Z"
   },
   {
    "duration": 0,
    "start_time": "2022-07-22T21:34:40.260Z"
   },
   {
    "duration": 0,
    "start_time": "2022-07-22T21:34:40.261Z"
   },
   {
    "duration": 0,
    "start_time": "2022-07-22T21:34:40.262Z"
   },
   {
    "duration": 0,
    "start_time": "2022-07-22T21:34:40.263Z"
   },
   {
    "duration": 0,
    "start_time": "2022-07-22T21:34:40.264Z"
   },
   {
    "duration": 0,
    "start_time": "2022-07-22T21:34:40.265Z"
   },
   {
    "duration": 0,
    "start_time": "2022-07-22T21:34:40.266Z"
   },
   {
    "duration": 0,
    "start_time": "2022-07-22T21:34:40.267Z"
   },
   {
    "duration": 0,
    "start_time": "2022-07-22T21:34:40.268Z"
   },
   {
    "duration": 0,
    "start_time": "2022-07-22T21:34:40.270Z"
   },
   {
    "duration": 0,
    "start_time": "2022-07-22T21:34:40.271Z"
   },
   {
    "duration": 0,
    "start_time": "2022-07-22T21:34:40.272Z"
   },
   {
    "duration": 0,
    "start_time": "2022-07-22T21:34:40.274Z"
   },
   {
    "duration": 0,
    "start_time": "2022-07-22T21:34:40.275Z"
   },
   {
    "duration": 0,
    "start_time": "2022-07-22T21:34:40.276Z"
   },
   {
    "duration": 10,
    "start_time": "2022-07-22T21:37:38.755Z"
   },
   {
    "duration": 0,
    "start_time": "2022-07-22T21:37:38.767Z"
   },
   {
    "duration": 0,
    "start_time": "2022-07-22T21:37:38.769Z"
   },
   {
    "duration": 0,
    "start_time": "2022-07-22T21:37:38.770Z"
   },
   {
    "duration": 9,
    "start_time": "2022-07-22T21:37:38.771Z"
   },
   {
    "duration": 0,
    "start_time": "2022-07-22T21:37:38.782Z"
   },
   {
    "duration": 0,
    "start_time": "2022-07-22T21:37:38.783Z"
   },
   {
    "duration": 8,
    "start_time": "2022-07-22T21:37:38.794Z"
   },
   {
    "duration": 0,
    "start_time": "2022-07-22T21:37:38.804Z"
   },
   {
    "duration": 0,
    "start_time": "2022-07-22T21:37:38.807Z"
   },
   {
    "duration": 0,
    "start_time": "2022-07-22T21:37:38.808Z"
   },
   {
    "duration": 0,
    "start_time": "2022-07-22T21:37:38.809Z"
   },
   {
    "duration": 0,
    "start_time": "2022-07-22T21:37:38.810Z"
   },
   {
    "duration": 0,
    "start_time": "2022-07-22T21:37:38.811Z"
   },
   {
    "duration": 0,
    "start_time": "2022-07-22T21:37:38.812Z"
   },
   {
    "duration": 10,
    "start_time": "2022-07-22T21:37:38.853Z"
   },
   {
    "duration": 0,
    "start_time": "2022-07-22T21:37:38.864Z"
   },
   {
    "duration": 0,
    "start_time": "2022-07-22T21:37:38.866Z"
   },
   {
    "duration": 8,
    "start_time": "2022-07-22T21:37:38.876Z"
   },
   {
    "duration": 7,
    "start_time": "2022-07-22T21:37:38.895Z"
   },
   {
    "duration": 8,
    "start_time": "2022-07-22T21:37:38.914Z"
   },
   {
    "duration": 0,
    "start_time": "2022-07-22T21:37:38.923Z"
   },
   {
    "duration": 0,
    "start_time": "2022-07-22T21:37:38.924Z"
   },
   {
    "duration": 0,
    "start_time": "2022-07-22T21:37:38.925Z"
   },
   {
    "duration": 8,
    "start_time": "2022-07-22T21:37:38.954Z"
   },
   {
    "duration": 0,
    "start_time": "2022-07-22T21:37:38.963Z"
   },
   {
    "duration": 8,
    "start_time": "2022-07-22T21:37:38.975Z"
   },
   {
    "duration": 0,
    "start_time": "2022-07-22T21:37:38.984Z"
   },
   {
    "duration": 11,
    "start_time": "2022-07-22T21:37:38.986Z"
   },
   {
    "duration": 0,
    "start_time": "2022-07-22T21:37:38.999Z"
   },
   {
    "duration": 0,
    "start_time": "2022-07-22T21:37:39.000Z"
   },
   {
    "duration": 0,
    "start_time": "2022-07-22T21:37:39.001Z"
   },
   {
    "duration": 0,
    "start_time": "2022-07-22T21:37:39.002Z"
   },
   {
    "duration": 91,
    "start_time": "2022-07-22T21:38:45.841Z"
   },
   {
    "duration": 40,
    "start_time": "2022-07-22T21:38:45.933Z"
   },
   {
    "duration": 1938,
    "start_time": "2022-07-22T21:38:45.975Z"
   },
   {
    "duration": 9,
    "start_time": "2022-07-22T21:38:47.915Z"
   },
   {
    "duration": 26,
    "start_time": "2022-07-22T21:38:47.926Z"
   },
   {
    "duration": 10,
    "start_time": "2022-07-22T21:38:47.954Z"
   },
   {
    "duration": 8,
    "start_time": "2022-07-22T21:38:47.965Z"
   },
   {
    "duration": 15,
    "start_time": "2022-07-22T21:38:47.975Z"
   },
   {
    "duration": 7,
    "start_time": "2022-07-22T21:38:47.992Z"
   },
   {
    "duration": 14,
    "start_time": "2022-07-22T21:38:48.002Z"
   },
   {
    "duration": 43,
    "start_time": "2022-07-22T21:38:48.017Z"
   },
   {
    "duration": 276,
    "start_time": "2022-07-22T21:38:48.062Z"
   },
   {
    "duration": 15,
    "start_time": "2022-07-22T21:38:48.339Z"
   },
   {
    "duration": 9,
    "start_time": "2022-07-22T21:38:48.356Z"
   },
   {
    "duration": 12,
    "start_time": "2022-07-22T21:38:48.366Z"
   },
   {
    "duration": 12,
    "start_time": "2022-07-22T21:38:48.379Z"
   },
   {
    "duration": 6,
    "start_time": "2022-07-22T21:38:48.393Z"
   },
   {
    "duration": 9,
    "start_time": "2022-07-22T21:38:48.401Z"
   },
   {
    "duration": 6,
    "start_time": "2022-07-22T21:38:48.413Z"
   },
   {
    "duration": 7,
    "start_time": "2022-07-22T21:38:48.453Z"
   },
   {
    "duration": 28,
    "start_time": "2022-07-22T21:38:48.462Z"
   },
   {
    "duration": 1398,
    "start_time": "2022-07-22T21:38:48.492Z"
   },
   {
    "duration": 1646,
    "start_time": "2022-07-22T21:38:49.892Z"
   },
   {
    "duration": 14,
    "start_time": "2022-07-22T21:38:51.540Z"
   },
   {
    "duration": 8,
    "start_time": "2022-07-22T21:38:51.556Z"
   },
   {
    "duration": 8,
    "start_time": "2022-07-22T21:38:51.565Z"
   },
   {
    "duration": 11,
    "start_time": "2022-07-22T21:38:51.574Z"
   },
   {
    "duration": 4,
    "start_time": "2022-07-22T21:38:51.588Z"
   },
   {
    "duration": 66,
    "start_time": "2022-07-22T21:38:51.594Z"
   },
   {
    "duration": 542,
    "start_time": "2022-07-22T21:38:51.661Z"
   },
   {
    "duration": 547,
    "start_time": "2022-07-22T21:38:52.205Z"
   },
   {
    "duration": 548,
    "start_time": "2022-07-22T21:38:52.754Z"
   },
   {
    "duration": 532,
    "start_time": "2022-07-22T21:38:53.304Z"
   },
   {
    "duration": 15,
    "start_time": "2022-07-22T21:38:53.837Z"
   },
   {
    "duration": 7,
    "start_time": "2022-07-22T21:38:53.853Z"
   },
   {
    "duration": 4,
    "start_time": "2022-07-22T21:38:53.862Z"
   },
   {
    "duration": 8,
    "start_time": "2022-07-22T21:38:53.867Z"
   },
   {
    "duration": 7,
    "start_time": "2022-07-22T21:38:53.876Z"
   },
   {
    "duration": 11,
    "start_time": "2022-07-22T21:38:53.884Z"
   },
   {
    "duration": 257,
    "start_time": "2022-07-22T21:38:53.897Z"
   },
   {
    "duration": 13,
    "start_time": "2022-07-22T21:38:54.155Z"
   },
   {
    "duration": 0,
    "start_time": "2022-07-22T21:38:54.169Z"
   },
   {
    "duration": 612,
    "start_time": "2022-07-22T21:39:45.199Z"
   },
   {
    "duration": 556,
    "start_time": "2022-07-22T21:40:03.354Z"
   },
   {
    "duration": 562,
    "start_time": "2022-07-22T21:40:04.861Z"
   },
   {
    "duration": 605,
    "start_time": "2022-07-22T21:40:05.757Z"
   },
   {
    "duration": 8,
    "start_time": "2022-07-22T21:40:15.715Z"
   },
   {
    "duration": 12,
    "start_time": "2022-07-22T21:45:04.589Z"
   },
   {
    "duration": 5,
    "start_time": "2022-07-22T21:47:01.686Z"
   },
   {
    "duration": 12,
    "start_time": "2022-07-22T21:47:56.729Z"
   },
   {
    "duration": 94,
    "start_time": "2022-07-22T21:48:12.795Z"
   },
   {
    "duration": 26,
    "start_time": "2022-07-22T21:48:12.891Z"
   },
   {
    "duration": 1670,
    "start_time": "2022-07-22T21:48:12.919Z"
   },
   {
    "duration": 8,
    "start_time": "2022-07-22T21:48:14.591Z"
   },
   {
    "duration": 11,
    "start_time": "2022-07-22T21:48:14.601Z"
   },
   {
    "duration": 11,
    "start_time": "2022-07-22T21:48:14.614Z"
   },
   {
    "duration": 28,
    "start_time": "2022-07-22T21:48:14.627Z"
   },
   {
    "duration": 11,
    "start_time": "2022-07-22T21:48:14.657Z"
   },
   {
    "duration": 12,
    "start_time": "2022-07-22T21:48:14.670Z"
   },
   {
    "duration": 8,
    "start_time": "2022-07-22T21:48:14.684Z"
   },
   {
    "duration": 17,
    "start_time": "2022-07-22T21:48:14.694Z"
   },
   {
    "duration": 5,
    "start_time": "2022-07-22T21:48:14.713Z"
   },
   {
    "duration": 34,
    "start_time": "2022-07-22T21:48:14.719Z"
   },
   {
    "duration": 6,
    "start_time": "2022-07-22T21:48:14.756Z"
   },
   {
    "duration": 8,
    "start_time": "2022-07-22T21:48:14.763Z"
   },
   {
    "duration": 10,
    "start_time": "2022-07-22T21:48:14.772Z"
   },
   {
    "duration": 7,
    "start_time": "2022-07-22T21:48:14.783Z"
   },
   {
    "duration": 5,
    "start_time": "2022-07-22T21:48:14.792Z"
   },
   {
    "duration": 5,
    "start_time": "2022-07-22T21:48:14.799Z"
   },
   {
    "duration": 5,
    "start_time": "2022-07-22T21:48:14.806Z"
   },
   {
    "duration": 43,
    "start_time": "2022-07-22T21:48:14.812Z"
   },
   {
    "duration": 25,
    "start_time": "2022-07-22T21:48:14.857Z"
   },
   {
    "duration": 1461,
    "start_time": "2022-07-22T21:48:14.883Z"
   },
   {
    "duration": 1696,
    "start_time": "2022-07-22T21:48:16.345Z"
   },
   {
    "duration": 10,
    "start_time": "2022-07-22T21:48:18.043Z"
   },
   {
    "duration": 9,
    "start_time": "2022-07-22T21:48:18.055Z"
   },
   {
    "duration": 8,
    "start_time": "2022-07-22T21:48:18.065Z"
   },
   {
    "duration": 10,
    "start_time": "2022-07-22T21:48:18.074Z"
   },
   {
    "duration": 5,
    "start_time": "2022-07-22T21:48:18.086Z"
   },
   {
    "duration": 66,
    "start_time": "2022-07-22T21:48:18.092Z"
   },
   {
    "duration": 565,
    "start_time": "2022-07-22T21:48:18.160Z"
   },
   {
    "duration": 546,
    "start_time": "2022-07-22T21:48:18.727Z"
   },
   {
    "duration": 533,
    "start_time": "2022-07-22T21:48:19.275Z"
   },
   {
    "duration": 525,
    "start_time": "2022-07-22T21:48:19.810Z"
   },
   {
    "duration": 16,
    "start_time": "2022-07-22T21:48:20.336Z"
   },
   {
    "duration": 7,
    "start_time": "2022-07-22T21:48:20.353Z"
   },
   {
    "duration": 4,
    "start_time": "2022-07-22T21:48:20.361Z"
   },
   {
    "duration": 5,
    "start_time": "2022-07-22T21:48:20.366Z"
   },
   {
    "duration": 4,
    "start_time": "2022-07-22T21:48:20.373Z"
   },
   {
    "duration": 6,
    "start_time": "2022-07-22T21:48:20.378Z"
   },
   {
    "duration": 249,
    "start_time": "2022-07-22T21:48:20.387Z"
   },
   {
    "duration": 15,
    "start_time": "2022-07-22T21:48:20.638Z"
   },
   {
    "duration": 0,
    "start_time": "2022-07-22T21:48:20.654Z"
   },
   {
    "duration": 12,
    "start_time": "2022-07-22T21:49:59.191Z"
   },
   {
    "duration": 9,
    "start_time": "2022-07-22T21:50:16.782Z"
   },
   {
    "duration": 3,
    "start_time": "2022-07-22T21:51:05.648Z"
   },
   {
    "duration": 40,
    "start_time": "2022-07-22T21:51:25.691Z"
   },
   {
    "duration": 105,
    "start_time": "2022-07-22T21:51:38.447Z"
   },
   {
    "duration": 30,
    "start_time": "2022-07-22T21:51:40.024Z"
   },
   {
    "duration": 1682,
    "start_time": "2022-07-22T21:51:41.206Z"
   },
   {
    "duration": 10,
    "start_time": "2022-07-22T21:51:43.164Z"
   },
   {
    "duration": 13,
    "start_time": "2022-07-22T21:51:44.144Z"
   },
   {
    "duration": 18,
    "start_time": "2022-07-22T21:51:45.076Z"
   },
   {
    "duration": 8,
    "start_time": "2022-07-22T21:51:47.406Z"
   },
   {
    "duration": 10,
    "start_time": "2022-07-22T21:51:48.332Z"
   },
   {
    "duration": 13,
    "start_time": "2022-07-22T21:51:49.553Z"
   },
   {
    "duration": 6,
    "start_time": "2022-07-22T21:51:51.740Z"
   },
   {
    "duration": 15,
    "start_time": "2022-07-22T21:51:52.706Z"
   },
   {
    "duration": 5,
    "start_time": "2022-07-22T21:51:53.580Z"
   },
   {
    "duration": 5,
    "start_time": "2022-07-22T21:51:55.283Z"
   },
   {
    "duration": 9,
    "start_time": "2022-07-22T21:51:56.059Z"
   },
   {
    "duration": 4,
    "start_time": "2022-07-22T21:51:56.842Z"
   },
   {
    "duration": 10,
    "start_time": "2022-07-22T21:51:58.334Z"
   },
   {
    "duration": 8,
    "start_time": "2022-07-22T21:51:59.042Z"
   },
   {
    "duration": 4,
    "start_time": "2022-07-22T21:51:59.692Z"
   },
   {
    "duration": 5,
    "start_time": "2022-07-22T21:52:01.672Z"
   },
   {
    "duration": 5,
    "start_time": "2022-07-22T21:52:02.362Z"
   },
   {
    "duration": 5,
    "start_time": "2022-07-22T21:52:03.702Z"
   },
   {
    "duration": 18,
    "start_time": "2022-07-22T21:52:04.548Z"
   },
   {
    "duration": 1379,
    "start_time": "2022-07-22T21:52:05.216Z"
   },
   {
    "duration": 1677,
    "start_time": "2022-07-22T21:52:06.597Z"
   },
   {
    "duration": 7,
    "start_time": "2022-07-22T21:52:08.276Z"
   },
   {
    "duration": 7,
    "start_time": "2022-07-22T21:52:08.284Z"
   },
   {
    "duration": 8,
    "start_time": "2022-07-22T21:52:08.396Z"
   },
   {
    "duration": 11,
    "start_time": "2022-07-22T21:52:10.022Z"
   },
   {
    "duration": 5,
    "start_time": "2022-07-22T21:52:11.655Z"
   },
   {
    "duration": 32,
    "start_time": "2022-07-22T21:52:12.386Z"
   },
   {
    "duration": 555,
    "start_time": "2022-07-22T21:52:13.845Z"
   },
   {
    "duration": 536,
    "start_time": "2022-07-22T21:52:14.465Z"
   },
   {
    "duration": 541,
    "start_time": "2022-07-22T21:52:15.123Z"
   },
   {
    "duration": 583,
    "start_time": "2022-07-22T21:52:15.773Z"
   },
   {
    "duration": 13,
    "start_time": "2022-07-22T21:52:16.412Z"
   },
   {
    "duration": 8,
    "start_time": "2022-07-22T21:52:17.443Z"
   },
   {
    "duration": 5,
    "start_time": "2022-07-22T21:53:29.511Z"
   },
   {
    "duration": 5,
    "start_time": "2022-07-22T21:54:21.099Z"
   },
   {
    "duration": 14,
    "start_time": "2022-07-22T21:54:27.059Z"
   },
   {
    "duration": 8,
    "start_time": "2022-07-22T21:55:22.298Z"
   },
   {
    "duration": 568,
    "start_time": "2022-07-22T21:56:41.205Z"
   },
   {
    "duration": 568,
    "start_time": "2022-07-22T21:56:42.297Z"
   },
   {
    "duration": 621,
    "start_time": "2022-07-22T21:56:44.265Z"
   },
   {
    "duration": 605,
    "start_time": "2022-07-22T21:56:46.529Z"
   },
   {
    "duration": 14,
    "start_time": "2022-07-22T21:56:47.957Z"
   },
   {
    "duration": 8,
    "start_time": "2022-07-22T21:56:49.358Z"
   },
   {
    "duration": 2559,
    "start_time": "2022-07-22T21:59:23.940Z"
   },
   {
    "duration": 6,
    "start_time": "2022-07-22T22:06:01.877Z"
   },
   {
    "duration": 8,
    "start_time": "2022-07-22T22:06:02.742Z"
   },
   {
    "duration": 6,
    "start_time": "2022-07-22T22:06:03.518Z"
   },
   {
    "duration": 7,
    "start_time": "2022-07-22T22:06:05.007Z"
   },
   {
    "duration": 225,
    "start_time": "2022-07-22T22:06:06.848Z"
   },
   {
    "duration": 4,
    "start_time": "2022-07-22T22:06:08.255Z"
   },
   {
    "duration": 24,
    "start_time": "2022-07-22T22:06:10.515Z"
   },
   {
    "duration": 2235,
    "start_time": "2022-07-22T22:06:14.727Z"
   },
   {
    "duration": 2164,
    "start_time": "2022-07-22T22:56:48.203Z"
   },
   {
    "duration": 225,
    "start_time": "2022-07-22T22:57:07.678Z"
   },
   {
    "duration": 2709,
    "start_time": "2022-07-22T22:57:21.316Z"
   },
   {
    "duration": 13,
    "start_time": "2022-07-22T22:58:33.279Z"
   },
   {
    "duration": 96,
    "start_time": "2022-07-22T22:59:31.158Z"
   },
   {
    "duration": 14,
    "start_time": "2022-07-22T22:59:44.212Z"
   },
   {
    "duration": 142,
    "start_time": "2022-07-22T23:00:14.450Z"
   },
   {
    "duration": 9,
    "start_time": "2022-07-22T23:00:32.806Z"
   },
   {
    "duration": 15,
    "start_time": "2022-07-22T23:00:40.200Z"
   },
   {
    "duration": 7,
    "start_time": "2022-07-22T23:09:28.630Z"
   },
   {
    "duration": 14,
    "start_time": "2022-07-22T23:09:36.316Z"
   },
   {
    "duration": 50,
    "start_time": "2022-07-22T23:26:58.226Z"
   },
   {
    "duration": 735,
    "start_time": "2022-07-22T23:27:31.917Z"
   },
   {
    "duration": 30,
    "start_time": "2022-07-22T23:27:32.796Z"
   },
   {
    "duration": 1793,
    "start_time": "2022-07-22T23:27:33.750Z"
   },
   {
    "duration": 9,
    "start_time": "2022-07-22T23:27:35.807Z"
   },
   {
    "duration": 11,
    "start_time": "2022-07-22T23:27:36.438Z"
   },
   {
    "duration": 8,
    "start_time": "2022-07-22T23:27:37.135Z"
   },
   {
    "duration": 7,
    "start_time": "2022-07-22T23:27:38.346Z"
   },
   {
    "duration": 13,
    "start_time": "2022-07-22T23:27:39.047Z"
   },
   {
    "duration": 12,
    "start_time": "2022-07-22T23:27:39.794Z"
   },
   {
    "duration": 6,
    "start_time": "2022-07-22T23:27:41.505Z"
   },
   {
    "duration": 13,
    "start_time": "2022-07-22T23:27:42.167Z"
   },
   {
    "duration": 4,
    "start_time": "2022-07-22T23:27:42.884Z"
   },
   {
    "duration": 6,
    "start_time": "2022-07-22T23:27:44.435Z"
   },
   {
    "duration": 7,
    "start_time": "2022-07-22T23:27:45.211Z"
   },
   {
    "duration": 5,
    "start_time": "2022-07-22T23:27:45.933Z"
   },
   {
    "duration": 12,
    "start_time": "2022-07-22T23:27:47.237Z"
   },
   {
    "duration": 9,
    "start_time": "2022-07-22T23:27:47.914Z"
   },
   {
    "duration": 5,
    "start_time": "2022-07-22T23:27:48.503Z"
   },
   {
    "duration": 6,
    "start_time": "2022-07-22T23:27:50.293Z"
   },
   {
    "duration": 5,
    "start_time": "2022-07-22T23:27:51.062Z"
   },
   {
    "duration": 7,
    "start_time": "2022-07-22T23:27:51.731Z"
   },
   {
    "duration": 23,
    "start_time": "2022-07-22T23:27:52.365Z"
   },
   {
    "duration": 1443,
    "start_time": "2022-07-22T23:27:52.844Z"
   },
   {
    "duration": 1635,
    "start_time": "2022-07-22T23:27:54.289Z"
   },
   {
    "duration": 7,
    "start_time": "2022-07-22T23:27:55.926Z"
   },
   {
    "duration": 21,
    "start_time": "2022-07-22T23:27:55.935Z"
   },
   {
    "duration": 11,
    "start_time": "2022-07-22T23:27:55.958Z"
   },
   {
    "duration": 18,
    "start_time": "2022-07-22T23:27:57.623Z"
   },
   {
    "duration": 6,
    "start_time": "2022-07-22T23:28:00.274Z"
   },
   {
    "duration": 33,
    "start_time": "2022-07-22T23:28:01.672Z"
   },
   {
    "duration": 4,
    "start_time": "2022-07-22T23:28:02.667Z"
   },
   {
    "duration": 578,
    "start_time": "2022-07-22T23:28:04.212Z"
   },
   {
    "duration": 557,
    "start_time": "2022-07-22T23:28:04.911Z"
   },
   {
    "duration": 574,
    "start_time": "2022-07-22T23:28:06.378Z"
   },
   {
    "duration": 591,
    "start_time": "2022-07-22T23:28:07.312Z"
   },
   {
    "duration": 14,
    "start_time": "2022-07-22T23:28:08.021Z"
   },
   {
    "duration": 7,
    "start_time": "2022-07-22T23:28:09.281Z"
   },
   {
    "duration": 5,
    "start_time": "2022-07-22T23:28:12.196Z"
   },
   {
    "duration": 5,
    "start_time": "2022-07-22T23:28:13.399Z"
   },
   {
    "duration": 5,
    "start_time": "2022-07-22T23:28:14.114Z"
   },
   {
    "duration": 6,
    "start_time": "2022-07-22T23:28:14.872Z"
   },
   {
    "duration": 262,
    "start_time": "2022-07-22T23:28:15.809Z"
   },
   {
    "duration": 5,
    "start_time": "2022-07-22T23:28:16.722Z"
   },
   {
    "duration": 27,
    "start_time": "2022-07-22T23:28:17.669Z"
   },
   {
    "duration": 2304,
    "start_time": "2022-07-22T23:28:19.823Z"
   },
   {
    "duration": 406,
    "start_time": "2022-07-22T23:28:22.129Z"
   },
   {
    "duration": 7,
    "start_time": "2022-07-22T23:38:27.794Z"
   },
   {
    "duration": 8,
    "start_time": "2022-07-22T23:39:13.228Z"
   },
   {
    "duration": 55,
    "start_time": "2022-07-23T16:14:13.260Z"
   },
   {
    "duration": 8,
    "start_time": "2022-07-23T16:14:45.282Z"
   },
   {
    "duration": 1312,
    "start_time": "2022-07-23T16:14:53.982Z"
   },
   {
    "duration": 35,
    "start_time": "2022-07-23T16:14:55.296Z"
   },
   {
    "duration": 2485,
    "start_time": "2022-07-23T16:14:55.332Z"
   },
   {
    "duration": 10,
    "start_time": "2022-07-23T16:14:57.819Z"
   },
   {
    "duration": 15,
    "start_time": "2022-07-23T16:14:57.830Z"
   },
   {
    "duration": 17,
    "start_time": "2022-07-23T16:14:57.848Z"
   },
   {
    "duration": 14,
    "start_time": "2022-07-23T16:14:57.867Z"
   },
   {
    "duration": 22,
    "start_time": "2022-07-23T16:14:57.884Z"
   },
   {
    "duration": 14,
    "start_time": "2022-07-23T16:14:57.907Z"
   },
   {
    "duration": 26,
    "start_time": "2022-07-23T16:14:57.923Z"
   },
   {
    "duration": 30,
    "start_time": "2022-07-23T16:14:57.952Z"
   },
   {
    "duration": 6,
    "start_time": "2022-07-23T16:14:57.985Z"
   },
   {
    "duration": 8,
    "start_time": "2022-07-23T16:14:58.067Z"
   },
   {
    "duration": 9,
    "start_time": "2022-07-23T16:14:58.268Z"
   },
   {
    "duration": 7,
    "start_time": "2022-07-23T16:14:58.453Z"
   },
   {
    "duration": 17,
    "start_time": "2022-07-23T16:14:58.839Z"
   },
   {
    "duration": 16,
    "start_time": "2022-07-23T16:14:59.044Z"
   },
   {
    "duration": 7,
    "start_time": "2022-07-23T16:14:59.277Z"
   },
   {
    "duration": 7,
    "start_time": "2022-07-23T16:14:59.996Z"
   },
   {
    "duration": 7,
    "start_time": "2022-07-23T16:15:00.174Z"
   },
   {
    "duration": 9,
    "start_time": "2022-07-23T16:15:00.560Z"
   },
   {
    "duration": 31,
    "start_time": "2022-07-23T16:15:00.743Z"
   },
   {
    "duration": 1811,
    "start_time": "2022-07-23T16:15:00.942Z"
   },
   {
    "duration": 2222,
    "start_time": "2022-07-23T16:15:02.755Z"
   },
   {
    "duration": 12,
    "start_time": "2022-07-23T16:15:04.979Z"
   },
   {
    "duration": 13,
    "start_time": "2022-07-23T16:15:04.994Z"
   },
   {
    "duration": 11,
    "start_time": "2022-07-23T16:15:05.008Z"
   },
   {
    "duration": 46,
    "start_time": "2022-07-23T16:15:05.021Z"
   },
   {
    "duration": 17,
    "start_time": "2022-07-23T16:15:05.070Z"
   },
   {
    "duration": 59,
    "start_time": "2022-07-23T16:15:05.089Z"
   },
   {
    "duration": 6,
    "start_time": "2022-07-23T16:15:05.151Z"
   },
   {
    "duration": 761,
    "start_time": "2022-07-23T16:15:06.394Z"
   },
   {
    "duration": 771,
    "start_time": "2022-07-23T16:15:07.166Z"
   },
   {
    "duration": 797,
    "start_time": "2022-07-23T16:15:07.939Z"
   },
   {
    "duration": 911,
    "start_time": "2022-07-23T16:15:08.739Z"
   },
   {
    "duration": 19,
    "start_time": "2022-07-23T16:15:09.654Z"
   },
   {
    "duration": 13,
    "start_time": "2022-07-23T16:15:09.940Z"
   },
   {
    "duration": 7,
    "start_time": "2022-07-23T16:15:11.880Z"
   },
   {
    "duration": 10,
    "start_time": "2022-07-23T16:15:12.552Z"
   },
   {
    "duration": 8,
    "start_time": "2022-07-23T16:15:13.141Z"
   },
   {
    "duration": 12,
    "start_time": "2022-07-23T16:15:13.543Z"
   },
   {
    "duration": 302,
    "start_time": "2022-07-23T16:15:14.004Z"
   },
   {
    "duration": 5,
    "start_time": "2022-07-23T16:15:14.612Z"
   },
   {
    "duration": 33,
    "start_time": "2022-07-23T16:15:15.492Z"
   },
   {
    "duration": 3417,
    "start_time": "2022-07-23T16:15:17.190Z"
   },
   {
    "duration": 275,
    "start_time": "2022-07-23T16:15:20.715Z"
   },
   {
    "duration": 281,
    "start_time": "2022-07-23T16:16:20.745Z"
   },
   {
    "duration": 277,
    "start_time": "2022-07-23T16:17:21.941Z"
   },
   {
    "duration": 201,
    "start_time": "2022-07-23T16:17:32.147Z"
   },
   {
    "duration": 309,
    "start_time": "2022-07-23T16:17:40.339Z"
   },
   {
    "duration": 148,
    "start_time": "2022-07-23T16:17:52.904Z"
   },
   {
    "duration": 192,
    "start_time": "2022-07-23T16:18:05.245Z"
   },
   {
    "duration": 14,
    "start_time": "2022-07-23T16:19:19.941Z"
   },
   {
    "duration": 342275,
    "start_time": "2022-07-23T16:20:01.340Z"
   },
   {
    "duration": 50,
    "start_time": "2022-07-23T16:27:36.668Z"
   },
   {
    "duration": 167,
    "start_time": "2022-07-23T16:29:15.717Z"
   },
   {
    "duration": 350,
    "start_time": "2022-07-23T16:40:52.561Z"
   },
   {
    "duration": 249,
    "start_time": "2022-07-23T16:41:09.769Z"
   },
   {
    "duration": 316,
    "start_time": "2022-07-23T16:41:32.552Z"
   },
   {
    "duration": 309,
    "start_time": "2022-07-23T16:41:49.704Z"
   },
   {
    "duration": 397,
    "start_time": "2022-07-23T16:42:03.434Z"
   },
   {
    "duration": 350,
    "start_time": "2022-07-23T16:42:11.226Z"
   },
   {
    "duration": 966,
    "start_time": "2022-07-23T16:42:49.076Z"
   },
   {
    "duration": 287,
    "start_time": "2022-07-23T16:43:00.097Z"
   },
   {
    "duration": 13,
    "start_time": "2022-07-23T16:43:45.531Z"
   },
   {
    "duration": 191,
    "start_time": "2022-07-23T16:46:36.835Z"
   },
   {
    "duration": 201,
    "start_time": "2022-07-23T16:46:55.534Z"
   },
   {
    "duration": 193,
    "start_time": "2022-07-23T16:47:03.173Z"
   },
   {
    "duration": 182,
    "start_time": "2022-07-23T16:47:12.230Z"
   },
   {
    "duration": 7,
    "start_time": "2022-07-23T16:47:43.676Z"
   },
   {
    "duration": 13,
    "start_time": "2022-07-23T16:48:04.673Z"
   },
   {
    "duration": 9,
    "start_time": "2022-07-23T16:48:11.395Z"
   },
   {
    "duration": 308,
    "start_time": "2022-07-23T16:51:30.051Z"
   },
   {
    "duration": 901,
    "start_time": "2022-07-23T16:51:56.384Z"
   },
   {
    "duration": 596,
    "start_time": "2022-07-23T16:52:05.795Z"
   },
   {
    "duration": 642,
    "start_time": "2022-07-23T16:52:27.000Z"
   },
   {
    "duration": 0,
    "start_time": "2022-07-23T16:56:47.242Z"
   },
   {
    "duration": 253,
    "start_time": "2022-07-23T17:10:35.281Z"
   },
   {
    "duration": 12,
    "start_time": "2022-07-23T17:11:00.093Z"
   },
   {
    "duration": 243,
    "start_time": "2022-07-23T17:11:48.844Z"
   },
   {
    "duration": 157,
    "start_time": "2022-07-23T17:13:56.194Z"
   },
   {
    "duration": 261,
    "start_time": "2022-07-23T17:14:27.890Z"
   },
   {
    "duration": 298,
    "start_time": "2022-07-23T17:15:09.651Z"
   },
   {
    "duration": 219,
    "start_time": "2022-07-23T17:16:12.607Z"
   },
   {
    "duration": 201,
    "start_time": "2022-07-23T17:17:40.593Z"
   },
   {
    "duration": 267,
    "start_time": "2022-07-23T17:17:46.167Z"
   },
   {
    "duration": 306,
    "start_time": "2022-07-23T17:18:24.385Z"
   },
   {
    "duration": 189,
    "start_time": "2022-07-23T17:19:37.107Z"
   },
   {
    "duration": 206,
    "start_time": "2022-07-23T17:20:01.742Z"
   },
   {
    "duration": 204,
    "start_time": "2022-07-23T17:20:30.390Z"
   },
   {
    "duration": 162,
    "start_time": "2022-07-23T17:22:12.238Z"
   },
   {
    "duration": 173,
    "start_time": "2022-07-23T17:22:18.069Z"
   },
   {
    "duration": 194,
    "start_time": "2022-07-23T17:22:24.133Z"
   },
   {
    "duration": 10,
    "start_time": "2022-07-23T19:11:53.430Z"
   },
   {
    "duration": 167,
    "start_time": "2022-07-23T19:12:04.171Z"
   },
   {
    "duration": 4,
    "start_time": "2022-07-23T19:31:41.968Z"
   },
   {
    "duration": 6,
    "start_time": "2022-07-23T19:31:57.941Z"
   },
   {
    "duration": 6,
    "start_time": "2022-07-23T19:32:02.299Z"
   },
   {
    "duration": 8,
    "start_time": "2022-07-23T19:32:33.396Z"
   },
   {
    "duration": 9,
    "start_time": "2022-07-23T19:33:03.344Z"
   },
   {
    "duration": 9,
    "start_time": "2022-07-23T19:33:16.887Z"
   },
   {
    "duration": 20,
    "start_time": "2022-07-23T19:33:32.642Z"
   },
   {
    "duration": 10,
    "start_time": "2022-07-23T19:33:40.738Z"
   },
   {
    "duration": 10,
    "start_time": "2022-07-23T19:42:16.179Z"
   },
   {
    "duration": 13,
    "start_time": "2022-07-23T19:44:32.122Z"
   },
   {
    "duration": 13,
    "start_time": "2022-07-23T19:45:29.896Z"
   },
   {
    "duration": 19,
    "start_time": "2022-07-23T19:55:22.169Z"
   },
   {
    "duration": 11,
    "start_time": "2022-07-23T19:55:59.276Z"
   },
   {
    "duration": 13,
    "start_time": "2022-07-23T19:57:01.424Z"
   },
   {
    "duration": 13,
    "start_time": "2022-07-23T19:59:26.778Z"
   },
   {
    "duration": 15,
    "start_time": "2022-07-23T19:59:57.092Z"
   },
   {
    "duration": 12,
    "start_time": "2022-07-23T20:03:37.365Z"
   },
   {
    "duration": 15,
    "start_time": "2022-07-23T20:04:01.053Z"
   },
   {
    "duration": 15,
    "start_time": "2022-07-23T20:04:22.071Z"
   },
   {
    "duration": 12,
    "start_time": "2022-07-23T20:04:40.997Z"
   },
   {
    "duration": 12,
    "start_time": "2022-07-23T20:04:50.452Z"
   },
   {
    "duration": 11,
    "start_time": "2022-07-23T20:06:19.678Z"
   },
   {
    "duration": 6301,
    "start_time": "2022-07-23T20:07:29.789Z"
   },
   {
    "duration": 11,
    "start_time": "2022-07-23T20:08:35.093Z"
   },
   {
    "duration": 181,
    "start_time": "2022-07-23T20:08:43.773Z"
   },
   {
    "duration": 314,
    "start_time": "2022-07-23T20:09:27.543Z"
   },
   {
    "duration": 265,
    "start_time": "2022-07-23T20:09:36.101Z"
   },
   {
    "duration": 227,
    "start_time": "2022-07-23T20:09:51.346Z"
   },
   {
    "duration": 188,
    "start_time": "2022-07-23T20:09:58.064Z"
   },
   {
    "duration": 217,
    "start_time": "2022-07-23T20:11:42.007Z"
   },
   {
    "duration": 208,
    "start_time": "2022-07-23T20:22:11.402Z"
   },
   {
    "duration": 200,
    "start_time": "2022-07-23T20:22:34.834Z"
   },
   {
    "duration": 211,
    "start_time": "2022-07-23T20:30:28.622Z"
   },
   {
    "duration": 2399,
    "start_time": "2022-07-23T20:30:42.518Z"
   },
   {
    "duration": 54,
    "start_time": "2022-07-23T20:51:55.514Z"
   },
   {
    "duration": 63,
    "start_time": "2022-07-23T20:52:15.119Z"
   },
   {
    "duration": 24,
    "start_time": "2022-07-23T20:52:44.501Z"
   },
   {
    "duration": 769,
    "start_time": "2022-07-23T20:53:56.137Z"
   },
   {
    "duration": 786,
    "start_time": "2022-07-23T20:55:36.902Z"
   },
   {
    "duration": 85,
    "start_time": "2022-07-23T21:02:40.686Z"
   },
   {
    "duration": 954,
    "start_time": "2022-07-23T21:02:54.010Z"
   },
   {
    "duration": 25,
    "start_time": "2022-07-23T21:03:39.156Z"
   },
   {
    "duration": 30,
    "start_time": "2022-07-23T21:05:33.702Z"
   },
   {
    "duration": 6,
    "start_time": "2022-07-23T21:07:52.742Z"
   },
   {
    "duration": 28,
    "start_time": "2022-07-23T21:08:04.598Z"
   },
   {
    "duration": 273,
    "start_time": "2022-07-23T21:09:08.371Z"
   },
   {
    "duration": 33,
    "start_time": "2022-07-23T21:09:09.563Z"
   },
   {
    "duration": 1952,
    "start_time": "2022-07-23T21:09:10.578Z"
   },
   {
    "duration": 18,
    "start_time": "2022-07-23T21:09:12.533Z"
   },
   {
    "duration": 13,
    "start_time": "2022-07-23T21:09:13.134Z"
   },
   {
    "duration": 9,
    "start_time": "2022-07-23T21:09:14.278Z"
   },
   {
    "duration": 9,
    "start_time": "2022-07-23T21:09:16.182Z"
   },
   {
    "duration": 13,
    "start_time": "2022-07-23T21:09:17.047Z"
   },
   {
    "duration": 15,
    "start_time": "2022-07-23T21:09:18.059Z"
   },
   {
    "duration": 7,
    "start_time": "2022-07-23T21:09:19.778Z"
   },
   {
    "duration": 16,
    "start_time": "2022-07-23T21:09:20.472Z"
   },
   {
    "duration": 5,
    "start_time": "2022-07-23T21:09:21.270Z"
   },
   {
    "duration": 7,
    "start_time": "2022-07-23T21:09:22.954Z"
   },
   {
    "duration": 7,
    "start_time": "2022-07-23T21:09:23.783Z"
   },
   {
    "duration": 6,
    "start_time": "2022-07-23T21:09:24.495Z"
   },
   {
    "duration": 11,
    "start_time": "2022-07-23T21:09:26.659Z"
   },
   {
    "duration": 13,
    "start_time": "2022-07-23T21:09:27.464Z"
   },
   {
    "duration": 6,
    "start_time": "2022-07-23T21:09:28.305Z"
   },
   {
    "duration": 6,
    "start_time": "2022-07-23T21:09:30.645Z"
   },
   {
    "duration": 5,
    "start_time": "2022-07-23T21:09:31.522Z"
   },
   {
    "duration": 7,
    "start_time": "2022-07-23T21:09:32.578Z"
   },
   {
    "duration": 21,
    "start_time": "2022-07-23T21:09:33.255Z"
   },
   {
    "duration": 1502,
    "start_time": "2022-07-23T21:09:33.943Z"
   },
   {
    "duration": 1813,
    "start_time": "2022-07-23T21:09:35.447Z"
   },
   {
    "duration": 9,
    "start_time": "2022-07-23T21:09:37.262Z"
   },
   {
    "duration": 9,
    "start_time": "2022-07-23T21:09:37.272Z"
   },
   {
    "duration": 10,
    "start_time": "2022-07-23T21:09:37.283Z"
   },
   {
    "duration": 13,
    "start_time": "2022-07-23T21:09:40.561Z"
   },
   {
    "duration": 7,
    "start_time": "2022-07-23T21:09:42.403Z"
   },
   {
    "duration": 36,
    "start_time": "2022-07-23T21:09:43.270Z"
   },
   {
    "duration": 5,
    "start_time": "2022-07-23T21:09:44.137Z"
   },
   {
    "duration": 624,
    "start_time": "2022-07-23T21:09:46.047Z"
   },
   {
    "duration": 644,
    "start_time": "2022-07-23T21:09:47.736Z"
   },
   {
    "duration": 674,
    "start_time": "2022-07-23T21:09:48.568Z"
   },
   {
    "duration": 621,
    "start_time": "2022-07-23T21:09:49.971Z"
   },
   {
    "duration": 14,
    "start_time": "2022-07-23T21:09:51.297Z"
   },
   {
    "duration": 9,
    "start_time": "2022-07-23T21:09:52.408Z"
   },
   {
    "duration": 5,
    "start_time": "2022-07-23T21:09:55.267Z"
   },
   {
    "duration": 7,
    "start_time": "2022-07-23T21:09:56.237Z"
   },
   {
    "duration": 6,
    "start_time": "2022-07-23T21:09:57.114Z"
   },
   {
    "duration": 6,
    "start_time": "2022-07-23T21:09:58.010Z"
   },
   {
    "duration": 265,
    "start_time": "2022-07-23T21:09:59.036Z"
   },
   {
    "duration": 6,
    "start_time": "2022-07-23T21:10:00.168Z"
   },
   {
    "duration": 49,
    "start_time": "2022-07-23T21:10:01.420Z"
   },
   {
    "duration": 2644,
    "start_time": "2022-07-23T21:10:03.991Z"
   },
   {
    "duration": 12,
    "start_time": "2022-07-23T21:10:06.638Z"
   },
   {
    "duration": 127,
    "start_time": "2022-07-23T21:10:07.219Z"
   },
   {
    "duration": 545,
    "start_time": "2022-07-23T21:10:10.664Z"
   },
   {
    "duration": 7,
    "start_time": "2022-07-23T21:10:12.435Z"
   },
   {
    "duration": 5,
    "start_time": "2022-07-23T21:10:13.689Z"
   },
   {
    "duration": 183,
    "start_time": "2022-07-23T21:10:16.918Z"
   },
   {
    "duration": 168,
    "start_time": "2022-07-23T21:10:17.938Z"
   },
   {
    "duration": 199,
    "start_time": "2022-07-23T21:10:18.751Z"
   },
   {
    "duration": 175,
    "start_time": "2022-07-23T21:10:19.607Z"
   },
   {
    "duration": 149,
    "start_time": "2022-07-23T21:10:20.435Z"
   },
   {
    "duration": 174,
    "start_time": "2022-07-23T21:10:21.223Z"
   },
   {
    "duration": 192,
    "start_time": "2022-07-23T21:10:22.038Z"
   },
   {
    "duration": 158,
    "start_time": "2022-07-23T21:10:23.075Z"
   },
   {
    "duration": 10,
    "start_time": "2022-07-23T21:10:25.535Z"
   },
   {
    "duration": 10,
    "start_time": "2022-07-23T21:10:26.733Z"
   },
   {
    "duration": 212,
    "start_time": "2022-07-23T21:10:28.058Z"
   },
   {
    "duration": 21,
    "start_time": "2022-07-23T21:10:32.841Z"
   },
   {
    "duration": 1464,
    "start_time": "2022-07-23T21:10:54.236Z"
   },
   {
    "duration": 53,
    "start_time": "2022-07-23T21:11:47.337Z"
   },
   {
    "duration": 344,
    "start_time": "2022-07-23T21:12:01.979Z"
   },
   {
    "duration": 307,
    "start_time": "2022-07-23T21:12:15.671Z"
   },
   {
    "duration": 2,
    "start_time": "2022-07-23T21:18:12.009Z"
   },
   {
    "duration": 10,
    "start_time": "2022-07-23T21:18:19.869Z"
   },
   {
    "duration": 4,
    "start_time": "2022-07-23T21:48:04.775Z"
   },
   {
    "duration": 108,
    "start_time": "2022-07-23T21:48:41.954Z"
   },
   {
    "duration": 783,
    "start_time": "2022-07-23T22:38:50.627Z"
   },
   {
    "duration": 34,
    "start_time": "2022-07-23T22:38:51.412Z"
   },
   {
    "duration": 1892,
    "start_time": "2022-07-23T22:38:51.447Z"
   },
   {
    "duration": 9,
    "start_time": "2022-07-23T22:38:53.341Z"
   },
   {
    "duration": 12,
    "start_time": "2022-07-23T22:38:53.351Z"
   },
   {
    "duration": 8,
    "start_time": "2022-07-23T22:38:53.365Z"
   },
   {
    "duration": 35,
    "start_time": "2022-07-23T22:38:53.375Z"
   },
   {
    "duration": 31,
    "start_time": "2022-07-23T22:38:53.412Z"
   },
   {
    "duration": 29,
    "start_time": "2022-07-23T22:38:53.445Z"
   },
   {
    "duration": 15,
    "start_time": "2022-07-23T22:38:53.477Z"
   },
   {
    "duration": 39,
    "start_time": "2022-07-23T22:38:53.494Z"
   },
   {
    "duration": 9,
    "start_time": "2022-07-23T22:38:53.535Z"
   },
   {
    "duration": 10,
    "start_time": "2022-07-23T22:38:53.545Z"
   },
   {
    "duration": 7,
    "start_time": "2022-07-23T22:38:53.556Z"
   },
   {
    "duration": 6,
    "start_time": "2022-07-23T22:38:53.564Z"
   },
   {
    "duration": 20,
    "start_time": "2022-07-23T22:38:53.571Z"
   },
   {
    "duration": 8,
    "start_time": "2022-07-23T22:38:53.592Z"
   },
   {
    "duration": 9,
    "start_time": "2022-07-23T22:38:53.601Z"
   },
   {
    "duration": 6,
    "start_time": "2022-07-23T22:38:53.611Z"
   },
   {
    "duration": 7,
    "start_time": "2022-07-23T22:38:53.618Z"
   },
   {
    "duration": 5,
    "start_time": "2022-07-23T22:38:53.626Z"
   },
   {
    "duration": 20,
    "start_time": "2022-07-23T22:38:53.632Z"
   },
   {
    "duration": 1373,
    "start_time": "2022-07-23T22:38:53.653Z"
   },
   {
    "duration": 1714,
    "start_time": "2022-07-23T22:38:55.028Z"
   },
   {
    "duration": 8,
    "start_time": "2022-07-23T22:38:56.743Z"
   },
   {
    "duration": 9,
    "start_time": "2022-07-23T22:38:56.753Z"
   },
   {
    "duration": 8,
    "start_time": "2022-07-23T22:38:56.764Z"
   },
   {
    "duration": 34,
    "start_time": "2022-07-23T22:38:56.776Z"
   },
   {
    "duration": 6,
    "start_time": "2022-07-23T22:38:56.812Z"
   },
   {
    "duration": 36,
    "start_time": "2022-07-23T22:38:56.820Z"
   },
   {
    "duration": 4,
    "start_time": "2022-07-23T22:38:56.857Z"
   },
   {
    "duration": 612,
    "start_time": "2022-07-23T22:38:56.862Z"
   },
   {
    "duration": 577,
    "start_time": "2022-07-23T22:38:57.476Z"
   },
   {
    "duration": 595,
    "start_time": "2022-07-23T22:38:58.055Z"
   },
   {
    "duration": 582,
    "start_time": "2022-07-23T22:38:58.652Z"
   },
   {
    "duration": 12,
    "start_time": "2022-07-23T22:38:59.235Z"
   },
   {
    "duration": 7,
    "start_time": "2022-07-23T22:38:59.249Z"
   },
   {
    "duration": 6,
    "start_time": "2022-07-23T22:38:59.258Z"
   },
   {
    "duration": 11,
    "start_time": "2022-07-23T22:38:59.265Z"
   },
   {
    "duration": 28,
    "start_time": "2022-07-23T22:38:59.278Z"
   },
   {
    "duration": 9,
    "start_time": "2022-07-23T22:38:59.307Z"
   },
   {
    "duration": 255,
    "start_time": "2022-07-23T22:38:59.317Z"
   },
   {
    "duration": 5,
    "start_time": "2022-07-23T22:38:59.574Z"
   },
   {
    "duration": 39,
    "start_time": "2022-07-23T22:38:59.580Z"
   },
   {
    "duration": 2619,
    "start_time": "2022-07-23T22:38:59.621Z"
   },
   {
    "duration": 10,
    "start_time": "2022-07-23T22:39:02.241Z"
   },
   {
    "duration": 141,
    "start_time": "2022-07-23T22:39:02.252Z"
   },
   {
    "duration": 665,
    "start_time": "2022-07-23T22:39:02.395Z"
   },
   {
    "duration": 6,
    "start_time": "2022-07-23T22:39:03.062Z"
   },
   {
    "duration": 6,
    "start_time": "2022-07-23T22:39:03.070Z"
   },
   {
    "duration": 168,
    "start_time": "2022-07-23T22:39:03.077Z"
   },
   {
    "duration": 191,
    "start_time": "2022-07-23T22:39:03.247Z"
   },
   {
    "duration": 218,
    "start_time": "2022-07-23T22:39:03.439Z"
   },
   {
    "duration": 176,
    "start_time": "2022-07-23T22:39:03.659Z"
   },
   {
    "duration": 149,
    "start_time": "2022-07-23T22:39:03.838Z"
   },
   {
    "duration": 188,
    "start_time": "2022-07-23T22:39:03.989Z"
   },
   {
    "duration": 175,
    "start_time": "2022-07-23T22:39:04.179Z"
   },
   {
    "duration": 163,
    "start_time": "2022-07-23T22:39:04.356Z"
   },
   {
    "duration": 8,
    "start_time": "2022-07-23T22:39:04.521Z"
   },
   {
    "duration": 13,
    "start_time": "2022-07-23T22:39:04.531Z"
   },
   {
    "duration": 226,
    "start_time": "2022-07-23T22:39:04.545Z"
   },
   {
    "duration": 327,
    "start_time": "2022-07-23T22:39:04.773Z"
   },
   {
    "duration": 52,
    "start_time": "2022-07-24T07:43:12.696Z"
   },
   {
    "duration": 89,
    "start_time": "2022-07-24T07:44:15.880Z"
   },
   {
    "duration": 55,
    "start_time": "2022-07-24T07:44:22.359Z"
   },
   {
    "duration": 48,
    "start_time": "2022-07-24T07:45:26.555Z"
   },
   {
    "duration": 59,
    "start_time": "2022-07-24T07:47:21.287Z"
   },
   {
    "duration": 54,
    "start_time": "2022-07-24T07:51:37.745Z"
   },
   {
    "duration": 9,
    "start_time": "2022-07-24T07:51:47.254Z"
   },
   {
    "duration": 1153,
    "start_time": "2022-07-24T07:52:02.090Z"
   },
   {
    "duration": 1844,
    "start_time": "2022-07-24T07:52:10.845Z"
   },
   {
    "duration": 11,
    "start_time": "2022-07-24T07:53:23.689Z"
   },
   {
    "duration": 35,
    "start_time": "2022-07-24T07:53:38.356Z"
   },
   {
    "duration": 49,
    "start_time": "2022-07-24T07:53:49.937Z"
   },
   {
    "duration": 48,
    "start_time": "2022-07-24T07:56:18.934Z"
   },
   {
    "duration": 6,
    "start_time": "2022-07-24T08:02:53.338Z"
   },
   {
    "duration": 23,
    "start_time": "2022-07-24T08:03:06.348Z"
   },
   {
    "duration": 16,
    "start_time": "2022-07-24T08:06:45.072Z"
   },
   {
    "duration": 120,
    "start_time": "2022-07-24T08:14:13.504Z"
   },
   {
    "duration": 47,
    "start_time": "2022-07-24T08:14:14.848Z"
   },
   {
    "duration": 2027,
    "start_time": "2022-07-24T08:14:15.771Z"
   },
   {
    "duration": 15,
    "start_time": "2022-07-24T08:14:19.099Z"
   },
   {
    "duration": 25,
    "start_time": "2022-07-24T08:14:21.793Z"
   },
   {
    "duration": 15,
    "start_time": "2022-07-24T08:14:22.640Z"
   },
   {
    "duration": 14,
    "start_time": "2022-07-24T08:14:23.575Z"
   },
   {
    "duration": 9,
    "start_time": "2022-07-24T08:14:26.129Z"
   },
   {
    "duration": 12,
    "start_time": "2022-07-24T08:14:26.936Z"
   },
   {
    "duration": 7,
    "start_time": "2022-07-24T08:14:27.675Z"
   },
   {
    "duration": 21,
    "start_time": "2022-07-24T08:14:28.944Z"
   },
   {
    "duration": 10,
    "start_time": "2022-07-24T08:14:32.257Z"
   },
   {
    "duration": 38,
    "start_time": "2022-07-24T08:14:33.026Z"
   },
   {
    "duration": 6,
    "start_time": "2022-07-24T08:14:33.802Z"
   },
   {
    "duration": 8,
    "start_time": "2022-07-24T08:14:36.146Z"
   },
   {
    "duration": 8,
    "start_time": "2022-07-24T08:14:37.009Z"
   },
   {
    "duration": 16,
    "start_time": "2022-07-24T08:14:38.946Z"
   },
   {
    "duration": 14,
    "start_time": "2022-07-24T08:14:41.491Z"
   },
   {
    "duration": 13,
    "start_time": "2022-07-24T08:15:10.697Z"
   },
   {
    "duration": 7,
    "start_time": "2022-07-24T08:15:12.546Z"
   },
   {
    "duration": 11,
    "start_time": "2022-07-24T08:15:15.938Z"
   },
   {
    "duration": 96,
    "start_time": "2022-07-24T08:16:21.941Z"
   },
   {
    "duration": 7,
    "start_time": "2022-07-24T08:17:33.793Z"
   },
   {
    "duration": 6,
    "start_time": "2022-07-24T08:17:45.395Z"
   },
   {
    "duration": 8,
    "start_time": "2022-07-24T08:17:46.445Z"
   },
   {
    "duration": 5,
    "start_time": "2022-07-24T08:17:47.442Z"
   },
   {
    "duration": 5,
    "start_time": "2022-07-24T08:17:56.585Z"
   },
   {
    "duration": 117,
    "start_time": "2022-07-24T08:18:00.982Z"
   },
   {
    "duration": 104,
    "start_time": "2022-07-24T08:20:31.005Z"
   },
   {
    "duration": 7,
    "start_time": "2022-07-24T08:20:55.101Z"
   },
   {
    "duration": 7,
    "start_time": "2022-07-24T08:20:55.738Z"
   },
   {
    "duration": 5,
    "start_time": "2022-07-24T08:20:56.406Z"
   },
   {
    "duration": 5,
    "start_time": "2022-07-24T08:20:58.345Z"
   },
   {
    "duration": 129,
    "start_time": "2022-07-24T08:20:58.985Z"
   },
   {
    "duration": 10,
    "start_time": "2022-07-24T08:20:59.705Z"
   },
   {
    "duration": 9,
    "start_time": "2022-07-24T08:21:00.607Z"
   },
   {
    "duration": 98,
    "start_time": "2022-07-24T08:25:46.308Z"
   },
   {
    "duration": 44,
    "start_time": "2022-07-24T08:25:46.408Z"
   },
   {
    "duration": 1856,
    "start_time": "2022-07-24T08:25:46.454Z"
   },
   {
    "duration": 11,
    "start_time": "2022-07-24T08:25:48.312Z"
   },
   {
    "duration": 33,
    "start_time": "2022-07-24T08:25:48.325Z"
   },
   {
    "duration": 11,
    "start_time": "2022-07-24T08:25:48.360Z"
   },
   {
    "duration": 10,
    "start_time": "2022-07-24T08:25:48.372Z"
   },
   {
    "duration": 8,
    "start_time": "2022-07-24T08:25:48.383Z"
   },
   {
    "duration": 12,
    "start_time": "2022-07-24T08:25:48.392Z"
   },
   {
    "duration": 4,
    "start_time": "2022-07-24T08:25:48.406Z"
   },
   {
    "duration": 38,
    "start_time": "2022-07-24T08:25:48.412Z"
   },
   {
    "duration": 6,
    "start_time": "2022-07-24T08:25:48.452Z"
   },
   {
    "duration": 15,
    "start_time": "2022-07-24T08:25:48.459Z"
   },
   {
    "duration": 8,
    "start_time": "2022-07-24T08:25:48.476Z"
   },
   {
    "duration": 11,
    "start_time": "2022-07-24T08:25:48.485Z"
   },
   {
    "duration": 6,
    "start_time": "2022-07-24T08:25:48.498Z"
   },
   {
    "duration": 10,
    "start_time": "2022-07-24T08:25:48.505Z"
   },
   {
    "duration": 29,
    "start_time": "2022-07-24T08:25:48.517Z"
   },
   {
    "duration": 78,
    "start_time": "2022-07-24T08:25:48.548Z"
   },
   {
    "duration": 26,
    "start_time": "2022-07-24T08:25:48.628Z"
   },
   {
    "duration": 9,
    "start_time": "2022-07-24T08:25:48.656Z"
   },
   {
    "duration": 5,
    "start_time": "2022-07-24T08:25:48.667Z"
   },
   {
    "duration": 6,
    "start_time": "2022-07-24T08:25:48.674Z"
   },
   {
    "duration": 6,
    "start_time": "2022-07-24T08:25:48.681Z"
   },
   {
    "duration": 59,
    "start_time": "2022-07-24T08:25:48.689Z"
   },
   {
    "duration": 1404,
    "start_time": "2022-07-24T08:25:48.750Z"
   },
   {
    "duration": 1656,
    "start_time": "2022-07-24T08:25:50.156Z"
   },
   {
    "duration": 8,
    "start_time": "2022-07-24T08:25:51.816Z"
   },
   {
    "duration": 20,
    "start_time": "2022-07-24T08:25:51.826Z"
   },
   {
    "duration": 9,
    "start_time": "2022-07-24T08:25:51.848Z"
   },
   {
    "duration": 26,
    "start_time": "2022-07-24T08:25:51.859Z"
   },
   {
    "duration": 6,
    "start_time": "2022-07-24T08:25:51.887Z"
   },
   {
    "duration": 34,
    "start_time": "2022-07-24T08:25:51.894Z"
   },
   {
    "duration": 4,
    "start_time": "2022-07-24T08:25:51.930Z"
   },
   {
    "duration": 592,
    "start_time": "2022-07-24T08:25:51.945Z"
   },
   {
    "duration": 589,
    "start_time": "2022-07-24T08:25:52.539Z"
   },
   {
    "duration": 604,
    "start_time": "2022-07-24T08:25:53.130Z"
   },
   {
    "duration": 619,
    "start_time": "2022-07-24T08:25:53.736Z"
   },
   {
    "duration": 13,
    "start_time": "2022-07-24T08:25:54.357Z"
   },
   {
    "duration": 8,
    "start_time": "2022-07-24T08:25:54.372Z"
   },
   {
    "duration": 19,
    "start_time": "2022-07-24T08:25:54.381Z"
   },
   {
    "duration": 5,
    "start_time": "2022-07-24T08:25:54.401Z"
   },
   {
    "duration": 8,
    "start_time": "2022-07-24T08:25:54.407Z"
   },
   {
    "duration": 32,
    "start_time": "2022-07-24T08:25:54.417Z"
   },
   {
    "duration": 6,
    "start_time": "2022-07-24T08:25:54.451Z"
   },
   {
    "duration": 252,
    "start_time": "2022-07-24T08:25:54.459Z"
   },
   {
    "duration": 5,
    "start_time": "2022-07-24T08:25:54.712Z"
   },
   {
    "duration": 34,
    "start_time": "2022-07-24T08:25:54.718Z"
   },
   {
    "duration": 2518,
    "start_time": "2022-07-24T08:25:54.755Z"
   },
   {
    "duration": 9,
    "start_time": "2022-07-24T08:25:57.275Z"
   },
   {
    "duration": 214,
    "start_time": "2022-07-24T08:25:57.285Z"
   },
   {
    "duration": 604,
    "start_time": "2022-07-24T08:25:57.501Z"
   },
   {
    "duration": 7,
    "start_time": "2022-07-24T08:25:58.106Z"
   },
   {
    "duration": 11,
    "start_time": "2022-07-24T08:25:58.115Z"
   },
   {
    "duration": 174,
    "start_time": "2022-07-24T08:25:58.127Z"
   },
   {
    "duration": 161,
    "start_time": "2022-07-24T08:25:58.303Z"
   },
   {
    "duration": 178,
    "start_time": "2022-07-24T08:25:58.467Z"
   },
   {
    "duration": 183,
    "start_time": "2022-07-24T08:25:58.648Z"
   },
   {
    "duration": 186,
    "start_time": "2022-07-24T08:25:58.833Z"
   },
   {
    "duration": 234,
    "start_time": "2022-07-24T08:25:59.022Z"
   },
   {
    "duration": 170,
    "start_time": "2022-07-24T08:25:59.258Z"
   },
   {
    "duration": 171,
    "start_time": "2022-07-24T08:25:59.430Z"
   },
   {
    "duration": 9,
    "start_time": "2022-07-24T08:25:59.603Z"
   },
   {
    "duration": 12,
    "start_time": "2022-07-24T08:25:59.613Z"
   },
   {
    "duration": 214,
    "start_time": "2022-07-24T08:25:59.626Z"
   },
   {
    "duration": 308,
    "start_time": "2022-07-24T08:25:59.842Z"
   },
   {
    "duration": 49,
    "start_time": "2022-07-24T08:27:42.620Z"
   },
   {
    "duration": 403,
    "start_time": "2022-07-24T08:37:31.882Z"
   },
   {
    "duration": 2447,
    "start_time": "2022-07-24T08:50:01.446Z"
   },
   {
    "duration": 49,
    "start_time": "2022-07-24T08:56:15.319Z"
   },
   {
    "duration": 6,
    "start_time": "2022-07-24T08:59:06.163Z"
   },
   {
    "duration": 301,
    "start_time": "2022-07-24T08:59:30.275Z"
   },
   {
    "duration": 136,
    "start_time": "2022-07-24T09:00:01.053Z"
   },
   {
    "duration": 6,
    "start_time": "2022-07-24T09:00:02.247Z"
   },
   {
    "duration": 149,
    "start_time": "2022-07-24T09:00:11.127Z"
   },
   {
    "duration": 5,
    "start_time": "2022-07-24T09:00:29.628Z"
   },
   {
    "duration": 145,
    "start_time": "2022-07-24T09:00:47.692Z"
   },
   {
    "duration": 6,
    "start_time": "2022-07-24T09:01:16.587Z"
   },
   {
    "duration": 121,
    "start_time": "2022-07-24T09:01:27.073Z"
   },
   {
    "duration": 359,
    "start_time": "2022-07-24T09:01:49.738Z"
   },
   {
    "duration": 156,
    "start_time": "2022-07-24T09:02:22.131Z"
   },
   {
    "duration": 7,
    "start_time": "2022-07-24T09:02:57.701Z"
   },
   {
    "duration": 137,
    "start_time": "2022-07-24T09:03:08.137Z"
   },
   {
    "duration": 6,
    "start_time": "2022-07-24T09:03:26.414Z"
   },
   {
    "duration": 145,
    "start_time": "2022-07-24T09:04:07.523Z"
   },
   {
    "duration": 1000,
    "start_time": "2022-07-24T16:06:13.773Z"
   },
   {
    "duration": 35,
    "start_time": "2022-07-24T16:06:14.776Z"
   },
   {
    "duration": 2176,
    "start_time": "2022-07-24T16:06:15.805Z"
   },
   {
    "duration": 9,
    "start_time": "2022-07-24T16:06:19.797Z"
   },
   {
    "duration": 62,
    "start_time": "2022-07-24T16:06:23.007Z"
   },
   {
    "duration": 13,
    "start_time": "2022-07-24T16:06:24.074Z"
   },
   {
    "duration": 10,
    "start_time": "2022-07-24T16:06:25.225Z"
   },
   {
    "duration": 9,
    "start_time": "2022-07-24T16:06:29.146Z"
   },
   {
    "duration": 17,
    "start_time": "2022-07-24T16:06:30.155Z"
   },
   {
    "duration": 5,
    "start_time": "2022-07-24T16:06:30.906Z"
   },
   {
    "duration": 15,
    "start_time": "2022-07-24T16:06:31.558Z"
   },
   {
    "duration": 6,
    "start_time": "2022-07-24T16:06:32.889Z"
   },
   {
    "duration": 15,
    "start_time": "2022-07-24T16:06:33.518Z"
   },
   {
    "duration": 5,
    "start_time": "2022-07-24T16:06:34.253Z"
   },
   {
    "duration": 7,
    "start_time": "2022-07-24T16:06:36.519Z"
   },
   {
    "duration": 7,
    "start_time": "2022-07-24T16:06:37.331Z"
   },
   {
    "duration": 6,
    "start_time": "2022-07-24T16:06:38.325Z"
   },
   {
    "duration": 6,
    "start_time": "2022-07-24T16:06:42.585Z"
   },
   {
    "duration": 92,
    "start_time": "2022-07-24T16:06:43.967Z"
   },
   {
    "duration": 10,
    "start_time": "2022-07-24T16:08:08.527Z"
   },
   {
    "duration": 90,
    "start_time": "2022-07-24T16:08:12.444Z"
   },
   {
    "duration": 103,
    "start_time": "2022-07-24T16:08:48.086Z"
   },
   {
    "duration": 105,
    "start_time": "2022-07-24T16:14:46.855Z"
   },
   {
    "duration": 159,
    "start_time": "2022-07-24T17:29:32.927Z"
   },
   {
    "duration": 261,
    "start_time": "2022-07-24T17:31:01.000Z"
   },
   {
    "duration": 102,
    "start_time": "2022-07-24T17:34:49.845Z"
   },
   {
    "duration": 110,
    "start_time": "2022-07-24T17:35:10.010Z"
   },
   {
    "duration": 92,
    "start_time": "2022-07-24T17:35:15.724Z"
   },
   {
    "duration": 95,
    "start_time": "2022-07-24T17:35:31.510Z"
   },
   {
    "duration": 95,
    "start_time": "2022-07-24T17:35:41.275Z"
   },
   {
    "duration": 86,
    "start_time": "2022-07-24T17:38:56.587Z"
   },
   {
    "duration": 247,
    "start_time": "2022-07-24T17:39:13.190Z"
   },
   {
    "duration": 166,
    "start_time": "2022-07-24T17:39:33.816Z"
   },
   {
    "duration": 207,
    "start_time": "2022-07-24T17:39:46.314Z"
   },
   {
    "duration": 12,
    "start_time": "2022-07-24T17:39:57.689Z"
   },
   {
    "duration": 175,
    "start_time": "2022-07-24T17:40:13.980Z"
   },
   {
    "duration": 246,
    "start_time": "2022-07-24T17:40:50.919Z"
   },
   {
    "duration": 10,
    "start_time": "2022-07-24T17:41:22.750Z"
   },
   {
    "duration": 10,
    "start_time": "2022-07-24T17:42:53.138Z"
   },
   {
    "duration": 99,
    "start_time": "2022-07-24T17:53:43.568Z"
   },
   {
    "duration": 31,
    "start_time": "2022-07-24T17:53:44.338Z"
   },
   {
    "duration": 2412,
    "start_time": "2022-07-24T17:53:45.312Z"
   },
   {
    "duration": 10,
    "start_time": "2022-07-24T17:53:51.340Z"
   },
   {
    "duration": 16,
    "start_time": "2022-07-24T17:53:55.636Z"
   },
   {
    "duration": 12,
    "start_time": "2022-07-24T17:53:58.115Z"
   },
   {
    "duration": 13,
    "start_time": "2022-07-24T17:54:02.721Z"
   },
   {
    "duration": 7,
    "start_time": "2022-07-24T17:54:12.430Z"
   },
   {
    "duration": 14,
    "start_time": "2022-07-24T17:54:13.701Z"
   },
   {
    "duration": 5,
    "start_time": "2022-07-24T17:54:14.591Z"
   },
   {
    "duration": 14,
    "start_time": "2022-07-24T17:54:15.627Z"
   },
   {
    "duration": 7,
    "start_time": "2022-07-24T17:54:18.170Z"
   },
   {
    "duration": 17,
    "start_time": "2022-07-24T17:54:19.204Z"
   },
   {
    "duration": 6,
    "start_time": "2022-07-24T17:54:20.075Z"
   },
   {
    "duration": 6,
    "start_time": "2022-07-24T17:54:22.867Z"
   },
   {
    "duration": 7,
    "start_time": "2022-07-24T17:54:29.170Z"
   },
   {
    "duration": 5,
    "start_time": "2022-07-24T17:54:30.373Z"
   },
   {
    "duration": 5,
    "start_time": "2022-07-24T17:54:42.334Z"
   },
   {
    "duration": 3,
    "start_time": "2022-07-24T17:54:43.329Z"
   },
   {
    "duration": 1399,
    "start_time": "2022-07-24T17:54:44.269Z"
   },
   {
    "duration": 7,
    "start_time": "2022-07-24T17:57:21.828Z"
   },
   {
    "duration": 9,
    "start_time": "2022-07-24T17:57:21.842Z"
   },
   {
    "duration": 177,
    "start_time": "2022-07-24T17:57:21.853Z"
   },
   {
    "duration": 9,
    "start_time": "2022-07-24T17:57:22.031Z"
   },
   {
    "duration": 10,
    "start_time": "2022-07-24T17:57:22.041Z"
   },
   {
    "duration": 10,
    "start_time": "2022-07-24T17:57:22.053Z"
   },
   {
    "duration": 13,
    "start_time": "2022-07-24T17:57:22.064Z"
   },
   {
    "duration": 27,
    "start_time": "2022-07-24T17:57:22.079Z"
   },
   {
    "duration": 26,
    "start_time": "2022-07-24T17:57:22.108Z"
   },
   {
    "duration": 1764,
    "start_time": "2022-07-24T17:57:22.137Z"
   },
   {
    "duration": 1865,
    "start_time": "2022-07-24T17:57:23.903Z"
   },
   {
    "duration": 9,
    "start_time": "2022-07-24T17:57:25.770Z"
   },
   {
    "duration": 9,
    "start_time": "2022-07-24T17:57:25.781Z"
   },
   {
    "duration": 14,
    "start_time": "2022-07-24T17:57:25.808Z"
   },
   {
    "duration": 17,
    "start_time": "2022-07-24T17:57:25.825Z"
   },
   {
    "duration": 5,
    "start_time": "2022-07-24T17:57:25.844Z"
   },
   {
    "duration": 64,
    "start_time": "2022-07-24T17:57:25.850Z"
   },
   {
    "duration": 7,
    "start_time": "2022-07-24T17:57:25.917Z"
   },
   {
    "duration": 747,
    "start_time": "2022-07-24T17:57:25.927Z"
   },
   {
    "duration": 709,
    "start_time": "2022-07-24T17:57:26.676Z"
   },
   {
    "duration": 687,
    "start_time": "2022-07-24T17:57:27.386Z"
   },
   {
    "duration": 635,
    "start_time": "2022-07-24T17:57:28.075Z"
   },
   {
    "duration": 20,
    "start_time": "2022-07-24T17:57:28.713Z"
   },
   {
    "duration": 7,
    "start_time": "2022-07-24T17:57:28.735Z"
   },
   {
    "duration": 20,
    "start_time": "2022-07-24T17:57:28.743Z"
   },
   {
    "duration": 6,
    "start_time": "2022-07-24T17:57:28.764Z"
   },
   {
    "duration": 38,
    "start_time": "2022-07-24T17:57:28.771Z"
   },
   {
    "duration": 11,
    "start_time": "2022-07-24T17:57:28.811Z"
   },
   {
    "duration": 591,
    "start_time": "2022-07-24T17:57:28.824Z"
   },
   {
    "duration": 0,
    "start_time": "2022-07-24T17:57:29.417Z"
   },
   {
    "duration": 0,
    "start_time": "2022-07-24T17:57:29.419Z"
   },
   {
    "duration": 0,
    "start_time": "2022-07-24T17:57:29.420Z"
   },
   {
    "duration": 0,
    "start_time": "2022-07-24T17:57:29.421Z"
   },
   {
    "duration": 0,
    "start_time": "2022-07-24T17:57:29.422Z"
   },
   {
    "duration": 0,
    "start_time": "2022-07-24T17:57:29.425Z"
   },
   {
    "duration": 0,
    "start_time": "2022-07-24T17:57:29.426Z"
   },
   {
    "duration": 0,
    "start_time": "2022-07-24T17:57:29.428Z"
   },
   {
    "duration": 0,
    "start_time": "2022-07-24T17:57:29.430Z"
   },
   {
    "duration": 0,
    "start_time": "2022-07-24T17:57:29.431Z"
   },
   {
    "duration": 0,
    "start_time": "2022-07-24T17:57:29.433Z"
   },
   {
    "duration": 0,
    "start_time": "2022-07-24T17:57:29.435Z"
   },
   {
    "duration": 0,
    "start_time": "2022-07-24T17:57:29.437Z"
   },
   {
    "duration": 0,
    "start_time": "2022-07-24T17:57:29.440Z"
   },
   {
    "duration": 0,
    "start_time": "2022-07-24T17:57:29.441Z"
   },
   {
    "duration": 0,
    "start_time": "2022-07-24T17:57:29.442Z"
   },
   {
    "duration": 0,
    "start_time": "2022-07-24T17:57:29.444Z"
   },
   {
    "duration": 0,
    "start_time": "2022-07-24T17:57:29.445Z"
   },
   {
    "duration": 0,
    "start_time": "2022-07-24T17:57:29.446Z"
   },
   {
    "duration": 0,
    "start_time": "2022-07-24T17:57:29.447Z"
   },
   {
    "duration": 0,
    "start_time": "2022-07-24T17:57:29.448Z"
   },
   {
    "duration": 0,
    "start_time": "2022-07-24T17:57:29.449Z"
   },
   {
    "duration": 0,
    "start_time": "2022-07-24T17:57:29.450Z"
   },
   {
    "duration": 0,
    "start_time": "2022-07-24T17:57:29.451Z"
   },
   {
    "duration": 0,
    "start_time": "2022-07-24T17:57:29.452Z"
   },
   {
    "duration": 0,
    "start_time": "2022-07-24T17:57:29.453Z"
   },
   {
    "duration": 97,
    "start_time": "2022-07-24T18:23:32.579Z"
   },
   {
    "duration": 39,
    "start_time": "2022-07-24T18:23:32.798Z"
   },
   {
    "duration": 2112,
    "start_time": "2022-07-24T18:23:32.995Z"
   },
   {
    "duration": 15,
    "start_time": "2022-07-24T18:23:35.110Z"
   },
   {
    "duration": 39,
    "start_time": "2022-07-24T18:23:35.128Z"
   },
   {
    "duration": 11,
    "start_time": "2022-07-24T18:23:35.618Z"
   },
   {
    "duration": 9,
    "start_time": "2022-07-24T18:23:35.878Z"
   },
   {
    "duration": 9,
    "start_time": "2022-07-24T18:23:36.487Z"
   },
   {
    "duration": 16,
    "start_time": "2022-07-24T18:23:36.695Z"
   },
   {
    "duration": 5,
    "start_time": "2022-07-24T18:23:36.884Z"
   },
   {
    "duration": 13,
    "start_time": "2022-07-24T18:23:37.065Z"
   },
   {
    "duration": 7,
    "start_time": "2022-07-24T18:23:37.475Z"
   },
   {
    "duration": 15,
    "start_time": "2022-07-24T18:23:37.677Z"
   },
   {
    "duration": 5,
    "start_time": "2022-07-24T18:23:37.895Z"
   },
   {
    "duration": 7,
    "start_time": "2022-07-24T18:23:38.370Z"
   },
   {
    "duration": 8,
    "start_time": "2022-07-24T18:23:38.546Z"
   },
   {
    "duration": 6,
    "start_time": "2022-07-24T18:23:38.748Z"
   },
   {
    "duration": 4,
    "start_time": "2022-07-24T18:23:39.430Z"
   },
   {
    "duration": 9,
    "start_time": "2022-07-24T18:23:39.626Z"
   },
   {
    "duration": 2,
    "start_time": "2022-07-24T18:23:39.839Z"
   },
   {
    "duration": 208,
    "start_time": "2022-07-24T18:23:40.098Z"
   },
   {
    "duration": 10,
    "start_time": "2022-07-24T18:23:40.319Z"
   },
   {
    "duration": 9,
    "start_time": "2022-07-24T18:23:41.728Z"
   },
   {
    "duration": 6,
    "start_time": "2022-07-24T18:23:47.494Z"
   },
   {
    "duration": 6,
    "start_time": "2022-07-24T18:23:48.098Z"
   },
   {
    "duration": 7,
    "start_time": "2022-07-24T18:23:48.797Z"
   },
   {
    "duration": 22,
    "start_time": "2022-07-24T18:23:49.429Z"
   },
   {
    "duration": 1786,
    "start_time": "2022-07-24T18:23:50.090Z"
   },
   {
    "duration": 1904,
    "start_time": "2022-07-24T18:23:51.878Z"
   },
   {
    "duration": 20,
    "start_time": "2022-07-24T18:23:53.784Z"
   },
   {
    "duration": 10,
    "start_time": "2022-07-24T18:23:53.806Z"
   },
   {
    "duration": 10,
    "start_time": "2022-07-24T18:23:53.817Z"
   },
   {
    "duration": 12,
    "start_time": "2022-07-24T18:23:53.918Z"
   },
   {
    "duration": 7,
    "start_time": "2022-07-24T18:23:55.455Z"
   },
   {
    "duration": 47,
    "start_time": "2022-07-24T18:23:56.086Z"
   },
   {
    "duration": 7,
    "start_time": "2022-07-24T18:23:56.578Z"
   },
   {
    "duration": 645,
    "start_time": "2022-07-24T18:23:57.586Z"
   },
   {
    "duration": 642,
    "start_time": "2022-07-24T18:23:58.233Z"
   },
   {
    "duration": 650,
    "start_time": "2022-07-24T18:23:58.878Z"
   },
   {
    "duration": 683,
    "start_time": "2022-07-24T18:23:59.530Z"
   },
   {
    "duration": 20,
    "start_time": "2022-07-24T18:24:00.215Z"
   },
   {
    "duration": 13,
    "start_time": "2022-07-24T18:24:04.016Z"
   },
   {
    "duration": 32,
    "start_time": "2022-07-24T18:24:07.749Z"
   },
   {
    "duration": 8,
    "start_time": "2022-07-24T18:24:10.091Z"
   },
   {
    "duration": 11,
    "start_time": "2022-07-24T18:24:10.800Z"
   },
   {
    "duration": 7,
    "start_time": "2022-07-24T18:24:11.260Z"
   },
   {
    "duration": 8,
    "start_time": "2022-07-24T18:24:11.868Z"
   },
   {
    "duration": 294,
    "start_time": "2022-07-24T18:24:31.179Z"
   },
   {
    "duration": 6,
    "start_time": "2022-07-24T18:24:32.890Z"
   },
   {
    "duration": 35,
    "start_time": "2022-07-24T18:24:34.156Z"
   },
   {
    "duration": 2806,
    "start_time": "2022-07-24T18:24:39.916Z"
   },
   {
    "duration": 10,
    "start_time": "2022-07-24T18:24:42.748Z"
   },
   {
    "duration": 146,
    "start_time": "2022-07-24T18:24:43.796Z"
   },
   {
    "duration": 573,
    "start_time": "2022-07-24T18:24:46.907Z"
   },
   {
    "duration": 7,
    "start_time": "2022-07-24T18:24:47.638Z"
   },
   {
    "duration": 6,
    "start_time": "2022-07-24T18:24:48.689Z"
   },
   {
    "duration": 182,
    "start_time": "2022-07-24T18:24:50.256Z"
   },
   {
    "duration": 5,
    "start_time": "2022-07-24T18:24:50.970Z"
   },
   {
    "duration": 157,
    "start_time": "2022-07-24T18:24:52.454Z"
   },
   {
    "duration": 6,
    "start_time": "2022-07-24T18:24:53.128Z"
   },
   {
    "duration": 170,
    "start_time": "2022-07-24T18:24:54.916Z"
   },
   {
    "duration": 5,
    "start_time": "2022-07-24T18:24:55.626Z"
   },
   {
    "duration": 190,
    "start_time": "2022-07-24T18:24:56.314Z"
   },
   {
    "duration": 6,
    "start_time": "2022-07-24T18:24:56.877Z"
   },
   {
    "duration": 309,
    "start_time": "2022-07-24T18:24:57.441Z"
   },
   {
    "duration": 170,
    "start_time": "2022-07-24T18:24:57.915Z"
   },
   {
    "duration": 163,
    "start_time": "2022-07-24T18:24:58.408Z"
   },
   {
    "duration": 170,
    "start_time": "2022-07-24T18:24:58.872Z"
   },
   {
    "duration": 152,
    "start_time": "2022-07-24T18:34:13.266Z"
   },
   {
    "duration": 176,
    "start_time": "2022-07-24T18:36:11.175Z"
   },
   {
    "duration": 160,
    "start_time": "2022-07-24T18:49:09.151Z"
   },
   {
    "duration": 151,
    "start_time": "2022-07-24T18:55:13.028Z"
   },
   {
    "duration": 85,
    "start_time": "2022-07-24T18:55:13.801Z"
   },
   {
    "duration": 79,
    "start_time": "2022-07-24T18:55:17.708Z"
   },
   {
    "duration": 10,
    "start_time": "2022-07-24T18:55:21.794Z"
   },
   {
    "duration": 10,
    "start_time": "2022-07-24T18:55:22.770Z"
   },
   {
    "duration": 200,
    "start_time": "2022-07-24T18:55:25.679Z"
   },
   {
    "duration": 343,
    "start_time": "2022-07-24T18:55:29.257Z"
   },
   {
    "duration": 11,
    "start_time": "2022-07-24T18:55:33.660Z"
   },
   {
    "duration": 106,
    "start_time": "2022-07-24T18:57:40.217Z"
   },
   {
    "duration": 31,
    "start_time": "2022-07-24T18:57:40.325Z"
   },
   {
    "duration": 2098,
    "start_time": "2022-07-24T18:57:40.358Z"
   },
   {
    "duration": 9,
    "start_time": "2022-07-24T18:57:42.458Z"
   },
   {
    "duration": 37,
    "start_time": "2022-07-24T18:57:42.469Z"
   },
   {
    "duration": 12,
    "start_time": "2022-07-24T18:57:42.508Z"
   },
   {
    "duration": 10,
    "start_time": "2022-07-24T18:57:42.522Z"
   },
   {
    "duration": 10,
    "start_time": "2022-07-24T18:57:42.535Z"
   },
   {
    "duration": 16,
    "start_time": "2022-07-24T18:57:42.546Z"
   },
   {
    "duration": 4,
    "start_time": "2022-07-24T18:57:42.564Z"
   },
   {
    "duration": 46,
    "start_time": "2022-07-24T18:57:42.570Z"
   },
   {
    "duration": 8,
    "start_time": "2022-07-24T18:57:42.618Z"
   },
   {
    "duration": 22,
    "start_time": "2022-07-24T18:57:42.627Z"
   },
   {
    "duration": 8,
    "start_time": "2022-07-24T18:57:42.653Z"
   },
   {
    "duration": 10,
    "start_time": "2022-07-24T18:57:42.663Z"
   },
   {
    "duration": 7,
    "start_time": "2022-07-24T18:57:42.675Z"
   },
   {
    "duration": 21,
    "start_time": "2022-07-24T18:57:42.684Z"
   },
   {
    "duration": 5,
    "start_time": "2022-07-24T18:57:42.706Z"
   },
   {
    "duration": 10,
    "start_time": "2022-07-24T18:57:42.713Z"
   },
   {
    "duration": 3,
    "start_time": "2022-07-24T18:57:42.725Z"
   },
   {
    "duration": 189,
    "start_time": "2022-07-24T18:57:42.730Z"
   },
   {
    "duration": 9,
    "start_time": "2022-07-24T18:57:42.921Z"
   },
   {
    "duration": 9,
    "start_time": "2022-07-24T18:57:42.932Z"
   },
   {
    "duration": 5,
    "start_time": "2022-07-24T18:57:42.943Z"
   },
   {
    "duration": 8,
    "start_time": "2022-07-24T18:57:42.950Z"
   },
   {
    "duration": 5,
    "start_time": "2022-07-24T18:57:42.960Z"
   },
   {
    "duration": 53,
    "start_time": "2022-07-24T18:57:42.966Z"
   },
   {
    "duration": 1486,
    "start_time": "2022-07-24T18:57:43.021Z"
   },
   {
    "duration": 1820,
    "start_time": "2022-07-24T18:57:44.509Z"
   },
   {
    "duration": 10,
    "start_time": "2022-07-24T18:57:46.331Z"
   },
   {
    "duration": 9,
    "start_time": "2022-07-24T18:57:46.342Z"
   },
   {
    "duration": 9,
    "start_time": "2022-07-24T18:57:46.353Z"
   },
   {
    "duration": 43,
    "start_time": "2022-07-24T18:57:46.364Z"
   },
   {
    "duration": 5,
    "start_time": "2022-07-24T18:57:46.409Z"
   },
   {
    "duration": 34,
    "start_time": "2022-07-24T18:57:46.416Z"
   },
   {
    "duration": 4,
    "start_time": "2022-07-24T18:57:46.452Z"
   },
   {
    "duration": 686,
    "start_time": "2022-07-24T18:57:46.457Z"
   },
   {
    "duration": 620,
    "start_time": "2022-07-24T18:57:47.145Z"
   },
   {
    "duration": 643,
    "start_time": "2022-07-24T18:57:47.766Z"
   },
   {
    "duration": 612,
    "start_time": "2022-07-24T18:57:48.410Z"
   },
   {
    "duration": 13,
    "start_time": "2022-07-24T18:57:49.026Z"
   },
   {
    "duration": 12,
    "start_time": "2022-07-24T18:57:49.041Z"
   },
   {
    "duration": 20,
    "start_time": "2022-07-24T18:57:49.055Z"
   },
   {
    "duration": 5,
    "start_time": "2022-07-24T18:57:49.077Z"
   },
   {
    "duration": 6,
    "start_time": "2022-07-24T18:57:49.105Z"
   },
   {
    "duration": 8,
    "start_time": "2022-07-24T18:57:49.113Z"
   },
   {
    "duration": 20,
    "start_time": "2022-07-24T18:57:49.123Z"
   },
   {
    "duration": 275,
    "start_time": "2022-07-24T18:57:49.145Z"
   },
   {
    "duration": 5,
    "start_time": "2022-07-24T18:57:49.422Z"
   },
   {
    "duration": 33,
    "start_time": "2022-07-24T18:57:49.429Z"
   },
   {
    "duration": 2635,
    "start_time": "2022-07-24T18:57:49.463Z"
   },
   {
    "duration": 12,
    "start_time": "2022-07-24T18:57:52.099Z"
   },
   {
    "duration": 143,
    "start_time": "2022-07-24T18:57:52.113Z"
   },
   {
    "duration": 689,
    "start_time": "2022-07-24T18:57:52.258Z"
   },
   {
    "duration": 7,
    "start_time": "2022-07-24T18:57:52.949Z"
   },
   {
    "duration": 27,
    "start_time": "2022-07-24T18:57:52.958Z"
   },
   {
    "duration": 247,
    "start_time": "2022-07-24T18:57:52.987Z"
   },
   {
    "duration": 6,
    "start_time": "2022-07-24T18:57:53.237Z"
   },
   {
    "duration": 191,
    "start_time": "2022-07-24T18:57:53.245Z"
   },
   {
    "duration": 6,
    "start_time": "2022-07-24T18:57:53.439Z"
   },
   {
    "duration": 189,
    "start_time": "2022-07-24T18:57:53.446Z"
   },
   {
    "duration": 6,
    "start_time": "2022-07-24T18:57:53.636Z"
   },
   {
    "duration": 193,
    "start_time": "2022-07-24T18:57:53.644Z"
   },
   {
    "duration": 7,
    "start_time": "2022-07-24T18:57:53.839Z"
   },
   {
    "duration": 89,
    "start_time": "2022-07-24T18:57:53.849Z"
   },
   {
    "duration": 0,
    "start_time": "2022-07-24T18:57:53.940Z"
   },
   {
    "duration": 0,
    "start_time": "2022-07-24T18:57:53.942Z"
   },
   {
    "duration": 0,
    "start_time": "2022-07-24T18:57:53.943Z"
   },
   {
    "duration": 0,
    "start_time": "2022-07-24T18:57:53.945Z"
   },
   {
    "duration": 0,
    "start_time": "2022-07-24T18:57:53.946Z"
   },
   {
    "duration": 0,
    "start_time": "2022-07-24T18:57:53.947Z"
   },
   {
    "duration": 0,
    "start_time": "2022-07-24T18:57:53.949Z"
   },
   {
    "duration": 0,
    "start_time": "2022-07-24T18:57:53.950Z"
   },
   {
    "duration": 0,
    "start_time": "2022-07-24T18:57:53.951Z"
   },
   {
    "duration": 0,
    "start_time": "2022-07-24T18:57:53.953Z"
   },
   {
    "duration": 0,
    "start_time": "2022-07-24T18:57:53.954Z"
   },
   {
    "duration": 0,
    "start_time": "2022-07-24T18:57:53.955Z"
   },
   {
    "duration": 0,
    "start_time": "2022-07-24T18:57:53.957Z"
   },
   {
    "duration": 154,
    "start_time": "2022-07-24T18:58:36.254Z"
   },
   {
    "duration": 5,
    "start_time": "2022-07-24T18:58:36.811Z"
   },
   {
    "duration": 78,
    "start_time": "2022-07-24T18:58:37.275Z"
   },
   {
    "duration": 133,
    "start_time": "2022-07-24T18:58:37.779Z"
   },
   {
    "duration": 74,
    "start_time": "2022-07-24T18:58:38.359Z"
   },
   {
    "duration": 165,
    "start_time": "2022-07-24T18:58:38.810Z"
   },
   {
    "duration": 80,
    "start_time": "2022-07-24T18:58:39.766Z"
   },
   {
    "duration": 264,
    "start_time": "2022-07-24T18:58:40.166Z"
   },
   {
    "duration": 151,
    "start_time": "2022-07-24T18:58:40.754Z"
   },
   {
    "duration": 151,
    "start_time": "2022-07-24T18:58:41.665Z"
   },
   {
    "duration": 145,
    "start_time": "2022-07-24T18:58:41.915Z"
   },
   {
    "duration": 9,
    "start_time": "2022-07-24T18:58:47.515Z"
   },
   {
    "duration": 10,
    "start_time": "2022-07-24T18:58:48.675Z"
   },
   {
    "duration": 229,
    "start_time": "2022-07-24T18:58:50.106Z"
   },
   {
    "duration": 326,
    "start_time": "2022-07-24T18:58:51.158Z"
   },
   {
    "duration": 10,
    "start_time": "2022-07-24T18:58:51.672Z"
   },
   {
    "duration": 296,
    "start_time": "2022-07-24T18:59:25.557Z"
   },
   {
    "duration": 222,
    "start_time": "2022-07-24T18:59:39.429Z"
   },
   {
    "duration": 349,
    "start_time": "2022-07-24T18:59:49.397Z"
   },
   {
    "duration": 10,
    "start_time": "2022-07-24T18:59:53.002Z"
   },
   {
    "duration": 109,
    "start_time": "2022-07-24T19:09:56.814Z"
   },
   {
    "duration": 32,
    "start_time": "2022-07-24T19:09:57.415Z"
   },
   {
    "duration": 2134,
    "start_time": "2022-07-24T19:09:57.959Z"
   },
   {
    "duration": 10,
    "start_time": "2022-07-24T19:10:00.186Z"
   },
   {
    "duration": 25,
    "start_time": "2022-07-24T19:10:01.793Z"
   },
   {
    "duration": 11,
    "start_time": "2022-07-24T19:10:02.353Z"
   },
   {
    "duration": 9,
    "start_time": "2022-07-24T19:10:02.958Z"
   },
   {
    "duration": 10,
    "start_time": "2022-07-24T19:10:05.226Z"
   },
   {
    "duration": 16,
    "start_time": "2022-07-24T19:10:05.797Z"
   },
   {
    "duration": 5,
    "start_time": "2022-07-24T19:10:06.369Z"
   },
   {
    "duration": 16,
    "start_time": "2022-07-24T19:10:06.963Z"
   },
   {
    "duration": 8,
    "start_time": "2022-07-24T19:10:08.075Z"
   },
   {
    "duration": 16,
    "start_time": "2022-07-24T19:10:08.616Z"
   },
   {
    "duration": 12,
    "start_time": "2022-07-24T19:10:09.105Z"
   },
   {
    "duration": 6,
    "start_time": "2022-07-24T19:10:10.547Z"
   },
   {
    "duration": 7,
    "start_time": "2022-07-24T19:10:10.958Z"
   },
   {
    "duration": 7,
    "start_time": "2022-07-24T19:10:11.350Z"
   },
   {
    "duration": 6,
    "start_time": "2022-07-24T19:10:13.014Z"
   },
   {
    "duration": 11,
    "start_time": "2022-07-24T19:10:13.417Z"
   },
   {
    "duration": 3,
    "start_time": "2022-07-24T19:10:13.853Z"
   },
   {
    "duration": 170,
    "start_time": "2022-07-24T19:10:14.204Z"
   },
   {
    "duration": 8,
    "start_time": "2022-07-24T19:10:14.646Z"
   },
   {
    "duration": 10,
    "start_time": "2022-07-24T19:10:15.028Z"
   },
   {
    "duration": 6,
    "start_time": "2022-07-24T19:10:17.555Z"
   },
   {
    "duration": 10,
    "start_time": "2022-07-24T19:10:18.119Z"
   },
   {
    "duration": 6,
    "start_time": "2022-07-24T19:10:18.601Z"
   },
   {
    "duration": 21,
    "start_time": "2022-07-24T19:10:19.052Z"
   },
   {
    "duration": 1564,
    "start_time": "2022-07-24T19:10:19.553Z"
   },
   {
    "duration": 1939,
    "start_time": "2022-07-24T19:10:21.120Z"
   },
   {
    "duration": 9,
    "start_time": "2022-07-24T19:10:23.061Z"
   },
   {
    "duration": 11,
    "start_time": "2022-07-24T19:10:23.072Z"
   },
   {
    "duration": 36,
    "start_time": "2022-07-24T19:10:23.085Z"
   },
   {
    "duration": 14,
    "start_time": "2022-07-24T19:10:24.105Z"
   },
   {
    "duration": 11,
    "start_time": "2022-07-24T19:10:25.103Z"
   },
   {
    "duration": 36,
    "start_time": "2022-07-24T19:10:25.614Z"
   },
   {
    "duration": 4,
    "start_time": "2022-07-24T19:10:26.098Z"
   },
   {
    "duration": 680,
    "start_time": "2022-07-24T19:10:27.151Z"
   },
   {
    "duration": 703,
    "start_time": "2022-07-24T19:10:27.833Z"
   },
   {
    "duration": 670,
    "start_time": "2022-07-24T19:10:28.538Z"
   },
   {
    "duration": 661,
    "start_time": "2022-07-24T19:10:29.210Z"
   },
   {
    "duration": 13,
    "start_time": "2022-07-24T19:10:29.873Z"
   },
   {
    "duration": 9,
    "start_time": "2022-07-24T19:10:30.736Z"
   },
   {
    "duration": 29,
    "start_time": "2022-07-24T19:10:33.407Z"
   },
   {
    "duration": 6,
    "start_time": "2022-07-24T19:10:35.485Z"
   },
   {
    "duration": 6,
    "start_time": "2022-07-24T19:10:36.089Z"
   },
   {
    "duration": 6,
    "start_time": "2022-07-24T19:10:36.594Z"
   },
   {
    "duration": 5,
    "start_time": "2022-07-24T19:10:37.115Z"
   },
   {
    "duration": 321,
    "start_time": "2022-07-24T19:10:38.595Z"
   },
   {
    "duration": 5,
    "start_time": "2022-07-24T19:10:39.081Z"
   },
   {
    "duration": 32,
    "start_time": "2022-07-24T19:10:39.593Z"
   },
   {
    "duration": 2725,
    "start_time": "2022-07-24T19:10:41.689Z"
   },
   {
    "duration": 9,
    "start_time": "2022-07-24T19:10:44.421Z"
   },
   {
    "duration": 152,
    "start_time": "2022-07-24T19:10:44.432Z"
   },
   {
    "duration": 721,
    "start_time": "2022-07-24T19:10:44.626Z"
   },
   {
    "duration": 8,
    "start_time": "2022-07-24T19:10:45.349Z"
   },
   {
    "duration": 5,
    "start_time": "2022-07-24T19:10:45.898Z"
   },
   {
    "duration": 187,
    "start_time": "2022-07-24T19:11:00.395Z"
   },
   {
    "duration": 6,
    "start_time": "2022-07-24T19:11:01.050Z"
   },
   {
    "duration": 155,
    "start_time": "2022-07-24T19:11:02.353Z"
   },
   {
    "duration": 7,
    "start_time": "2022-07-24T19:11:03.114Z"
   },
   {
    "duration": 164,
    "start_time": "2022-07-24T19:11:04.165Z"
   },
   {
    "duration": 7,
    "start_time": "2022-07-24T19:11:04.840Z"
   },
   {
    "duration": 173,
    "start_time": "2022-07-24T19:11:06.109Z"
   },
   {
    "duration": 7,
    "start_time": "2022-07-24T19:11:06.633Z"
   },
   {
    "duration": 74,
    "start_time": "2022-07-24T19:11:07.119Z"
   },
   {
    "duration": 156,
    "start_time": "2022-07-24T19:11:07.618Z"
   },
   {
    "duration": 70,
    "start_time": "2022-07-24T19:11:08.120Z"
   },
   {
    "duration": 170,
    "start_time": "2022-07-24T19:11:08.625Z"
   },
   {
    "duration": 100,
    "start_time": "2022-07-24T19:11:09.162Z"
   },
   {
    "duration": 151,
    "start_time": "2022-07-24T19:11:09.710Z"
   },
   {
    "duration": 261,
    "start_time": "2022-07-24T19:11:10.156Z"
   },
   {
    "duration": 144,
    "start_time": "2022-07-24T19:11:10.608Z"
   },
   {
    "duration": 139,
    "start_time": "2022-07-24T19:11:11.149Z"
   },
   {
    "duration": 8,
    "start_time": "2022-07-24T19:11:46.465Z"
   },
   {
    "duration": 12,
    "start_time": "2022-07-24T19:11:47.171Z"
   },
   {
    "duration": 197,
    "start_time": "2022-07-24T19:11:48.776Z"
   },
   {
    "duration": 329,
    "start_time": "2022-07-24T19:11:49.861Z"
   },
   {
    "duration": 10,
    "start_time": "2022-07-24T19:11:50.400Z"
   },
   {
    "duration": 75,
    "start_time": "2022-07-24T19:11:52.176Z"
   },
   {
    "duration": 11,
    "start_time": "2022-07-24T19:29:44.339Z"
   },
   {
    "duration": 1320,
    "start_time": "2022-07-24T19:30:29.747Z"
   },
   {
    "duration": 1188,
    "start_time": "2022-07-24T19:31:26.941Z"
   },
   {
    "duration": 2609,
    "start_time": "2022-07-24T19:31:46.599Z"
   },
   {
    "duration": 85,
    "start_time": "2022-07-24T19:36:51.839Z"
   },
   {
    "duration": 81,
    "start_time": "2022-07-24T19:38:40.884Z"
   },
   {
    "duration": 229,
    "start_time": "2022-07-24T19:38:50.142Z"
   },
   {
    "duration": 147,
    "start_time": "2022-07-24T19:39:05.780Z"
   },
   {
    "duration": 251,
    "start_time": "2022-07-24T19:39:48.745Z"
   },
   {
    "duration": 433,
    "start_time": "2022-07-24T19:40:10.310Z"
   },
   {
    "duration": 262,
    "start_time": "2022-07-24T19:40:25.574Z"
   },
   {
    "duration": 335,
    "start_time": "2022-07-24T19:40:36.437Z"
   },
   {
    "duration": 219,
    "start_time": "2022-07-24T19:41:39.444Z"
   },
   {
    "duration": 184,
    "start_time": "2022-07-24T19:41:56.644Z"
   },
   {
    "duration": 155,
    "start_time": "2022-07-24T19:42:32.543Z"
   },
   {
    "duration": 150,
    "start_time": "2022-07-24T19:44:11.898Z"
   },
   {
    "duration": 128,
    "start_time": "2022-07-24T19:44:51.284Z"
   },
   {
    "duration": 143,
    "start_time": "2022-07-24T19:44:55.012Z"
   },
   {
    "duration": 283,
    "start_time": "2022-07-24T19:44:57.268Z"
   },
   {
    "duration": 199,
    "start_time": "2022-07-24T19:45:41.495Z"
   },
   {
    "duration": 236,
    "start_time": "2022-07-24T19:45:56.523Z"
   },
   {
    "duration": 140,
    "start_time": "2022-07-24T19:54:56.159Z"
   },
   {
    "duration": 261,
    "start_time": "2022-07-24T19:55:17.879Z"
   },
   {
    "duration": 257,
    "start_time": "2022-07-24T19:55:31.183Z"
   },
   {
    "duration": 295,
    "start_time": "2022-07-24T19:55:40.453Z"
   },
   {
    "duration": 396,
    "start_time": "2022-07-24T19:55:55.451Z"
   },
   {
    "duration": 258,
    "start_time": "2022-07-24T19:56:06.781Z"
   },
   {
    "duration": 9,
    "start_time": "2022-07-24T19:57:23.833Z"
   },
   {
    "duration": 101,
    "start_time": "2022-07-24T19:58:13.335Z"
   },
   {
    "duration": 29,
    "start_time": "2022-07-24T19:58:13.527Z"
   },
   {
    "duration": 2091,
    "start_time": "2022-07-24T19:58:13.654Z"
   },
   {
    "duration": 11,
    "start_time": "2022-07-24T19:58:15.748Z"
   },
   {
    "duration": 18,
    "start_time": "2022-07-24T19:58:15.761Z"
   },
   {
    "duration": 32,
    "start_time": "2022-07-24T19:58:15.781Z"
   },
   {
    "duration": 9,
    "start_time": "2022-07-24T19:58:15.814Z"
   },
   {
    "duration": 10,
    "start_time": "2022-07-24T19:58:15.825Z"
   },
   {
    "duration": 12,
    "start_time": "2022-07-24T19:58:15.837Z"
   },
   {
    "duration": 4,
    "start_time": "2022-07-24T19:58:15.972Z"
   },
   {
    "duration": 15,
    "start_time": "2022-07-24T19:58:16.150Z"
   },
   {
    "duration": 9,
    "start_time": "2022-07-24T19:58:16.495Z"
   },
   {
    "duration": 23,
    "start_time": "2022-07-24T19:58:16.651Z"
   },
   {
    "duration": 5,
    "start_time": "2022-07-24T19:58:16.837Z"
   },
   {
    "duration": 6,
    "start_time": "2022-07-24T19:58:17.375Z"
   },
   {
    "duration": 7,
    "start_time": "2022-07-24T19:58:17.516Z"
   },
   {
    "duration": 6,
    "start_time": "2022-07-24T19:58:17.693Z"
   },
   {
    "duration": 5,
    "start_time": "2022-07-24T19:58:18.387Z"
   },
   {
    "duration": 10,
    "start_time": "2022-07-24T19:58:18.581Z"
   },
   {
    "duration": 3,
    "start_time": "2022-07-24T19:58:18.732Z"
   },
   {
    "duration": 143,
    "start_time": "2022-07-24T19:58:18.884Z"
   },
   {
    "duration": 9,
    "start_time": "2022-07-24T19:58:19.060Z"
   },
   {
    "duration": 10,
    "start_time": "2022-07-24T19:58:19.230Z"
   },
   {
    "duration": 7,
    "start_time": "2022-07-24T19:58:20.133Z"
   },
   {
    "duration": 5,
    "start_time": "2022-07-24T19:58:20.302Z"
   },
   {
    "duration": 6,
    "start_time": "2022-07-24T19:58:20.505Z"
   },
   {
    "duration": 23,
    "start_time": "2022-07-24T19:58:20.733Z"
   },
   {
    "duration": 1518,
    "start_time": "2022-07-24T19:58:20.894Z"
   },
   {
    "duration": 1837,
    "start_time": "2022-07-24T19:58:22.414Z"
   },
   {
    "duration": 10,
    "start_time": "2022-07-24T19:58:24.253Z"
   },
   {
    "duration": 9,
    "start_time": "2022-07-24T19:58:24.265Z"
   },
   {
    "duration": 34,
    "start_time": "2022-07-24T19:58:24.276Z"
   },
   {
    "duration": 12,
    "start_time": "2022-07-24T19:58:24.312Z"
   },
   {
    "duration": 7,
    "start_time": "2022-07-24T19:58:24.325Z"
   },
   {
    "duration": 35,
    "start_time": "2022-07-24T19:58:24.333Z"
   },
   {
    "duration": 4,
    "start_time": "2022-07-24T19:58:24.370Z"
   },
   {
    "duration": 640,
    "start_time": "2022-07-24T19:58:24.405Z"
   },
   {
    "duration": 659,
    "start_time": "2022-07-24T19:58:25.046Z"
   },
   {
    "duration": 648,
    "start_time": "2022-07-24T19:58:25.707Z"
   },
   {
    "duration": 722,
    "start_time": "2022-07-24T19:58:26.357Z"
   },
   {
    "duration": 24,
    "start_time": "2022-07-24T19:58:27.081Z"
   },
   {
    "duration": 9,
    "start_time": "2022-07-24T19:58:27.108Z"
   },
   {
    "duration": 20,
    "start_time": "2022-07-24T19:58:27.119Z"
   },
   {
    "duration": 5,
    "start_time": "2022-07-24T19:58:27.142Z"
   },
   {
    "duration": 8,
    "start_time": "2022-07-24T19:58:27.148Z"
   },
   {
    "duration": 5,
    "start_time": "2022-07-24T19:58:27.157Z"
   },
   {
    "duration": 42,
    "start_time": "2022-07-24T19:58:27.164Z"
   },
   {
    "duration": 290,
    "start_time": "2022-07-24T19:58:27.208Z"
   },
   {
    "duration": 5,
    "start_time": "2022-07-24T19:58:27.501Z"
   },
   {
    "duration": 28,
    "start_time": "2022-07-24T19:58:27.507Z"
   },
   {
    "duration": 2841,
    "start_time": "2022-07-24T19:58:27.993Z"
   },
   {
    "duration": 271,
    "start_time": "2022-07-24T19:58:30.836Z"
   },
   {
    "duration": 10,
    "start_time": "2022-07-24T19:58:31.109Z"
   },
   {
    "duration": 276,
    "start_time": "2022-07-24T19:58:31.122Z"
   },
   {
    "duration": 11,
    "start_time": "2022-07-24T19:58:31.399Z"
   },
   {
    "duration": 138,
    "start_time": "2022-07-24T19:58:31.412Z"
   },
   {
    "duration": 143,
    "start_time": "2022-07-24T19:58:31.552Z"
   },
   {
    "duration": 156,
    "start_time": "2022-07-24T19:58:31.697Z"
   },
   {
    "duration": 214,
    "start_time": "2022-07-24T19:58:31.854Z"
   },
   {
    "duration": 137,
    "start_time": "2022-07-24T19:58:32.385Z"
   },
   {
    "duration": 146,
    "start_time": "2022-07-24T19:58:32.948Z"
   },
   {
    "duration": 114,
    "start_time": "2022-07-24T19:58:33.450Z"
   },
   {
    "duration": 749,
    "start_time": "2022-07-24T19:58:35.142Z"
   },
   {
    "duration": 13,
    "start_time": "2022-07-24T19:58:35.892Z"
   },
   {
    "duration": 6,
    "start_time": "2022-07-24T19:58:35.906Z"
   },
   {
    "duration": 209,
    "start_time": "2022-07-24T19:58:36.595Z"
   },
   {
    "duration": 6,
    "start_time": "2022-07-24T19:58:36.933Z"
   },
   {
    "duration": 148,
    "start_time": "2022-07-24T19:58:37.632Z"
   },
   {
    "duration": 6,
    "start_time": "2022-07-24T19:58:37.804Z"
   },
   {
    "duration": 177,
    "start_time": "2022-07-24T19:58:38.214Z"
   },
   {
    "duration": 6,
    "start_time": "2022-07-24T19:58:38.546Z"
   },
   {
    "duration": 174,
    "start_time": "2022-07-24T19:58:38.995Z"
   },
   {
    "duration": 6,
    "start_time": "2022-07-24T19:58:39.334Z"
   },
   {
    "duration": 77,
    "start_time": "2022-07-24T19:58:39.790Z"
   },
   {
    "duration": 136,
    "start_time": "2022-07-24T19:58:39.986Z"
   },
   {
    "duration": 73,
    "start_time": "2022-07-24T19:58:40.124Z"
   },
   {
    "duration": 0,
    "start_time": "2022-07-24T19:58:40.198Z"
   },
   {
    "duration": 71,
    "start_time": "2022-07-24T19:58:40.334Z"
   },
   {
    "duration": 0,
    "start_time": "2022-07-24T19:58:40.407Z"
   },
   {
    "duration": 0,
    "start_time": "2022-07-24T19:58:40.408Z"
   },
   {
    "duration": 166,
    "start_time": "2022-07-24T19:58:40.506Z"
   },
   {
    "duration": 141,
    "start_time": "2022-07-24T19:58:40.705Z"
   },
   {
    "duration": 9,
    "start_time": "2022-07-24T19:58:42.754Z"
   },
   {
    "duration": 9,
    "start_time": "2022-07-24T19:58:42.967Z"
   },
   {
    "duration": 188,
    "start_time": "2022-07-24T19:58:43.390Z"
   },
   {
    "duration": 439,
    "start_time": "2022-07-24T19:58:43.951Z"
   },
   {
    "duration": 13,
    "start_time": "2022-07-24T19:58:44.392Z"
   },
   {
    "duration": 131,
    "start_time": "2022-07-24T19:59:33.774Z"
   },
   {
    "duration": 122,
    "start_time": "2022-07-24T19:59:44.842Z"
   },
   {
    "duration": 149,
    "start_time": "2022-07-24T19:59:55.912Z"
   },
   {
    "duration": 160,
    "start_time": "2022-07-24T20:00:04.064Z"
   },
   {
    "duration": 154,
    "start_time": "2022-07-24T20:00:16.094Z"
   },
   {
    "duration": 813,
    "start_time": "2022-07-24T20:45:43.414Z"
   },
   {
    "duration": 44,
    "start_time": "2022-07-24T20:45:44.229Z"
   },
   {
    "duration": 2093,
    "start_time": "2022-07-24T20:45:44.275Z"
   },
   {
    "duration": 11,
    "start_time": "2022-07-24T20:45:46.372Z"
   },
   {
    "duration": 57,
    "start_time": "2022-07-24T20:45:46.385Z"
   },
   {
    "duration": 19,
    "start_time": "2022-07-24T20:45:46.444Z"
   },
   {
    "duration": 11,
    "start_time": "2022-07-24T20:45:46.465Z"
   },
   {
    "duration": 10,
    "start_time": "2022-07-24T20:45:46.478Z"
   },
   {
    "duration": 20,
    "start_time": "2022-07-24T20:45:46.490Z"
   },
   {
    "duration": 4,
    "start_time": "2022-07-24T20:45:46.513Z"
   },
   {
    "duration": 35,
    "start_time": "2022-07-24T20:45:46.519Z"
   },
   {
    "duration": 8,
    "start_time": "2022-07-24T20:45:46.556Z"
   },
   {
    "duration": 15,
    "start_time": "2022-07-24T20:45:46.566Z"
   },
   {
    "duration": 9,
    "start_time": "2022-07-24T20:45:46.582Z"
   },
   {
    "duration": 9,
    "start_time": "2022-07-24T20:45:46.593Z"
   },
   {
    "duration": 11,
    "start_time": "2022-07-24T20:45:46.604Z"
   },
   {
    "duration": 30,
    "start_time": "2022-07-24T20:45:46.617Z"
   },
   {
    "duration": 7,
    "start_time": "2022-07-24T20:45:46.649Z"
   },
   {
    "duration": 15,
    "start_time": "2022-07-24T20:45:46.658Z"
   },
   {
    "duration": 2,
    "start_time": "2022-07-24T20:45:46.674Z"
   },
   {
    "duration": 154,
    "start_time": "2022-07-24T20:45:46.678Z"
   },
   {
    "duration": 25,
    "start_time": "2022-07-24T20:45:46.834Z"
   },
   {
    "duration": 14,
    "start_time": "2022-07-24T20:45:46.860Z"
   },
   {
    "duration": 10,
    "start_time": "2022-07-24T20:45:46.876Z"
   },
   {
    "duration": 7,
    "start_time": "2022-07-24T20:45:46.888Z"
   },
   {
    "duration": 9,
    "start_time": "2022-07-24T20:45:46.896Z"
   },
   {
    "duration": 19,
    "start_time": "2022-07-24T20:45:46.907Z"
   },
   {
    "duration": 1471,
    "start_time": "2022-07-24T20:45:46.945Z"
   },
   {
    "duration": 1774,
    "start_time": "2022-07-24T20:45:48.418Z"
   },
   {
    "duration": 8,
    "start_time": "2022-07-24T20:45:50.195Z"
   },
   {
    "duration": 8,
    "start_time": "2022-07-24T20:45:50.204Z"
   },
   {
    "duration": 8,
    "start_time": "2022-07-24T20:45:50.213Z"
   },
   {
    "duration": 38,
    "start_time": "2022-07-24T20:45:50.222Z"
   },
   {
    "duration": 12,
    "start_time": "2022-07-24T20:45:50.262Z"
   },
   {
    "duration": 28,
    "start_time": "2022-07-24T20:45:50.276Z"
   },
   {
    "duration": 4,
    "start_time": "2022-07-24T20:45:50.306Z"
   },
   {
    "duration": 663,
    "start_time": "2022-07-24T20:45:50.311Z"
   },
   {
    "duration": 652,
    "start_time": "2022-07-24T20:45:50.976Z"
   },
   {
    "duration": 634,
    "start_time": "2022-07-24T20:45:51.630Z"
   },
   {
    "duration": 627,
    "start_time": "2022-07-24T20:45:52.266Z"
   },
   {
    "duration": 11,
    "start_time": "2022-07-24T20:45:52.895Z"
   },
   {
    "duration": 6,
    "start_time": "2022-07-24T20:45:52.908Z"
   },
   {
    "duration": 38,
    "start_time": "2022-07-24T20:45:52.916Z"
   },
   {
    "duration": 6,
    "start_time": "2022-07-24T20:45:52.956Z"
   },
   {
    "duration": 8,
    "start_time": "2022-07-24T20:45:52.964Z"
   },
   {
    "duration": 9,
    "start_time": "2022-07-24T20:45:52.974Z"
   },
   {
    "duration": 7,
    "start_time": "2022-07-24T20:45:52.985Z"
   },
   {
    "duration": 252,
    "start_time": "2022-07-24T20:45:52.993Z"
   },
   {
    "duration": 6,
    "start_time": "2022-07-24T20:45:53.253Z"
   },
   {
    "duration": 33,
    "start_time": "2022-07-24T20:45:53.260Z"
   },
   {
    "duration": 2580,
    "start_time": "2022-07-24T20:45:53.295Z"
   },
   {
    "duration": 268,
    "start_time": "2022-07-24T20:45:55.876Z"
   },
   {
    "duration": 10,
    "start_time": "2022-07-24T20:45:56.146Z"
   },
   {
    "duration": 407,
    "start_time": "2022-07-24T20:45:56.158Z"
   },
   {
    "duration": 9,
    "start_time": "2022-07-24T20:45:56.568Z"
   },
   {
    "duration": 139,
    "start_time": "2022-07-24T20:45:56.578Z"
   },
   {
    "duration": 157,
    "start_time": "2022-07-24T20:45:56.719Z"
   },
   {
    "duration": 140,
    "start_time": "2022-07-24T20:45:56.878Z"
   },
   {
    "duration": 212,
    "start_time": "2022-07-24T20:45:57.020Z"
   },
   {
    "duration": 136,
    "start_time": "2022-07-24T20:45:57.234Z"
   },
   {
    "duration": 140,
    "start_time": "2022-07-24T20:45:57.371Z"
   },
   {
    "duration": 139,
    "start_time": "2022-07-24T20:45:57.513Z"
   },
   {
    "duration": 632,
    "start_time": "2022-07-24T20:45:57.654Z"
   },
   {
    "duration": 8,
    "start_time": "2022-07-24T20:45:58.288Z"
   },
   {
    "duration": 5,
    "start_time": "2022-07-24T20:45:58.298Z"
   },
   {
    "duration": 203,
    "start_time": "2022-07-24T20:45:58.304Z"
   },
   {
    "duration": 5,
    "start_time": "2022-07-24T20:45:58.508Z"
   },
   {
    "duration": 156,
    "start_time": "2022-07-24T20:45:58.515Z"
   },
   {
    "duration": 5,
    "start_time": "2022-07-24T20:45:58.673Z"
   },
   {
    "duration": 164,
    "start_time": "2022-07-24T20:45:58.679Z"
   },
   {
    "duration": 11,
    "start_time": "2022-07-24T20:45:58.849Z"
   },
   {
    "duration": 209,
    "start_time": "2022-07-24T20:45:58.862Z"
   },
   {
    "duration": 7,
    "start_time": "2022-07-24T20:45:59.073Z"
   },
   {
    "duration": 91,
    "start_time": "2022-07-24T20:45:59.081Z"
   },
   {
    "duration": 0,
    "start_time": "2022-07-24T20:45:59.174Z"
   },
   {
    "duration": 0,
    "start_time": "2022-07-24T20:45:59.176Z"
   },
   {
    "duration": 0,
    "start_time": "2022-07-24T20:45:59.178Z"
   },
   {
    "duration": 0,
    "start_time": "2022-07-24T20:45:59.179Z"
   },
   {
    "duration": 0,
    "start_time": "2022-07-24T20:45:59.181Z"
   },
   {
    "duration": 0,
    "start_time": "2022-07-24T20:45:59.182Z"
   },
   {
    "duration": 0,
    "start_time": "2022-07-24T20:45:59.184Z"
   },
   {
    "duration": 0,
    "start_time": "2022-07-24T20:45:59.185Z"
   },
   {
    "duration": 0,
    "start_time": "2022-07-24T20:45:59.186Z"
   },
   {
    "duration": 0,
    "start_time": "2022-07-24T20:45:59.187Z"
   },
   {
    "duration": 0,
    "start_time": "2022-07-24T20:45:59.188Z"
   },
   {
    "duration": 0,
    "start_time": "2022-07-24T20:45:59.190Z"
   },
   {
    "duration": 0,
    "start_time": "2022-07-24T20:45:59.191Z"
   },
   {
    "duration": 136,
    "start_time": "2022-07-24T20:53:25.330Z"
   },
   {
    "duration": 168,
    "start_time": "2022-07-24T20:53:26.241Z"
   },
   {
    "duration": 145,
    "start_time": "2022-07-24T20:53:26.673Z"
   },
   {
    "duration": 175,
    "start_time": "2022-07-24T20:53:26.897Z"
   },
   {
    "duration": 154,
    "start_time": "2022-07-24T20:53:27.130Z"
   },
   {
    "duration": 233,
    "start_time": "2022-07-24T20:53:27.382Z"
   },
   {
    "duration": 8,
    "start_time": "2022-07-24T20:53:28.765Z"
   },
   {
    "duration": 11,
    "start_time": "2022-07-24T20:53:28.923Z"
   },
   {
    "duration": 203,
    "start_time": "2022-07-24T20:53:29.465Z"
   },
   {
    "duration": 307,
    "start_time": "2022-07-24T20:53:29.931Z"
   },
   {
    "duration": 17,
    "start_time": "2022-07-24T20:53:30.240Z"
   }
  ],
  "kernelspec": {
   "display_name": "Python 3 (ipykernel)",
   "language": "python",
   "name": "python3"
  },
  "language_info": {
   "codemirror_mode": {
    "name": "ipython",
    "version": 3
   },
   "file_extension": ".py",
   "mimetype": "text/x-python",
   "name": "python",
   "nbconvert_exporter": "python",
   "pygments_lexer": "ipython3",
   "version": "3.9.12"
  },
  "toc": {
   "base_numbering": 1,
   "nav_menu": {},
   "number_sections": true,
   "sideBar": true,
   "skip_h1_title": true,
   "title_cell": "Table of Contents",
   "title_sidebar": "Contents",
   "toc_cell": false,
   "toc_position": {},
   "toc_section_display": true,
   "toc_window_display": true
  }
 },
 "nbformat": 4,
 "nbformat_minor": 2
}
