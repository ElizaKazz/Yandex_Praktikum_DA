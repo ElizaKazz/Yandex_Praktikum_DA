{
 "cells": [
  {
   "cell_type": "markdown",
   "metadata": {},
   "source": [
    "# **Проект \"А/Б тестирование\"**\n",
    "\n",
    "*Задача исследования*: проверить гипотезы для увеличения выручки.\n",
    "\n",
    "В рамках исследования необходимо:\n",
    "Приоритизировать гипотезы по увеличению выручки,сформулированные отделом маркетинга,  \n",
    "запустить A/B-тест,  \n",
    "проанализируйте результаты;\n",
    "\n",
    "Исследование можно разделить на 2 части:  \n",
    "Часть 1. Приоритизация гипотез.\n",
    "- Применение фреймворка ICE для приоритизации гипотез. \n",
    "- Применение фреймворка RICE для приоритизации гипотез. \n",
    "- Выводы о приоритизации гипотез.\n",
    "\n",
    "\n",
    "Часть 2. Анализ A/B-теста.\n",
    "- Визуализация результата теста. Выводы и предположения.\n",
    "- Определение аномальных значений, очистка данных. Выводы и предположения.\n",
    "- Принятие решения по результатам теста. Варианты решений: \n",
    "     1. Остановить тест, зафиксировать победу одной из групп. \n",
    "     2. Остановить тест, зафиксировать отсутствие различий между группами. \n",
    "     3. Продолжить тест.\n",
    "     \n",
    "     \n",
    "     \n",
    "*Описание данных*  \n",
    "Данные для первой части: Файл /datasets/hypothesis.csv  \n",
    "Hypothesis — краткое описание гипотезы;  \n",
    "Reach — охват пользователей по 10-балльной шкале;  \n",
    "Impact — влияние на пользователей по 10-балльной шкале;  \n",
    "Confidence — уверенность в гипотезе по 10-балльной шкале;  \n",
    "Efforts — затраты ресурсов на проверку гипотезы по 10-балльной шкале. Чем больше значение Efforts, тем дороже проверка гипотезы.  \n",
    "\n",
    "Данные для второй части: Файл /datasets/visitors.csv  \n",
    "transactionId — идентификатор заказа;  \n",
    "visitorId — идентификатор пользователя, совершившего заказ;  \n",
    "date — дата, когда был совершён заказ;  \n",
    "revenue — выручка заказа;  \n",
    "group — группа A/B-теста, в которую попал заказ.  \n",
    "\n",
    "Файл /datasets/visitors.csv:  \n",
    "date — дата;  \n",
    "group — группа A/B-теста;  \n",
    "visitors — количество пользователей в указанную дату в указанной группе A/B-теста  "
   ]
  },
  {
   "cell_type": "markdown",
   "metadata": {},
   "source": [
    "# **Часть 1. Приоритизация гипотез.**"
   ]
  },
  {
   "cell_type": "markdown",
   "metadata": {},
   "source": [
    "В файле /datasets/hypothesis.csv 9 гипотез по увеличению выручки интернет-магазина с указанными параметрами Reach, Impact, Confidence, Effort.\n",
    "Загрузим и проанализируем данные.\n",
    "# Применение фреймворка ICE для приоритизации гипотез."
   ]
  },
  {
   "cell_type": "code",
   "execution_count": 1,
   "metadata": {},
   "outputs": [],
   "source": [
    "import pandas as pd\n",
    "import numpy as np\n",
    "import datetime as dt\n",
    "import matplotlib.pyplot as plt\n",
    "import scipy.stats as stats"
   ]
  },
  {
   "cell_type": "code",
   "execution_count": 2,
   "metadata": {},
   "outputs": [],
   "source": [
    "hypothesis_data = pd.read_csv('/datasets/hypothesis.csv')"
   ]
  },
  {
   "cell_type": "code",
   "execution_count": 3,
   "metadata": {},
   "outputs": [
    {
     "data": {
      "text/html": [
       "<div>\n",
       "<style scoped>\n",
       "    .dataframe tbody tr th:only-of-type {\n",
       "        vertical-align: middle;\n",
       "    }\n",
       "\n",
       "    .dataframe tbody tr th {\n",
       "        vertical-align: top;\n",
       "    }\n",
       "\n",
       "    .dataframe thead th {\n",
       "        text-align: right;\n",
       "    }\n",
       "</style>\n",
       "<table border=\"1\" class=\"dataframe\">\n",
       "  <thead>\n",
       "    <tr style=\"text-align: right;\">\n",
       "      <th></th>\n",
       "      <th>Hypothesis</th>\n",
       "      <th>ICE</th>\n",
       "    </tr>\n",
       "  </thead>\n",
       "  <tbody>\n",
       "    <tr>\n",
       "      <th>8</th>\n",
       "      <td>Запустить акцию, дающую скидку на товар в день рождения</td>\n",
       "      <td>16.200000</td>\n",
       "    </tr>\n",
       "    <tr>\n",
       "      <th>0</th>\n",
       "      <td>Добавить два новых канала привлечения трафика, что позволит привлекать на 30% больше пользователей</td>\n",
       "      <td>13.333333</td>\n",
       "    </tr>\n",
       "    <tr>\n",
       "      <th>7</th>\n",
       "      <td>Добавить форму подписки на все основные страницы, чтобы собрать базу клиентов для email-рассылок</td>\n",
       "      <td>11.200000</td>\n",
       "    </tr>\n",
       "    <tr>\n",
       "      <th>6</th>\n",
       "      <td>Показать на главной странице баннеры с актуальными акциями и распродажами, чтобы увеличить конверсию</td>\n",
       "      <td>8.000000</td>\n",
       "    </tr>\n",
       "    <tr>\n",
       "      <th>2</th>\n",
       "      <td>Добавить блоки рекомендаций товаров на сайт интернет магазина, чтобы повысить конверсию и средний чек заказа</td>\n",
       "      <td>7.000000</td>\n",
       "    </tr>\n",
       "    <tr>\n",
       "      <th>1</th>\n",
       "      <td>Запустить собственную службу доставки, что сократит срок доставки заказов</td>\n",
       "      <td>2.000000</td>\n",
       "    </tr>\n",
       "    <tr>\n",
       "      <th>5</th>\n",
       "      <td>Добавить страницу отзывов клиентов о магазине, что позволит увеличить количество заказов</td>\n",
       "      <td>1.333333</td>\n",
       "    </tr>\n",
       "    <tr>\n",
       "      <th>3</th>\n",
       "      <td>Изменить структура категорий, что увеличит конверсию, т.к. пользователи быстрее найдут нужный товар</td>\n",
       "      <td>1.125000</td>\n",
       "    </tr>\n",
       "    <tr>\n",
       "      <th>4</th>\n",
       "      <td>Изменить цвет фона главной страницы, чтобы увеличить вовлеченность пользователей</td>\n",
       "      <td>1.000000</td>\n",
       "    </tr>\n",
       "  </tbody>\n",
       "</table>\n",
       "</div>"
      ],
      "text/plain": [
       "                                                                                                     Hypothesis  \\\n",
       "8                                                       Запустить акцию, дающую скидку на товар в день рождения   \n",
       "0            Добавить два новых канала привлечения трафика, что позволит привлекать на 30% больше пользователей   \n",
       "7              Добавить форму подписки на все основные страницы, чтобы собрать базу клиентов для email-рассылок   \n",
       "6          Показать на главной странице баннеры с актуальными акциями и распродажами, чтобы увеличить конверсию   \n",
       "2  Добавить блоки рекомендаций товаров на сайт интернет магазина, чтобы повысить конверсию и средний чек заказа   \n",
       "1                                     Запустить собственную службу доставки, что сократит срок доставки заказов   \n",
       "5                      Добавить страницу отзывов клиентов о магазине, что позволит увеличить количество заказов   \n",
       "3           Изменить структура категорий, что увеличит конверсию, т.к. пользователи быстрее найдут нужный товар   \n",
       "4                              Изменить цвет фона главной страницы, чтобы увеличить вовлеченность пользователей   \n",
       "\n",
       "         ICE  \n",
       "8  16.200000  \n",
       "0  13.333333  \n",
       "7  11.200000  \n",
       "6   8.000000  \n",
       "2   7.000000  \n",
       "1   2.000000  \n",
       "5   1.333333  \n",
       "3   1.125000  \n",
       "4   1.000000  "
      ]
     },
     "metadata": {},
     "output_type": "display_data"
    }
   ],
   "source": [
    "#добавим столбец ICE в датафрейм\n",
    "hypothesis_data['ICE'] = (hypothesis_data['Impact']*hypothesis_data['Confidence'])/hypothesis_data['Efforts']\n",
    "pd.options.display.max_colwidth = 150\n",
    "display(hypothesis_data[['Hypothesis', 'ICE']].sort_values(by='ICE', ascending = False))"
   ]
  },
  {
   "cell_type": "markdown",
   "metadata": {},
   "source": [
    "Согласно фреймворку ICE, с точки зрения вложенных усилий и степени влияения, наиболее перспективные гипотезы под номером 8, 0, 7, 6, 2.\n",
    "А именно:  \n",
    "- 8. Запустить акцию, дающую скидку на товар в день рождения\n",
    "- 0. Добавить два новых канала привлечения трафика, что позволит привлекать на 30% больше пользователей\n",
    "- 7. Добавить форму подписки на все основные страницы, чтобы собрать базу клиентов для email-рассылок\n",
    "- 6. Показать на главной странице баннеры с актуальными акциями и распродажами, чтобы увеличить конверсию\n",
    "- 2. Добавить блоки рекомендаций товаров на сайт интернет магазина, чтобы повысить конверсию и средний чек заказа"
   ]
  },
  {
   "cell_type": "markdown",
   "metadata": {},
   "source": [
    "# Применим фреймворк RICE для приоритизации гипотез."
   ]
  },
  {
   "cell_type": "code",
   "execution_count": 4,
   "metadata": {},
   "outputs": [
    {
     "data": {
      "text/html": [
       "<div>\n",
       "<style scoped>\n",
       "    .dataframe tbody tr th:only-of-type {\n",
       "        vertical-align: middle;\n",
       "    }\n",
       "\n",
       "    .dataframe tbody tr th {\n",
       "        vertical-align: top;\n",
       "    }\n",
       "\n",
       "    .dataframe thead th {\n",
       "        text-align: right;\n",
       "    }\n",
       "</style>\n",
       "<table border=\"1\" class=\"dataframe\">\n",
       "  <thead>\n",
       "    <tr style=\"text-align: right;\">\n",
       "      <th></th>\n",
       "      <th>Hypothesis</th>\n",
       "      <th>RICE</th>\n",
       "      <th>Reach</th>\n",
       "    </tr>\n",
       "  </thead>\n",
       "  <tbody>\n",
       "    <tr>\n",
       "      <th>7</th>\n",
       "      <td>Добавить форму подписки на все основные страницы, чтобы собрать базу клиентов для email-рассылок</td>\n",
       "      <td>112.0</td>\n",
       "      <td>10</td>\n",
       "    </tr>\n",
       "    <tr>\n",
       "      <th>2</th>\n",
       "      <td>Добавить блоки рекомендаций товаров на сайт интернет магазина, чтобы повысить конверсию и средний чек заказа</td>\n",
       "      <td>56.0</td>\n",
       "      <td>8</td>\n",
       "    </tr>\n",
       "    <tr>\n",
       "      <th>0</th>\n",
       "      <td>Добавить два новых канала привлечения трафика, что позволит привлекать на 30% больше пользователей</td>\n",
       "      <td>40.0</td>\n",
       "      <td>3</td>\n",
       "    </tr>\n",
       "    <tr>\n",
       "      <th>6</th>\n",
       "      <td>Показать на главной странице баннеры с актуальными акциями и распродажами, чтобы увеличить конверсию</td>\n",
       "      <td>40.0</td>\n",
       "      <td>5</td>\n",
       "    </tr>\n",
       "    <tr>\n",
       "      <th>8</th>\n",
       "      <td>Запустить акцию, дающую скидку на товар в день рождения</td>\n",
       "      <td>16.2</td>\n",
       "      <td>1</td>\n",
       "    </tr>\n",
       "    <tr>\n",
       "      <th>3</th>\n",
       "      <td>Изменить структура категорий, что увеличит конверсию, т.к. пользователи быстрее найдут нужный товар</td>\n",
       "      <td>9.0</td>\n",
       "      <td>8</td>\n",
       "    </tr>\n",
       "    <tr>\n",
       "      <th>1</th>\n",
       "      <td>Запустить собственную службу доставки, что сократит срок доставки заказов</td>\n",
       "      <td>4.0</td>\n",
       "      <td>2</td>\n",
       "    </tr>\n",
       "    <tr>\n",
       "      <th>5</th>\n",
       "      <td>Добавить страницу отзывов клиентов о магазине, что позволит увеличить количество заказов</td>\n",
       "      <td>4.0</td>\n",
       "      <td>3</td>\n",
       "    </tr>\n",
       "    <tr>\n",
       "      <th>4</th>\n",
       "      <td>Изменить цвет фона главной страницы, чтобы увеличить вовлеченность пользователей</td>\n",
       "      <td>3.0</td>\n",
       "      <td>3</td>\n",
       "    </tr>\n",
       "  </tbody>\n",
       "</table>\n",
       "</div>"
      ],
      "text/plain": [
       "                                                                                                     Hypothesis  \\\n",
       "7              Добавить форму подписки на все основные страницы, чтобы собрать базу клиентов для email-рассылок   \n",
       "2  Добавить блоки рекомендаций товаров на сайт интернет магазина, чтобы повысить конверсию и средний чек заказа   \n",
       "0            Добавить два новых канала привлечения трафика, что позволит привлекать на 30% больше пользователей   \n",
       "6          Показать на главной странице баннеры с актуальными акциями и распродажами, чтобы увеличить конверсию   \n",
       "8                                                       Запустить акцию, дающую скидку на товар в день рождения   \n",
       "3           Изменить структура категорий, что увеличит конверсию, т.к. пользователи быстрее найдут нужный товар   \n",
       "1                                     Запустить собственную службу доставки, что сократит срок доставки заказов   \n",
       "5                      Добавить страницу отзывов клиентов о магазине, что позволит увеличить количество заказов   \n",
       "4                              Изменить цвет фона главной страницы, чтобы увеличить вовлеченность пользователей   \n",
       "\n",
       "    RICE  Reach  \n",
       "7  112.0     10  \n",
       "2   56.0      8  \n",
       "0   40.0      3  \n",
       "6   40.0      5  \n",
       "8   16.2      1  \n",
       "3    9.0      8  \n",
       "1    4.0      2  \n",
       "5    4.0      3  \n",
       "4    3.0      3  "
      ]
     },
     "metadata": {},
     "output_type": "display_data"
    }
   ],
   "source": [
    "#добавим столбец RICE в датафрейм\n",
    "hypothesis_data['RICE']=(hypothesis_data['Reach']*hypothesis_data['Impact']*hypothesis_data['Confidence'])\\\n",
    "/hypothesis_data['Efforts']\n",
    "pd.options.display.max_colwidth = 150\n",
    "display(hypothesis_data[['Hypothesis','RICE', 'Reach']].sort_values(by='RICE', ascending= False))"
   ]
  },
  {
   "cell_type": "markdown",
   "metadata": {},
   "source": [
    "Согласно фреймворку RICE, а именно оценки не только усилий на внедрение гипотез, но и оценке их потенциального охвата пользователей, наиболее перспективные гипотезы под номером 7, 2, 0, 6, 8. А именно:  \n",
    "- 7. Добавить форму подписки на все основные страницы, чтобы собрать базу клиентов для email-рассылок\n",
    "- 2. Добавить блоки рекомендаций товаров на сайт интернет магазина, чтобы повысить конверсию и средний чек заказа\n",
    "- 0. Добавить два новых канала привлечения трафика, что позволит привлекать на 30% больше пользователей\n",
    "- 6. Показать на главной странице баннеры с актуальными акциями и распродажами, чтобы увеличить конверсию\n",
    "- 8. Запустить акцию, дающую скидку на товар в день рождения"
   ]
  },
  {
   "cell_type": "markdown",
   "metadata": {},
   "source": [
    "#  **Вывод по приоритизации гипотез:**  \n",
    "ТОП-5 приоритетных гипотез идентичен в обоих подходах, однако если оценивать потенциальный охват внедрения гипотезы (метод RICE), очередность меняется: те гипотезы, которые лидируют с точки зрения простоты внедрения и затрачиваемых усилий (метод ICE), проседают с точки зрения потенциального охвата пользователей. Так, например гипотеза под номером 8 \"Запустить акцию, дающую скидку на товар в день рождения\", лидирует по простоте и эффективности, но проседает по Reach - он оценивается только в 1 бал.\n",
    "Если приоритизировать гипотезы исходя из оценкы ICE и RICE, стоит остановится на ТОП-3: 7, 2, 0.\n",
    "- 7. Добавить форму подписки на все основные страницы, чтобы собрать базу клиентов для email-рассылок\n",
    "- 2. Добавить блоки рекомендаций товаров на сайт интернет магазина, чтобы повысить конверсию и средний чек заказа\n",
    "- 0. Добавить два новых канала привлечения трафика, что позволит привлекать на 30% больше пользователей\n",
    "\n",
    "Да, внедрение этих гипотез более трудоемко, но они будут влиять на большее кол-во пользователей, а значит могут в большей степени повлиять на рост выручки."
   ]
  },
  {
   "cell_type": "markdown",
   "metadata": {},
   "source": [
    "# **Часть 2. Анализ A/B-теста.**"
   ]
  },
  {
   "cell_type": "markdown",
   "metadata": {},
   "source": [
    "# Визуализация результата теста. Выводы и предположения."
   ]
  },
  {
   "cell_type": "markdown",
   "metadata": {},
   "source": [
    "Загрузим результаты А/Б теста."
   ]
  },
  {
   "cell_type": "code",
   "execution_count": 5,
   "metadata": {},
   "outputs": [
    {
     "data": {
      "text/html": [
       "<div>\n",
       "<style scoped>\n",
       "    .dataframe tbody tr th:only-of-type {\n",
       "        vertical-align: middle;\n",
       "    }\n",
       "\n",
       "    .dataframe tbody tr th {\n",
       "        vertical-align: top;\n",
       "    }\n",
       "\n",
       "    .dataframe thead th {\n",
       "        text-align: right;\n",
       "    }\n",
       "</style>\n",
       "<table border=\"1\" class=\"dataframe\">\n",
       "  <thead>\n",
       "    <tr style=\"text-align: right;\">\n",
       "      <th></th>\n",
       "      <th>transactionId</th>\n",
       "      <th>visitorId</th>\n",
       "      <th>date</th>\n",
       "      <th>revenue</th>\n",
       "      <th>group</th>\n",
       "    </tr>\n",
       "  </thead>\n",
       "  <tbody>\n",
       "    <tr>\n",
       "      <th>0</th>\n",
       "      <td>3667963787</td>\n",
       "      <td>3312258926</td>\n",
       "      <td>2019-08-15</td>\n",
       "      <td>1650</td>\n",
       "      <td>B</td>\n",
       "    </tr>\n",
       "    <tr>\n",
       "      <th>1</th>\n",
       "      <td>2804400009</td>\n",
       "      <td>3642806036</td>\n",
       "      <td>2019-08-15</td>\n",
       "      <td>730</td>\n",
       "      <td>B</td>\n",
       "    </tr>\n",
       "    <tr>\n",
       "      <th>2</th>\n",
       "      <td>2961555356</td>\n",
       "      <td>4069496402</td>\n",
       "      <td>2019-08-15</td>\n",
       "      <td>400</td>\n",
       "      <td>A</td>\n",
       "    </tr>\n",
       "    <tr>\n",
       "      <th>3</th>\n",
       "      <td>3797467345</td>\n",
       "      <td>1196621759</td>\n",
       "      <td>2019-08-15</td>\n",
       "      <td>9759</td>\n",
       "      <td>B</td>\n",
       "    </tr>\n",
       "    <tr>\n",
       "      <th>4</th>\n",
       "      <td>2282983706</td>\n",
       "      <td>2322279887</td>\n",
       "      <td>2019-08-15</td>\n",
       "      <td>2308</td>\n",
       "      <td>B</td>\n",
       "    </tr>\n",
       "  </tbody>\n",
       "</table>\n",
       "</div>"
      ],
      "text/plain": [
       "   transactionId   visitorId        date  revenue group\n",
       "0     3667963787  3312258926  2019-08-15     1650     B\n",
       "1     2804400009  3642806036  2019-08-15      730     B\n",
       "2     2961555356  4069496402  2019-08-15      400     A\n",
       "3     3797467345  1196621759  2019-08-15     9759     B\n",
       "4     2282983706  2322279887  2019-08-15     2308     B"
      ]
     },
     "metadata": {},
     "output_type": "display_data"
    },
    {
     "data": {
      "text/html": [
       "<div>\n",
       "<style scoped>\n",
       "    .dataframe tbody tr th:only-of-type {\n",
       "        vertical-align: middle;\n",
       "    }\n",
       "\n",
       "    .dataframe tbody tr th {\n",
       "        vertical-align: top;\n",
       "    }\n",
       "\n",
       "    .dataframe thead th {\n",
       "        text-align: right;\n",
       "    }\n",
       "</style>\n",
       "<table border=\"1\" class=\"dataframe\">\n",
       "  <thead>\n",
       "    <tr style=\"text-align: right;\">\n",
       "      <th></th>\n",
       "      <th>date</th>\n",
       "      <th>group</th>\n",
       "      <th>visitors</th>\n",
       "    </tr>\n",
       "  </thead>\n",
       "  <tbody>\n",
       "    <tr>\n",
       "      <th>0</th>\n",
       "      <td>2019-08-01</td>\n",
       "      <td>A</td>\n",
       "      <td>719</td>\n",
       "    </tr>\n",
       "    <tr>\n",
       "      <th>1</th>\n",
       "      <td>2019-08-02</td>\n",
       "      <td>A</td>\n",
       "      <td>619</td>\n",
       "    </tr>\n",
       "    <tr>\n",
       "      <th>2</th>\n",
       "      <td>2019-08-03</td>\n",
       "      <td>A</td>\n",
       "      <td>507</td>\n",
       "    </tr>\n",
       "    <tr>\n",
       "      <th>3</th>\n",
       "      <td>2019-08-04</td>\n",
       "      <td>A</td>\n",
       "      <td>717</td>\n",
       "    </tr>\n",
       "    <tr>\n",
       "      <th>4</th>\n",
       "      <td>2019-08-05</td>\n",
       "      <td>A</td>\n",
       "      <td>756</td>\n",
       "    </tr>\n",
       "  </tbody>\n",
       "</table>\n",
       "</div>"
      ],
      "text/plain": [
       "         date group  visitors\n",
       "0  2019-08-01     A       719\n",
       "1  2019-08-02     A       619\n",
       "2  2019-08-03     A       507\n",
       "3  2019-08-04     A       717\n",
       "4  2019-08-05     A       756"
      ]
     },
     "metadata": {},
     "output_type": "display_data"
    }
   ],
   "source": [
    "orders = pd.read_csv('/datasets/orders.csv')\n",
    "\n",
    "visitors_data = pd.read_csv('/datasets/visitors.csv')\n",
    "\n",
    "display(orders.head())\n",
    "display(visitors_data.head()) "
   ]
  },
  {
   "cell_type": "markdown",
   "metadata": {},
   "source": [
    "Проверим данные на соответствие периоду теста, кол-во групп испытуемых, определим есть ли пересекающиеся данные и при необходимости исключим дубли."
   ]
  },
  {
   "cell_type": "code",
   "execution_count": 6,
   "metadata": {},
   "outputs": [
    {
     "data": {
      "text/plain": [
       "array(['B', 'A'], dtype=object)"
      ]
     },
     "metadata": {},
     "output_type": "display_data"
    },
    {
     "data": {
      "text/plain": [
       "array(['A', 'B'], dtype=object)"
      ]
     },
     "metadata": {},
     "output_type": "display_data"
    }
   ],
   "source": [
    "#проверим кол-во групп в обоих датафреймах\n",
    "display(orders['group'].unique())\n",
    "display(visitors_data['group'].unique())"
   ]
  },
  {
   "cell_type": "markdown",
   "metadata": {},
   "source": [
    "В полученных данных по две тестовых группы: А и В."
   ]
  },
  {
   "cell_type": "code",
   "execution_count": 7,
   "metadata": {},
   "outputs": [
    {
     "data": {
      "text/plain": [
       "group\n",
       "A    2019-08-01\n",
       "B    2019-08-01\n",
       "Name: date, dtype: object"
      ]
     },
     "metadata": {},
     "output_type": "display_data"
    },
    {
     "data": {
      "text/plain": [
       "group\n",
       "A    2019-08-31\n",
       "B    2019-08-31\n",
       "Name: date, dtype: object"
      ]
     },
     "metadata": {},
     "output_type": "display_data"
    },
    {
     "data": {
      "text/plain": [
       "group\n",
       "A    2019-08-01\n",
       "B    2019-08-01\n",
       "Name: date, dtype: object"
      ]
     },
     "metadata": {},
     "output_type": "display_data"
    },
    {
     "data": {
      "text/plain": [
       "group\n",
       "A    2019-08-31\n",
       "B    2019-08-31\n",
       "Name: date, dtype: object"
      ]
     },
     "metadata": {},
     "output_type": "display_data"
    }
   ],
   "source": [
    "#проверим период теста для обоих групп и датафреймов\n",
    "display(orders.groupby('group')['date'].min())\n",
    "display(orders.groupby('group')['date'].max())\n",
    "display(visitors_data.groupby('group')['date'].min())\n",
    "display(visitors_data.groupby('group')['date'].max())"
   ]
  },
  {
   "cell_type": "markdown",
   "metadata": {},
   "source": [
    "Период данных для обоих датафреймов и групп А и В соответсвует периоду теста: с 01.08 по 31.08 2019г."
   ]
  },
  {
   "cell_type": "code",
   "execution_count": 8,
   "metadata": {
    "scrolled": true
   },
   "outputs": [
    {
     "data": {
      "text/plain": [
       "transactionId    0\n",
       "visitorId        0\n",
       "date             0\n",
       "revenue          0\n",
       "group            0\n",
       "dtype: int64"
      ]
     },
     "metadata": {},
     "output_type": "display_data"
    },
    {
     "data": {
      "text/plain": [
       "date        0\n",
       "group       0\n",
       "visitors    0\n",
       "dtype: int64"
      ]
     },
     "metadata": {},
     "output_type": "display_data"
    }
   ],
   "source": [
    "#проверим есть ли пропуски\n",
    "display(orders.isna().sum())\n",
    "display(visitors_data.isna().sum())"
   ]
  },
  {
   "cell_type": "markdown",
   "metadata": {},
   "source": [
    "В данных нет пропусков требующих специальной обработки."
   ]
  },
  {
   "cell_type": "code",
   "execution_count": 9,
   "metadata": {},
   "outputs": [
    {
     "data": {
      "text/plain": [
       "group\n",
       "A    557\n",
       "B    640\n",
       "Name: group, dtype: int64"
      ]
     },
     "metadata": {},
     "output_type": "display_data"
    },
    {
     "data": {
      "text/plain": [
       "group\n",
       "A    31\n",
       "B    31\n",
       "Name: group, dtype: int64"
      ]
     },
     "metadata": {},
     "output_type": "display_data"
    }
   ],
   "source": [
    "#проверим кол-во пользователей для каждой группы\n",
    "display(orders.groupby('group')['group'].count())\n",
    "display(visitors_data.groupby('group')['group'].count())"
   ]
  },
  {
   "cell_type": "code",
   "execution_count": 10,
   "metadata": {},
   "outputs": [
    {
     "data": {
      "text/plain": [
       "0"
      ]
     },
     "metadata": {},
     "output_type": "display_data"
    },
    {
     "data": {
      "text/plain": [
       "0"
      ]
     },
     "metadata": {},
     "output_type": "display_data"
    },
    {
     "data": {
      "text/plain": [
       "'количество пересекающихся пользователей:'"
      ]
     },
     "metadata": {},
     "output_type": "display_data"
    },
    {
     "data": {
      "text/plain": [
       "58"
      ]
     },
     "metadata": {},
     "output_type": "display_data"
    }
   ],
   "source": [
    "#проверим есть ли дубли в базе\n",
    "display(orders.duplicated().sum())\n",
    "display(visitors_data.duplicated().sum())\n",
    "\n",
    "#проверим есть ли пересекающиеся значения в группах\n",
    "def intersection_list(orders_A, orders_B): \n",
    "   return set(orders_A).intersection(orders_B) \n",
    "\n",
    "orders_A = orders.query('group == \"A\"')\n",
    "orders_A = orders_A['visitorId'].drop_duplicates()\n",
    "orders_B = orders.query('group == \"B\"')\n",
    "orders_B = orders_B['visitorId'].drop_duplicates()\n",
    "\n",
    "delete_list = intersection_list(orders_A, orders_B)\n",
    "\n",
    "\n",
    "display(\"количество пересекающихся пользователей:\",len(set(delete_list)))"
   ]
  },
  {
   "cell_type": "code",
   "execution_count": 11,
   "metadata": {},
   "outputs": [
    {
     "data": {
      "text/plain": [
       "0.05625606207565471"
      ]
     },
     "execution_count": 11,
     "metadata": {},
     "output_type": "execute_result"
    }
   ],
   "source": [
    "58/ len(orders['visitorId'].unique())"
   ]
  },
  {
   "cell_type": "markdown",
   "metadata": {},
   "source": [
    "В базе нет дублей. Есть 58 пересекающихся пользователей, которые попали в обе тестовые группы А и В. Это 5.6% от общего числа пользователей, удалим их из общей базы чтобы не искажать результат. "
   ]
  },
  {
   "cell_type": "code",
   "execution_count": 12,
   "metadata": {},
   "outputs": [
    {
     "data": {
      "text/html": [
       "<div>\n",
       "<style scoped>\n",
       "    .dataframe tbody tr th:only-of-type {\n",
       "        vertical-align: middle;\n",
       "    }\n",
       "\n",
       "    .dataframe tbody tr th {\n",
       "        vertical-align: top;\n",
       "    }\n",
       "\n",
       "    .dataframe thead th {\n",
       "        text-align: right;\n",
       "    }\n",
       "</style>\n",
       "<table border=\"1\" class=\"dataframe\">\n",
       "  <thead>\n",
       "    <tr style=\"text-align: right;\">\n",
       "      <th></th>\n",
       "      <th>transactionId</th>\n",
       "      <th>visitorId</th>\n",
       "      <th>date</th>\n",
       "      <th>revenue</th>\n",
       "      <th>group</th>\n",
       "    </tr>\n",
       "  </thead>\n",
       "  <tbody>\n",
       "    <tr>\n",
       "      <th>0</th>\n",
       "      <td>3667963787</td>\n",
       "      <td>3312258926</td>\n",
       "      <td>2019-08-15</td>\n",
       "      <td>1650</td>\n",
       "      <td>B</td>\n",
       "    </tr>\n",
       "    <tr>\n",
       "      <th>1</th>\n",
       "      <td>2804400009</td>\n",
       "      <td>3642806036</td>\n",
       "      <td>2019-08-15</td>\n",
       "      <td>730</td>\n",
       "      <td>B</td>\n",
       "    </tr>\n",
       "    <tr>\n",
       "      <th>3</th>\n",
       "      <td>3797467345</td>\n",
       "      <td>1196621759</td>\n",
       "      <td>2019-08-15</td>\n",
       "      <td>9759</td>\n",
       "      <td>B</td>\n",
       "    </tr>\n",
       "    <tr>\n",
       "      <th>4</th>\n",
       "      <td>2282983706</td>\n",
       "      <td>2322279887</td>\n",
       "      <td>2019-08-15</td>\n",
       "      <td>2308</td>\n",
       "      <td>B</td>\n",
       "    </tr>\n",
       "    <tr>\n",
       "      <th>5</th>\n",
       "      <td>182168103</td>\n",
       "      <td>935554773</td>\n",
       "      <td>2019-08-15</td>\n",
       "      <td>2210</td>\n",
       "      <td>B</td>\n",
       "    </tr>\n",
       "    <tr>\n",
       "      <th>6</th>\n",
       "      <td>398296753</td>\n",
       "      <td>2900797465</td>\n",
       "      <td>2019-08-15</td>\n",
       "      <td>1860</td>\n",
       "      <td>B</td>\n",
       "    </tr>\n",
       "  </tbody>\n",
       "</table>\n",
       "</div>"
      ],
      "text/plain": [
       "   transactionId   visitorId        date  revenue group\n",
       "0     3667963787  3312258926  2019-08-15     1650     B\n",
       "1     2804400009  3642806036  2019-08-15      730     B\n",
       "3     3797467345  1196621759  2019-08-15     9759     B\n",
       "4     2282983706  2322279887  2019-08-15     2308     B\n",
       "5      182168103   935554773  2019-08-15     2210     B\n",
       "6      398296753  2900797465  2019-08-15     1860     B"
      ]
     },
     "execution_count": 12,
     "metadata": {},
     "output_type": "execute_result"
    }
   ],
   "source": [
    "orders_data=orders.query('visitorId not in @delete_list')\n",
    "\n",
    "orders_data.head(6)"
   ]
  },
  {
   "cell_type": "markdown",
   "metadata": {},
   "source": [
    "Получим агрегированные кумулятивные по дням данные по посетителям и транзакциям."
   ]
  },
  {
   "cell_type": "code",
   "execution_count": 13,
   "metadata": {},
   "outputs": [
    {
     "data": {
      "text/html": [
       "<div>\n",
       "<style scoped>\n",
       "    .dataframe tbody tr th:only-of-type {\n",
       "        vertical-align: middle;\n",
       "    }\n",
       "\n",
       "    .dataframe tbody tr th {\n",
       "        vertical-align: top;\n",
       "    }\n",
       "\n",
       "    .dataframe thead th {\n",
       "        text-align: right;\n",
       "    }\n",
       "</style>\n",
       "<table border=\"1\" class=\"dataframe\">\n",
       "  <thead>\n",
       "    <tr style=\"text-align: right;\">\n",
       "      <th></th>\n",
       "      <th>date</th>\n",
       "      <th>group</th>\n",
       "      <th>transactions</th>\n",
       "      <th>buyers</th>\n",
       "      <th>revenue</th>\n",
       "      <th>visitors</th>\n",
       "    </tr>\n",
       "  </thead>\n",
       "  <tbody>\n",
       "    <tr>\n",
       "      <th>0</th>\n",
       "      <td>2019-08-01</td>\n",
       "      <td>A</td>\n",
       "      <td>23</td>\n",
       "      <td>19</td>\n",
       "      <td>142779</td>\n",
       "      <td>719</td>\n",
       "    </tr>\n",
       "    <tr>\n",
       "      <th>1</th>\n",
       "      <td>2019-08-01</td>\n",
       "      <td>B</td>\n",
       "      <td>17</td>\n",
       "      <td>17</td>\n",
       "      <td>59758</td>\n",
       "      <td>713</td>\n",
       "    </tr>\n",
       "    <tr>\n",
       "      <th>2</th>\n",
       "      <td>2019-08-02</td>\n",
       "      <td>A</td>\n",
       "      <td>42</td>\n",
       "      <td>36</td>\n",
       "      <td>234381</td>\n",
       "      <td>1338</td>\n",
       "    </tr>\n",
       "    <tr>\n",
       "      <th>3</th>\n",
       "      <td>2019-08-02</td>\n",
       "      <td>B</td>\n",
       "      <td>40</td>\n",
       "      <td>39</td>\n",
       "      <td>221801</td>\n",
       "      <td>1294</td>\n",
       "    </tr>\n",
       "    <tr>\n",
       "      <th>4</th>\n",
       "      <td>2019-08-03</td>\n",
       "      <td>A</td>\n",
       "      <td>66</td>\n",
       "      <td>60</td>\n",
       "      <td>346854</td>\n",
       "      <td>1845</td>\n",
       "    </tr>\n",
       "  </tbody>\n",
       "</table>\n",
       "</div>"
      ],
      "text/plain": [
       "         date group  transactions  buyers  revenue  visitors\n",
       "0  2019-08-01     A            23      19   142779       719\n",
       "1  2019-08-01     B            17      17    59758       713\n",
       "2  2019-08-02     A            42      36   234381      1338\n",
       "3  2019-08-02     B            40      39   221801      1294\n",
       "4  2019-08-03     A            66      60   346854      1845"
      ]
     },
     "metadata": {},
     "output_type": "display_data"
    }
   ],
   "source": [
    "# создаем массив уникальных пар значений дат и групп теста\n",
    "datesGroups = orders_data[['date','group']].drop_duplicates()\n",
    "\n",
    "# получаем агрегированные кумулятивные по дням данные о транзакциях\n",
    "ordersAggregated = \\\n",
    "datesGroups.apply(lambda x: orders_data[np.logical_and(orders_data['date'] <= x['date'],\\\n",
    "orders_data['group'] == x['group'])]\\\n",
    ".agg({'date' : 'max', 'group' : 'max', 'transactionId' : 'nunique', 'visitorId' : 'nunique', 'revenue' : 'sum'}), axis=1)\\\n",
    ".sort_values(by=['date','group'])\n",
    "\n",
    "# получаем агрегированные кумулятивные по дням данные о посетителях  \n",
    "visitorsAggregated = \\\n",
    "datesGroups.apply(lambda x: visitors_data[np.logical_and(visitors_data['date'] <= x['date'], \\\n",
    "visitors_data['group'] == x['group'])]\\\n",
    ".agg({'date' : 'max', 'group' : 'max', 'visitors' : 'sum'}), axis=1)\\\n",
    ".sort_values(by=['date','group'])\n",
    "\n",
    "# объединяем кумулятивные данные в одной таблице и присваиваем ее столбцам понятные названия\n",
    "cumulativeData = ordersAggregated.merge(visitorsAggregated, left_on=['date', 'group'], right_on=['date', 'group'])\n",
    "cumulativeData.columns = ['date', 'group', 'transactions', 'buyers', 'revenue', 'visitors']\n",
    "\n",
    "display(cumulativeData.head(5)) "
   ]
  },
  {
   "cell_type": "markdown",
   "metadata": {},
   "source": [
    "Построим график кумулятивной выручки по группам."
   ]
  },
  {
   "cell_type": "code",
   "execution_count": 14,
   "metadata": {},
   "outputs": [
    {
     "data": {
      "image/png": "[encoded data removed]",
      "text/plain": [
       "<Figure size 1080x216 with 1 Axes>"
      ]
     },
     "metadata": {
      "needs_background": "light"
     },
     "output_type": "display_data"
    }
   ],
   "source": [
    "# датафрейм с кумулятивным количеством заказов и кумулятивной выручкой по дням в группе А\n",
    "cumulativeRevenueA = cumulativeData[cumulativeData['group']=='A'][['date','revenue', 'transactions']]\n",
    "\n",
    "# датафрейм с кумулятивным количеством заказов и кумулятивной выручкой по дням в группе B\n",
    "cumulativeRevenueB = cumulativeData[cumulativeData['group']=='B'][['date','revenue', 'transactions']]\n",
    "\n",
    "#задаем размер графика и подписи оси х\n",
    "plt.figure(figsize=(15, 3))\n",
    "plt.xticks(rotation = 45)\n",
    "\n",
    "# Строим график выручки группы А\n",
    "plt.plot(cumulativeRevenueA['date'], cumulativeRevenueA['revenue'], label='A')\n",
    "\n",
    "# Строим график выручки группы B\n",
    "plt.plot(cumulativeRevenueB['date'], cumulativeRevenueB['revenue'], label='B')\n",
    "\n",
    "plt.legend()\n",
    "plt.title(\"График кумулятивной выручки по группам\")\n",
    "plt.xlabel(\"Период тестирования\")\n",
    "plt.ylabel(\"Кумулятивная выручка,руб\");"
   ]
  },
  {
   "cell_type": "markdown",
   "metadata": {},
   "source": [
    "Выручка равномерно увеличивается в течение всего теста. \n",
    "График выручки группы В резко растет в точке 18 авг. Это может сигнализировать о всплесках числа заказов, либо о появлении очень дорогих заказов в выборке. \n",
    "\n",
    "Построим график кумулятивного среднего чека по группам"
   ]
  },
  {
   "cell_type": "code",
   "execution_count": 15,
   "metadata": {},
   "outputs": [
    {
     "data": {
      "image/png": "[encoded data removed]",
      "text/plain": [
       "<Figure size 1080x216 with 1 Axes>"
      ]
     },
     "metadata": {
      "needs_background": "light"
     },
     "output_type": "display_data"
    }
   ],
   "source": [
    "#задаем размер графика и подписи оси х\n",
    "plt.figure(figsize=(15, 3))\n",
    "plt.xticks(rotation = 45)\n",
    "\n",
    "plt.plot(cumulativeRevenueA['date'], cumulativeRevenueA['revenue']/cumulativeRevenueA['transactions'], label='A')\n",
    "plt.plot(cumulativeRevenueB['date'], cumulativeRevenueB['revenue']/cumulativeRevenueB['transactions'], label='B')\n",
    "plt.legend()\n",
    "plt.title(\"График кумулятивного среднего чека по группам\")\n",
    "plt.xlabel(\"Период тестирования\")\n",
    "plt.ylabel(\"Кумулятивный средний чек,руб\");"
   ]
  },
  {
   "cell_type": "markdown",
   "metadata": {},
   "source": [
    "Средний чек становится равномерным ближе к концу теста: установился для группы A и снижается для группы B. \n",
    "Такая динамика для группы В возможно объясняется крупными заказами (всплеск на графике 18 авг). Тогда ей нужно больше данных, чтобы прийти к реальному среднему чеку и установиться на его уровне.  \n",
    "\n",
    "Построим график относительного изменения кумулятивного среднего чека группы B к группе A. "
   ]
  },
  {
   "cell_type": "code",
   "execution_count": 16,
   "metadata": {},
   "outputs": [
    {
     "data": {
      "image/png": "[encoded data removed]",
      "text/plain": [
       "<Figure size 1080x216 with 1 Axes>"
      ]
     },
     "metadata": {
      "needs_background": "light"
     },
     "output_type": "display_data"
    }
   ],
   "source": [
    "# собираем данные в одном датафрейме\n",
    "mergedCumulativeRevenue = cumulativeRevenueA.merge(cumulativeRevenueB, left_on='date', right_on='date', how='left', suffixes=['A', 'B'])\n",
    "\n",
    "plt.figure(figsize=(15, 3))\n",
    "plt.xticks(rotation = 45)\n",
    "\n",
    "# cтроим отношение средних чеков\n",
    "plt.plot(mergedCumulativeRevenue['date'], \\\n",
    "(mergedCumulativeRevenue['revenueB']/mergedCumulativeRevenue['transactionsB'])\\\n",
    "         /(mergedCumulativeRevenue['revenueA']/mergedCumulativeRevenue['transactionsA'])-1)\n",
    "\n",
    "# добавляем ось X\n",
    "plt.axhline(y=0, color='black', linestyle='--')\n",
    "plt.title(\"График относительного изменения кумулятивного среднего чека группы B к группе A\")\n",
    "plt.xlabel(\"Период тестирования\")\n",
    "plt.ylabel(\"Относительное изменения кумулятивного среднего чека\");"
   ]
  },
  {
   "cell_type": "markdown",
   "metadata": {},
   "source": [
    "В нескольких точках график различия между сегментами резко «скачет». Причиной могут быть аномалии в числе и объеме заказов в определенные дни. Необходимо будет проверить данные на выбросы.\n",
    "\n",
    "Построим график кумулятивного среднего количества заказов по группам. "
   ]
  },
  {
   "cell_type": "code",
   "execution_count": 17,
   "metadata": {},
   "outputs": [
    {
     "data": {
      "image/png": "[encoded data removed]",
      "text/plain": [
       "<Figure size 1080x216 with 1 Axes>"
      ]
     },
     "metadata": {
      "needs_background": "light"
     },
     "output_type": "display_data"
    }
   ],
   "source": [
    "# считаем кумулятивную конверсию\n",
    "cumulativeData['conversion'] = cumulativeData['transactions']/cumulativeData['visitors']\n",
    "\n",
    "# отделяем данные по группе A\n",
    "cumulativeDataA = cumulativeData[cumulativeData['group']=='A']\n",
    "\n",
    "# отделяем данные по группе B\n",
    "cumulativeDataB = cumulativeData[cumulativeData['group']=='B']\n",
    "\n",
    "#задаем размер графика и подписи оси х\n",
    "plt.figure(figsize=(15, 3))\n",
    "plt.xticks(rotation = 45)\n",
    "\n",
    "# строим графики\n",
    "plt.plot(cumulativeDataA['date'], cumulativeDataA['conversion'], label='A')\n",
    "plt.plot(cumulativeDataB['date'], cumulativeDataB['conversion'], label='B')\n",
    "\n",
    "plt.legend()\n",
    "plt.title(\"График кумулятивного среднего количества заказов по группам\")\n",
    "plt.xlabel(\"Период тестирования\")\n",
    "plt.ylabel(\"Кумулятивное среднее кол-во заказов\");"
   ]
  },
  {
   "cell_type": "markdown",
   "metadata": {},
   "source": [
    "Группы колебались около одного значения в начале исследования, но затем конверсия группы В вырвалась вперёд и зафиксировалась,  конверсия группы А просела и также зафиксировалась.\n",
    "\n",
    "Построим график относительного изменения кумулятивного среднего количества заказов группы B к группе A:"
   ]
  },
  {
   "cell_type": "code",
   "execution_count": 18,
   "metadata": {},
   "outputs": [
    {
     "data": {
      "image/png": "[encoded data removed]",
      "text/plain": [
       "<Figure size 1080x216 with 1 Axes>"
      ]
     },
     "metadata": {
      "needs_background": "light"
     },
     "output_type": "display_data"
    }
   ],
   "source": [
    "mergedCumulativeConversions = cumulativeDataA[['date','conversion']]\\\n",
    ".merge(cumulativeDataB[['date','conversion']], left_on='date', right_on='date', how='left', suffixes=['A', 'B'])\n",
    "\n",
    "mergedCumulativeConversions['conv_avr'] = mergedCumulativeConversions['conversionB']/mergedCumulativeConversions['conversionA']-1\n",
    "\n",
    "\n",
    "#задаем размер графика и подписи оси х\n",
    "plt.figure(figsize=(15, 3))\n",
    "plt.xticks(rotation = 45)\n",
    "\n",
    "plt.plot(mergedCumulativeConversions['date'], \\\n",
    "         mergedCumulativeConversions['conversionB']/mergedCumulativeConversions['conversionA']-1, \\\n",
    "         label=\"Относительный прирост конверсии группы B относительно группы A\")\n",
    "plt.legend()\n",
    "\n",
    "plt.axhline(y=0, color='black', linestyle='--')\n",
    "plt.axhline(y=mergedCumulativeConversions['conv_avr'].mean(), color='grey', linestyle='--')\n",
    "plt.title(\"График относительного изменения кумулятивного среднего количества заказов группы B к группе A\")\n",
    "plt.xlabel(\"Период тестирования\")\n",
    "plt.ylabel(\"Относительное изменение кумулятивного среднего количества заказов\");"
   ]
  },
  {
   "cell_type": "markdown",
   "metadata": {},
   "source": [
    "В начале теста группа B проигрывала группе A, затем вырвалась вперёд. Конверсия стабильно лучше группы А, несмотря на небольшое проседание к концу теста постепенно росла.\n",
    "\n",
    "Построим точечный график количества заказов по пользователям чтобы проверить аномалии и всплески."
   ]
  },
  {
   "cell_type": "code",
   "execution_count": 19,
   "metadata": {},
   "outputs": [
    {
     "data": {
      "image/png": "[encoded data removed]",
      "text/plain": [
       "<Figure size 432x288 with 1 Axes>"
      ]
     },
     "metadata": {
      "needs_background": "light"
     },
     "output_type": "display_data"
    }
   ],
   "source": [
    "#Подсчитаем количество заказов по пользователям\n",
    "ordersByUsers = (orders_data.groupby('visitorId', as_index=False).agg({'transactionId': 'nunique'}))\n",
    "\n",
    "ordersByUsers.columns = ['buyerId', 'transactions']\n",
    "\n",
    "#Построим точечную диаграмму числа заказов на одного пользователя\n",
    "x_values = pd.Series(range(0,len(ordersByUsers)))\n",
    "\n",
    "plt.scatter(x_values, ordersByUsers['transactions'])\n",
    "plt.title(\"График количества заказов по пользователям\")\n",
    "plt.xlabel(\"Кол-во пользователей\")\n",
    "plt.ylabel(\"Кол-во заказов\");"
   ]
  },
  {
   "cell_type": "markdown",
   "metadata": {},
   "source": [
    "Большинство пользователей делали 1 покупку, но значительно также кол-во 2-3 покупок. Переходим к следующему этапу анализа - поиску аномалий."
   ]
  },
  {
   "cell_type": "markdown",
   "metadata": {},
   "source": [
    "# **Определение аномальных значений, очистка данных.**"
   ]
  },
  {
   "cell_type": "markdown",
   "metadata": {},
   "source": [
    "Посчитаем 95-й и 99-й перцентили количества заказов на пользователя. Выберем границу для определения аномальных пользователей."
   ]
  },
  {
   "cell_type": "code",
   "execution_count": 20,
   "metadata": {},
   "outputs": [
    {
     "data": {
      "text/plain": [
       "array([1., 2.])"
      ]
     },
     "metadata": {},
     "output_type": "display_data"
    }
   ],
   "source": [
    "display(np.percentile(ordersByUsers['transactions'], [95, 99])) "
   ]
  },
  {
   "cell_type": "markdown",
   "metadata": {},
   "source": [
    "Не более 5% пользователей оформляли больше чем 1 заказ. И 1% пользователей заказывали более 2х раз.\n",
    "Выберем 1 заказ на одного пользователя за верхнюю границу числа заказов, и позже отсеим аномальных пользователей по ней. \n",
    "\n",
    "Построим точечный график стоимостей заказов."
   ]
  },
  {
   "cell_type": "code",
   "execution_count": 21,
   "metadata": {},
   "outputs": [
    {
     "data": {
      "image/png": "[encoded data removed]",
      "text/plain": [
       "<Figure size 432x288 with 1 Axes>"
      ]
     },
     "metadata": {
      "needs_background": "light"
     },
     "output_type": "display_data"
    }
   ],
   "source": [
    "x_values = pd.Series(range(0,len(orders_data['revenue'])))\n",
    "plt.scatter(x_values, orders_data['revenue'])\n",
    "plt.title(\"График стоимостей заказов по пользователям\")\n",
    "plt.xlabel(\"Кол-во пользователей\")\n",
    "plt.ylabel(\"Стоимость заказов\");"
   ]
  },
  {
   "cell_type": "markdown",
   "metadata": {},
   "source": [
    "Большинсво заказов укладывается в диапазон стоимости до 20 тысяч, есть несколько выбросов, которые можно отсеять.\n",
    "Посчитаем 95-й и 99-й перцентили стоимости заказов"
   ]
  },
  {
   "cell_type": "code",
   "execution_count": 22,
   "metadata": {},
   "outputs": [
    {
     "data": {
      "text/plain": [
       "array([26785., 53904.])"
      ]
     },
     "metadata": {},
     "output_type": "display_data"
    }
   ],
   "source": [
    "display(np.percentile(orders_data['revenue'], [95, 99])) "
   ]
  },
  {
   "cell_type": "markdown",
   "metadata": {},
   "source": [
    "Не более 5% пользователей оформляли заказы дороже 27 тысяч. И 1% пользователей тратили болше 54 тысяч.\n",
    "Выберем стоимость заказа до 28 тысяц как верхнюю границу.\n",
    "\n",
    "Отсеим аномальные данные по пользователям. \n",
    "и посчитаем статистическую значимость различий в среднем количестве заказов между группами по «сырым» данным. "
   ]
  },
  {
   "cell_type": "markdown",
   "metadata": {},
   "source": [
    "В случае, когда в данных есть выбросы, обычно применяются непараметрические критерии, в частности, критерий Манна-Уитни для проверки, что распределения двух выборок не отличаются.  \n",
    "Посчитаем статистическую значимость различий в среднем числе заказов на пользователя и среднем чеке между группами по «сырым» данным — без удаления аномальных пользователей.\n",
    "Сформулируем гипотезы.  \n",
    "Нулевая: различий в среднем количестве заказов между группами нет.  \n",
    "Альтернативная: различия в среднем между группами есть."
   ]
  },
  {
   "cell_type": "code",
   "execution_count": 24,
   "metadata": {},
   "outputs": [
    {
     "data": {
      "text/plain": [
       "'Значение p-value:'"
      ]
     },
     "metadata": {},
     "output_type": "display_data"
    },
    {
     "data": {
      "text/plain": [
       "'0.00958'"
      ]
     },
     "metadata": {},
     "output_type": "display_data"
    },
    {
     "data": {
      "text/plain": [
       "'% на сколько в среднем отличается среднее количество заказов между группами:'"
      ]
     },
     "metadata": {},
     "output_type": "display_data"
    },
    {
     "data": {
      "text/plain": [
       "'0.166'"
      ]
     },
     "metadata": {},
     "output_type": "display_data"
    }
   ],
   "source": [
    "ordersByUsersA = (orders_data[orders_data['group'] == 'A'].groupby('visitorId', as_index=False)\\\n",
    "                  .agg({'transactionId': pd.Series.nunique}))\n",
    "ordersByUsersA.columns = ['userId', 'orders']\n",
    "\n",
    "ordersByUsersB = (orders_data[orders_data['group'] == 'B'].groupby('visitorId', as_index=False)\\\n",
    "                  .agg({'transactionId': pd.Series.nunique}))\n",
    "ordersByUsersB.columns = ['userId', 'orders']\n",
    "\n",
    "\n",
    "sampleA = pd.concat([ordersByUsersA['orders'],pd.Series(0,index=np.arange(\\\n",
    "cumulativeDataA['visitors'].sum() - len(ordersByUsersA['orders'])),name='orders',),],axis=0,)\n",
    "\n",
    "sampleB = pd.concat([ordersByUsersB['orders'],pd.Series(0,index=np.arange(\\\n",
    "cumulativeDataB['visitors'].sum() - len(ordersByUsersB['orders'])),name='orders',),],axis=0,)\n",
    "\n",
    "\n",
    "\n",
    "display('Значение p-value:', \"{0:.5f}\".format(stats.mannwhitneyu(sampleA, sampleB)[1]))\n",
    "\n",
    "display('% на сколько в среднем отличается среднее количество заказов между группами:',\"{0:.3f}\".format(sampleB.mean() / sampleA.mean() - 1))"
   ]
  },
  {
   "cell_type": "markdown",
   "metadata": {},
   "source": [
    "По «сырым» данным Р-value = 0.00958 меньше 0.05. Значит, мы можем отвергнуть гипотезу о том, что статистически значимых различий в среднем числе заказов между группами нет, они есть. Относительный выйгрыш группы B равен 16.6%.\n",
    "\n",
    "Посчитаем статистическую значимость различий в среднем чеке заказа между группами по «сырым» данным. "
   ]
  },
  {
   "cell_type": "code",
   "execution_count": 25,
   "metadata": {},
   "outputs": [
    {
     "data": {
      "text/plain": [
       "'Значение p-value:'"
      ]
     },
     "metadata": {},
     "output_type": "display_data"
    },
    {
     "data": {
      "text/plain": [
       "'0.82949'"
      ]
     },
     "metadata": {},
     "output_type": "display_data"
    },
    {
     "data": {
      "text/plain": [
       "'% различия в среднем чеке по группам:'"
      ]
     },
     "metadata": {},
     "output_type": "display_data"
    },
    {
     "data": {
      "text/plain": [
       "'0.287'"
      ]
     },
     "metadata": {},
     "output_type": "display_data"
    }
   ],
   "source": [
    "display('Значение p-value:'\n",
    ",\"{0:.5f}\".format(stats.mannwhitneyu(orders_data[orders_data['group']=='A']['revenue'], \\\n",
    "orders_data[orders_data['group']=='B']['revenue'])[1]))\n",
    "\n",
    "display('% различия в среднем чеке по группам:',\"{0:.3f}\".format(orders_data[orders_data['group']=='B']['revenue'].\\\n",
    "mean()/orders_data[orders_data['group']=='A']['revenue'].mean()-1)) "
   ]
  },
  {
   "cell_type": "markdown",
   "metadata": {},
   "source": [
    "По «сырым» данным р-value 0.82949 значительно больше 0.05. Значит, нулевую гипотезу о том, что статистически значимых различий в среднем чеке по группами нет, не отвергаем.  \n",
    "Средний чек группы B значительно выше среднего чека группы A - 28.7%.\n",
    "\n",
    "Проверим различие в среднем числе заказов по \"очищенным\" данным. \n",
    "Примем за аномальных пользователей тех, кто совершил  1 заказ или совершил заказ дороже 27 000 рублей. "
   ]
  },
  {
   "cell_type": "code",
   "execution_count": 26,
   "metadata": {},
   "outputs": [],
   "source": [
    "usersWithManyOrders = pd.concat([ordersByUsersA[ordersByUsersA['orders'] > 1]['userId'],\\\n",
    "ordersByUsersB[ordersByUsersB['orders'] > 1]['userId'],], axis=0,)\n",
    "\n",
    "usersWithExpensiveOrders = orders_data[orders_data['revenue'] > 27000]['visitorId']\n",
    "\n",
    "abnormalUsers = (pd.concat([usersWithManyOrders, usersWithExpensiveOrders], axis=0).drop_duplicates().sort_values())"
   ]
  },
  {
   "cell_type": "markdown",
   "metadata": {},
   "source": [
    "Посчитаем статистическую значимость различий в среднем количестве заказов между группами теста по очищенным данным. "
   ]
  },
  {
   "cell_type": "code",
   "execution_count": 27,
   "metadata": {},
   "outputs": [],
   "source": [
    "sampleAFiltered = pd.concat([ordersByUsersA[np.logical_not(ordersByUsersA['userId'].isin(abnormalUsers))\\\n",
    "]['orders'], pd.Series(0,index=np.arange(cumulativeDataA['visitors'].sum() - len(ordersByUsersA['orders'])\\\n",
    "), name='orders',),],axis=0,)\n",
    "\n",
    "sampleBFiltered = pd.concat([ordersByUsersB[np.logical_not(ordersByUsersB['userId'].isin(abnormalUsers))\\\n",
    "]['orders'], pd.Series(0, index=np.arange(cumulativeDataB['visitors'].sum() - len(ordersByUsersB['orders'])\\\n",
    "), name='orders',),],axis=0,) "
   ]
  },
  {
   "cell_type": "code",
   "execution_count": 28,
   "metadata": {},
   "outputs": [
    {
     "data": {
      "text/plain": [
       "'Значение p-value:'"
      ]
     },
     "metadata": {},
     "output_type": "display_data"
    },
    {
     "data": {
      "text/plain": [
       "'0.01423'"
      ]
     },
     "metadata": {},
     "output_type": "display_data"
    },
    {
     "data": {
      "text/plain": [
       "'% на сколько в среднем отличается среднее количество заказов между группами по очищенным данным:'"
      ]
     },
     "metadata": {},
     "output_type": "display_data"
    },
    {
     "data": {
      "text/plain": [
       "'0.179'"
      ]
     },
     "metadata": {},
     "output_type": "display_data"
    }
   ],
   "source": [
    "display('Значение p-value:','{0:.5f}'.format(stats.mannwhitneyu(sampleAFiltered, sampleBFiltered)[1]))\n",
    "display('% на сколько в среднем отличается среднее количество заказов между группами по очищенным данным:','{0:.3f}'.format(sampleBFiltered.mean()/sampleAFiltered.mean()-1)) "
   ]
  },
  {
   "cell_type": "markdown",
   "metadata": {},
   "source": [
    "Результаты по очищенным данным практически не изменились - аномалии не имели значительного влияния на среднее число заказов на пользователя.\n",
    "\n",
    "Р-value = 0.01423 меньше 0.05. Значит, мы можем отвергнуть гипотезу о том, что статистически значимых различий в среднем числе заказов между группами нет, они есть. Относительный выйгрыш группы B равен 17.9%.\n",
    "\n",
    "Проверим очищенные данные  - средний чек по группам."
   ]
  },
  {
   "cell_type": "code",
   "execution_count": 29,
   "metadata": {},
   "outputs": [
    {
     "data": {
      "text/plain": [
       "'Значение p-value:'"
      ]
     },
     "metadata": {},
     "output_type": "display_data"
    },
    {
     "data": {
      "text/plain": [
       "'0.72713'"
      ]
     },
     "metadata": {},
     "output_type": "display_data"
    },
    {
     "data": {
      "text/plain": [
       "'% на сколько в среднем отличается средний чек между группами по очищенным данным:'"
      ]
     },
     "metadata": {},
     "output_type": "display_data"
    },
    {
     "data": {
      "text/plain": [
       "'-0.034'"
      ]
     },
     "metadata": {},
     "output_type": "display_data"
    }
   ],
   "source": [
    "display('Значение p-value:','{0:.5f}'.format(stats.mannwhitneyu(orders_data[np.logical_and(orders_data['group'] == 'A',\\\n",
    "np.logical_not(orders_data['visitorId'].isin(abnormalUsers)),)]['revenue'], \\\n",
    "orders_data[np.logical_and(orders_data['group'] == 'B',\\\n",
    "np.logical_not(orders_data['visitorId'].isin(abnormalUsers)),)]['revenue'],)[1]))\n",
    "\n",
    "display('% на сколько в среднем отличается средний чек между группами по очищенным данным:',\"{0:.3f}\".format(orders_data[np.logical_and(orders_data['group'] == 'B',\\\n",
    "np.logical_not(orders_data['visitorId'].isin(abnormalUsers)),)\\\n",
    "]['revenue'].mean()/ orders_data[np.logical_and(orders_data['group'] == 'A',\\\n",
    "np.logical_not(orders_data['visitorId'].isin(abnormalUsers)),)\\\n",
    "]['revenue'].mean()- 1 )) "
   ]
  },
  {
   "cell_type": "markdown",
   "metadata": {},
   "source": [
    "По «очищенным» данным также, нулевую гипотезу о том, что статистически значимых различий в среднем чеке по группами нет, не отвергаем. Значение p-value практически идентично данным с выбросами. Однако, разница между группами сократилась до -3.4%, значит в сырых данных для группу В были дорогие заказы влияющие на результат анализа."
   ]
  },
  {
   "cell_type": "markdown",
   "metadata": {},
   "source": [
    "# *Резюмируем результаты полученные в ходе проведения теста:*\n",
    "\n",
    "- Есть статистически значимые различия по среднему количеству заказов между группами и по «сырым», ни по данным после фильтрации аномалий;\n",
    "- Нет статистически значимого различия по среднему чеку между группами ни по «сырым», ни по данным после фильтрации аномалий;\n",
    "- График различия конверсии между группами сообщает, что результаты группы B стабильно лучше группы A \n",
    "- График различия среднего чека говорит о том, что результаты группы В по очищенным данным хуже А на 3.4%, по неочищенным лучше на 17.9%\n",
    "\n",
    "Исходя из обнаруженных фактов, тест следует остановить и признать победу одной из групп:\n",
    "Имеющийся сегмент данных B однозначно лучше сегмента A."
   ]
  }
 ],
 "metadata": {
  "ExecuteTimeLog": [
   {
    "duration": 805,
    "start_time": "2022-10-16T12:25:49.097Z"
   },
   {
    "duration": 33,
    "start_time": "2022-10-16T12:25:51.165Z"
   },
   {
    "duration": 12,
    "start_time": "2022-10-16T12:25:53.164Z"
   },
   {
    "duration": 10,
    "start_time": "2022-10-16T12:26:46.556Z"
   },
   {
    "duration": 7,
    "start_time": "2022-10-16T12:27:16.592Z"
   },
   {
    "duration": 8,
    "start_time": "2022-10-16T12:27:43.581Z"
   },
   {
    "duration": 7,
    "start_time": "2022-10-16T12:27:58.348Z"
   },
   {
    "duration": 64,
    "start_time": "2022-10-16T12:31:32.309Z"
   },
   {
    "duration": 40,
    "start_time": "2022-10-16T12:31:38.924Z"
   },
   {
    "duration": 51,
    "start_time": "2022-10-16T12:31:45.743Z"
   },
   {
    "duration": 42,
    "start_time": "2022-10-16T12:31:56.766Z"
   },
   {
    "duration": 9,
    "start_time": "2022-10-16T12:32:11.099Z"
   },
   {
    "duration": 7,
    "start_time": "2022-10-16T12:32:34.336Z"
   },
   {
    "duration": 7,
    "start_time": "2022-10-16T12:36:41.332Z"
   },
   {
    "duration": 119,
    "start_time": "2022-10-16T13:18:22.089Z"
   },
   {
    "duration": 192,
    "start_time": "2022-10-16T13:18:56.696Z"
   },
   {
    "duration": 3,
    "start_time": "2022-10-16T13:19:51.650Z"
   },
   {
    "duration": 273,
    "start_time": "2022-10-16T13:20:00.269Z"
   },
   {
    "duration": 34,
    "start_time": "2022-10-16T13:20:37.402Z"
   },
   {
    "duration": 257,
    "start_time": "2022-10-16T13:30:29.151Z"
   },
   {
    "duration": 4,
    "start_time": "2022-10-16T13:31:22.678Z"
   },
   {
    "duration": 267,
    "start_time": "2022-10-16T13:32:22.276Z"
   },
   {
    "duration": 234,
    "start_time": "2022-10-16T13:32:28.714Z"
   },
   {
    "duration": 128,
    "start_time": "2022-10-16T13:33:48.881Z"
   },
   {
    "duration": 238,
    "start_time": "2022-10-16T13:35:10.437Z"
   },
   {
    "duration": 266,
    "start_time": "2022-10-16T13:35:23.284Z"
   },
   {
    "duration": 348,
    "start_time": "2022-10-16T13:36:48.704Z"
   },
   {
    "duration": 295,
    "start_time": "2022-10-16T13:36:59.490Z"
   },
   {
    "duration": 244,
    "start_time": "2022-10-16T13:37:15.643Z"
   },
   {
    "duration": 266,
    "start_time": "2022-10-16T13:38:38.753Z"
   },
   {
    "duration": 248,
    "start_time": "2022-10-16T13:38:53.086Z"
   },
   {
    "duration": 264,
    "start_time": "2022-10-16T13:39:27.592Z"
   },
   {
    "duration": 258,
    "start_time": "2022-10-16T13:45:12.854Z"
   },
   {
    "duration": 684,
    "start_time": "2022-10-16T13:45:23.030Z"
   },
   {
    "duration": 248,
    "start_time": "2022-10-16T13:46:04.314Z"
   },
   {
    "duration": 869,
    "start_time": "2022-10-16T13:50:05.025Z"
   },
   {
    "duration": 387,
    "start_time": "2022-10-16T13:51:50.116Z"
   },
   {
    "duration": 393,
    "start_time": "2022-10-16T13:51:59.363Z"
   },
   {
    "duration": 331,
    "start_time": "2022-10-16T13:56:30.379Z"
   },
   {
    "duration": 241,
    "start_time": "2022-10-16T13:56:48.400Z"
   },
   {
    "duration": 390,
    "start_time": "2022-10-16T14:04:49.300Z"
   },
   {
    "duration": 365,
    "start_time": "2022-10-16T14:04:57.165Z"
   },
   {
    "duration": 356,
    "start_time": "2022-10-16T14:06:29.056Z"
   },
   {
    "duration": 104,
    "start_time": "2022-10-16T14:15:14.618Z"
   },
   {
    "duration": 4,
    "start_time": "2022-10-16T14:19:29.586Z"
   },
   {
    "duration": 122,
    "start_time": "2022-10-16T14:23:39.896Z"
   },
   {
    "duration": 112,
    "start_time": "2022-10-16T14:23:47.688Z"
   },
   {
    "duration": 5,
    "start_time": "2022-10-16T14:26:11.918Z"
   },
   {
    "duration": 136,
    "start_time": "2022-10-16T14:39:10.060Z"
   },
   {
    "duration": 897,
    "start_time": "2022-10-16T14:41:31.449Z"
   },
   {
    "duration": 136,
    "start_time": "2022-10-16T14:49:46.875Z"
   },
   {
    "duration": 187,
    "start_time": "2022-10-16T14:50:24.401Z"
   },
   {
    "duration": 878,
    "start_time": "2022-10-16T14:50:32.095Z"
   },
   {
    "duration": 784,
    "start_time": "2022-10-16T14:51:37.330Z"
   },
   {
    "duration": 206,
    "start_time": "2022-10-16T14:52:32.515Z"
   },
   {
    "duration": 470,
    "start_time": "2022-10-16T14:53:22.380Z"
   },
   {
    "duration": 208,
    "start_time": "2022-10-16T14:53:31.582Z"
   },
   {
    "duration": 167,
    "start_time": "2022-10-16T14:53:34.769Z"
   },
   {
    "duration": 45,
    "start_time": "2022-10-16T18:56:06.904Z"
   },
   {
    "duration": 1069,
    "start_time": "2022-10-16T18:58:20.088Z"
   },
   {
    "duration": 76,
    "start_time": "2022-10-16T18:58:21.159Z"
   },
   {
    "duration": 12,
    "start_time": "2022-10-16T18:58:21.425Z"
   },
   {
    "duration": 9,
    "start_time": "2022-10-16T18:58:23.332Z"
   },
   {
    "duration": 197,
    "start_time": "2022-10-16T18:58:32.050Z"
   },
   {
    "duration": 237,
    "start_time": "2022-10-16T18:58:34.695Z"
   },
   {
    "duration": 271,
    "start_time": "2022-10-16T18:58:39.244Z"
   },
   {
    "duration": 233,
    "start_time": "2022-10-16T18:58:41.781Z"
   },
   {
    "duration": 356,
    "start_time": "2022-10-16T18:58:45.143Z"
   },
   {
    "duration": 217,
    "start_time": "2022-10-16T18:58:48.405Z"
   },
   {
    "duration": 340,
    "start_time": "2022-10-16T18:58:57.877Z"
   },
   {
    "duration": 94,
    "start_time": "2022-10-16T18:59:05.130Z"
   },
   {
    "duration": 4,
    "start_time": "2022-10-16T18:59:09.277Z"
   },
   {
    "duration": 118,
    "start_time": "2022-10-16T18:59:12.995Z"
   },
   {
    "duration": 4,
    "start_time": "2022-10-16T18:59:15.794Z"
   },
   {
    "duration": 175,
    "start_time": "2022-10-16T18:59:19.934Z"
   },
   {
    "duration": 162,
    "start_time": "2022-10-16T18:59:21.386Z"
   },
   {
    "duration": 55,
    "start_time": "2022-10-16T18:59:36.930Z"
   },
   {
    "duration": 1120,
    "start_time": "2022-10-16T19:07:03.505Z"
   },
   {
    "duration": 6,
    "start_time": "2022-10-16T19:15:50.766Z"
   },
   {
    "duration": 12,
    "start_time": "2022-10-16T19:15:59.241Z"
   },
   {
    "duration": 10,
    "start_time": "2022-10-16T19:29:37.958Z"
   },
   {
    "duration": 7,
    "start_time": "2022-10-16T19:42:55.305Z"
   },
   {
    "duration": 21,
    "start_time": "2022-10-16T19:45:27.232Z"
   },
   {
    "duration": 2,
    "start_time": "2022-10-16T20:34:34.839Z"
   },
   {
    "duration": 33,
    "start_time": "2022-10-16T20:34:34.843Z"
   },
   {
    "duration": 6,
    "start_time": "2022-10-16T20:34:34.878Z"
   },
   {
    "duration": 8,
    "start_time": "2022-10-16T20:34:34.886Z"
   },
   {
    "duration": 53,
    "start_time": "2022-10-16T20:34:34.896Z"
   },
   {
    "duration": 224,
    "start_time": "2022-10-16T20:34:34.950Z"
   },
   {
    "duration": 245,
    "start_time": "2022-10-16T20:34:35.176Z"
   },
   {
    "duration": 294,
    "start_time": "2022-10-16T20:34:35.423Z"
   },
   {
    "duration": 366,
    "start_time": "2022-10-16T20:34:35.722Z"
   },
   {
    "duration": 248,
    "start_time": "2022-10-16T20:34:36.091Z"
   },
   {
    "duration": 338,
    "start_time": "2022-10-16T20:34:36.340Z"
   },
   {
    "duration": 100,
    "start_time": "2022-10-16T20:34:36.680Z"
   },
   {
    "duration": 4,
    "start_time": "2022-10-16T20:34:36.781Z"
   },
   {
    "duration": 121,
    "start_time": "2022-10-16T20:34:36.786Z"
   },
   {
    "duration": 3,
    "start_time": "2022-10-16T20:34:36.909Z"
   },
   {
    "duration": 187,
    "start_time": "2022-10-16T20:34:36.914Z"
   },
   {
    "duration": 159,
    "start_time": "2022-10-16T20:34:37.103Z"
   },
   {
    "duration": 8,
    "start_time": "2022-10-16T20:34:37.263Z"
   },
   {
    "duration": 18,
    "start_time": "2022-10-16T20:34:37.273Z"
   },
   {
    "duration": 22,
    "start_time": "2022-10-16T20:34:37.292Z"
   },
   {
    "duration": 27,
    "start_time": "2022-10-16T20:34:37.315Z"
   },
   {
    "duration": 14,
    "start_time": "2022-10-16T20:34:37.344Z"
   },
   {
    "duration": 2,
    "start_time": "2022-10-16T21:01:57.482Z"
   },
   {
    "duration": 28,
    "start_time": "2022-10-16T21:01:58.165Z"
   },
   {
    "duration": 16,
    "start_time": "2022-10-16T21:01:58.816Z"
   },
   {
    "duration": 9,
    "start_time": "2022-10-16T21:02:00.736Z"
   },
   {
    "duration": 71,
    "start_time": "2022-10-16T21:02:04.680Z"
   },
   {
    "duration": 239,
    "start_time": "2022-10-16T21:02:05.566Z"
   },
   {
    "duration": 259,
    "start_time": "2022-10-16T21:02:06.416Z"
   },
   {
    "duration": 240,
    "start_time": "2022-10-16T21:02:07.133Z"
   },
   {
    "duration": 311,
    "start_time": "2022-10-16T21:02:07.773Z"
   },
   {
    "duration": 233,
    "start_time": "2022-10-16T21:02:08.515Z"
   },
   {
    "duration": 411,
    "start_time": "2022-10-16T21:02:09.198Z"
   },
   {
    "duration": 98,
    "start_time": "2022-10-16T21:02:09.888Z"
   },
   {
    "duration": 3,
    "start_time": "2022-10-16T21:02:11.157Z"
   },
   {
    "duration": 134,
    "start_time": "2022-10-16T21:02:12.458Z"
   },
   {
    "duration": 6,
    "start_time": "2022-10-16T21:02:13.325Z"
   },
   {
    "duration": 201,
    "start_time": "2022-10-16T21:02:14.035Z"
   },
   {
    "duration": 153,
    "start_time": "2022-10-16T21:02:14.398Z"
   },
   {
    "duration": 17,
    "start_time": "2022-10-16T21:02:15.118Z"
   },
   {
    "duration": 4,
    "start_time": "2022-10-16T21:02:15.533Z"
   },
   {
    "duration": 9,
    "start_time": "2022-10-16T21:02:16.000Z"
   },
   {
    "duration": 7,
    "start_time": "2022-10-16T21:02:32.184Z"
   },
   {
    "duration": 16,
    "start_time": "2022-10-16T21:02:34.015Z"
   },
   {
    "duration": 19,
    "start_time": "2022-10-16T21:02:34.741Z"
   },
   {
    "duration": 12,
    "start_time": "2022-10-16T21:02:36.395Z"
   },
   {
    "duration": 3,
    "start_time": "2022-10-16T21:03:18.935Z"
   },
   {
    "duration": 29,
    "start_time": "2022-10-16T21:03:18.939Z"
   },
   {
    "duration": 7,
    "start_time": "2022-10-16T21:03:18.970Z"
   },
   {
    "duration": 10,
    "start_time": "2022-10-16T21:03:18.979Z"
   },
   {
    "duration": 59,
    "start_time": "2022-10-16T21:03:18.991Z"
   },
   {
    "duration": 240,
    "start_time": "2022-10-16T21:03:19.051Z"
   },
   {
    "duration": 247,
    "start_time": "2022-10-16T21:03:19.293Z"
   },
   {
    "duration": 248,
    "start_time": "2022-10-16T21:03:19.541Z"
   },
   {
    "duration": 367,
    "start_time": "2022-10-16T21:03:19.791Z"
   },
   {
    "duration": 244,
    "start_time": "2022-10-16T21:03:20.159Z"
   },
   {
    "duration": 373,
    "start_time": "2022-10-16T21:03:20.405Z"
   },
   {
    "duration": 108,
    "start_time": "2022-10-16T21:03:20.779Z"
   },
   {
    "duration": 4,
    "start_time": "2022-10-16T21:03:20.888Z"
   },
   {
    "duration": 123,
    "start_time": "2022-10-16T21:03:20.893Z"
   },
   {
    "duration": 4,
    "start_time": "2022-10-16T21:03:21.021Z"
   },
   {
    "duration": 267,
    "start_time": "2022-10-16T21:03:21.026Z"
   },
   {
    "duration": 149,
    "start_time": "2022-10-16T21:03:21.295Z"
   },
   {
    "duration": 8,
    "start_time": "2022-10-16T21:03:21.446Z"
   },
   {
    "duration": 8,
    "start_time": "2022-10-16T21:03:21.455Z"
   },
   {
    "duration": 10,
    "start_time": "2022-10-16T21:03:21.464Z"
   },
   {
    "duration": 18,
    "start_time": "2022-10-16T21:03:21.475Z"
   },
   {
    "duration": 31,
    "start_time": "2022-10-16T21:03:21.494Z"
   },
   {
    "duration": 1383,
    "start_time": "2022-10-17T15:57:48.182Z"
   },
   {
    "duration": 39,
    "start_time": "2022-10-17T15:57:49.567Z"
   },
   {
    "duration": 12,
    "start_time": "2022-10-17T15:57:49.608Z"
   },
   {
    "duration": 9,
    "start_time": "2022-10-17T15:57:49.621Z"
   },
   {
    "duration": 74,
    "start_time": "2022-10-17T15:57:49.632Z"
   },
   {
    "duration": 274,
    "start_time": "2022-10-17T15:57:49.708Z"
   },
   {
    "duration": 282,
    "start_time": "2022-10-17T15:57:49.983Z"
   },
   {
    "duration": 273,
    "start_time": "2022-10-17T15:57:50.267Z"
   },
   {
    "duration": 418,
    "start_time": "2022-10-17T15:57:50.542Z"
   },
   {
    "duration": 272,
    "start_time": "2022-10-17T15:57:50.963Z"
   },
   {
    "duration": 438,
    "start_time": "2022-10-17T15:57:51.237Z"
   },
   {
    "duration": 112,
    "start_time": "2022-10-17T15:57:51.677Z"
   },
   {
    "duration": 5,
    "start_time": "2022-10-17T15:57:51.790Z"
   },
   {
    "duration": 138,
    "start_time": "2022-10-17T15:57:51.796Z"
   },
   {
    "duration": 5,
    "start_time": "2022-10-17T15:57:51.936Z"
   },
   {
    "duration": 230,
    "start_time": "2022-10-17T15:57:51.942Z"
   },
   {
    "duration": 174,
    "start_time": "2022-10-17T15:57:52.173Z"
   },
   {
    "duration": 12,
    "start_time": "2022-10-17T15:57:52.350Z"
   },
   {
    "duration": 9,
    "start_time": "2022-10-17T15:57:52.363Z"
   },
   {
    "duration": 18,
    "start_time": "2022-10-17T15:57:52.374Z"
   },
   {
    "duration": 46,
    "start_time": "2022-10-17T15:57:52.394Z"
   },
   {
    "duration": 15,
    "start_time": "2022-10-17T15:57:52.442Z"
   },
   {
    "duration": 55,
    "start_time": "2022-10-17T20:49:00.811Z"
   },
   {
    "duration": 1355,
    "start_time": "2022-10-17T20:49:15.564Z"
   },
   {
    "duration": 40,
    "start_time": "2022-10-17T20:49:16.921Z"
   },
   {
    "duration": 20,
    "start_time": "2022-10-17T20:49:16.963Z"
   },
   {
    "duration": 10,
    "start_time": "2022-10-17T20:49:16.985Z"
   },
   {
    "duration": 95,
    "start_time": "2022-10-17T20:49:16.999Z"
   },
   {
    "duration": 266,
    "start_time": "2022-10-17T20:49:17.096Z"
   },
   {
    "duration": 304,
    "start_time": "2022-10-17T20:49:17.364Z"
   },
   {
    "duration": 290,
    "start_time": "2022-10-17T20:49:17.670Z"
   },
   {
    "duration": 442,
    "start_time": "2022-10-17T20:49:17.962Z"
   },
   {
    "duration": 284,
    "start_time": "2022-10-17T20:49:18.406Z"
   },
   {
    "duration": 380,
    "start_time": "2022-10-17T20:49:18.692Z"
   },
   {
    "duration": 121,
    "start_time": "2022-10-17T20:49:19.073Z"
   },
   {
    "duration": 5,
    "start_time": "2022-10-17T20:49:19.196Z"
   },
   {
    "duration": 150,
    "start_time": "2022-10-17T20:49:19.204Z"
   },
   {
    "duration": 5,
    "start_time": "2022-10-17T20:49:19.356Z"
   },
   {
    "duration": 234,
    "start_time": "2022-10-17T20:49:19.362Z"
   },
   {
    "duration": 176,
    "start_time": "2022-10-17T20:49:19.597Z"
   },
   {
    "duration": 14,
    "start_time": "2022-10-17T20:49:19.775Z"
   },
   {
    "duration": 13,
    "start_time": "2022-10-17T20:49:19.791Z"
   },
   {
    "duration": 11,
    "start_time": "2022-10-17T20:49:19.806Z"
   },
   {
    "duration": 59,
    "start_time": "2022-10-17T20:49:19.819Z"
   },
   {
    "duration": 19,
    "start_time": "2022-10-17T20:49:19.880Z"
   },
   {
    "duration": 15,
    "start_time": "2022-10-17T20:49:55.239Z"
   },
   {
    "duration": 13,
    "start_time": "2022-10-17T20:51:54.332Z"
   },
   {
    "duration": 3,
    "start_time": "2022-10-17T20:54:33.536Z"
   },
   {
    "duration": 20,
    "start_time": "2022-10-17T20:54:33.542Z"
   },
   {
    "duration": 12,
    "start_time": "2022-10-17T20:54:33.564Z"
   },
   {
    "duration": 12,
    "start_time": "2022-10-17T20:54:33.581Z"
   },
   {
    "duration": 40,
    "start_time": "2022-10-17T20:54:33.595Z"
   },
   {
    "duration": 273,
    "start_time": "2022-10-17T20:54:33.637Z"
   },
   {
    "duration": 286,
    "start_time": "2022-10-17T20:54:33.912Z"
   },
   {
    "duration": 374,
    "start_time": "2022-10-17T20:54:34.200Z"
   },
   {
    "duration": 359,
    "start_time": "2022-10-17T20:54:34.575Z"
   },
   {
    "duration": 288,
    "start_time": "2022-10-17T20:54:34.936Z"
   },
   {
    "duration": 442,
    "start_time": "2022-10-17T20:54:35.226Z"
   },
   {
    "duration": 137,
    "start_time": "2022-10-17T20:54:35.671Z"
   },
   {
    "duration": 7,
    "start_time": "2022-10-17T20:54:35.811Z"
   },
   {
    "duration": 165,
    "start_time": "2022-10-17T20:54:35.821Z"
   },
   {
    "duration": 6,
    "start_time": "2022-10-17T20:54:35.988Z"
   },
   {
    "duration": 246,
    "start_time": "2022-10-17T20:54:35.996Z"
   },
   {
    "duration": 174,
    "start_time": "2022-10-17T20:54:36.245Z"
   },
   {
    "duration": 13,
    "start_time": "2022-10-17T20:54:36.421Z"
   },
   {
    "duration": 23,
    "start_time": "2022-10-17T20:54:36.436Z"
   },
   {
    "duration": 19,
    "start_time": "2022-10-17T20:54:36.460Z"
   },
   {
    "duration": 25,
    "start_time": "2022-10-17T20:54:36.481Z"
   },
   {
    "duration": 18,
    "start_time": "2022-10-17T20:54:36.507Z"
   },
   {
    "duration": 5,
    "start_time": "2022-10-17T21:16:48.119Z"
   },
   {
    "duration": 5,
    "start_time": "2022-10-17T21:17:07.824Z"
   },
   {
    "duration": 5,
    "start_time": "2022-10-17T21:17:15.871Z"
   },
   {
    "duration": 5,
    "start_time": "2022-10-17T21:17:16.874Z"
   },
   {
    "duration": 63,
    "start_time": "2022-10-17T21:18:27.088Z"
   },
   {
    "duration": 4,
    "start_time": "2022-10-17T21:18:35.079Z"
   },
   {
    "duration": 5,
    "start_time": "2022-10-17T21:18:51.718Z"
   },
   {
    "duration": 7,
    "start_time": "2022-10-17T21:21:26.285Z"
   },
   {
    "duration": 8,
    "start_time": "2022-10-17T21:21:37.994Z"
   },
   {
    "duration": 10,
    "start_time": "2022-10-17T21:21:56.266Z"
   },
   {
    "duration": 13,
    "start_time": "2022-10-17T21:22:15.088Z"
   },
   {
    "duration": 11,
    "start_time": "2022-10-17T21:22:47.454Z"
   },
   {
    "duration": 23,
    "start_time": "2022-10-17T21:24:08.944Z"
   },
   {
    "duration": 10,
    "start_time": "2022-10-17T21:26:22.768Z"
   },
   {
    "duration": 8,
    "start_time": "2022-10-17T21:27:55.332Z"
   },
   {
    "duration": 9,
    "start_time": "2022-10-17T21:29:47.035Z"
   },
   {
    "duration": 13,
    "start_time": "2022-10-17T21:32:44.364Z"
   },
   {
    "duration": 25,
    "start_time": "2022-10-17T21:42:53.721Z"
   },
   {
    "duration": 19,
    "start_time": "2022-10-17T21:43:56.169Z"
   },
   {
    "duration": 51,
    "start_time": "2022-10-17T21:44:27.681Z"
   },
   {
    "duration": 14,
    "start_time": "2022-10-17T21:44:33.428Z"
   },
   {
    "duration": 21,
    "start_time": "2022-10-17T21:46:06.812Z"
   },
   {
    "duration": 20,
    "start_time": "2022-10-17T21:46:28.186Z"
   },
   {
    "duration": 20,
    "start_time": "2022-10-17T21:48:26.832Z"
   },
   {
    "duration": 32,
    "start_time": "2022-10-17T21:48:48.514Z"
   },
   {
    "duration": 22,
    "start_time": "2022-10-17T21:49:07.284Z"
   },
   {
    "duration": 24,
    "start_time": "2022-10-17T21:49:19.809Z"
   },
   {
    "duration": 49,
    "start_time": "2022-10-17T21:51:25.979Z"
   },
   {
    "duration": 14,
    "start_time": "2022-10-17T21:51:44.793Z"
   },
   {
    "duration": 10,
    "start_time": "2022-10-17T21:52:58.602Z"
   },
   {
    "duration": 22,
    "start_time": "2022-10-17T21:53:11.591Z"
   },
   {
    "duration": 47,
    "start_time": "2022-10-18T10:47:28.636Z"
   },
   {
    "duration": 1213,
    "start_time": "2022-10-18T10:47:44.653Z"
   },
   {
    "duration": 78,
    "start_time": "2022-10-18T10:47:45.868Z"
   },
   {
    "duration": 18,
    "start_time": "2022-10-18T10:47:45.948Z"
   },
   {
    "duration": 12,
    "start_time": "2022-10-18T10:47:45.968Z"
   },
   {
    "duration": 161,
    "start_time": "2022-10-18T10:47:45.982Z"
   },
   {
    "duration": 6,
    "start_time": "2022-10-18T10:47:46.145Z"
   },
   {
    "duration": 18,
    "start_time": "2022-10-18T10:47:46.152Z"
   },
   {
    "duration": 8,
    "start_time": "2022-10-18T10:47:46.173Z"
   },
   {
    "duration": 8,
    "start_time": "2022-10-18T10:47:46.183Z"
   },
   {
    "duration": 13,
    "start_time": "2022-10-18T10:47:46.194Z"
   },
   {
    "duration": 42,
    "start_time": "2022-10-18T10:47:46.209Z"
   },
   {
    "duration": 0,
    "start_time": "2022-10-18T10:47:46.253Z"
   },
   {
    "duration": 0,
    "start_time": "2022-10-18T10:47:46.254Z"
   },
   {
    "duration": 0,
    "start_time": "2022-10-18T10:47:46.255Z"
   },
   {
    "duration": 0,
    "start_time": "2022-10-18T10:47:46.255Z"
   },
   {
    "duration": 0,
    "start_time": "2022-10-18T10:47:46.257Z"
   },
   {
    "duration": 0,
    "start_time": "2022-10-18T10:47:46.258Z"
   },
   {
    "duration": 0,
    "start_time": "2022-10-18T10:47:46.259Z"
   },
   {
    "duration": 0,
    "start_time": "2022-10-18T10:47:46.260Z"
   },
   {
    "duration": 0,
    "start_time": "2022-10-18T10:47:46.261Z"
   },
   {
    "duration": 0,
    "start_time": "2022-10-18T10:47:46.263Z"
   },
   {
    "duration": 0,
    "start_time": "2022-10-18T10:47:46.264Z"
   },
   {
    "duration": 0,
    "start_time": "2022-10-18T10:47:46.265Z"
   },
   {
    "duration": 0,
    "start_time": "2022-10-18T10:47:46.266Z"
   },
   {
    "duration": 0,
    "start_time": "2022-10-18T10:47:46.267Z"
   },
   {
    "duration": 0,
    "start_time": "2022-10-18T10:47:46.268Z"
   },
   {
    "duration": 0,
    "start_time": "2022-10-18T10:47:46.268Z"
   },
   {
    "duration": 0,
    "start_time": "2022-10-18T10:47:46.269Z"
   },
   {
    "duration": 80,
    "start_time": "2022-10-18T10:48:59.246Z"
   },
   {
    "duration": 28,
    "start_time": "2022-10-18T10:51:23.041Z"
   },
   {
    "duration": 27,
    "start_time": "2022-10-18T10:55:12.595Z"
   },
   {
    "duration": 26,
    "start_time": "2022-10-18T10:55:51.527Z"
   },
   {
    "duration": 14,
    "start_time": "2022-10-18T11:01:22.530Z"
   },
   {
    "duration": 15,
    "start_time": "2022-10-18T11:01:38.530Z"
   },
   {
    "duration": 8,
    "start_time": "2022-10-18T11:01:52.506Z"
   },
   {
    "duration": 15,
    "start_time": "2022-10-18T11:02:26.605Z"
   },
   {
    "duration": 3,
    "start_time": "2022-10-18T11:04:42.249Z"
   },
   {
    "duration": 27,
    "start_time": "2022-10-18T11:04:42.257Z"
   },
   {
    "duration": 11,
    "start_time": "2022-10-18T11:04:42.286Z"
   },
   {
    "duration": 14,
    "start_time": "2022-10-18T11:04:42.298Z"
   },
   {
    "duration": 61,
    "start_time": "2022-10-18T11:04:42.313Z"
   },
   {
    "duration": 6,
    "start_time": "2022-10-18T11:04:42.377Z"
   },
   {
    "duration": 20,
    "start_time": "2022-10-18T11:04:42.384Z"
   },
   {
    "duration": 8,
    "start_time": "2022-10-18T11:04:42.406Z"
   },
   {
    "duration": 12,
    "start_time": "2022-10-18T11:04:42.415Z"
   },
   {
    "duration": 15,
    "start_time": "2022-10-18T11:04:42.428Z"
   },
   {
    "duration": 4,
    "start_time": "2022-10-18T11:04:42.444Z"
   },
   {
    "duration": 373,
    "start_time": "2022-10-18T11:04:42.450Z"
   },
   {
    "duration": 0,
    "start_time": "2022-10-18T11:04:42.825Z"
   },
   {
    "duration": 0,
    "start_time": "2022-10-18T11:04:42.826Z"
   },
   {
    "duration": 0,
    "start_time": "2022-10-18T11:04:42.827Z"
   },
   {
    "duration": 0,
    "start_time": "2022-10-18T11:04:42.829Z"
   },
   {
    "duration": 0,
    "start_time": "2022-10-18T11:04:42.830Z"
   },
   {
    "duration": 0,
    "start_time": "2022-10-18T11:04:42.831Z"
   },
   {
    "duration": 0,
    "start_time": "2022-10-18T11:04:42.832Z"
   },
   {
    "duration": 0,
    "start_time": "2022-10-18T11:04:42.833Z"
   },
   {
    "duration": 0,
    "start_time": "2022-10-18T11:04:42.834Z"
   },
   {
    "duration": 0,
    "start_time": "2022-10-18T11:04:42.836Z"
   },
   {
    "duration": 0,
    "start_time": "2022-10-18T11:04:42.837Z"
   },
   {
    "duration": 0,
    "start_time": "2022-10-18T11:04:42.839Z"
   },
   {
    "duration": 0,
    "start_time": "2022-10-18T11:04:42.840Z"
   },
   {
    "duration": 0,
    "start_time": "2022-10-18T11:04:42.842Z"
   },
   {
    "duration": 0,
    "start_time": "2022-10-18T11:04:42.843Z"
   },
   {
    "duration": 0,
    "start_time": "2022-10-18T11:04:42.844Z"
   },
   {
    "duration": 5,
    "start_time": "2022-10-18T11:07:41.214Z"
   },
   {
    "duration": 15,
    "start_time": "2022-10-18T12:09:53.299Z"
   },
   {
    "duration": 19,
    "start_time": "2022-10-18T12:19:02.648Z"
   },
   {
    "duration": 15,
    "start_time": "2022-10-18T12:22:13.998Z"
   },
   {
    "duration": 20,
    "start_time": "2022-10-18T12:23:05.976Z"
   },
   {
    "duration": 19,
    "start_time": "2022-10-18T12:23:51.163Z"
   },
   {
    "duration": 24,
    "start_time": "2022-10-18T12:24:05.718Z"
   },
   {
    "duration": 16,
    "start_time": "2022-10-18T12:27:41.311Z"
   },
   {
    "duration": 25,
    "start_time": "2022-10-18T12:28:11.973Z"
   },
   {
    "duration": 20,
    "start_time": "2022-10-18T12:28:37.033Z"
   },
   {
    "duration": 29,
    "start_time": "2022-10-18T12:32:32.676Z"
   },
   {
    "duration": 25,
    "start_time": "2022-10-18T12:32:56.843Z"
   },
   {
    "duration": 20,
    "start_time": "2022-10-18T12:35:55.086Z"
   },
   {
    "duration": 5,
    "start_time": "2022-10-18T12:36:01.927Z"
   },
   {
    "duration": 17,
    "start_time": "2022-10-18T12:36:20.718Z"
   },
   {
    "duration": 20,
    "start_time": "2022-10-18T12:37:23.201Z"
   },
   {
    "duration": 22,
    "start_time": "2022-10-18T12:37:30.641Z"
   },
   {
    "duration": 27,
    "start_time": "2022-10-18T12:37:41.850Z"
   },
   {
    "duration": 17,
    "start_time": "2022-10-18T14:44:35.006Z"
   },
   {
    "duration": 9,
    "start_time": "2022-10-18T14:45:00.731Z"
   },
   {
    "duration": 8,
    "start_time": "2022-10-18T14:49:02.038Z"
   },
   {
    "duration": 12,
    "start_time": "2022-10-18T14:50:32.917Z"
   },
   {
    "duration": 6,
    "start_time": "2022-10-18T14:50:47.816Z"
   },
   {
    "duration": 314,
    "start_time": "2022-10-18T14:50:55.916Z"
   },
   {
    "duration": 8,
    "start_time": "2022-10-18T14:51:22.531Z"
   },
   {
    "duration": 1022,
    "start_time": "2022-10-18T14:51:39.626Z"
   },
   {
    "duration": 27,
    "start_time": "2022-10-18T14:51:40.650Z"
   },
   {
    "duration": 18,
    "start_time": "2022-10-18T14:51:40.679Z"
   },
   {
    "duration": 13,
    "start_time": "2022-10-18T14:51:40.699Z"
   },
   {
    "duration": 61,
    "start_time": "2022-10-18T14:51:40.714Z"
   },
   {
    "duration": 6,
    "start_time": "2022-10-18T14:51:40.777Z"
   },
   {
    "duration": 18,
    "start_time": "2022-10-18T14:51:40.785Z"
   },
   {
    "duration": 8,
    "start_time": "2022-10-18T14:51:40.805Z"
   },
   {
    "duration": 8,
    "start_time": "2022-10-18T14:51:40.815Z"
   },
   {
    "duration": 18,
    "start_time": "2022-10-18T14:51:40.825Z"
   },
   {
    "duration": 135,
    "start_time": "2022-10-18T14:51:40.845Z"
   },
   {
    "duration": 1,
    "start_time": "2022-10-18T14:51:40.981Z"
   },
   {
    "duration": 0,
    "start_time": "2022-10-18T14:51:40.983Z"
   },
   {
    "duration": 0,
    "start_time": "2022-10-18T14:51:40.997Z"
   },
   {
    "duration": 0,
    "start_time": "2022-10-18T14:51:40.999Z"
   },
   {
    "duration": 0,
    "start_time": "2022-10-18T14:51:41.000Z"
   },
   {
    "duration": 0,
    "start_time": "2022-10-18T14:51:41.001Z"
   },
   {
    "duration": 0,
    "start_time": "2022-10-18T14:51:41.002Z"
   },
   {
    "duration": 0,
    "start_time": "2022-10-18T14:51:41.003Z"
   },
   {
    "duration": 0,
    "start_time": "2022-10-18T14:51:41.004Z"
   },
   {
    "duration": 0,
    "start_time": "2022-10-18T14:51:41.005Z"
   },
   {
    "duration": 0,
    "start_time": "2022-10-18T14:51:41.007Z"
   },
   {
    "duration": 0,
    "start_time": "2022-10-18T14:51:41.009Z"
   },
   {
    "duration": 0,
    "start_time": "2022-10-18T14:51:41.010Z"
   },
   {
    "duration": 0,
    "start_time": "2022-10-18T14:51:41.011Z"
   },
   {
    "duration": 0,
    "start_time": "2022-10-18T14:51:41.013Z"
   },
   {
    "duration": 0,
    "start_time": "2022-10-18T14:51:41.015Z"
   },
   {
    "duration": 0,
    "start_time": "2022-10-18T14:51:41.016Z"
   },
   {
    "duration": 0,
    "start_time": "2022-10-18T14:51:41.018Z"
   },
   {
    "duration": 9,
    "start_time": "2022-10-18T14:52:31.076Z"
   },
   {
    "duration": 9,
    "start_time": "2022-10-18T14:53:27.976Z"
   },
   {
    "duration": 7,
    "start_time": "2022-10-18T14:53:34.233Z"
   },
   {
    "duration": 7,
    "start_time": "2022-10-18T14:53:49.856Z"
   },
   {
    "duration": 316,
    "start_time": "2022-10-18T14:53:49.864Z"
   },
   {
    "duration": 305,
    "start_time": "2022-10-18T14:53:50.182Z"
   },
   {
    "duration": 337,
    "start_time": "2022-10-18T14:53:50.494Z"
   },
   {
    "duration": 477,
    "start_time": "2022-10-18T14:53:50.834Z"
   },
   {
    "duration": 324,
    "start_time": "2022-10-18T14:53:51.312Z"
   },
   {
    "duration": 592,
    "start_time": "2022-10-18T14:53:51.638Z"
   },
   {
    "duration": 205,
    "start_time": "2022-10-18T14:53:52.232Z"
   },
   {
    "duration": 10,
    "start_time": "2022-10-18T14:53:52.441Z"
   },
   {
    "duration": 235,
    "start_time": "2022-10-18T14:53:52.454Z"
   },
   {
    "duration": 7,
    "start_time": "2022-10-18T14:53:52.695Z"
   },
   {
    "duration": 279,
    "start_time": "2022-10-18T14:53:52.704Z"
   },
   {
    "duration": 347,
    "start_time": "2022-10-18T14:53:52.985Z"
   },
   {
    "duration": 18,
    "start_time": "2022-10-18T14:53:53.334Z"
   },
   {
    "duration": 14,
    "start_time": "2022-10-18T14:53:53.354Z"
   },
   {
    "duration": 40,
    "start_time": "2022-10-18T14:53:53.371Z"
   },
   {
    "duration": 41,
    "start_time": "2022-10-18T14:53:53.415Z"
   },
   {
    "duration": 20,
    "start_time": "2022-10-18T14:53:53.458Z"
   },
   {
    "duration": 290,
    "start_time": "2022-10-18T14:59:37.372Z"
   },
   {
    "duration": 390,
    "start_time": "2022-10-18T14:59:54.051Z"
   },
   {
    "duration": 291,
    "start_time": "2022-10-18T15:00:55.583Z"
   },
   {
    "duration": 387,
    "start_time": "2022-10-18T15:02:39.633Z"
   },
   {
    "duration": 287,
    "start_time": "2022-10-18T15:03:52.760Z"
   },
   {
    "duration": 408,
    "start_time": "2022-10-18T15:05:12.319Z"
   },
   {
    "duration": 132,
    "start_time": "2022-10-18T15:06:32.634Z"
   },
   {
    "duration": 151,
    "start_time": "2022-10-18T15:07:20.596Z"
   },
   {
    "duration": 94,
    "start_time": "2022-10-18T15:16:41.651Z"
   },
   {
    "duration": 444,
    "start_time": "2022-10-18T15:16:47.696Z"
   },
   {
    "duration": 87,
    "start_time": "2022-10-18T15:18:54.487Z"
   },
   {
    "duration": 409,
    "start_time": "2022-10-18T15:19:37.744Z"
   },
   {
    "duration": 445,
    "start_time": "2022-10-18T15:22:27.079Z"
   },
   {
    "duration": 452,
    "start_time": "2022-10-18T15:22:44.182Z"
   },
   {
    "duration": 1256,
    "start_time": "2022-10-18T18:59:19.997Z"
   },
   {
    "duration": 85,
    "start_time": "2022-10-18T18:59:21.255Z"
   },
   {
    "duration": 16,
    "start_time": "2022-10-18T18:59:21.342Z"
   },
   {
    "duration": 11,
    "start_time": "2022-10-18T18:59:21.360Z"
   },
   {
    "duration": 179,
    "start_time": "2022-10-18T18:59:21.373Z"
   },
   {
    "duration": 5,
    "start_time": "2022-10-18T18:59:21.554Z"
   },
   {
    "duration": 16,
    "start_time": "2022-10-18T18:59:21.561Z"
   },
   {
    "duration": 8,
    "start_time": "2022-10-18T18:59:21.579Z"
   },
   {
    "duration": 10,
    "start_time": "2022-10-18T18:59:21.589Z"
   },
   {
    "duration": 16,
    "start_time": "2022-10-18T18:59:21.601Z"
   },
   {
    "duration": 7,
    "start_time": "2022-10-18T18:59:21.618Z"
   },
   {
    "duration": 8,
    "start_time": "2022-10-18T18:59:21.626Z"
   },
   {
    "duration": 281,
    "start_time": "2022-10-18T18:59:21.635Z"
   },
   {
    "duration": 296,
    "start_time": "2022-10-18T18:59:21.917Z"
   },
   {
    "duration": 274,
    "start_time": "2022-10-18T18:59:22.214Z"
   },
   {
    "duration": 424,
    "start_time": "2022-10-18T18:59:22.495Z"
   },
   {
    "duration": 275,
    "start_time": "2022-10-18T18:59:22.921Z"
   },
   {
    "duration": 419,
    "start_time": "2022-10-18T18:59:23.198Z"
   },
   {
    "duration": 126,
    "start_time": "2022-10-18T18:59:23.619Z"
   },
   {
    "duration": 5,
    "start_time": "2022-10-18T18:59:23.747Z"
   },
   {
    "duration": 147,
    "start_time": "2022-10-18T18:59:23.753Z"
   },
   {
    "duration": 5,
    "start_time": "2022-10-18T18:59:23.901Z"
   },
   {
    "duration": 209,
    "start_time": "2022-10-18T18:59:23.908Z"
   },
   {
    "duration": 150,
    "start_time": "2022-10-18T18:59:24.119Z"
   },
   {
    "duration": 12,
    "start_time": "2022-10-18T18:59:24.270Z"
   },
   {
    "duration": 8,
    "start_time": "2022-10-18T18:59:24.295Z"
   },
   {
    "duration": 8,
    "start_time": "2022-10-18T18:59:24.304Z"
   },
   {
    "duration": 21,
    "start_time": "2022-10-18T18:59:24.315Z"
   },
   {
    "duration": 15,
    "start_time": "2022-10-18T18:59:24.338Z"
   },
   {
    "duration": 13,
    "start_time": "2022-10-18T19:01:06.725Z"
   },
   {
    "duration": 2,
    "start_time": "2022-10-18T19:02:24.581Z"
   },
   {
    "duration": 10,
    "start_time": "2022-10-18T19:06:06.071Z"
   },
   {
    "duration": 96,
    "start_time": "2022-10-18T19:08:40.422Z"
   },
   {
    "duration": 8,
    "start_time": "2022-10-18T19:08:53.528Z"
   },
   {
    "duration": 4,
    "start_time": "2022-10-18T19:09:04.424Z"
   },
   {
    "duration": 4,
    "start_time": "2022-10-18T19:09:17.167Z"
   },
   {
    "duration": 4,
    "start_time": "2022-10-18T19:09:28.800Z"
   },
   {
    "duration": 1364,
    "start_time": "2022-10-18T19:23:54.757Z"
   },
   {
    "duration": 467,
    "start_time": "2022-10-18T19:24:50.351Z"
   },
   {
    "duration": 136,
    "start_time": "2022-10-18T19:31:23.969Z"
   },
   {
    "duration": 217,
    "start_time": "2022-10-18T19:31:36.622Z"
   },
   {
    "duration": 433,
    "start_time": "2022-10-18T19:32:25.769Z"
   },
   {
    "duration": 429,
    "start_time": "2022-10-18T19:32:32.576Z"
   },
   {
    "duration": 70,
    "start_time": "2022-10-18T19:32:40.144Z"
   },
   {
    "duration": 432,
    "start_time": "2022-10-18T19:32:59.903Z"
   },
   {
    "duration": 137,
    "start_time": "2022-10-18T19:34:36.018Z"
   },
   {
    "duration": 147,
    "start_time": "2022-10-18T19:34:54.204Z"
   },
   {
    "duration": 441,
    "start_time": "2022-10-18T19:35:25.390Z"
   },
   {
    "duration": 494,
    "start_time": "2022-10-18T19:44:16.334Z"
   },
   {
    "duration": 12,
    "start_time": "2022-10-18T19:51:28.683Z"
   },
   {
    "duration": 14,
    "start_time": "2022-10-18T19:52:00.422Z"
   },
   {
    "duration": 21,
    "start_time": "2022-10-18T19:55:55.214Z"
   },
   {
    "duration": 12,
    "start_time": "2022-10-18T19:56:30.286Z"
   },
   {
    "duration": 313,
    "start_time": "2022-10-18T19:56:35.793Z"
   },
   {
    "duration": 303,
    "start_time": "2022-10-18T19:58:22.920Z"
   },
   {
    "duration": 18,
    "start_time": "2022-10-18T20:01:08.875Z"
   },
   {
    "duration": 3,
    "start_time": "2022-10-18T20:05:09.794Z"
   },
   {
    "duration": 34,
    "start_time": "2022-10-18T20:05:09.799Z"
   },
   {
    "duration": 11,
    "start_time": "2022-10-18T20:05:09.835Z"
   },
   {
    "duration": 11,
    "start_time": "2022-10-18T20:05:09.848Z"
   },
   {
    "duration": 62,
    "start_time": "2022-10-18T20:05:09.861Z"
   },
   {
    "duration": 5,
    "start_time": "2022-10-18T20:05:09.925Z"
   },
   {
    "duration": 21,
    "start_time": "2022-10-18T20:05:09.932Z"
   },
   {
    "duration": 8,
    "start_time": "2022-10-18T20:05:09.955Z"
   },
   {
    "duration": 31,
    "start_time": "2022-10-18T20:05:09.964Z"
   },
   {
    "duration": 10,
    "start_time": "2022-10-18T20:05:09.996Z"
   },
   {
    "duration": 10,
    "start_time": "2022-10-18T20:05:10.009Z"
   },
   {
    "duration": 3,
    "start_time": "2022-10-18T20:05:10.020Z"
   },
   {
    "duration": 7,
    "start_time": "2022-10-18T20:05:10.024Z"
   },
   {
    "duration": 278,
    "start_time": "2022-10-18T20:05:10.033Z"
   },
   {
    "duration": 281,
    "start_time": "2022-10-18T20:05:10.313Z"
   },
   {
    "duration": 347,
    "start_time": "2022-10-18T20:05:10.596Z"
   },
   {
    "duration": 372,
    "start_time": "2022-10-18T20:05:10.945Z"
   },
   {
    "duration": 288,
    "start_time": "2022-10-18T20:05:11.319Z"
   },
   {
    "duration": 424,
    "start_time": "2022-10-18T20:05:11.610Z"
   },
   {
    "duration": 131,
    "start_time": "2022-10-18T20:05:12.035Z"
   },
   {
    "duration": 4,
    "start_time": "2022-10-18T20:05:12.168Z"
   },
   {
    "duration": 146,
    "start_time": "2022-10-18T20:05:12.174Z"
   },
   {
    "duration": 5,
    "start_time": "2022-10-18T20:05:12.322Z"
   },
   {
    "duration": 211,
    "start_time": "2022-10-18T20:05:12.328Z"
   },
   {
    "duration": 431,
    "start_time": "2022-10-18T20:05:12.540Z"
   },
   {
    "duration": 26,
    "start_time": "2022-10-18T20:05:12.972Z"
   },
   {
    "duration": 7,
    "start_time": "2022-10-18T20:05:13.000Z"
   },
   {
    "duration": 14,
    "start_time": "2022-10-18T20:05:13.009Z"
   },
   {
    "duration": 309,
    "start_time": "2022-10-18T20:05:13.024Z"
   },
   {
    "duration": 17,
    "start_time": "2022-10-18T20:05:13.335Z"
   },
   {
    "duration": 4,
    "start_time": "2022-10-18T20:14:00.419Z"
   },
   {
    "duration": 50,
    "start_time": "2022-10-18T20:14:00.425Z"
   },
   {
    "duration": 11,
    "start_time": "2022-10-18T20:14:00.477Z"
   },
   {
    "duration": 31,
    "start_time": "2022-10-18T20:14:00.489Z"
   },
   {
    "duration": 82,
    "start_time": "2022-10-18T20:14:00.522Z"
   },
   {
    "duration": 6,
    "start_time": "2022-10-18T20:14:00.606Z"
   },
   {
    "duration": 44,
    "start_time": "2022-10-18T20:14:00.613Z"
   },
   {
    "duration": 32,
    "start_time": "2022-10-18T20:14:00.658Z"
   },
   {
    "duration": 33,
    "start_time": "2022-10-18T20:14:00.692Z"
   },
   {
    "duration": 19,
    "start_time": "2022-10-18T20:14:00.727Z"
   },
   {
    "duration": 28,
    "start_time": "2022-10-18T20:14:00.749Z"
   },
   {
    "duration": 8,
    "start_time": "2022-10-18T20:14:00.780Z"
   },
   {
    "duration": 24,
    "start_time": "2022-10-18T20:14:00.790Z"
   },
   {
    "duration": 273,
    "start_time": "2022-10-18T20:14:00.816Z"
   },
   {
    "duration": 282,
    "start_time": "2022-10-18T20:14:01.094Z"
   },
   {
    "duration": 292,
    "start_time": "2022-10-18T20:14:01.378Z"
   },
   {
    "duration": 404,
    "start_time": "2022-10-18T20:14:01.672Z"
   },
   {
    "duration": 287,
    "start_time": "2022-10-18T20:14:02.078Z"
   },
   {
    "duration": 524,
    "start_time": "2022-10-18T20:14:02.367Z"
   },
   {
    "duration": 130,
    "start_time": "2022-10-18T20:14:02.892Z"
   },
   {
    "duration": 5,
    "start_time": "2022-10-18T20:14:03.023Z"
   },
   {
    "duration": 149,
    "start_time": "2022-10-18T20:14:03.030Z"
   },
   {
    "duration": 4,
    "start_time": "2022-10-18T20:14:03.181Z"
   },
   {
    "duration": 207,
    "start_time": "2022-10-18T20:14:03.194Z"
   },
   {
    "duration": 444,
    "start_time": "2022-10-18T20:14:03.403Z"
   },
   {
    "duration": 13,
    "start_time": "2022-10-18T20:14:03.848Z"
   },
   {
    "duration": 8,
    "start_time": "2022-10-18T20:14:03.863Z"
   },
   {
    "duration": 30,
    "start_time": "2022-10-18T20:14:03.873Z"
   },
   {
    "duration": 318,
    "start_time": "2022-10-18T20:14:03.906Z"
   },
   {
    "duration": 16,
    "start_time": "2022-10-18T20:14:04.226Z"
   },
   {
    "duration": 17,
    "start_time": "2022-10-18T20:16:52.339Z"
   },
   {
    "duration": 17,
    "start_time": "2022-10-18T20:17:40.967Z"
   },
   {
    "duration": 4,
    "start_time": "2022-10-18T20:18:04.660Z"
   },
   {
    "duration": 10,
    "start_time": "2022-10-18T20:19:09.934Z"
   },
   {
    "duration": 10,
    "start_time": "2022-10-18T20:19:54.072Z"
   },
   {
    "duration": 3,
    "start_time": "2022-10-18T20:23:06.240Z"
   },
   {
    "duration": 30,
    "start_time": "2022-10-18T20:23:06.245Z"
   },
   {
    "duration": 10,
    "start_time": "2022-10-18T20:23:06.277Z"
   },
   {
    "duration": 13,
    "start_time": "2022-10-18T20:23:06.289Z"
   },
   {
    "duration": 60,
    "start_time": "2022-10-18T20:23:06.304Z"
   },
   {
    "duration": 6,
    "start_time": "2022-10-18T20:23:06.366Z"
   },
   {
    "duration": 41,
    "start_time": "2022-10-18T20:23:06.373Z"
   },
   {
    "duration": 8,
    "start_time": "2022-10-18T20:23:06.415Z"
   },
   {
    "duration": 7,
    "start_time": "2022-10-18T20:23:06.424Z"
   },
   {
    "duration": 17,
    "start_time": "2022-10-18T20:23:06.433Z"
   },
   {
    "duration": 4,
    "start_time": "2022-10-18T20:23:06.452Z"
   },
   {
    "duration": 11,
    "start_time": "2022-10-18T20:23:06.494Z"
   },
   {
    "duration": 311,
    "start_time": "2022-10-18T20:23:06.507Z"
   },
   {
    "duration": 307,
    "start_time": "2022-10-18T20:23:06.820Z"
   },
   {
    "duration": 269,
    "start_time": "2022-10-18T20:23:07.129Z"
   },
   {
    "duration": 370,
    "start_time": "2022-10-18T20:23:07.400Z"
   },
   {
    "duration": 276,
    "start_time": "2022-10-18T20:23:07.772Z"
   },
   {
    "duration": 438,
    "start_time": "2022-10-18T20:23:08.050Z"
   },
   {
    "duration": 139,
    "start_time": "2022-10-18T20:23:08.494Z"
   },
   {
    "duration": 5,
    "start_time": "2022-10-18T20:23:08.635Z"
   },
   {
    "duration": 145,
    "start_time": "2022-10-18T20:23:08.642Z"
   },
   {
    "duration": 9,
    "start_time": "2022-10-18T20:23:08.788Z"
   },
   {
    "duration": 8,
    "start_time": "2022-10-18T20:23:08.798Z"
   },
   {
    "duration": 502,
    "start_time": "2022-10-18T20:23:08.808Z"
   },
   {
    "duration": 14,
    "start_time": "2022-10-18T20:23:09.312Z"
   },
   {
    "duration": 8,
    "start_time": "2022-10-18T20:23:09.327Z"
   },
   {
    "duration": 16,
    "start_time": "2022-10-18T20:23:09.336Z"
   },
   {
    "duration": 318,
    "start_time": "2022-10-18T20:23:09.353Z"
   },
   {
    "duration": 29,
    "start_time": "2022-10-18T20:23:09.673Z"
   },
   {
    "duration": 7,
    "start_time": "2022-10-18T20:30:24.875Z"
   },
   {
    "duration": 11,
    "start_time": "2022-10-18T20:30:27.340Z"
   },
   {
    "duration": 283,
    "start_time": "2022-10-18T20:30:28.404Z"
   },
   {
    "duration": 17,
    "start_time": "2022-10-18T20:31:05.798Z"
   },
   {
    "duration": 3,
    "start_time": "2022-10-18T20:31:55.979Z"
   },
   {
    "duration": 30,
    "start_time": "2022-10-18T20:31:55.983Z"
   },
   {
    "duration": 9,
    "start_time": "2022-10-18T20:31:56.015Z"
   },
   {
    "duration": 18,
    "start_time": "2022-10-18T20:31:56.025Z"
   },
   {
    "duration": 63,
    "start_time": "2022-10-18T20:31:56.045Z"
   },
   {
    "duration": 8,
    "start_time": "2022-10-18T20:31:56.109Z"
   },
   {
    "duration": 31,
    "start_time": "2022-10-18T20:31:56.119Z"
   },
   {
    "duration": 7,
    "start_time": "2022-10-18T20:31:56.152Z"
   },
   {
    "duration": 7,
    "start_time": "2022-10-18T20:31:56.161Z"
   },
   {
    "duration": 39,
    "start_time": "2022-10-18T20:31:56.170Z"
   },
   {
    "duration": 4,
    "start_time": "2022-10-18T20:31:56.212Z"
   },
   {
    "duration": 14,
    "start_time": "2022-10-18T20:31:56.217Z"
   },
   {
    "duration": 274,
    "start_time": "2022-10-18T20:31:56.232Z"
   },
   {
    "duration": 350,
    "start_time": "2022-10-18T20:31:56.508Z"
   },
   {
    "duration": 274,
    "start_time": "2022-10-18T20:31:56.860Z"
   },
   {
    "duration": 351,
    "start_time": "2022-10-18T20:31:57.136Z"
   },
   {
    "duration": 297,
    "start_time": "2022-10-18T20:31:57.489Z"
   },
   {
    "duration": 426,
    "start_time": "2022-10-18T20:31:57.788Z"
   },
   {
    "duration": 157,
    "start_time": "2022-10-18T20:31:58.216Z"
   },
   {
    "duration": 6,
    "start_time": "2022-10-18T20:31:58.375Z"
   },
   {
    "duration": 156,
    "start_time": "2022-10-18T20:31:58.383Z"
   },
   {
    "duration": 5,
    "start_time": "2022-10-18T20:31:58.541Z"
   },
   {
    "duration": 5,
    "start_time": "2022-10-18T20:31:58.548Z"
   },
   {
    "duration": 430,
    "start_time": "2022-10-18T20:31:58.555Z"
   },
   {
    "duration": 18,
    "start_time": "2022-10-18T20:31:58.986Z"
   },
   {
    "duration": 7,
    "start_time": "2022-10-18T20:31:59.007Z"
   },
   {
    "duration": 17,
    "start_time": "2022-10-18T20:31:59.016Z"
   },
   {
    "duration": 339,
    "start_time": "2022-10-18T20:31:59.035Z"
   },
   {
    "duration": 25,
    "start_time": "2022-10-18T20:31:59.376Z"
   },
   {
    "duration": 1384,
    "start_time": "2022-10-19T14:38:31.295Z"
   },
   {
    "duration": 81,
    "start_time": "2022-10-19T14:38:32.681Z"
   },
   {
    "duration": 18,
    "start_time": "2022-10-19T14:38:32.765Z"
   },
   {
    "duration": 12,
    "start_time": "2022-10-19T14:38:32.785Z"
   },
   {
    "duration": 179,
    "start_time": "2022-10-19T14:38:32.799Z"
   },
   {
    "duration": 8,
    "start_time": "2022-10-19T14:38:32.979Z"
   },
   {
    "duration": 31,
    "start_time": "2022-10-19T14:38:32.988Z"
   },
   {
    "duration": 11,
    "start_time": "2022-10-19T14:38:33.022Z"
   },
   {
    "duration": 14,
    "start_time": "2022-10-19T14:38:33.036Z"
   },
   {
    "duration": 46,
    "start_time": "2022-10-19T14:38:33.053Z"
   },
   {
    "duration": 5,
    "start_time": "2022-10-19T14:38:33.101Z"
   },
   {
    "duration": 18,
    "start_time": "2022-10-19T14:38:33.107Z"
   },
   {
    "duration": 300,
    "start_time": "2022-10-19T14:38:33.127Z"
   },
   {
    "duration": 315,
    "start_time": "2022-10-19T14:38:33.429Z"
   },
   {
    "duration": 310,
    "start_time": "2022-10-19T14:38:33.745Z"
   },
   {
    "duration": 477,
    "start_time": "2022-10-19T14:38:34.057Z"
   },
   {
    "duration": 296,
    "start_time": "2022-10-19T14:38:34.537Z"
   },
   {
    "duration": 418,
    "start_time": "2022-10-19T14:38:34.836Z"
   },
   {
    "duration": 151,
    "start_time": "2022-10-19T14:38:35.257Z"
   },
   {
    "duration": 5,
    "start_time": "2022-10-19T14:38:35.410Z"
   },
   {
    "duration": 148,
    "start_time": "2022-10-19T14:38:35.416Z"
   },
   {
    "duration": 4,
    "start_time": "2022-10-19T14:38:35.566Z"
   },
   {
    "duration": 5,
    "start_time": "2022-10-19T14:38:35.572Z"
   },
   {
    "duration": 448,
    "start_time": "2022-10-19T14:38:35.578Z"
   },
   {
    "duration": 15,
    "start_time": "2022-10-19T14:38:36.027Z"
   },
   {
    "duration": 9,
    "start_time": "2022-10-19T14:38:36.044Z"
   },
   {
    "duration": 53,
    "start_time": "2022-10-19T14:38:36.054Z"
   },
   {
    "duration": 309,
    "start_time": "2022-10-19T14:38:36.110Z"
   },
   {
    "duration": 16,
    "start_time": "2022-10-19T14:38:36.420Z"
   }
  ],
  "kernelspec": {
   "display_name": "Python 3 (ipykernel)",
   "language": "python",
   "name": "python3"
  },
  "language_info": {
   "codemirror_mode": {
    "name": "ipython",
    "version": 3
   },
   "file_extension": ".py",
   "mimetype": "text/x-python",
   "name": "python",
   "nbconvert_exporter": "python",
   "pygments_lexer": "ipython3",
   "version": "3.9.12"
  },
  "toc": {
   "base_numbering": 1,
   "nav_menu": {},
   "number_sections": true,
   "sideBar": true,
   "skip_h1_title": true,
   "title_cell": "Table of Contents",
   "title_sidebar": "Contents",
   "toc_cell": false,
   "toc_position": {},
   "toc_section_display": true,
   "toc_window_display": false
  }
 },
 "nbformat": 4,
 "nbformat_minor": 2
}
