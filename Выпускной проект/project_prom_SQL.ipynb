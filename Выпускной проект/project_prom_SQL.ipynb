{
 "cells": [
  {
   "cell_type": "markdown",
   "metadata": {},
   "source": [
    "# SQL\n",
    "\n",
    "**Цель исследования**: Сформулировать ценностное предложение для нового продукта.  \n",
    "**Задача:** Проанализировать базу данных новоприобритенного сервиса для чтения книг по подписке.\n",
    "\n",
    "В рамках анализа необходимо ответить на следующие вопросы:\n",
    "\n",
    "- Сколько книг вышло после 1 января 2000 года;\n",
    "- Какое количество обзоров и средняя оценка для каждой книги;\n",
    "- Какое издательство, выпустило наибольшее число книг толще 50 страниц (для исключения из анализа брошюр);\n",
    "- Какой автор имеет самую высокую среднюю оценку книг — (учитываются только книги с 50 и более оценками);\n",
    "- Какого среднее количество обзоров от пользователей, которые поставили больше 50 оценок.\n",
    "\n",
    "**Описание данных**\n",
    "\n",
    "**Таблица `books`**\n",
    "\n",
    "Содержит данные о книгах:\n",
    "\n",
    "- `book_id` — идентификатор книги;\n",
    "- `author_id` — идентификатор автора;\n",
    "- `title` — название книги;\n",
    "- `num_pages` — количество страниц;\n",
    "- `publication_date` — дата публикации книги;\n",
    "- `publisher_id` — идентификатор издателя.\n",
    "\n",
    "**Таблица `authors`**\n",
    "\n",
    "Содержит данные об авторах:\n",
    "\n",
    "- `author_id` — идентификатор автора;\n",
    "- `author` — имя автора.\n",
    "\n",
    "**Таблица `publishers`**\n",
    "\n",
    "Содержит данные об издательствах:\n",
    "\n",
    "- `publisher_id` — идентификатор издательства;\n",
    "- `publisher` — название издательства;\n",
    "\n",
    "**Таблица `ratings`**\n",
    "\n",
    "Содержит данные о пользовательских оценках книг:\n",
    "\n",
    "- `rating_id` — идентификатор оценки;\n",
    "- `book_id` — идентификатор книги;\n",
    "- `username` — имя пользователя, оставившего оценку;\n",
    "- `rating` — оценка книги.\n",
    "\n",
    "**Таблица `reviews`**\n",
    "\n",
    "Содержит данные о пользовательских обзорах на книги:\n",
    "\n",
    "- `review_id` — идентификатор обзора;\n",
    "- `book_id` — идентификатор книги;\n",
    "- `username` — имя пользователя, написавшего обзор;\n",
    "- `text` — текст обзора."
   ]
  },
  {
   "cell_type": "markdown",
   "metadata": {},
   "source": [
    "Загрузим необходимые библиотеки и подключимся к базе данных."
   ]
  },
  {
   "cell_type": "code",
   "execution_count": 1,
   "metadata": {},
   "outputs": [],
   "source": [
    "# импортируем библиотеки\n",
    "import pandas as pd\n",
    "from sqlalchemy import create_engine"
   ]
  },
  {
   "cell_type": "code",
   "execution_count": 2,
   "metadata": {},
   "outputs": [],
   "source": [
    "# устанавливаем параметры\n",
    "db_config = {'user': 'praktikum_student', # имя пользователя\n",
    "'pwd': 'Sdf4$2;d-d30pp', # пароль\n",
    "'host': 'rc1b-wcoijxj3yxfsf3fs.mdb.yandexcloud.net',\n",
    "'port': 6432, # порт подключения\n",
    "'db': 'data-analyst-final-project-db'} # название базы данных\n",
    "connection_string = 'postgresql://{}:{}@{}:{}/{}'.format(db_config['user'],\n",
    " db_config['pwd'],\n",
    " db_config['host'],\n",
    " db_config['port'],\n",
    " db_config['db'])\n",
    "# сохраняем коннектор\n",
    "engine = create_engine(connection_string, connect_args={'sslmode':'require'}) "
   ]
  },
  {
   "cell_type": "markdown",
   "metadata": {},
   "source": [
    "Посмотрим содержимое таблиц: books, authors, publishers, ratings, reviews"
   ]
  },
  {
   "cell_type": "code",
   "execution_count": 3,
   "metadata": {},
   "outputs": [
    {
     "data": {
      "text/html": [
       "<div>\n",
       "<style scoped>\n",
       "    .dataframe tbody tr th:only-of-type {\n",
       "        vertical-align: middle;\n",
       "    }\n",
       "\n",
       "    .dataframe tbody tr th {\n",
       "        vertical-align: top;\n",
       "    }\n",
       "\n",
       "    .dataframe thead th {\n",
       "        text-align: right;\n",
       "    }\n",
       "</style>\n",
       "<table border=\"1\" class=\"dataframe\">\n",
       "  <thead>\n",
       "    <tr style=\"text-align: right;\">\n",
       "      <th></th>\n",
       "      <th>book_id</th>\n",
       "      <th>author_id</th>\n",
       "      <th>title</th>\n",
       "      <th>num_pages</th>\n",
       "      <th>publication_date</th>\n",
       "      <th>publisher_id</th>\n",
       "    </tr>\n",
       "  </thead>\n",
       "  <tbody>\n",
       "    <tr>\n",
       "      <th>0</th>\n",
       "      <td>1</td>\n",
       "      <td>546</td>\n",
       "      <td>'Salem's Lot</td>\n",
       "      <td>594</td>\n",
       "      <td>2005-11-01</td>\n",
       "      <td>93</td>\n",
       "    </tr>\n",
       "    <tr>\n",
       "      <th>1</th>\n",
       "      <td>2</td>\n",
       "      <td>465</td>\n",
       "      <td>1 000 Places to See Before You Die</td>\n",
       "      <td>992</td>\n",
       "      <td>2003-05-22</td>\n",
       "      <td>336</td>\n",
       "    </tr>\n",
       "    <tr>\n",
       "      <th>2</th>\n",
       "      <td>3</td>\n",
       "      <td>407</td>\n",
       "      <td>13 Little Blue Envelopes (Little Blue Envelope...</td>\n",
       "      <td>322</td>\n",
       "      <td>2010-12-21</td>\n",
       "      <td>135</td>\n",
       "    </tr>\n",
       "    <tr>\n",
       "      <th>3</th>\n",
       "      <td>4</td>\n",
       "      <td>82</td>\n",
       "      <td>1491: New Revelations of the Americas Before C...</td>\n",
       "      <td>541</td>\n",
       "      <td>2006-10-10</td>\n",
       "      <td>309</td>\n",
       "    </tr>\n",
       "    <tr>\n",
       "      <th>4</th>\n",
       "      <td>5</td>\n",
       "      <td>125</td>\n",
       "      <td>1776</td>\n",
       "      <td>386</td>\n",
       "      <td>2006-07-04</td>\n",
       "      <td>268</td>\n",
       "    </tr>\n",
       "    <tr>\n",
       "      <th>...</th>\n",
       "      <td>...</td>\n",
       "      <td>...</td>\n",
       "      <td>...</td>\n",
       "      <td>...</td>\n",
       "      <td>...</td>\n",
       "      <td>...</td>\n",
       "    </tr>\n",
       "    <tr>\n",
       "      <th>995</th>\n",
       "      <td>996</td>\n",
       "      <td>571</td>\n",
       "      <td>Wyrd Sisters (Discworld  #6; Witches #2)</td>\n",
       "      <td>265</td>\n",
       "      <td>2001-02-06</td>\n",
       "      <td>147</td>\n",
       "    </tr>\n",
       "    <tr>\n",
       "      <th>996</th>\n",
       "      <td>997</td>\n",
       "      <td>454</td>\n",
       "      <td>Xenocide (Ender's Saga  #3)</td>\n",
       "      <td>592</td>\n",
       "      <td>1996-07-15</td>\n",
       "      <td>297</td>\n",
       "    </tr>\n",
       "    <tr>\n",
       "      <th>997</th>\n",
       "      <td>998</td>\n",
       "      <td>201</td>\n",
       "      <td>Year of Wonders</td>\n",
       "      <td>358</td>\n",
       "      <td>2002-04-30</td>\n",
       "      <td>212</td>\n",
       "    </tr>\n",
       "    <tr>\n",
       "      <th>998</th>\n",
       "      <td>999</td>\n",
       "      <td>94</td>\n",
       "      <td>You Suck (A Love Story  #2)</td>\n",
       "      <td>328</td>\n",
       "      <td>2007-01-16</td>\n",
       "      <td>331</td>\n",
       "    </tr>\n",
       "    <tr>\n",
       "      <th>999</th>\n",
       "      <td>1000</td>\n",
       "      <td>509</td>\n",
       "      <td>Zen and the Art of Motorcycle Maintenance: An ...</td>\n",
       "      <td>540</td>\n",
       "      <td>2006-04-25</td>\n",
       "      <td>143</td>\n",
       "    </tr>\n",
       "  </tbody>\n",
       "</table>\n",
       "<p>1000 rows × 6 columns</p>\n",
       "</div>"
      ],
      "text/plain": [
       "     book_id  author_id                                              title  \\\n",
       "0          1        546                                       'Salem's Lot   \n",
       "1          2        465                 1 000 Places to See Before You Die   \n",
       "2          3        407  13 Little Blue Envelopes (Little Blue Envelope...   \n",
       "3          4         82  1491: New Revelations of the Americas Before C...   \n",
       "4          5        125                                               1776   \n",
       "..       ...        ...                                                ...   \n",
       "995      996        571           Wyrd Sisters (Discworld  #6; Witches #2)   \n",
       "996      997        454                        Xenocide (Ender's Saga  #3)   \n",
       "997      998        201                                    Year of Wonders   \n",
       "998      999         94                        You Suck (A Love Story  #2)   \n",
       "999     1000        509  Zen and the Art of Motorcycle Maintenance: An ...   \n",
       "\n",
       "     num_pages publication_date  publisher_id  \n",
       "0          594       2005-11-01            93  \n",
       "1          992       2003-05-22           336  \n",
       "2          322       2010-12-21           135  \n",
       "3          541       2006-10-10           309  \n",
       "4          386       2006-07-04           268  \n",
       "..         ...              ...           ...  \n",
       "995        265       2001-02-06           147  \n",
       "996        592       1996-07-15           297  \n",
       "997        358       2002-04-30           212  \n",
       "998        328       2007-01-16           331  \n",
       "999        540       2006-04-25           143  \n",
       "\n",
       "[1000 rows x 6 columns]"
      ]
     },
     "execution_count": 3,
     "metadata": {},
     "output_type": "execute_result"
    }
   ],
   "source": [
    "# Формируем sql-запрос для books.\n",
    "query = ''' SELECT *\n",
    "            FROM books\n",
    "        '''\n",
    "\n",
    "pd.read_sql_query(query, con=engine)"
   ]
  },
  {
   "cell_type": "code",
   "execution_count": 4,
   "metadata": {},
   "outputs": [
    {
     "data": {
      "text/html": [
       "<div>\n",
       "<style scoped>\n",
       "    .dataframe tbody tr th:only-of-type {\n",
       "        vertical-align: middle;\n",
       "    }\n",
       "\n",
       "    .dataframe tbody tr th {\n",
       "        vertical-align: top;\n",
       "    }\n",
       "\n",
       "    .dataframe thead th {\n",
       "        text-align: right;\n",
       "    }\n",
       "</style>\n",
       "<table border=\"1\" class=\"dataframe\">\n",
       "  <thead>\n",
       "    <tr style=\"text-align: right;\">\n",
       "      <th></th>\n",
       "      <th>author_id</th>\n",
       "      <th>author</th>\n",
       "    </tr>\n",
       "  </thead>\n",
       "  <tbody>\n",
       "    <tr>\n",
       "      <th>0</th>\n",
       "      <td>1</td>\n",
       "      <td>A.S. Byatt</td>\n",
       "    </tr>\n",
       "    <tr>\n",
       "      <th>1</th>\n",
       "      <td>2</td>\n",
       "      <td>Aesop/Laura Harris/Laura Gibbs</td>\n",
       "    </tr>\n",
       "    <tr>\n",
       "      <th>2</th>\n",
       "      <td>3</td>\n",
       "      <td>Agatha Christie</td>\n",
       "    </tr>\n",
       "    <tr>\n",
       "      <th>3</th>\n",
       "      <td>4</td>\n",
       "      <td>Alan Brennert</td>\n",
       "    </tr>\n",
       "    <tr>\n",
       "      <th>4</th>\n",
       "      <td>5</td>\n",
       "      <td>Alan Moore/David   Lloyd</td>\n",
       "    </tr>\n",
       "    <tr>\n",
       "      <th>...</th>\n",
       "      <td>...</td>\n",
       "      <td>...</td>\n",
       "    </tr>\n",
       "    <tr>\n",
       "      <th>631</th>\n",
       "      <td>632</td>\n",
       "      <td>William Strunk Jr./E.B. White</td>\n",
       "    </tr>\n",
       "    <tr>\n",
       "      <th>632</th>\n",
       "      <td>633</td>\n",
       "      <td>Zadie Smith</td>\n",
       "    </tr>\n",
       "    <tr>\n",
       "      <th>633</th>\n",
       "      <td>634</td>\n",
       "      <td>Zilpha Keatley Snyder</td>\n",
       "    </tr>\n",
       "    <tr>\n",
       "      <th>634</th>\n",
       "      <td>635</td>\n",
       "      <td>Zora Neale Hurston</td>\n",
       "    </tr>\n",
       "    <tr>\n",
       "      <th>635</th>\n",
       "      <td>636</td>\n",
       "      <td>Åsne Seierstad/Ingrid Christopherson</td>\n",
       "    </tr>\n",
       "  </tbody>\n",
       "</table>\n",
       "<p>636 rows × 2 columns</p>\n",
       "</div>"
      ],
      "text/plain": [
       "     author_id                                author\n",
       "0            1                            A.S. Byatt\n",
       "1            2        Aesop/Laura Harris/Laura Gibbs\n",
       "2            3                       Agatha Christie\n",
       "3            4                         Alan Brennert\n",
       "4            5              Alan Moore/David   Lloyd\n",
       "..         ...                                   ...\n",
       "631        632         William Strunk Jr./E.B. White\n",
       "632        633                           Zadie Smith\n",
       "633        634                 Zilpha Keatley Snyder\n",
       "634        635                    Zora Neale Hurston\n",
       "635        636  Åsne Seierstad/Ingrid Christopherson\n",
       "\n",
       "[636 rows x 2 columns]"
      ]
     },
     "execution_count": 4,
     "metadata": {},
     "output_type": "execute_result"
    }
   ],
   "source": [
    "# Формируем sql-запрос для authors.\n",
    "query = ''' SELECT *\n",
    "            FROM authors\n",
    "        '''\n",
    "\n",
    "pd.read_sql_query(query, con=engine)"
   ]
  },
  {
   "cell_type": "code",
   "execution_count": 5,
   "metadata": {},
   "outputs": [
    {
     "data": {
      "text/html": [
       "<div>\n",
       "<style scoped>\n",
       "    .dataframe tbody tr th:only-of-type {\n",
       "        vertical-align: middle;\n",
       "    }\n",
       "\n",
       "    .dataframe tbody tr th {\n",
       "        vertical-align: top;\n",
       "    }\n",
       "\n",
       "    .dataframe thead th {\n",
       "        text-align: right;\n",
       "    }\n",
       "</style>\n",
       "<table border=\"1\" class=\"dataframe\">\n",
       "  <thead>\n",
       "    <tr style=\"text-align: right;\">\n",
       "      <th></th>\n",
       "      <th>publisher_id</th>\n",
       "      <th>publisher</th>\n",
       "    </tr>\n",
       "  </thead>\n",
       "  <tbody>\n",
       "    <tr>\n",
       "      <th>0</th>\n",
       "      <td>1</td>\n",
       "      <td>Ace</td>\n",
       "    </tr>\n",
       "    <tr>\n",
       "      <th>1</th>\n",
       "      <td>2</td>\n",
       "      <td>Ace Book</td>\n",
       "    </tr>\n",
       "    <tr>\n",
       "      <th>2</th>\n",
       "      <td>3</td>\n",
       "      <td>Ace Books</td>\n",
       "    </tr>\n",
       "    <tr>\n",
       "      <th>3</th>\n",
       "      <td>4</td>\n",
       "      <td>Ace Hardcover</td>\n",
       "    </tr>\n",
       "    <tr>\n",
       "      <th>4</th>\n",
       "      <td>5</td>\n",
       "      <td>Addison Wesley Publishing Company</td>\n",
       "    </tr>\n",
       "    <tr>\n",
       "      <th>...</th>\n",
       "      <td>...</td>\n",
       "      <td>...</td>\n",
       "    </tr>\n",
       "    <tr>\n",
       "      <th>335</th>\n",
       "      <td>336</td>\n",
       "      <td>Workman Publishing Company</td>\n",
       "    </tr>\n",
       "    <tr>\n",
       "      <th>336</th>\n",
       "      <td>337</td>\n",
       "      <td>Wyatt Book</td>\n",
       "    </tr>\n",
       "    <tr>\n",
       "      <th>337</th>\n",
       "      <td>338</td>\n",
       "      <td>Yale University Press</td>\n",
       "    </tr>\n",
       "    <tr>\n",
       "      <th>338</th>\n",
       "      <td>339</td>\n",
       "      <td>Yearling</td>\n",
       "    </tr>\n",
       "    <tr>\n",
       "      <th>339</th>\n",
       "      <td>340</td>\n",
       "      <td>Yearling Books</td>\n",
       "    </tr>\n",
       "  </tbody>\n",
       "</table>\n",
       "<p>340 rows × 2 columns</p>\n",
       "</div>"
      ],
      "text/plain": [
       "     publisher_id                          publisher\n",
       "0               1                                Ace\n",
       "1               2                           Ace Book\n",
       "2               3                          Ace Books\n",
       "3               4                      Ace Hardcover\n",
       "4               5  Addison Wesley Publishing Company\n",
       "..            ...                                ...\n",
       "335           336         Workman Publishing Company\n",
       "336           337                         Wyatt Book\n",
       "337           338              Yale University Press\n",
       "338           339                           Yearling\n",
       "339           340                     Yearling Books\n",
       "\n",
       "[340 rows x 2 columns]"
      ]
     },
     "execution_count": 5,
     "metadata": {},
     "output_type": "execute_result"
    }
   ],
   "source": [
    "# Формируем sql-запрос для publishers.\n",
    "query = ''' SELECT *\n",
    "            FROM publishers\n",
    "        '''\n",
    "\n",
    "pd.read_sql_query(query, con=engine)"
   ]
  },
  {
   "cell_type": "code",
   "execution_count": 6,
   "metadata": {},
   "outputs": [
    {
     "data": {
      "text/html": [
       "<div>\n",
       "<style scoped>\n",
       "    .dataframe tbody tr th:only-of-type {\n",
       "        vertical-align: middle;\n",
       "    }\n",
       "\n",
       "    .dataframe tbody tr th {\n",
       "        vertical-align: top;\n",
       "    }\n",
       "\n",
       "    .dataframe thead th {\n",
       "        text-align: right;\n",
       "    }\n",
       "</style>\n",
       "<table border=\"1\" class=\"dataframe\">\n",
       "  <thead>\n",
       "    <tr style=\"text-align: right;\">\n",
       "      <th></th>\n",
       "      <th>rating_id</th>\n",
       "      <th>book_id</th>\n",
       "      <th>username</th>\n",
       "      <th>rating</th>\n",
       "    </tr>\n",
       "  </thead>\n",
       "  <tbody>\n",
       "    <tr>\n",
       "      <th>0</th>\n",
       "      <td>1</td>\n",
       "      <td>1</td>\n",
       "      <td>ryanfranco</td>\n",
       "      <td>4</td>\n",
       "    </tr>\n",
       "    <tr>\n",
       "      <th>1</th>\n",
       "      <td>2</td>\n",
       "      <td>1</td>\n",
       "      <td>grantpatricia</td>\n",
       "      <td>2</td>\n",
       "    </tr>\n",
       "    <tr>\n",
       "      <th>2</th>\n",
       "      <td>3</td>\n",
       "      <td>1</td>\n",
       "      <td>brandtandrea</td>\n",
       "      <td>5</td>\n",
       "    </tr>\n",
       "    <tr>\n",
       "      <th>3</th>\n",
       "      <td>4</td>\n",
       "      <td>2</td>\n",
       "      <td>lorichen</td>\n",
       "      <td>3</td>\n",
       "    </tr>\n",
       "    <tr>\n",
       "      <th>4</th>\n",
       "      <td>5</td>\n",
       "      <td>2</td>\n",
       "      <td>mariokeller</td>\n",
       "      <td>2</td>\n",
       "    </tr>\n",
       "    <tr>\n",
       "      <th>...</th>\n",
       "      <td>...</td>\n",
       "      <td>...</td>\n",
       "      <td>...</td>\n",
       "      <td>...</td>\n",
       "    </tr>\n",
       "    <tr>\n",
       "      <th>6451</th>\n",
       "      <td>6452</td>\n",
       "      <td>1000</td>\n",
       "      <td>carolrodriguez</td>\n",
       "      <td>4</td>\n",
       "    </tr>\n",
       "    <tr>\n",
       "      <th>6452</th>\n",
       "      <td>6453</td>\n",
       "      <td>1000</td>\n",
       "      <td>wendy18</td>\n",
       "      <td>4</td>\n",
       "    </tr>\n",
       "    <tr>\n",
       "      <th>6453</th>\n",
       "      <td>6454</td>\n",
       "      <td>1000</td>\n",
       "      <td>jarvispaul</td>\n",
       "      <td>5</td>\n",
       "    </tr>\n",
       "    <tr>\n",
       "      <th>6454</th>\n",
       "      <td>6455</td>\n",
       "      <td>1000</td>\n",
       "      <td>zross</td>\n",
       "      <td>2</td>\n",
       "    </tr>\n",
       "    <tr>\n",
       "      <th>6455</th>\n",
       "      <td>6456</td>\n",
       "      <td>1000</td>\n",
       "      <td>fharris</td>\n",
       "      <td>5</td>\n",
       "    </tr>\n",
       "  </tbody>\n",
       "</table>\n",
       "<p>6456 rows × 4 columns</p>\n",
       "</div>"
      ],
      "text/plain": [
       "      rating_id  book_id        username  rating\n",
       "0             1        1      ryanfranco       4\n",
       "1             2        1   grantpatricia       2\n",
       "2             3        1    brandtandrea       5\n",
       "3             4        2        lorichen       3\n",
       "4             5        2     mariokeller       2\n",
       "...         ...      ...             ...     ...\n",
       "6451       6452     1000  carolrodriguez       4\n",
       "6452       6453     1000         wendy18       4\n",
       "6453       6454     1000      jarvispaul       5\n",
       "6454       6455     1000           zross       2\n",
       "6455       6456     1000         fharris       5\n",
       "\n",
       "[6456 rows x 4 columns]"
      ]
     },
     "execution_count": 6,
     "metadata": {},
     "output_type": "execute_result"
    }
   ],
   "source": [
    "# Формируем sql-запрос для ratings\n",
    "query = ''' SELECT *\n",
    "            FROM ratings\n",
    "        '''\n",
    "\n",
    "pd.read_sql_query(query, con=engine)\n"
   ]
  },
  {
   "cell_type": "code",
   "execution_count": 7,
   "metadata": {},
   "outputs": [
    {
     "data": {
      "text/html": [
       "<div>\n",
       "<style scoped>\n",
       "    .dataframe tbody tr th:only-of-type {\n",
       "        vertical-align: middle;\n",
       "    }\n",
       "\n",
       "    .dataframe tbody tr th {\n",
       "        vertical-align: top;\n",
       "    }\n",
       "\n",
       "    .dataframe thead th {\n",
       "        text-align: right;\n",
       "    }\n",
       "</style>\n",
       "<table border=\"1\" class=\"dataframe\">\n",
       "  <thead>\n",
       "    <tr style=\"text-align: right;\">\n",
       "      <th></th>\n",
       "      <th>review_id</th>\n",
       "      <th>book_id</th>\n",
       "      <th>username</th>\n",
       "      <th>text</th>\n",
       "    </tr>\n",
       "  </thead>\n",
       "  <tbody>\n",
       "    <tr>\n",
       "      <th>0</th>\n",
       "      <td>1</td>\n",
       "      <td>1</td>\n",
       "      <td>brandtandrea</td>\n",
       "      <td>Mention society tell send professor analysis. ...</td>\n",
       "    </tr>\n",
       "    <tr>\n",
       "      <th>1</th>\n",
       "      <td>2</td>\n",
       "      <td>1</td>\n",
       "      <td>ryanfranco</td>\n",
       "      <td>Foot glass pretty audience hit themselves. Amo...</td>\n",
       "    </tr>\n",
       "    <tr>\n",
       "      <th>2</th>\n",
       "      <td>3</td>\n",
       "      <td>2</td>\n",
       "      <td>lorichen</td>\n",
       "      <td>Listen treat keep worry. Miss husband tax but ...</td>\n",
       "    </tr>\n",
       "    <tr>\n",
       "      <th>3</th>\n",
       "      <td>4</td>\n",
       "      <td>3</td>\n",
       "      <td>johnsonamanda</td>\n",
       "      <td>Finally month interesting blue could nature cu...</td>\n",
       "    </tr>\n",
       "    <tr>\n",
       "      <th>4</th>\n",
       "      <td>5</td>\n",
       "      <td>3</td>\n",
       "      <td>scotttamara</td>\n",
       "      <td>Nation purpose heavy give wait song will. List...</td>\n",
       "    </tr>\n",
       "    <tr>\n",
       "      <th>...</th>\n",
       "      <td>...</td>\n",
       "      <td>...</td>\n",
       "      <td>...</td>\n",
       "      <td>...</td>\n",
       "    </tr>\n",
       "    <tr>\n",
       "      <th>2788</th>\n",
       "      <td>2789</td>\n",
       "      <td>999</td>\n",
       "      <td>martinadam</td>\n",
       "      <td>Later hospital turn easy community. Fact same ...</td>\n",
       "    </tr>\n",
       "    <tr>\n",
       "      <th>2789</th>\n",
       "      <td>2790</td>\n",
       "      <td>1000</td>\n",
       "      <td>wknight</td>\n",
       "      <td>Change lose answer close pressure. Spend so now.</td>\n",
       "    </tr>\n",
       "    <tr>\n",
       "      <th>2790</th>\n",
       "      <td>2791</td>\n",
       "      <td>1000</td>\n",
       "      <td>carolrodriguez</td>\n",
       "      <td>Authority go who television entire hair guy po...</td>\n",
       "    </tr>\n",
       "    <tr>\n",
       "      <th>2791</th>\n",
       "      <td>2792</td>\n",
       "      <td>1000</td>\n",
       "      <td>wendy18</td>\n",
       "      <td>Or western offer wonder ask. More hear phone f...</td>\n",
       "    </tr>\n",
       "    <tr>\n",
       "      <th>2792</th>\n",
       "      <td>2793</td>\n",
       "      <td>1000</td>\n",
       "      <td>jarvispaul</td>\n",
       "      <td>Republican staff bit eat material measure plan...</td>\n",
       "    </tr>\n",
       "  </tbody>\n",
       "</table>\n",
       "<p>2793 rows × 4 columns</p>\n",
       "</div>"
      ],
      "text/plain": [
       "      review_id  book_id        username  \\\n",
       "0             1        1    brandtandrea   \n",
       "1             2        1      ryanfranco   \n",
       "2             3        2        lorichen   \n",
       "3             4        3   johnsonamanda   \n",
       "4             5        3     scotttamara   \n",
       "...         ...      ...             ...   \n",
       "2788       2789      999      martinadam   \n",
       "2789       2790     1000         wknight   \n",
       "2790       2791     1000  carolrodriguez   \n",
       "2791       2792     1000         wendy18   \n",
       "2792       2793     1000      jarvispaul   \n",
       "\n",
       "                                                   text  \n",
       "0     Mention society tell send professor analysis. ...  \n",
       "1     Foot glass pretty audience hit themselves. Amo...  \n",
       "2     Listen treat keep worry. Miss husband tax but ...  \n",
       "3     Finally month interesting blue could nature cu...  \n",
       "4     Nation purpose heavy give wait song will. List...  \n",
       "...                                                 ...  \n",
       "2788  Later hospital turn easy community. Fact same ...  \n",
       "2789   Change lose answer close pressure. Spend so now.  \n",
       "2790  Authority go who television entire hair guy po...  \n",
       "2791  Or western offer wonder ask. More hear phone f...  \n",
       "2792  Republican staff bit eat material measure plan...  \n",
       "\n",
       "[2793 rows x 4 columns]"
      ]
     },
     "execution_count": 7,
     "metadata": {},
     "output_type": "execute_result"
    }
   ],
   "source": [
    "# Формируем sql-запрос для reviews\n",
    "query = ''' SELECT *\n",
    "            FROM reviews\n",
    "        '''\n",
    "\n",
    "pd.read_sql_query(query, con=engine)"
   ]
  },
  {
   "cell_type": "markdown",
   "metadata": {},
   "source": [
    "Ключи соединяющие таблицы: book_id,\tauthor_id, \tpublisher_id."
   ]
  },
  {
   "cell_type": "markdown",
   "metadata": {},
   "source": [
    "Перейдем к анализу данных.\n",
    "Ответим на вопрос:\n",
    "Сколько книг вышло после 1 января 2000 года"
   ]
  },
  {
   "cell_type": "code",
   "execution_count": 8,
   "metadata": {},
   "outputs": [
    {
     "data": {
      "text/html": [
       "<div>\n",
       "<style scoped>\n",
       "    .dataframe tbody tr th:only-of-type {\n",
       "        vertical-align: middle;\n",
       "    }\n",
       "\n",
       "    .dataframe tbody tr th {\n",
       "        vertical-align: top;\n",
       "    }\n",
       "\n",
       "    .dataframe thead th {\n",
       "        text-align: right;\n",
       "    }\n",
       "</style>\n",
       "<table border=\"1\" class=\"dataframe\">\n",
       "  <thead>\n",
       "    <tr style=\"text-align: right;\">\n",
       "      <th></th>\n",
       "      <th>count</th>\n",
       "    </tr>\n",
       "  </thead>\n",
       "  <tbody>\n",
       "    <tr>\n",
       "      <th>0</th>\n",
       "      <td>819</td>\n",
       "    </tr>\n",
       "  </tbody>\n",
       "</table>\n",
       "</div>"
      ],
      "text/plain": [
       "   count\n",
       "0    819"
      ]
     },
     "execution_count": 8,
     "metadata": {},
     "output_type": "execute_result"
    }
   ],
   "source": [
    "#- Сколько книг вышло после 1 января 2000 года;\n",
    "\n",
    "query = ''' SELECT COUNT(book_id)\n",
    "            FROM books\n",
    "            WHERE publication_date  > '2000-01-01' \n",
    "        '''\n",
    "\n",
    "pd.read_sql_query(query, con=engine)\n"
   ]
  },
  {
   "cell_type": "code",
   "execution_count": 9,
   "metadata": {},
   "outputs": [
    {
     "data": {
      "text/plain": [
       "81.89999999999999"
      ]
     },
     "execution_count": 9,
     "metadata": {},
     "output_type": "execute_result"
    }
   ],
   "source": [
    "819 / 1000 * 100"
   ]
  },
  {
   "cell_type": "markdown",
   "metadata": {},
   "source": [
    "После 1 января 2000 г вышло 819 книг, это 82% всех книг базы данных."
   ]
  },
  {
   "cell_type": "code",
   "execution_count": 10,
   "metadata": {},
   "outputs": [
    {
     "data": {
      "text/html": [
       "<div>\n",
       "<style scoped>\n",
       "    .dataframe tbody tr th:only-of-type {\n",
       "        vertical-align: middle;\n",
       "    }\n",
       "\n",
       "    .dataframe tbody tr th {\n",
       "        vertical-align: top;\n",
       "    }\n",
       "\n",
       "    .dataframe thead th {\n",
       "        text-align: right;\n",
       "    }\n",
       "</style>\n",
       "<table border=\"1\" class=\"dataframe\">\n",
       "  <thead>\n",
       "    <tr style=\"text-align: right;\">\n",
       "      <th></th>\n",
       "      <th>book_id</th>\n",
       "      <th>title</th>\n",
       "      <th>rating_avg</th>\n",
       "      <th>review_cnt</th>\n",
       "    </tr>\n",
       "  </thead>\n",
       "  <tbody>\n",
       "    <tr>\n",
       "      <th>0</th>\n",
       "      <td>303</td>\n",
       "      <td>Harvesting the Heart</td>\n",
       "      <td>1.50</td>\n",
       "      <td>2.0</td>\n",
       "    </tr>\n",
       "    <tr>\n",
       "      <th>1</th>\n",
       "      <td>202</td>\n",
       "      <td>Drowning Ruth</td>\n",
       "      <td>2.00</td>\n",
       "      <td>3.0</td>\n",
       "    </tr>\n",
       "    <tr>\n",
       "      <th>2</th>\n",
       "      <td>316</td>\n",
       "      <td>His Excellency: George Washington</td>\n",
       "      <td>2.00</td>\n",
       "      <td>2.0</td>\n",
       "    </tr>\n",
       "    <tr>\n",
       "      <th>3</th>\n",
       "      <td>371</td>\n",
       "      <td>Junky</td>\n",
       "      <td>2.00</td>\n",
       "      <td>2.0</td>\n",
       "    </tr>\n",
       "    <tr>\n",
       "      <th>4</th>\n",
       "      <td>915</td>\n",
       "      <td>The World Is Flat: A Brief History of the Twen...</td>\n",
       "      <td>2.25</td>\n",
       "      <td>3.0</td>\n",
       "    </tr>\n",
       "    <tr>\n",
       "      <th>...</th>\n",
       "      <td>...</td>\n",
       "      <td>...</td>\n",
       "      <td>...</td>\n",
       "      <td>...</td>\n",
       "    </tr>\n",
       "    <tr>\n",
       "      <th>995</th>\n",
       "      <td>330</td>\n",
       "      <td>How to Be a Domestic Goddess: Baking and the A...</td>\n",
       "      <td>5.00</td>\n",
       "      <td>1.0</td>\n",
       "    </tr>\n",
       "    <tr>\n",
       "      <th>996</th>\n",
       "      <td>418</td>\n",
       "      <td>March</td>\n",
       "      <td>5.00</td>\n",
       "      <td>2.0</td>\n",
       "    </tr>\n",
       "    <tr>\n",
       "      <th>997</th>\n",
       "      <td>86</td>\n",
       "      <td>Arrows of the Queen (Heralds of Valdemar  #1)</td>\n",
       "      <td>5.00</td>\n",
       "      <td>2.0</td>\n",
       "    </tr>\n",
       "    <tr>\n",
       "      <th>998</th>\n",
       "      <td>444</td>\n",
       "      <td>Moneyball: The Art of Winning an Unfair Game</td>\n",
       "      <td>5.00</td>\n",
       "      <td>3.0</td>\n",
       "    </tr>\n",
       "    <tr>\n",
       "      <th>999</th>\n",
       "      <td>229</td>\n",
       "      <td>Evil Under the Sun (Hercule Poirot  #24)</td>\n",
       "      <td>5.00</td>\n",
       "      <td>2.0</td>\n",
       "    </tr>\n",
       "  </tbody>\n",
       "</table>\n",
       "<p>1000 rows × 4 columns</p>\n",
       "</div>"
      ],
      "text/plain": [
       "     book_id                                              title  rating_avg  \\\n",
       "0        303                               Harvesting the Heart        1.50   \n",
       "1        202                                      Drowning Ruth        2.00   \n",
       "2        316                  His Excellency: George Washington        2.00   \n",
       "3        371                                              Junky        2.00   \n",
       "4        915  The World Is Flat: A Brief History of the Twen...        2.25   \n",
       "..       ...                                                ...         ...   \n",
       "995      330  How to Be a Domestic Goddess: Baking and the A...        5.00   \n",
       "996      418                                              March        5.00   \n",
       "997       86      Arrows of the Queen (Heralds of Valdemar  #1)        5.00   \n",
       "998      444       Moneyball: The Art of Winning an Unfair Game        5.00   \n",
       "999      229           Evil Under the Sun (Hercule Poirot  #24)        5.00   \n",
       "\n",
       "     review_cnt  \n",
       "0           2.0  \n",
       "1           3.0  \n",
       "2           2.0  \n",
       "3           2.0  \n",
       "4           3.0  \n",
       "..          ...  \n",
       "995         1.0  \n",
       "996         2.0  \n",
       "997         2.0  \n",
       "998         3.0  \n",
       "999         2.0  \n",
       "\n",
       "[1000 rows x 4 columns]"
      ]
     },
     "execution_count": 10,
     "metadata": {},
     "output_type": "execute_result"
    }
   ],
   "source": [
    "#Какое количество обзоров и средняя оценка для каждой книги;\n",
    "\n",
    "query3 = ''' WITH rev_tabl AS\n",
    "                (SELECT book_id,\n",
    "                 COUNT(review_id) AS review_cnt\n",
    "                 FROM reviews\n",
    "                 GROUP BY book_id),\n",
    "             \n",
    "             rat_tabl AS\n",
    "                (SELECT book_id,\n",
    "                 AVG(rating) AS rating_avg\n",
    "                 FROM ratings\n",
    "                 GROUP BY book_id)\n",
    "             \n",
    "             SELECT b.book_id,\n",
    "                    b.title,\n",
    "                    rat_tabl.rating_avg,\n",
    "                    rev_tabl.review_cnt\n",
    "             FROM books AS b\n",
    "             LEFT JOIN rev_tabl ON b.book_id = rev_tabl.book_id\n",
    "             LEFT JOIN rat_tabl ON b.book_id = rat_tabl.book_id\n",
    "             ORDER BY rat_tabl.rating_avg\n",
    "                          \n",
    "        '''\n",
    "\n",
    "pd.read_sql_query(query3, con=engine)"
   ]
  },
  {
   "cell_type": "code",
   "execution_count": 11,
   "metadata": {},
   "outputs": [],
   "source": [
    "#Какое количество обзоров и средняя оценка для каждой книги;\n",
    "\n",
    "#query3 = ''' SELECT b.book_id,\n",
    "               #    b.title,\n",
    "               #    AVG(rat.rating),\n",
    "               #    COUNT(rev.review_id)\n",
    "            # FROM books AS b\n",
    "            # FULL OUTER JOIN ratings AS rat ON rat.book_id = b.book_id\n",
    "            # FULL OUTER JOIN reviews AS rev ON rat.book_id  = rev.book_id\n",
    "            # GROUP BY b.book_id, b.title\n",
    "            # ORDER BY AVG(rat.rating) DESC\n",
    "   #     '''\n",
    "\n",
    "#pd.read_sql_query(query3, con=engine)"
   ]
  },
  {
   "cell_type": "markdown",
   "metadata": {},
   "source": [
    "Средний рейтинг минимально достигает  1.5. В базе данных есть книги имеющую максимальную среднюю оценку 5.  \n",
    "Максимальное число отзывов 1120, минимальное 2."
   ]
  },
  {
   "cell_type": "code",
   "execution_count": 12,
   "metadata": {},
   "outputs": [
    {
     "data": {
      "text/html": [
       "<div>\n",
       "<style scoped>\n",
       "    .dataframe tbody tr th:only-of-type {\n",
       "        vertical-align: middle;\n",
       "    }\n",
       "\n",
       "    .dataframe tbody tr th {\n",
       "        vertical-align: top;\n",
       "    }\n",
       "\n",
       "    .dataframe thead th {\n",
       "        text-align: right;\n",
       "    }\n",
       "</style>\n",
       "<table border=\"1\" class=\"dataframe\">\n",
       "  <thead>\n",
       "    <tr style=\"text-align: right;\">\n",
       "      <th></th>\n",
       "      <th>publisher</th>\n",
       "      <th>publisher_id</th>\n",
       "      <th>count</th>\n",
       "    </tr>\n",
       "  </thead>\n",
       "  <tbody>\n",
       "    <tr>\n",
       "      <th>0</th>\n",
       "      <td>Penguin Books</td>\n",
       "      <td>212</td>\n",
       "      <td>42</td>\n",
       "    </tr>\n",
       "    <tr>\n",
       "      <th>1</th>\n",
       "      <td>Vintage</td>\n",
       "      <td>309</td>\n",
       "      <td>31</td>\n",
       "    </tr>\n",
       "    <tr>\n",
       "      <th>2</th>\n",
       "      <td>Grand Central Publishing</td>\n",
       "      <td>116</td>\n",
       "      <td>25</td>\n",
       "    </tr>\n",
       "    <tr>\n",
       "      <th>3</th>\n",
       "      <td>Penguin Classics</td>\n",
       "      <td>217</td>\n",
       "      <td>24</td>\n",
       "    </tr>\n",
       "    <tr>\n",
       "      <th>4</th>\n",
       "      <td>Bantam</td>\n",
       "      <td>35</td>\n",
       "      <td>19</td>\n",
       "    </tr>\n",
       "  </tbody>\n",
       "</table>\n",
       "</div>"
      ],
      "text/plain": [
       "                  publisher  publisher_id  count\n",
       "0             Penguin Books           212     42\n",
       "1                   Vintage           309     31\n",
       "2  Grand Central Publishing           116     25\n",
       "3          Penguin Classics           217     24\n",
       "4                    Bantam            35     19"
      ]
     },
     "execution_count": 12,
     "metadata": {},
     "output_type": "execute_result"
    }
   ],
   "source": [
    "#Какое издательство, выпустило наибольшее число книг толще 50 страниц (для исключения из анализа брошюр);\n",
    "\n",
    "query5 = ''' SELECT p.publisher,\n",
    "                    p.publisher_id,\n",
    "                    COUNT(b.book_id)\n",
    "             FROM books AS b\n",
    "             INNER JOIN publishers AS p ON b.publisher_id = p.publisher_id\n",
    "             WHERE b.num_pages > 50\n",
    "             GROUP BY p.publisher, p.publisher_id\n",
    "             ORDER BY COUNT(b.book_id) DESC\n",
    "             LIMIT 5\n",
    "        '''\n",
    "\n",
    "pd.read_sql_query(query5, con=engine)"
   ]
  },
  {
   "cell_type": "markdown",
   "metadata": {},
   "source": [
    "Издательство Penguin Books лидирует по кол-ву выпущенных книг (свыше 50 стр).\n",
    "Также в  Топ-5 входят  издательства Vintage, Grand Central Publishing, Penguin Classics, Ballantine Books."
   ]
  },
  {
   "cell_type": "code",
   "execution_count": 13,
   "metadata": {},
   "outputs": [
    {
     "data": {
      "text/html": [
       "<div>\n",
       "<style scoped>\n",
       "    .dataframe tbody tr th:only-of-type {\n",
       "        vertical-align: middle;\n",
       "    }\n",
       "\n",
       "    .dataframe tbody tr th {\n",
       "        vertical-align: top;\n",
       "    }\n",
       "\n",
       "    .dataframe thead th {\n",
       "        text-align: right;\n",
       "    }\n",
       "</style>\n",
       "<table border=\"1\" class=\"dataframe\">\n",
       "  <thead>\n",
       "    <tr style=\"text-align: right;\">\n",
       "      <th></th>\n",
       "      <th>author</th>\n",
       "      <th>avg</th>\n",
       "    </tr>\n",
       "  </thead>\n",
       "  <tbody>\n",
       "    <tr>\n",
       "      <th>0</th>\n",
       "      <td>J.K. Rowling/Mary GrandPré</td>\n",
       "      <td>4.283844</td>\n",
       "    </tr>\n",
       "    <tr>\n",
       "      <th>1</th>\n",
       "      <td>Markus Zusak/Cao Xuân Việt Khương</td>\n",
       "      <td>4.264151</td>\n",
       "    </tr>\n",
       "    <tr>\n",
       "      <th>2</th>\n",
       "      <td>J.R.R. Tolkien</td>\n",
       "      <td>4.258446</td>\n",
       "    </tr>\n",
       "    <tr>\n",
       "      <th>3</th>\n",
       "      <td>Louisa May Alcott</td>\n",
       "      <td>4.192308</td>\n",
       "    </tr>\n",
       "    <tr>\n",
       "      <th>4</th>\n",
       "      <td>Rick Riordan</td>\n",
       "      <td>4.080645</td>\n",
       "    </tr>\n",
       "  </tbody>\n",
       "</table>\n",
       "</div>"
      ],
      "text/plain": [
       "                              author       avg\n",
       "0         J.K. Rowling/Mary GrandPré  4.283844\n",
       "1  Markus Zusak/Cao Xuân Việt Khương  4.264151\n",
       "2                     J.R.R. Tolkien  4.258446\n",
       "3                  Louisa May Alcott  4.192308\n",
       "4                       Rick Riordan  4.080645"
      ]
     },
     "execution_count": 13,
     "metadata": {},
     "output_type": "execute_result"
    }
   ],
   "source": [
    "#Какой автор имеет самую высокую среднюю оценку книг — (учитываются только книги с 50 и более оценками);\n",
    "\n",
    "query6 = ''' WITH tabl AS\n",
    "                (SELECT a.author AS author,\n",
    "                        b.book_id,\n",
    "                        AVG(rat.rating) AS avg_rating,\n",
    "                        COUNT(rat.rating_id)\n",
    "             FROM books AS b\n",
    "             LEFT JOIN authors AS a ON b.author_id = a.author_id\n",
    "             LEFT JOIN ratings AS rat ON b.book_id = rat.book_id\n",
    "             GROUP BY a.author, b.book_id\n",
    "             HAVING COUNT(rat.rating_id) >= 50)\n",
    "             \n",
    "             \n",
    "             SELECT t.author,\n",
    "                    AVG(t.avg_rating)\n",
    "             FROM tabl AS t\n",
    "             GROUP BY t.author\n",
    "             ORDER BY AVG(t.avg_rating) DESC\n",
    "             LIMIT 5\n",
    "        '''\n",
    "\n",
    "pd.read_sql_query(query6, con=engine)"
   ]
  },
  {
   "cell_type": "markdown",
   "metadata": {},
   "source": [
    "Автор J.K. Rowling/Mary GrandPré имеет самую высокую среднюю оценку (среди авторов книги которых набрали 50 и более оценок)."
   ]
  },
  {
   "cell_type": "code",
   "execution_count": 14,
   "metadata": {},
   "outputs": [
    {
     "data": {
      "text/html": [
       "<div>\n",
       "<style scoped>\n",
       "    .dataframe tbody tr th:only-of-type {\n",
       "        vertical-align: middle;\n",
       "    }\n",
       "\n",
       "    .dataframe tbody tr th {\n",
       "        vertical-align: top;\n",
       "    }\n",
       "\n",
       "    .dataframe thead th {\n",
       "        text-align: right;\n",
       "    }\n",
       "</style>\n",
       "<table border=\"1\" class=\"dataframe\">\n",
       "  <thead>\n",
       "    <tr style=\"text-align: right;\">\n",
       "      <th></th>\n",
       "      <th>avg</th>\n",
       "    </tr>\n",
       "  </thead>\n",
       "  <tbody>\n",
       "    <tr>\n",
       "      <th>0</th>\n",
       "      <td>24.333333</td>\n",
       "    </tr>\n",
       "  </tbody>\n",
       "</table>\n",
       "</div>"
      ],
      "text/plain": [
       "         avg\n",
       "0  24.333333"
      ]
     },
     "execution_count": 14,
     "metadata": {},
     "output_type": "execute_result"
    }
   ],
   "source": [
    "#Какого среднее количество обзоров от пользователей, которые поставили больше 50 оценок.\n",
    "query7 = ''' WITH tabl AS\n",
    "               (SELECT username,\n",
    "                    COUNT(review_id) AS count_review\n",
    "                FROM reviews \n",
    "                WHERE username IN (SELECT username\n",
    "                                   FROM ratings \n",
    "                                   GROUP BY username\n",
    "                                   HAVING COUNT(rating_id) > 50)\n",
    "                GROUP BY username)\n",
    "             \n",
    "             SELECT AVG (t.count_review)\n",
    "             FROM  tabl AS t\n",
    "             \n",
    "        '''\n",
    "\n",
    "pd.read_sql_query(query7, con=engine)"
   ]
  },
  {
   "cell_type": "markdown",
   "metadata": {},
   "source": [
    "Пользователи, которые поставили более 50 оценок, в среднем оставили 24 обзора."
   ]
  },
  {
   "cell_type": "markdown",
   "metadata": {},
   "source": [
    "**Выводы:**  \n",
    "\n",
    "Произведен анализ представленных данных в ходе которого были найдены следующие результаты:\n",
    "\n",
    "*Сколько книг вышло после 1 января 2000 года?*\n",
    "- После 1 января 2000 г вышло 819 книг, это 82% всех книг базы данных.\n",
    "\n",
    "*Какое количество обзоров и средняя оценка для каждой книги?*\n",
    "- Средний рейтинг минимально достигает  1.5. В базе данных есть книги имеющую максимальную среднюю оценку 5. Максимальное число отзывов 1120, минимальное 2.\n",
    "\n",
    "*Какое издательство, выпустило наибольшее число книг толще 50 страниц (для исключения из анализа брошюр)?*\n",
    "- Издательство Penguin Books лидирует по кол-ву выпущенных книг (свыше 50 стр). Также в  Топ-5 входят  издательства Vintage, Grand Central Publishing, Penguin Classics, Ballantine Books.\n",
    "\n",
    "*Какой автор имеет самую высокую среднюю оценку книг — (учитываются только книги с 50 и более оценками)?*\n",
    "- Автор J.K. Rowling/Mary GrandPré имеет самую высокую среднюю оценку (среди авторов книги которых набрали 50 и более оценок).\n",
    "\n",
    "*Какого среднее количество обзоров от пользователей, которые поставили больше 50 оценок?*\n",
    "-  Пользователи, которые поставили более 50 оценок, в среднем оставили 24 обзора."
   ]
  }
 ],
 "metadata": {
  "ExecuteTimeLog": [
   {
    "duration": 478,
    "start_time": "2022-12-20T21:18:50.924Z"
   },
   {
    "duration": 4658,
    "start_time": "2022-12-20T21:18:51.404Z"
   },
   {
    "duration": 274,
    "start_time": "2022-12-20T21:18:56.063Z"
   },
   {
    "duration": 49,
    "start_time": "2022-12-20T21:18:56.340Z"
   },
   {
    "duration": 45,
    "start_time": "2022-12-20T21:18:56.391Z"
   },
   {
    "duration": 70,
    "start_time": "2022-12-20T21:18:56.438Z"
   },
   {
    "duration": 59,
    "start_time": "2022-12-20T21:18:56.510Z"
   },
   {
    "duration": 41,
    "start_time": "2022-12-20T21:18:56.571Z"
   },
   {
    "duration": 5,
    "start_time": "2022-12-20T21:18:56.614Z"
   },
   {
    "duration": 59,
    "start_time": "2022-12-20T21:18:56.622Z"
   },
   {
    "duration": 56,
    "start_time": "2022-12-20T21:18:56.683Z"
   },
   {
    "duration": 3,
    "start_time": "2022-12-20T21:18:56.741Z"
   },
   {
    "duration": 6,
    "start_time": "2022-12-20T21:18:56.746Z"
   },
   {
    "duration": 9,
    "start_time": "2022-12-20T21:18:56.754Z"
   },
   {
    "duration": 556,
    "start_time": "2022-12-21T21:03:57.915Z"
   },
   {
    "duration": 5101,
    "start_time": "2022-12-21T21:03:58.742Z"
   },
   {
    "duration": 240,
    "start_time": "2022-12-21T21:04:03.846Z"
   },
   {
    "duration": 48,
    "start_time": "2022-12-21T21:04:04.088Z"
   },
   {
    "duration": 41,
    "start_time": "2022-12-21T21:04:04.138Z"
   },
   {
    "duration": 118,
    "start_time": "2022-12-21T21:04:05.898Z"
   },
   {
    "duration": 79,
    "start_time": "2022-12-21T21:04:06.782Z"
   },
   {
    "duration": 38,
    "start_time": "2022-12-21T21:04:07.647Z"
   },
   {
    "duration": 4,
    "start_time": "2022-12-21T21:04:08.551Z"
   },
   {
    "duration": 77,
    "start_time": "2022-12-21T21:04:10.366Z"
   },
   {
    "duration": 77,
    "start_time": "2022-12-21T21:04:11.354Z"
   },
   {
    "duration": 166,
    "start_time": "2022-12-21T21:13:02.692Z"
   },
   {
    "duration": 107,
    "start_time": "2022-12-21T21:13:50.303Z"
   },
   {
    "duration": 98,
    "start_time": "2022-12-21T21:14:17.784Z"
   },
   {
    "duration": 44,
    "start_time": "2022-12-21T21:14:28.781Z"
   },
   {
    "duration": 41,
    "start_time": "2022-12-21T21:20:23.277Z"
   },
   {
    "duration": 49,
    "start_time": "2022-12-21T21:28:36.267Z"
   },
   {
    "duration": 110,
    "start_time": "2022-12-21T21:32:13.317Z"
   },
   {
    "duration": 45,
    "start_time": "2022-12-21T21:33:12.475Z"
   },
   {
    "duration": 45,
    "start_time": "2022-12-21T21:35:03.904Z"
   },
   {
    "duration": 45,
    "start_time": "2022-12-21T21:36:08.893Z"
   },
   {
    "duration": 44,
    "start_time": "2022-12-21T21:37:53.726Z"
   },
   {
    "duration": 108,
    "start_time": "2022-12-21T21:39:42.283Z"
   },
   {
    "duration": 46,
    "start_time": "2022-12-21T21:39:56.735Z"
   },
   {
    "duration": 104,
    "start_time": "2022-12-21T22:11:10.670Z"
   },
   {
    "duration": 96,
    "start_time": "2022-12-21T22:11:29.046Z"
   },
   {
    "duration": 43,
    "start_time": "2022-12-21T22:11:55.977Z"
   },
   {
    "duration": 64,
    "start_time": "2022-12-21T22:16:32.411Z"
   },
   {
    "duration": 155,
    "start_time": "2022-12-21T22:21:57.104Z"
   },
   {
    "duration": 88,
    "start_time": "2022-12-21T22:22:06.698Z"
   },
   {
    "duration": 91,
    "start_time": "2022-12-21T22:25:55.260Z"
   },
   {
    "duration": 118,
    "start_time": "2022-12-21T22:26:16.537Z"
   },
   {
    "duration": 96,
    "start_time": "2022-12-21T22:26:53.594Z"
   },
   {
    "duration": 109,
    "start_time": "2022-12-21T22:27:58.145Z"
   },
   {
    "duration": 91,
    "start_time": "2022-12-21T22:29:25.130Z"
   },
   {
    "duration": 138,
    "start_time": "2022-12-21T22:30:03.538Z"
   },
   {
    "duration": 102,
    "start_time": "2022-12-21T22:30:47.877Z"
   },
   {
    "duration": 92,
    "start_time": "2022-12-21T22:31:32.543Z"
   },
   {
    "duration": 98,
    "start_time": "2022-12-21T22:33:52.115Z"
   },
   {
    "duration": 96,
    "start_time": "2022-12-21T22:36:40.010Z"
   },
   {
    "duration": 44,
    "start_time": "2022-12-21T22:37:26.974Z"
   },
   {
    "duration": 558,
    "start_time": "2022-12-21T22:44:45.635Z"
   },
   {
    "duration": 4952,
    "start_time": "2022-12-21T22:44:46.198Z"
   },
   {
    "duration": 301,
    "start_time": "2022-12-21T22:44:51.152Z"
   },
   {
    "duration": 43,
    "start_time": "2022-12-21T22:44:51.455Z"
   },
   {
    "duration": 43,
    "start_time": "2022-12-21T22:44:51.500Z"
   },
   {
    "duration": 74,
    "start_time": "2022-12-21T22:44:51.545Z"
   },
   {
    "duration": 56,
    "start_time": "2022-12-21T22:44:51.621Z"
   },
   {
    "duration": 39,
    "start_time": "2022-12-21T22:44:51.679Z"
   },
   {
    "duration": 4,
    "start_time": "2022-12-21T22:44:51.719Z"
   },
   {
    "duration": 61,
    "start_time": "2022-12-21T22:44:51.726Z"
   },
   {
    "duration": 55,
    "start_time": "2022-12-21T22:44:51.788Z"
   },
   {
    "duration": 41,
    "start_time": "2022-12-21T22:44:51.845Z"
   },
   {
    "duration": 49,
    "start_time": "2022-12-21T22:44:51.888Z"
   },
   {
    "duration": 42,
    "start_time": "2022-12-21T22:44:51.939Z"
   },
   {
    "duration": 23,
    "start_time": "2022-12-22T07:01:36.576Z"
   },
   {
    "duration": 44,
    "start_time": "2022-12-22T09:33:43.909Z"
   },
   {
    "duration": 549,
    "start_time": "2022-12-22T09:33:53.001Z"
   },
   {
    "duration": 5020,
    "start_time": "2022-12-22T09:33:53.552Z"
   },
   {
    "duration": 260,
    "start_time": "2022-12-22T09:33:58.574Z"
   },
   {
    "duration": 47,
    "start_time": "2022-12-22T09:33:58.837Z"
   },
   {
    "duration": 45,
    "start_time": "2022-12-22T09:33:58.886Z"
   },
   {
    "duration": 69,
    "start_time": "2022-12-22T09:33:58.933Z"
   },
   {
    "duration": 70,
    "start_time": "2022-12-22T09:33:59.004Z"
   },
   {
    "duration": 40,
    "start_time": "2022-12-22T09:33:59.076Z"
   },
   {
    "duration": 6,
    "start_time": "2022-12-22T09:33:59.118Z"
   },
   {
    "duration": 61,
    "start_time": "2022-12-22T09:33:59.126Z"
   },
   {
    "duration": 53,
    "start_time": "2022-12-22T09:33:59.189Z"
   },
   {
    "duration": 41,
    "start_time": "2022-12-22T09:33:59.244Z"
   },
   {
    "duration": 46,
    "start_time": "2022-12-22T09:33:59.287Z"
   },
   {
    "duration": 41,
    "start_time": "2022-12-22T09:33:59.335Z"
   },
   {
    "duration": 66,
    "start_time": "2022-12-22T09:35:37.002Z"
   },
   {
    "duration": 157,
    "start_time": "2022-12-22T09:39:16.597Z"
   },
   {
    "duration": 74,
    "start_time": "2022-12-22T09:39:19.551Z"
   },
   {
    "duration": 73,
    "start_time": "2022-12-22T09:43:56.337Z"
   },
   {
    "duration": 150,
    "start_time": "2022-12-22T09:51:28.965Z"
   },
   {
    "duration": 45,
    "start_time": "2022-12-22T09:52:12.706Z"
   },
   {
    "duration": 621,
    "start_time": "2022-12-22T09:52:51.465Z"
   },
   {
    "duration": 5873,
    "start_time": "2022-12-22T09:52:52.088Z"
   },
   {
    "duration": 300,
    "start_time": "2022-12-22T09:52:57.964Z"
   },
   {
    "duration": 55,
    "start_time": "2022-12-22T09:52:58.267Z"
   },
   {
    "duration": 63,
    "start_time": "2022-12-22T09:52:58.324Z"
   },
   {
    "duration": 102,
    "start_time": "2022-12-22T09:52:58.389Z"
   },
   {
    "duration": 69,
    "start_time": "2022-12-22T09:52:58.493Z"
   },
   {
    "duration": 43,
    "start_time": "2022-12-22T09:52:58.564Z"
   },
   {
    "duration": 9,
    "start_time": "2022-12-22T09:52:58.609Z"
   },
   {
    "duration": 73,
    "start_time": "2022-12-22T09:52:58.621Z"
   },
   {
    "duration": 57,
    "start_time": "2022-12-22T09:52:58.696Z"
   },
   {
    "duration": 43,
    "start_time": "2022-12-22T09:52:58.755Z"
   },
   {
    "duration": 47,
    "start_time": "2022-12-22T09:52:58.800Z"
   },
   {
    "duration": 44,
    "start_time": "2022-12-22T09:52:58.849Z"
   },
   {
    "duration": 506,
    "start_time": "2022-12-22T19:01:00.210Z"
   },
   {
    "duration": 11411,
    "start_time": "2022-12-22T19:01:00.718Z"
   },
   {
    "duration": 56,
    "start_time": "2022-12-22T19:01:12.131Z"
   },
   {
    "duration": 11,
    "start_time": "2022-12-22T19:01:12.188Z"
   },
   {
    "duration": 23,
    "start_time": "2022-12-22T19:01:12.201Z"
   },
   {
    "duration": 47,
    "start_time": "2022-12-22T19:01:12.226Z"
   },
   {
    "duration": 19,
    "start_time": "2022-12-22T19:01:12.274Z"
   },
   {
    "duration": 33,
    "start_time": "2022-12-22T19:01:12.295Z"
   },
   {
    "duration": 25,
    "start_time": "2022-12-22T19:01:12.329Z"
   },
   {
    "duration": 63,
    "start_time": "2022-12-22T19:01:12.355Z"
   },
   {
    "duration": 29,
    "start_time": "2022-12-22T19:01:12.419Z"
   },
   {
    "duration": 14,
    "start_time": "2022-12-22T19:01:12.449Z"
   },
   {
    "duration": 36,
    "start_time": "2022-12-22T19:01:12.465Z"
   },
   {
    "duration": 21,
    "start_time": "2022-12-22T19:01:12.503Z"
   },
   {
    "duration": 508,
    "start_time": "2022-12-22T21:36:25.798Z"
   },
   {
    "duration": 8141,
    "start_time": "2022-12-22T21:36:26.407Z"
   },
   {
    "duration": 53,
    "start_time": "2022-12-22T21:36:34.550Z"
   },
   {
    "duration": 12,
    "start_time": "2022-12-22T21:36:34.605Z"
   },
   {
    "duration": 26,
    "start_time": "2022-12-22T21:36:34.619Z"
   },
   {
    "duration": 50,
    "start_time": "2022-12-22T21:36:34.646Z"
   },
   {
    "duration": 19,
    "start_time": "2022-12-22T21:36:34.698Z"
   },
   {
    "duration": 10,
    "start_time": "2022-12-22T21:36:36.942Z"
   },
   {
    "duration": 5,
    "start_time": "2022-12-22T21:36:42.200Z"
   },
   {
    "duration": 177,
    "start_time": "2022-12-22T21:46:52.655Z"
   },
   {
    "duration": 98,
    "start_time": "2022-12-22T21:47:16.045Z"
   },
   {
    "duration": 87,
    "start_time": "2022-12-22T21:50:12.615Z"
   },
   {
    "duration": 25,
    "start_time": "2022-12-22T21:50:44.243Z"
   },
   {
    "duration": 13,
    "start_time": "2022-12-22T21:52:30.931Z"
   },
   {
    "duration": 35,
    "start_time": "2022-12-22T21:55:22.147Z"
   },
   {
    "duration": 30,
    "start_time": "2022-12-22T21:55:40.536Z"
   },
   {
    "duration": 27,
    "start_time": "2022-12-22T21:59:18.911Z"
   },
   {
    "duration": 94,
    "start_time": "2022-12-22T22:01:10.065Z"
   },
   {
    "duration": 28,
    "start_time": "2022-12-22T22:01:27.174Z"
   },
   {
    "duration": 92,
    "start_time": "2022-12-22T22:05:11.899Z"
   },
   {
    "duration": 12,
    "start_time": "2022-12-22T22:07:43.765Z"
   },
   {
    "duration": 14,
    "start_time": "2022-12-22T22:08:30.415Z"
   },
   {
    "duration": 23,
    "start_time": "2022-12-22T22:10:12.312Z"
   },
   {
    "duration": 604,
    "start_time": "2022-12-22T22:13:10.039Z"
   },
   {
    "duration": 8587,
    "start_time": "2022-12-22T22:13:10.646Z"
   },
   {
    "duration": 77,
    "start_time": "2022-12-22T22:13:19.236Z"
   },
   {
    "duration": 15,
    "start_time": "2022-12-22T22:13:19.317Z"
   },
   {
    "duration": 18,
    "start_time": "2022-12-22T22:13:19.335Z"
   },
   {
    "duration": 49,
    "start_time": "2022-12-22T22:13:19.358Z"
   },
   {
    "duration": 21,
    "start_time": "2022-12-22T22:13:19.409Z"
   },
   {
    "duration": 11,
    "start_time": "2022-12-22T22:13:19.432Z"
   },
   {
    "duration": 13,
    "start_time": "2022-12-22T22:13:19.453Z"
   },
   {
    "duration": 51,
    "start_time": "2022-12-22T22:13:19.473Z"
   },
   {
    "duration": 3,
    "start_time": "2022-12-22T22:13:19.526Z"
   },
   {
    "duration": 26,
    "start_time": "2022-12-22T22:13:19.531Z"
   },
   {
    "duration": 51,
    "start_time": "2022-12-22T22:13:19.559Z"
   },
   {
    "duration": 17,
    "start_time": "2022-12-22T22:13:19.612Z"
   }
  ],
  "kernelspec": {
   "display_name": "Python 3 (ipykernel)",
   "language": "python",
   "name": "python3"
  },
  "language_info": {
   "codemirror_mode": {
    "name": "ipython",
    "version": 3
   },
   "file_extension": ".py",
   "mimetype": "text/x-python",
   "name": "python",
   "nbconvert_exporter": "python",
   "pygments_lexer": "ipython3",
   "version": "3.9.12"
  },
  "toc": {
   "base_numbering": 1,
   "nav_menu": {},
   "number_sections": true,
   "sideBar": true,
   "skip_h1_title": true,
   "title_cell": "Table of Contents",
   "title_sidebar": "Contents",
   "toc_cell": false,
   "toc_position": {},
   "toc_section_display": true,
   "toc_window_display": false
  }
 },
 "nbformat": 4,
 "nbformat_minor": 2
}
